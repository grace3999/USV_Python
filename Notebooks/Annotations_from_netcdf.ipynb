{
 "cells": [
  {
   "cell_type": "code",
   "execution_count": 1,
   "metadata": {},
   "outputs": [],
   "source": [
    "import numpy as np\n",
    "import pandas as pd\n",
    "import math\n",
    "import time\n",
    "import re\n",
    "import os\n",
    "from skimage import util\n",
    "from scipy.io import wavfile\n",
    "from scipy import signal\n",
    "from scipy import stats\n",
    "import xarray as xr\n",
    "%matplotlib inline"
   ]
  },
  {
   "cell_type": "code",
   "execution_count": 2,
   "metadata": {},
   "outputs": [],
   "source": [
    "pd.set_option('display.max_rows', 500)\n",
    "pd.set_option('display.max_columns', 500)\n",
    "pd.set_option('display.width', 1000)"
   ]
  },
  {
   "cell_type": "markdown",
   "metadata": {},
   "source": [
    "Create data frame of annotation info"
   ]
  },
  {
   "cell_type": "code",
   "execution_count": 3,
   "metadata": {},
   "outputs": [
    {
     "name": "stdout",
     "output_type": "stream",
     "text": [
      "(552, 8)\n"
     ]
    },
    {
     "data": {
      "text/html": [
       "<div>\n",
       "<style scoped>\n",
       "    .dataframe tbody tr th:only-of-type {\n",
       "        vertical-align: middle;\n",
       "    }\n",
       "\n",
       "    .dataframe tbody tr th {\n",
       "        vertical-align: top;\n",
       "    }\n",
       "\n",
       "    .dataframe thead th {\n",
       "        text-align: right;\n",
       "    }\n",
       "</style>\n",
       "<table border=\"1\" class=\"dataframe\">\n",
       "  <thead>\n",
       "    <tr style=\"text-align: right;\">\n",
       "      <th></th>\n",
       "      <th>Unnamed: 0</th>\n",
       "      <th>Animal</th>\n",
       "      <th>Group</th>\n",
       "      <th>Session</th>\n",
       "      <th>Begin Time (s)</th>\n",
       "      <th>Annotation</th>\n",
       "      <th>Begin Time (s)_1000</th>\n",
       "      <th>time_stamp</th>\n",
       "    </tr>\n",
       "  </thead>\n",
       "  <tbody>\n",
       "    <tr>\n",
       "      <th>0</th>\n",
       "      <td>0</td>\n",
       "      <td>533</td>\n",
       "      <td>5</td>\n",
       "      <td>CPApair</td>\n",
       "      <td>376.574455</td>\n",
       "      <td>low slug</td>\n",
       "      <td>376574.45450</td>\n",
       "      <td>376560.0</td>\n",
       "    </tr>\n",
       "    <tr>\n",
       "      <th>1</th>\n",
       "      <td>1</td>\n",
       "      <td>533</td>\n",
       "      <td>5</td>\n",
       "      <td>CPApair</td>\n",
       "      <td>46.306579</td>\n",
       "      <td>low slug</td>\n",
       "      <td>46306.57941</td>\n",
       "      <td>46305.0</td>\n",
       "    </tr>\n",
       "    <tr>\n",
       "      <th>2</th>\n",
       "      <td>2</td>\n",
       "      <td>533</td>\n",
       "      <td>5</td>\n",
       "      <td>CPApair</td>\n",
       "      <td>243.272865</td>\n",
       "      <td>low slug</td>\n",
       "      <td>243272.86510</td>\n",
       "      <td>243270.0</td>\n",
       "    </tr>\n",
       "    <tr>\n",
       "      <th>3</th>\n",
       "      <td>3</td>\n",
       "      <td>533</td>\n",
       "      <td>5</td>\n",
       "      <td>CPApair</td>\n",
       "      <td>149.708324</td>\n",
       "      <td>low slug</td>\n",
       "      <td>149708.32400</td>\n",
       "      <td>149692.5</td>\n",
       "    </tr>\n",
       "    <tr>\n",
       "      <th>4</th>\n",
       "      <td>4</td>\n",
       "      <td>533</td>\n",
       "      <td>5</td>\n",
       "      <td>CPApair</td>\n",
       "      <td>243.176192</td>\n",
       "      <td>low slug</td>\n",
       "      <td>243176.19170</td>\n",
       "      <td>243157.5</td>\n",
       "    </tr>\n",
       "  </tbody>\n",
       "</table>\n",
       "</div>"
      ],
      "text/plain": [
       "   Unnamed: 0  Animal  Group  Session  Begin Time (s) Annotation  Begin Time (s)_1000  time_stamp\n",
       "0           0     533      5  CPApair      376.574455   low slug         376574.45450    376560.0\n",
       "1           1     533      5  CPApair       46.306579   low slug          46306.57941     46305.0\n",
       "2           2     533      5  CPApair      243.272865   low slug         243272.86510    243270.0\n",
       "3           3     533      5  CPApair      149.708324   low slug         149708.32400    149692.5\n",
       "4           4     533      5  CPApair      243.176192   low slug         243176.19170    243157.5"
      ]
     },
     "execution_count": 3,
     "metadata": {},
     "output_type": "execute_result"
    }
   ],
   "source": [
    "annot_path = \"C:/Users/Schindler/Documents/Schindler_Lab/Data/Analysis/Excel files/USV/annot_info_df.csv\"\n",
    "data = pd.read_csv(annot_path)\n",
    "annot_info = pd.DataFrame(data = data)\n",
    "print(annot_info.shape)\n",
    "annot_info.head()"
   ]
  },
  {
   "cell_type": "markdown",
   "metadata": {},
   "source": [
    "Find path names for each netcdf file corresponding to wav file that has annotated data"
   ]
  },
  {
   "cell_type": "code",
   "execution_count": 4,
   "metadata": {},
   "outputs": [],
   "source": [
    "netcdf_path = 'C:/Users/Schindler/Documents/ProgrammingFun/USV_python/Datasets'"
   ]
  },
  {
   "cell_type": "code",
   "execution_count": 5,
   "metadata": {},
   "outputs": [
    {
     "data": {
      "text/plain": [
       "['C:/Users/Schindler/Documents/ProgrammingFun/USV_python/Datasets/533_xr_Dataset.nc',\n",
       " 'C:/Users/Schindler/Documents/ProgrammingFun/USV_python/Datasets/534_xr_Dataset.nc',\n",
       " 'C:/Users/Schindler/Documents/ProgrammingFun/USV_python/Datasets/535_xr_Dataset.nc',\n",
       " 'C:/Users/Schindler/Documents/ProgrammingFun/USV_python/Datasets/542_xr_Dataset.nc',\n",
       " 'C:/Users/Schindler/Documents/ProgrammingFun/USV_python/Datasets/543_xr_Dataset.nc',\n",
       " 'C:/Users/Schindler/Documents/ProgrammingFun/USV_python/Datasets/554_xr_Dataset.nc',\n",
       " 'C:/Users/Schindler/Documents/ProgrammingFun/USV_python/Datasets/555_xr_Dataset.nc',\n",
       " 'C:/Users/Schindler/Documents/ProgrammingFun/USV_python/Datasets/559_xr_Dataset.nc',\n",
       " 'C:/Users/Schindler/Documents/ProgrammingFun/USV_python/Datasets/600_xr_Dataset.nc']"
      ]
     },
     "execution_count": 5,
     "metadata": {},
     "output_type": "execute_result"
    }
   ],
   "source": [
    "path_names = []\n",
    "files = os.listdir(netcdf_path)\n",
    "for file in files: \n",
    "        path_names.append(netcdf_path + \"/\" + file)\n",
    "\n",
    "path_names"
   ]
  },
  {
   "cell_type": "code",
   "execution_count": null,
   "metadata": {},
   "outputs": [],
   "source": [
    "def get_annot_bool(path, annot_info):\n",
    "    \n",
    "    #get animal name from path\n",
    "    name = re.search(\"\\d\\d\\d\", path).group(0)\n",
    "    print(name)\n",
    "    #open xarray Dataset, create \n",
    "    data = xr.open_dataset(path)\n",
    "    slice_indexs = pd.DataFrame(data = data['slices'].values)\n",
    "\n",
    "    annot_time_stamps = annot_info[annot_info['Animal'] ==  int(name)]['time_stamp'].sort_values()\n",
    "    annot_bool = slice_indexs.isin(annot_time_stamps.values)\n",
    "\n",
    "    return annot_bool"
   ]
  },
  {
   "cell_type": "code",
   "execution_count": 9,
   "metadata": {},
   "outputs": [
    {
     "name": "stdout",
     "output_type": "stream",
     "text": [
      "535\n",
      "26666\n",
      "26666\n"
     ]
    }
   ],
   "source": [
    "path = path_names[2]\n",
    "name = re.search(\"\\d\\d\\d\", path).group(0)\n",
    "print(name)\n",
    "data = xr.open_dataset(path)\n",
    "num_slices = data['slices'].shape[0]\n",
    "print(num_slices)\n",
    "slice_indexs = pd.DataFrame(data = data['slices'].values)\n",
    "print(len(slice_indexs))"
   ]
  },
  {
   "cell_type": "code",
   "execution_count": 28,
   "metadata": {},
   "outputs": [],
   "source": [
    "annot_time_stamps = annot_info[annot_info['Animal'] ==  int(name)]['time_stamp'].sort_values()"
   ]
  },
  {
   "cell_type": "code",
   "execution_count": 26,
   "metadata": {},
   "outputs": [],
   "source": [
    "annot_bool = slice_indexs.isin(annot_time_stamps.values)\n",
    "annot_bool_dic = {}\n",
    "annot_bool_dic[name] = annot_bool"
   ]
  },
  {
   "cell_type": "code",
   "execution_count": null,
   "metadata": {},
   "outputs": [],
   "source": []
  },
  {
   "cell_type": "code",
   "execution_count": null,
   "metadata": {},
   "outputs": [],
   "source": [
    "spec_slice = data.sel(slices = 45.0)['__xarray_dataarray_variable__'].values\n",
    "spec_slice.sum()"
   ]
  },
  {
   "cell_type": "code",
   "execution_count": null,
   "metadata": {},
   "outputs": [],
   "source": [
    "x = data['__xarray_dataarray_variable__']\n",
    "x[2]"
   ]
  },
  {
   "cell_type": "code",
   "execution_count": null,
   "metadata": {},
   "outputs": [],
   "source": [
    "data.sel()"
   ]
  },
  {
   "cell_type": "code",
   "execution_count": null,
   "metadata": {},
   "outputs": [],
   "source": [
    "spec_slice.mean(dim='times')\n",
    "x"
   ]
  },
  {
   "cell_type": "code",
   "execution_count": null,
   "metadata": {},
   "outputs": [],
   "source": [
    "spec_slice = data.sel(slices = 90.0)\n",
    "spec_slice"
   ]
  },
  {
   "cell_type": "code",
   "execution_count": null,
   "metadata": {},
   "outputs": [],
   "source": [
    "data.to_pandas()"
   ]
  },
  {
   "cell_type": "code",
   "execution_count": null,
   "metadata": {
    "scrolled": true
   },
   "outputs": [],
   "source": [
    "#select animal to process (need to process individually due to memory contraints)\n",
    "path = path_names[0]\n",
    "name = re.search(\"\\d\\d\\d\", path).group(0)\n",
    "\n",
    "#process wav file of animal corresponding to annotations\n",
    "print(str('Begin processing animal # ' + name))\n",
    "\n",
    "#create slices\n",
    "start = time.time()\n",
    "samp_freq, sig_data, slices, steps = create_slice_from_wav(path, 6250, 0.9)\n",
    "end = time.time()\n",
    "print(str('Slices created in ' + str(end - start) + '  seconds'))\n",
    "\n",
    "#create spectrograms\n",
    "start = time.time()\n",
    "spec_slices, freqs_spec, times = create_spec_from_slice_array(slices, spec_window=128, NFFT=512, samp_freq=250000, steps=5625)\n",
    "end = time.time()\n",
    "print(str('Spectrograms created in ' + str(end - start) + '  seconds'))\n",
    "\n",
    "#create xarray Dataset\n",
    "start = time.time()\n",
    "slices_Dataset = create_xarray_dataset_from_dic(spec_slices, freqs_spec, times)\n",
    "end = time.time()\n",
    "print(str('xarray created in ' + str(end - start) + '  seconds'))\n",
    "\n",
    "#save\n",
    "start = time.time()\n",
    "slices_Dataset.to_netcdf(name + '_xr_Dataset.nc')\n",
    "end = time.time()\n",
    "print(str('xarray saved in ' + str(end - start) + '  seconds'))"
   ]
  },
  {
   "cell_type": "code",
   "execution_count": null,
   "metadata": {},
   "outputs": [],
   "source": [
    "slices_Dataset.sel(freq=slice(0,20000))[4,:,:].plot()"
   ]
  }
 ],
 "metadata": {
  "kernelspec": {
   "display_name": "Python 3",
   "language": "python",
   "name": "python3"
  },
  "language_info": {
   "codemirror_mode": {
    "name": "ipython",
    "version": 3
   },
   "file_extension": ".py",
   "mimetype": "text/x-python",
   "name": "python",
   "nbconvert_exporter": "python",
   "pygments_lexer": "ipython3",
   "version": "3.7.2"
  }
 },
 "nbformat": 4,
 "nbformat_minor": 2
}
