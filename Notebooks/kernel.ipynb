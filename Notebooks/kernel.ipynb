{
  "cells": [
    {
      "metadata": {
        "_uuid": "363d297163d7949e54a4bd1b3cb04f3045f71715"
      },
      "cell_type": "markdown",
      "source": "In this notebook we show how to run a simple deep learning model to classify whale calls. We use the [keras](https://keras.io/) library. We will use convolutional neural networks, since they are robust to temporal and spatial shifts. "
    },
    {
      "metadata": {
        "trusted": true,
        "_uuid": "44a2d7de495c59ae54b1f2667ff232ba59f757e0"
      },
      "cell_type": "code",
      "source": "# ignore warnings\nimport warnings\nwarnings.filterwarnings(\"ignore\")",
      "execution_count": null,
      "outputs": []
    },
    {
      "metadata": {
        "trusted": true,
        "_uuid": "d7e29f6ed70db6ad8b1371361dcb7a5786bf448c"
      },
      "cell_type": "code",
      "source": "# importing multiple visualization libraries\n%matplotlib inline\n\nimport numpy as np\nimport matplotlib.pyplot as plt\nfrom matplotlib import mlab\nimport pylab as pl\nimport seaborn",
      "execution_count": null,
      "outputs": []
    },
    {
      "metadata": {
        "trusted": true,
        "_uuid": "2dc1bc334464b49cec98a7ee96a58b69ad8d1353"
      },
      "cell_type": "code",
      "source": "# importing libraries to manipulate the data files\nimport os\nfrom glob import glob",
      "execution_count": null,
      "outputs": []
    },
    {
      "metadata": {
        "trusted": true,
        "_uuid": "97727a25e05cb09c804b594975199746f72ba450"
      },
      "cell_type": "code",
      "source": "# import a library to read the .aiff format\nimport aifc",
      "execution_count": null,
      "outputs": []
    },
    {
      "metadata": {
        "trusted": true,
        "_uuid": "b2e59c3439fb94a3d43712bf67aa7c0593a19cdd"
      },
      "cell_type": "code",
      "source": "ls ../input/",
      "execution_count": null,
      "outputs": []
    },
    {
      "metadata": {
        "trusted": true,
        "_uuid": "bdc80d0d20d8df057d6fe4aa0eb9229031a3768d"
      },
      "cell_type": "code",
      "source": "filenames = glob(os.path.join('../input/whaledatatrainonly/whale_data_train_only/whale_data_train_only/','train','*.aiff'))",
      "execution_count": null,
      "outputs": []
    },
    {
      "metadata": {
        "trusted": true,
        "_uuid": "32a22640cb113aaf4b47aa96e3237f2ab8f00c61"
      },
      "cell_type": "code",
      "source": "filenames = sorted(filenames)\nlen(filenames)",
      "execution_count": null,
      "outputs": []
    },
    {
      "metadata": {
        "trusted": true,
        "_uuid": "c9a63aab01b2b7129e068931e40f015a9cec74b9"
      },
      "cell_type": "code",
      "source": "from scipy import signal",
      "execution_count": null,
      "outputs": []
    },
    {
      "metadata": {
        "trusted": true,
        "_uuid": "0d0c7bdc9d0e4e739be705b77232399882af2fa9"
      },
      "cell_type": "code",
      "source": "params = {'NFFT':256, 'Fs':2000, 'noverlap':192}\nm = 60",
      "execution_count": null,
      "outputs": []
    },
    {
      "metadata": {
        "trusted": true,
        "_uuid": "b56943b788a5bc1784a976c51818a761fefe42aa"
      },
      "cell_type": "code",
      "source": "from scipy import interpolate\nfrom skimage.transform import resize",
      "execution_count": null,
      "outputs": []
    },
    {
      "metadata": {
        "trusted": true,
        "_uuid": "faa753b6807d37d2a8e4c9c116cf096299f40389"
      },
      "cell_type": "code",
      "source": "# read signals and apply the welch filter\nfeature_dict = {}\nspec_dict = {}\nfs = 2000\nN = 5000 #sample size\nfor filename in filenames[:N]:\n    aiff = aifc.open(filename,'r')\n    whale_strSig = aiff.readframes(aiff.getnframes())\n    whale_array = np.fromstring(whale_strSig, np.short).byteswap()\n    # create the spectrogram\n    P, freqs, bins = mlab.specgram(whale_array, **params)\n    \n    spec_dict[filename] = resize(P[:m,:], (128, 128), anti_aliasing=True)\n\n# save the dimensions of the spectrogram\nspec_dim = P[:m,:].shape\n\nspec_dim = resize(np.log(P[:m,:]), (128, 128), anti_aliasing=True).shape\n#spec_dim = interpolate.interp2d(np.arange(128),np.arange(128),P[:m,:]).shape\nprint(spec_dim)",
      "execution_count": null,
      "outputs": []
    },
    {
      "metadata": {
        "trusted": true,
        "_uuid": "8e80fa2b13d2e30e3165d850194ed9e43f1761b3"
      },
      "cell_type": "code",
      "source": "X = np.stack(spec_dict.values())",
      "execution_count": null,
      "outputs": []
    },
    {
      "metadata": {
        "trusted": true,
        "_uuid": "ea5bbc50189229b09193f198dcc2dd6521c795f1"
      },
      "cell_type": "code",
      "source": "",
      "execution_count": null,
      "outputs": []
    },
    {
      "metadata": {
        "trusted": true,
        "_uuid": "ee8be48699ca0373f9a9994eb095c77c471d64e9"
      },
      "cell_type": "code",
      "source": "X.shape",
      "execution_count": null,
      "outputs": []
    },
    {
      "metadata": {
        "trusted": true,
        "_uuid": "917adaf8a9176ff0c8e59c096489e395bff4aba5"
      },
      "cell_type": "code",
      "source": "import pandas as pd\nimport numpy as np\nimport os\nimport keras\nimport matplotlib.pyplot as plt\nfrom keras.layers import Dense,GlobalAveragePooling2D\nfrom keras.applications import MobileNet\nfrom keras.preprocessing import image\nfrom keras.applications.mobilenet import preprocess_input\nfrom keras.preprocessing.image import ImageDataGenerator\nfrom keras.models import Model\nfrom keras.optimizers import Adam\n\nfrom keras.layers import Dropout, Activation\nfrom keras.layers.normalization import BatchNormalization\nfrom sklearn.model_selection import train_test_split\nfrom keras.callbacks import ModelCheckpoint, EarlyStopping, ReduceLROnPlateau, CSVLogger, TensorBoard",
      "execution_count": null,
      "outputs": []
    },
    {
      "metadata": {
        "trusted": true,
        "_uuid": "9d698b2be5862a00e22afc30ce7785f722447ab0"
      },
      "cell_type": "code",
      "source": "labels = pd.read_csv(os.path.join('../input/whaledatatrainonly/whale_data_train_only/whale_data_train_only/','train.csv'), index_col = 0)",
      "execution_count": null,
      "outputs": []
    },
    {
      "metadata": {
        "trusted": true,
        "_uuid": "2977db7471d36a2e6c48a118f39e45124cf0ff72"
      },
      "cell_type": "code",
      "source": "# X = np.rollaxis(np.array([X,X,X]),0,4)",
      "execution_count": null,
      "outputs": []
    },
    {
      "metadata": {
        "trusted": true,
        "_uuid": "9355101be6b4f2b362d04fb52929132da81dde26"
      },
      "cell_type": "code",
      "source": "X = np.log(X)",
      "execution_count": null,
      "outputs": []
    },
    {
      "metadata": {
        "trusted": true,
        "_uuid": "ac0cd5762bb2ba6277fdaf366cd948b34f0f88f9"
      },
      "cell_type": "code",
      "source": "X_colored = plt.cm.viridis( (X - X.mean())/(X.max() - X.min()))",
      "execution_count": null,
      "outputs": []
    },
    {
      "metadata": {
        "trusted": true,
        "_uuid": "0949a983dbf7d3f9271fea1bbb6c8a4d0999e7bd"
      },
      "cell_type": "code",
      "source": "keys = [key.split('/')[-1] for key in spec_dict.keys()]",
      "execution_count": null,
      "outputs": []
    },
    {
      "metadata": {
        "trusted": true,
        "_uuid": "84d77cde518b4423db720b46f044d1b7992b64d6"
      },
      "cell_type": "code",
      "source": "del spec_dict",
      "execution_count": null,
      "outputs": []
    },
    {
      "metadata": {
        "trusted": true,
        "_uuid": "eb3ab2060019e9d04cdbd1a80b0f0933b48590be"
      },
      "cell_type": "code",
      "source": "del X",
      "execution_count": null,
      "outputs": []
    },
    {
      "metadata": {
        "trusted": true,
        "_uuid": "161a5edf1af1a0e958a7e7978a6316309b7e01bc"
      },
      "cell_type": "code",
      "source": "# y contains the labels\ny = np.array(labels['label'][keys])[:N]",
      "execution_count": null,
      "outputs": []
    },
    {
      "metadata": {
        "_uuid": "1f7560f79c4665992cc24158a2a6c560be0224f0"
      },
      "cell_type": "markdown",
      "source": "Now we have X and y, so we can apply train the neural network. But first we will split the data into a training and testing datasets."
    },
    {
      "metadata": {
        "trusted": true,
        "_uuid": "5a4e00b51626bea78ddb3a6565cd54d03d1639f5"
      },
      "cell_type": "code",
      "source": "#from keras.applications.inception_v3 import InceptionV3\n#base_model=MobileNet(input_shape = (128,128,3), weights='imagenet',include_top=False) #imports the mobilenet m",
      "execution_count": null,
      "outputs": []
    },
    {
      "metadata": {
        "trusted": true,
        "_uuid": "ea0360c5f8882d45cf271b0dcf4946a20d60bf27"
      },
      "cell_type": "code",
      "source": "import ssl\n\nssl._create_default_https_context = ssl._create_unverified_context",
      "execution_count": null,
      "outputs": []
    },
    {
      "metadata": {
        "trusted": true,
        "_uuid": "74da16c2c31609df2ad008df5b3bf7d23d454698"
      },
      "cell_type": "code",
      "source": "#from keras.applications.vgg19 import VGG19\n#base_model=VGG19(input_shape = (224,224,3), weights='imagenet',include_top=False) #imports the mobilenet m",
      "execution_count": null,
      "outputs": []
    },
    {
      "metadata": {
        "trusted": true,
        "_uuid": "dd48e659248fca4e7f8c96bdf1580fe68ce0b5b1"
      },
      "cell_type": "code",
      "source": "keras.__version__",
      "execution_count": null,
      "outputs": []
    },
    {
      "metadata": {
        "trusted": true,
        "_uuid": "c9a7bbc6efeb6634e45e9bf7205faff857906ab6"
      },
      "cell_type": "code",
      "source": "base_model=MobileNet(input_shape = (128,128,3), weights='../input/mobilenet-1-0-128-tf-no-top/mobilenet_1_0_128_tf_no_top.h5',include_top=False) #imports the mobilenet model and discards the last 1000 neuron layer.",
      "execution_count": null,
      "outputs": []
    },
    {
      "metadata": {
        "trusted": true,
        "_uuid": "f36dbfa8be4c8efc10e522d86243a8eab94315a5"
      },
      "cell_type": "code",
      "source": "x=base_model.output\nx=GlobalAveragePooling2D()(x)\nx=Dense(1024,activation='relu')(x) #we add dense layers so that the model can learn more complex functions and classify for better results.\nx=Dense(1024,activation='relu')(x) #dense layer 2\nx=Dense(512,activation='relu')(x) #dense layer 3\npreds=Dense(1,activation='sigmoid')(x) #final layer with softmax activation",
      "execution_count": null,
      "outputs": []
    },
    {
      "metadata": {
        "trusted": true,
        "_uuid": "013b3dc156d3cd0d746995960939f1cd69898024"
      },
      "cell_type": "code",
      "source": "model=Model(inputs=base_model.input,outputs=preds)",
      "execution_count": null,
      "outputs": []
    },
    {
      "metadata": {
        "trusted": true,
        "_uuid": "f8ff72612045ddc62197aec4a6e5536985cf3ef2"
      },
      "cell_type": "code",
      "source": "len(model.layers)",
      "execution_count": null,
      "outputs": []
    },
    {
      "metadata": {
        "trusted": true,
        "_uuid": "5416b083db76649263eee60d892e078f78ea4d68"
      },
      "cell_type": "code",
      "source": "for layer in model.layers[:-10]:\n    layer.trainable=False\nfor layer in model.layers[-10:]:\n    layer.trainable=True",
      "execution_count": null,
      "outputs": []
    },
    {
      "metadata": {
        "trusted": true,
        "_uuid": "502a65e466989e36c94045cc9f7031e8c56ef9d4"
      },
      "cell_type": "code",
      "source": "\n#for layer in model.layers:\n#    layer.trainable=False",
      "execution_count": null,
      "outputs": []
    },
    {
      "metadata": {
        "trusted": true,
        "_uuid": "837244d80676ea2cba86d267225a28901c767007"
      },
      "cell_type": "code",
      "source": "model.compile(optimizer='Adam',loss='binary_crossentropy',metrics=['accuracy'])",
      "execution_count": null,
      "outputs": []
    },
    {
      "metadata": {
        "trusted": true,
        "_uuid": "5492876803734a65a5109d647464e2859a9e22de"
      },
      "cell_type": "code",
      "source": "",
      "execution_count": null,
      "outputs": []
    },
    {
      "metadata": {
        "trusted": true,
        "_uuid": "d2f893ca39b4705222293bc5da3de90355742372"
      },
      "cell_type": "code",
      "source": "y.shape",
      "execution_count": null,
      "outputs": []
    },
    {
      "metadata": {
        "trusted": true,
        "_uuid": "606a6d56632ed35ff098b3523f48db4760f8df8e"
      },
      "cell_type": "code",
      "source": "from sklearn.model_selection import train_test_split\ntarget_names = ['Upcall', 'NO_Upcall']\n\n\nX_train, X_test, y_train, y_test = train_test_split(X_colored[:,:,:,:3], y, test_size=0.20, random_state=2018)\n\n# Convert label to onehot\n#y_train = keras.utils.to_categorical(y_train, num_classes=2)\n#y_test = keras.utils.to_categorical(y_test, num_classes=2)\n\nprint(X_train.shape)\n#X_train = np.expand_dims(X_train, axis=2)\n#X_test = np.expand_dims(X_test, axis=2)",
      "execution_count": null,
      "outputs": []
    },
    {
      "metadata": {
        "trusted": true,
        "_uuid": "67c3378ca6e6a0690229385d235cbabbabbc423f"
      },
      "cell_type": "code",
      "source": "train_datagen=ImageDataGenerator(preprocessing_function=preprocess_input) #included in our dependencies\n\ntrain_generator=train_datagen.flow(X_train, y_train, batch_size=32,shuffle=True)",
      "execution_count": null,
      "outputs": []
    },
    {
      "metadata": {
        "trusted": true,
        "_uuid": "6769fb422952863dbbb44555d70b0cac7d56238c"
      },
      "cell_type": "code",
      "source": "",
      "execution_count": null,
      "outputs": []
    },
    {
      "metadata": {
        "trusted": true,
        "_uuid": "dae14fa633b3398459e8381ee96bf2428b857bf7"
      },
      "cell_type": "code",
      "source": "",
      "execution_count": null,
      "outputs": []
    },
    {
      "metadata": {
        "trusted": true,
        "_uuid": "ab7e52af7b1f43e1ffaea83fbcf03286807669ea"
      },
      "cell_type": "code",
      "source": "callbacks_list = [\n    EarlyStopping(monitor = 'val_acc', patience = 6, verbose = 1),\n    ReduceLROnPlateau(monitor = 'val_acc', factor = 0.1, patience = 3, verbose = 1),\n    CSVLogger('model_' + str(model) + '.log')]",
      "execution_count": null,
      "outputs": []
    },
    {
      "metadata": {
        "trusted": true,
        "_uuid": "f99d8e24e7fb9ed69f1599ba4a8093465f86dfad"
      },
      "cell_type": "code",
      "source": "step_size_train=train_generator.n//train_generator.batch_size\nmodel.fit_generator(generator=train_generator,\n                   steps_per_epoch=step_size_train,\n                   epochs=20,\n                   validation_data = [X_test, y_test], callbacks = callbacks_list)",
      "execution_count": null,
      "outputs": []
    },
    {
      "metadata": {
        "trusted": true,
        "_uuid": "8b24a537b4cd4675e3d5c0526be824101153b275"
      },
      "cell_type": "markdown",
      "source": "## Extra Stuff Below"
    },
    {
      "metadata": {
        "trusted": true,
        "_uuid": "acbcae130866fa86a832ac385843e05566210508"
      },
      "cell_type": "code",
      "source": "",
      "execution_count": null,
      "outputs": []
    },
    {
      "metadata": {
        "trusted": true,
        "_uuid": "00791dfea351c4a537fdaf0a32c3a5d08dd06ab6"
      },
      "cell_type": "code",
      "source": "# # f1 based metric\n# import numpy as np\n# from keras.callbacks import Callback\n# from sklearn.metrics import confusion_matrix, f1_score, precision_score, recall_score\n# class Metrics(Callback):\n#    def on_train_begin(self, logs={}):\n# self.val_f1s = []\n#       self.val_recalls = []\n#       self.val_precisions = []\n#\n#   def on_epoch_end(self, epoch, logs={}):\n#       val_predict = (np.asarray(self.model.predict(self.validation_data[0]))).round() \n#        val_targ = self.validation_data[1]\n#        _val_f1 = f1_score(val_targ, val_predict)\n#        _val_recall = recall_score(val_targ, val_predict)\n#        _val_precision = precision_score(val_targ, val_predict)\n#        self.val_f1s.append(_val_f1)\n#        self.val_recalls.append(_val_recall)\n#        self.val_precisions.append(_val_precision)\n#        print(' — val_f1: %f — val_precision: %f — val_recall %f' %(_val_f1, _val_precision, _val_recall))\n#        return\n \n#metrics = Metrics()",
      "execution_count": null,
      "outputs": []
    },
    {
      "metadata": {
        "trusted": true,
        "_uuid": "ba99fa2dea2ce0ee8af745a14fd701c08f42b65c"
      },
      "cell_type": "markdown",
      "source": ""
    },
    {
      "metadata": {
        "_uuid": "98497319ee045d0d730d455f9f5dd80e9ba6d65b"
      },
      "cell_type": "markdown",
      "source": "We see a lot of jargon:\n\n|Term| Explanation|\n|---|---|\n|Convolutional Layers | layers which are robust to time shifts|\n|Max Pooling/ Average Pooling |dimension reduction, robustness|\n|Batch normalization |equalizes the distribution of the batches |\n|Epochs |1 run of a batch |\n|Adam Optimizer | an adaptive optimization scheme|\n|Cross Entropy | cost function|\n|ReLU | nonlinear activation function| \n|Batch Size| size of subset to process to update the estimates|\n|Learning Rate | time step of the optimization algorithm|"
    },
    {
      "metadata": {
        "trusted": true,
        "_uuid": "6d446b237b19d87dbb878eeead036f47434eb85a"
      },
      "cell_type": "code",
      "source": "",
      "execution_count": null,
      "outputs": []
    },
    {
      "metadata": {
        "trusted": true,
        "_uuid": "5c0d22d2fdc04529b39ce5c73737dda1cc56a4fe"
      },
      "cell_type": "markdown",
      "source": ""
    },
    {
      "metadata": {
        "_uuid": "d3017c11204725a57c18766c5cee857ad15a34bd"
      },
      "cell_type": "markdown",
      "source": ""
    },
    {
      "metadata": {
        "trusted": true,
        "_uuid": "f66c89682506c3d5e2e2519f434750236033b63c"
      },
      "cell_type": "markdown",
      "source": ""
    },
    {
      "metadata": {
        "trusted": true,
        "_uuid": "d57f3e17e43922ae9de11881cb6b23cbae8170b8"
      },
      "cell_type": "markdown",
      "source": ""
    },
    {
      "metadata": {
        "trusted": true,
        "_uuid": "1d0db0daf02ed288b534b2394467872651893810"
      },
      "cell_type": "markdown",
      "source": ""
    },
    {
      "metadata": {
        "trusted": true,
        "_uuid": "b77865a533017bc861c88e7addcef6ae3c0ebc4b"
      },
      "cell_type": "markdown",
      "source": ""
    },
    {
      "metadata": {
        "trusted": true,
        "_uuid": "968828d9b9ad1cded9cb3d912666ce1482eb72d1"
      },
      "cell_type": "markdown",
      "source": ""
    },
    {
      "metadata": {
        "trusted": true,
        "_uuid": "84afa6514d7164dc2fa87cd79166f0237bd053fa"
      },
      "cell_type": "markdown",
      "source": "\n"
    },
    {
      "metadata": {
        "trusted": true,
        "_uuid": "5fa4d75dfaf326aa9fde1e413d70e41ef0ff1a6a"
      },
      "cell_type": "code",
      "source": "",
      "execution_count": null,
      "outputs": []
    },
    {
      "metadata": {
        "_uuid": "c39e011d57520684b6090452c148757839f0afd4"
      },
      "cell_type": "markdown",
      "source": ""
    },
    {
      "metadata": {
        "_uuid": "2ab201f3e1af1d53119ccefe12445f2a34fae6d5"
      },
      "cell_type": "markdown",
      "source": "**References:**\n\n[Deep Learning Glossary](http://www.wildml.com/deep-learning-glossary/)\n\n[Keras and NN Tutorial](https://indico.cern.ch/event/506145/contributions/2132944/attachments/1258124/1858154/NNinKeras_MPaganini.pdf)\n\n[Keras Cheatsheet](https://s3.amazonaws.com/assets.datacamp.com/blog_assets/Keras_Cheat_Sheet_Python.pdf)\n\nFree GPU usage: [Google Colaboratory notebooks](https://colab.research.google.com/notebooks/welcome.ipynb#recent=true) & [Kaggle Kernels](https://www.kaggle.com/kernels)."
    },
    {
      "metadata": {
        "_uuid": "b2c5cccc2dcc7d5874f929a09804d71f0a42025a"
      },
      "cell_type": "markdown",
      "source": ""
    },
    {
      "metadata": {
        "trusted": true,
        "_uuid": "ec6c87f49bb43096c55e2678899d2372618818db"
      },
      "cell_type": "code",
      "source": "",
      "execution_count": null,
      "outputs": []
    }
  ],
  "metadata": {
    "kernelspec": {
      "display_name": "Python 3",
      "language": "python",
      "name": "python3"
    },
    "language_info": {
      "name": "python",
      "version": "3.6.6",
      "mimetype": "text/x-python",
      "codemirror_mode": {
        "name": "ipython",
        "version": 3
      },
      "pygments_lexer": "ipython3",
      "nbconvert_exporter": "python",
      "file_extension": ".py"
    }
  },
  "nbformat": 4,
  "nbformat_minor": 1
}