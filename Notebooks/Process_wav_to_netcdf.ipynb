{
 "cells": [
  {
   "cell_type": "code",
   "execution_count": 1,
   "metadata": {},
   "outputs": [],
   "source": [
    "import numpy as np\n",
    "import pandas as pd\n",
    "import math\n",
    "import time\n",
    "import re\n",
    "import os\n",
    "from skimage import util\n",
    "from scipy.io import wavfile\n",
    "from scipy import signal\n",
    "from scipy import stats\n",
    "import xarray as xr\n",
    "%matplotlib inline"
   ]
  },
  {
   "cell_type": "code",
   "execution_count": 2,
   "metadata": {},
   "outputs": [],
   "source": [
    "def create_slice_from_wav(file_path, slice_len, step_size):\n",
    "    \"\"\"Creates small slices from wav file. Slice_len (use sampling frequency to convert to ms). \n",
    "    Step_size is amount of overlap between each slice.\"\"\"\n",
    "    \n",
    "    #read in wav file\n",
    "    samp_freq, sig_data = wavfile.read(file_path)\n",
    "    sig_data = sig_data[0:150000000]\n",
    "    print('Sampling frequency: ' + str(samp_freq))\n",
    "    \n",
    "    #determine number of samples and length\n",
    "    n_samples = sig_data.shape[0]\n",
    "    print('Number of samples: ' + str(n_samples))\n",
    "    sig_len = n_samples/samp_freq\n",
    "    print('Length: ' + str(sig_len) + ' sec')\n",
    "    \n",
    "    #create slices \n",
    "    M = slice_len\n",
    "    steps = int(M*step_size)\n",
    "    slices = util.view_as_windows(sig_data, window_shape=(M,), step=steps)\n",
    "    print(f'Audio shape: {sig_data.shape}, Sliced audio shape: {slices.shape}')\n",
    "    \n",
    "    return samp_freq, sig_data, slices, steps"
   ]
  },
  {
   "cell_type": "code",
   "execution_count": 3,
   "metadata": {},
   "outputs": [],
   "source": [
    "def create_spec_from_slice_array(slices, spec_window=128, NFFT=512, samp_freq=250000, steps=5625):\n",
    "    \"\"\"Creates fft spectrogram from slice. spec_window is length of each segment (nperseg).\n",
    "    NFFT is length of the FFT used (nfft). samp_freq is sampling frequency (in Hz) of slice (fs).\n",
    "    steps is step size between slices\"\"\"\n",
    "    #create spectrogram from each slice\n",
    "    \n",
    "    spec_slices = {}\n",
    "    samp_freq_kHz = samp_freq/1000\n",
    "\n",
    "    for i in range(slices.shape[0]): \n",
    "        if i % 5000 == 0:\n",
    "            print(i)\n",
    "            \n",
    "        #spectrogram\n",
    "        freqs_spec, times, Sx = signal.spectrogram(slices[i,:], fs=samp_freq, nperseg = spec_window, nfft = NFFT)\n",
    "    \n",
    "        time_stamp = i*steps / samp_freq_kHz\n",
    "    \n",
    "        #store as dic\n",
    "        spec_slices[time_stamp] = Sx\n",
    "\n",
    "    return spec_slices, freqs_spec, times\n"
   ]
  },
  {
   "cell_type": "code",
   "execution_count": 16,
   "metadata": {},
   "outputs": [],
   "source": [
    "def create_xarray_dataset_from_dic(dic, freqs_spec, times):\n",
    "    \"\"\"Creates an xarray.Dataset object from a dictionary input.\"\"\"\n",
    "    \n",
    "    slices_combined = {}\n",
    "    \n",
    "    for key, fft_slice in dic.items():\n",
    "        slices_combined[key] = xr.DataArray(fft_slice, dims = ('freq', 'times'), coords = {'freq': freqs_spec, 'times': times})\n",
    "    slices_Dataset = xr.Dataset(slices_combined).to_array(dim = 'slices')\n",
    "    \n",
    "    return slices_Dataset"
   ]
  },
  {
   "cell_type": "markdown",
   "metadata": {},
   "source": [
    "Find path names for each wav file corresponding to annotated data"
   ]
  },
  {
   "cell_type": "code",
   "execution_count": 5,
   "metadata": {},
   "outputs": [],
   "source": [
    "wav_dir_path = 'C:/Users/Schindler/Documents/Schindler_Lab/Data/USVs/CPA_pair_exp/18.12.07_CPA_pair_3x'"
   ]
  },
  {
   "cell_type": "code",
   "execution_count": 6,
   "metadata": {},
   "outputs": [
    {
     "data": {
      "text/plain": [
       "['C:/Users/Schindler/Documents/Schindler_Lab/Data/USVs/CPA_pair_exp/18.12.07_CPA_pair_3x/533.wav',\n",
       " 'C:/Users/Schindler/Documents/Schindler_Lab/Data/USVs/CPA_pair_exp/18.12.07_CPA_pair_3x/534.wav',\n",
       " 'C:/Users/Schindler/Documents/Schindler_Lab/Data/USVs/CPA_pair_exp/18.12.07_CPA_pair_3x/535.wav',\n",
       " 'C:/Users/Schindler/Documents/Schindler_Lab/Data/USVs/CPA_pair_exp/18.12.07_CPA_pair_3x/542.wav',\n",
       " 'C:/Users/Schindler/Documents/Schindler_Lab/Data/USVs/CPA_pair_exp/18.12.07_CPA_pair_3x/543.wav',\n",
       " 'C:/Users/Schindler/Documents/Schindler_Lab/Data/USVs/CPA_pair_exp/18.12.07_CPA_pair_3x/554.wav',\n",
       " 'C:/Users/Schindler/Documents/Schindler_Lab/Data/USVs/CPA_pair_exp/18.12.07_CPA_pair_3x/555.wav',\n",
       " 'C:/Users/Schindler/Documents/Schindler_Lab/Data/USVs/CPA_pair_exp/18.12.07_CPA_pair_3x/559.wav',\n",
       " 'C:/Users/Schindler/Documents/Schindler_Lab/Data/USVs/CPA_pair_exp/18.12.07_CPA_pair_3x/600.wav']"
      ]
     },
     "execution_count": 6,
     "metadata": {},
     "output_type": "execute_result"
    }
   ],
   "source": [
    "path_names = []\n",
    "files = os.listdir(wav_dir_path)\n",
    "for file in files: \n",
    "        path_names.append(wav_dir_path + \"/\" + file)\n",
    "\n",
    "path_names"
   ]
  },
  {
   "cell_type": "code",
   "execution_count": 17,
   "metadata": {
    "scrolled": true
   },
   "outputs": [
    {
     "name": "stdout",
     "output_type": "stream",
     "text": [
      "Begin processing animal # 600\n",
      "Sampling frequency: 250000\n",
      "Number of samples: 76005376\n",
      "Length: 304.021504 sec\n",
      "Audio shape: (76005376,), Sliced audio shape: (13511, 6250)\n",
      "Slices created in 0.6995565891265869  seconds\n",
      "0\n",
      "5000\n",
      "10000\n",
      "Spectrograms created in 48.323707580566406  seconds\n"
     ]
    },
    {
     "ename": "TypeError",
     "evalue": "variable 'data' has invalid type <class 'dict'>",
     "output_type": "error",
     "traceback": [
      "\u001b[1;31m---------------------------------------------------------------------------\u001b[0m",
      "\u001b[1;31mTypeError\u001b[0m                                 Traceback (most recent call last)",
      "\u001b[1;32m<ipython-input-17-b929d0dca514>\u001b[0m in \u001b[0;36m<module>\u001b[1;34m\u001b[0m\n\u001b[0;32m     20\u001b[0m \u001b[1;31m#create xarray Dataset\u001b[0m\u001b[1;33m\u001b[0m\u001b[1;33m\u001b[0m\u001b[1;33m\u001b[0m\u001b[0m\n\u001b[0;32m     21\u001b[0m \u001b[0mstart\u001b[0m \u001b[1;33m=\u001b[0m \u001b[0mtime\u001b[0m\u001b[1;33m.\u001b[0m\u001b[0mtime\u001b[0m\u001b[1;33m(\u001b[0m\u001b[1;33m)\u001b[0m\u001b[1;33m\u001b[0m\u001b[1;33m\u001b[0m\u001b[0m\n\u001b[1;32m---> 22\u001b[1;33m \u001b[0mslices_Dataset\u001b[0m \u001b[1;33m=\u001b[0m \u001b[0mcreate_xarray_dataset_from_dic\u001b[0m\u001b[1;33m(\u001b[0m\u001b[0mspec_slices\u001b[0m\u001b[1;33m,\u001b[0m \u001b[0mfreqs_spec\u001b[0m\u001b[1;33m,\u001b[0m \u001b[0mtimes\u001b[0m\u001b[1;33m)\u001b[0m\u001b[1;33m\u001b[0m\u001b[1;33m\u001b[0m\u001b[0m\n\u001b[0m\u001b[0;32m     23\u001b[0m \u001b[0mend\u001b[0m \u001b[1;33m=\u001b[0m \u001b[0mtime\u001b[0m\u001b[1;33m.\u001b[0m\u001b[0mtime\u001b[0m\u001b[1;33m(\u001b[0m\u001b[1;33m)\u001b[0m\u001b[1;33m\u001b[0m\u001b[1;33m\u001b[0m\u001b[0m\n\u001b[0;32m     24\u001b[0m \u001b[0mprint\u001b[0m\u001b[1;33m(\u001b[0m\u001b[0mstr\u001b[0m\u001b[1;33m(\u001b[0m\u001b[1;34m'xarray created in '\u001b[0m \u001b[1;33m+\u001b[0m \u001b[0mstr\u001b[0m\u001b[1;33m(\u001b[0m\u001b[0mend\u001b[0m \u001b[1;33m-\u001b[0m \u001b[0mstart\u001b[0m\u001b[1;33m)\u001b[0m \u001b[1;33m+\u001b[0m \u001b[1;34m'  seconds'\u001b[0m\u001b[1;33m)\u001b[0m\u001b[1;33m)\u001b[0m\u001b[1;33m\u001b[0m\u001b[1;33m\u001b[0m\u001b[0m\n",
      "\u001b[1;32m<ipython-input-16-02c42986fa06>\u001b[0m in \u001b[0;36mcreate_xarray_dataset_from_dic\u001b[1;34m(dic, freqs_spec, times)\u001b[0m\n\u001b[0;32m      6\u001b[0m     \u001b[1;32mfor\u001b[0m \u001b[0mkey\u001b[0m\u001b[1;33m,\u001b[0m \u001b[0mfft_slice\u001b[0m \u001b[1;32min\u001b[0m \u001b[0mdic\u001b[0m\u001b[1;33m.\u001b[0m\u001b[0mitems\u001b[0m\u001b[1;33m(\u001b[0m\u001b[1;33m)\u001b[0m\u001b[1;33m:\u001b[0m\u001b[1;33m\u001b[0m\u001b[1;33m\u001b[0m\u001b[0m\n\u001b[0;32m      7\u001b[0m         \u001b[0mslices_combined\u001b[0m\u001b[1;33m[\u001b[0m\u001b[0mkey\u001b[0m\u001b[1;33m]\u001b[0m \u001b[1;33m=\u001b[0m \u001b[0mxr\u001b[0m\u001b[1;33m.\u001b[0m\u001b[0mDataArray\u001b[0m\u001b[1;33m(\u001b[0m\u001b[0mfft_slice\u001b[0m\u001b[1;33m,\u001b[0m \u001b[0mdims\u001b[0m \u001b[1;33m=\u001b[0m \u001b[1;33m(\u001b[0m\u001b[1;34m'freq'\u001b[0m\u001b[1;33m,\u001b[0m \u001b[1;34m'times'\u001b[0m\u001b[1;33m)\u001b[0m\u001b[1;33m,\u001b[0m \u001b[0mcoords\u001b[0m \u001b[1;33m=\u001b[0m \u001b[1;33m{\u001b[0m\u001b[1;34m'freq'\u001b[0m\u001b[1;33m:\u001b[0m \u001b[0mfreqs_spec\u001b[0m\u001b[1;33m,\u001b[0m \u001b[1;34m'times'\u001b[0m\u001b[1;33m:\u001b[0m \u001b[0mtimes\u001b[0m\u001b[1;33m}\u001b[0m\u001b[1;33m)\u001b[0m\u001b[1;33m\u001b[0m\u001b[1;33m\u001b[0m\u001b[0m\n\u001b[1;32m----> 8\u001b[1;33m     \u001b[0mslices_Dataset\u001b[0m \u001b[1;33m=\u001b[0m \u001b[0mxr\u001b[0m\u001b[1;33m.\u001b[0m\u001b[0mDataset\u001b[0m\u001b[1;33m(\u001b[0m\u001b[1;33m{\u001b[0m\u001b[1;34m'data'\u001b[0m\u001b[1;33m:\u001b[0m \u001b[0mslices_combined\u001b[0m\u001b[1;33m}\u001b[0m\u001b[1;33m)\u001b[0m\u001b[1;33m.\u001b[0m\u001b[0mto_array\u001b[0m\u001b[1;33m(\u001b[0m\u001b[0mdim\u001b[0m \u001b[1;33m=\u001b[0m \u001b[1;34m'slices'\u001b[0m\u001b[1;33m)\u001b[0m\u001b[1;33m\u001b[0m\u001b[1;33m\u001b[0m\u001b[0m\n\u001b[0m\u001b[0;32m      9\u001b[0m \u001b[1;33m\u001b[0m\u001b[0m\n\u001b[0;32m     10\u001b[0m     \u001b[1;32mreturn\u001b[0m \u001b[0mslices_Dataset\u001b[0m\u001b[1;33m\u001b[0m\u001b[1;33m\u001b[0m\u001b[0m\n",
      "\u001b[1;32m~\\AppData\\Local\\conda\\conda\\envs\\USV_python\\lib\\site-packages\\xarray\\core\\dataset.py\u001b[0m in \u001b[0;36m__init__\u001b[1;34m(self, data_vars, coords, attrs, compat)\u001b[0m\n\u001b[0;32m    366\u001b[0m             \u001b[0mcoords\u001b[0m \u001b[1;33m=\u001b[0m \u001b[1;33m{\u001b[0m\u001b[1;33m}\u001b[0m\u001b[1;33m\u001b[0m\u001b[1;33m\u001b[0m\u001b[0m\n\u001b[0;32m    367\u001b[0m         \u001b[1;32mif\u001b[0m \u001b[0mdata_vars\u001b[0m \u001b[1;32mis\u001b[0m \u001b[1;32mnot\u001b[0m \u001b[1;32mNone\u001b[0m \u001b[1;32mor\u001b[0m \u001b[0mcoords\u001b[0m \u001b[1;32mis\u001b[0m \u001b[1;32mnot\u001b[0m \u001b[1;32mNone\u001b[0m\u001b[1;33m:\u001b[0m\u001b[1;33m\u001b[0m\u001b[1;33m\u001b[0m\u001b[0m\n\u001b[1;32m--> 368\u001b[1;33m             \u001b[0mself\u001b[0m\u001b[1;33m.\u001b[0m\u001b[0m_set_init_vars_and_dims\u001b[0m\u001b[1;33m(\u001b[0m\u001b[0mdata_vars\u001b[0m\u001b[1;33m,\u001b[0m \u001b[0mcoords\u001b[0m\u001b[1;33m,\u001b[0m \u001b[0mcompat\u001b[0m\u001b[1;33m)\u001b[0m\u001b[1;33m\u001b[0m\u001b[1;33m\u001b[0m\u001b[0m\n\u001b[0m\u001b[0;32m    369\u001b[0m         \u001b[1;32mif\u001b[0m \u001b[0mattrs\u001b[0m \u001b[1;32mis\u001b[0m \u001b[1;32mnot\u001b[0m \u001b[1;32mNone\u001b[0m\u001b[1;33m:\u001b[0m\u001b[1;33m\u001b[0m\u001b[1;33m\u001b[0m\u001b[0m\n\u001b[0;32m    370\u001b[0m             \u001b[0mself\u001b[0m\u001b[1;33m.\u001b[0m\u001b[0mattrs\u001b[0m \u001b[1;33m=\u001b[0m \u001b[0mattrs\u001b[0m\u001b[1;33m\u001b[0m\u001b[1;33m\u001b[0m\u001b[0m\n",
      "\u001b[1;32m~\\AppData\\Local\\conda\\conda\\envs\\USV_python\\lib\\site-packages\\xarray\\core\\dataset.py\u001b[0m in \u001b[0;36m_set_init_vars_and_dims\u001b[1;34m(self, data_vars, coords, compat)\u001b[0m\n\u001b[0;32m    384\u001b[0m \u001b[1;33m\u001b[0m\u001b[0m\n\u001b[0;32m    385\u001b[0m         variables, coord_names, dims = merge_data_and_coords(\n\u001b[1;32m--> 386\u001b[1;33m             data_vars, coords, compat=compat)\n\u001b[0m\u001b[0;32m    387\u001b[0m \u001b[1;33m\u001b[0m\u001b[0m\n\u001b[0;32m    388\u001b[0m         \u001b[0mself\u001b[0m\u001b[1;33m.\u001b[0m\u001b[0m_variables\u001b[0m \u001b[1;33m=\u001b[0m \u001b[0mvariables\u001b[0m\u001b[1;33m\u001b[0m\u001b[1;33m\u001b[0m\u001b[0m\n",
      "\u001b[1;32m~\\AppData\\Local\\conda\\conda\\envs\\USV_python\\lib\\site-packages\\xarray\\core\\merge.py\u001b[0m in \u001b[0;36mmerge_data_and_coords\u001b[1;34m(data, coords, compat, join)\u001b[0m\n\u001b[0;32m    368\u001b[0m     \u001b[0mindexes\u001b[0m \u001b[1;33m=\u001b[0m \u001b[0mdict\u001b[0m\u001b[1;33m(\u001b[0m\u001b[0mextract_indexes\u001b[0m\u001b[1;33m(\u001b[0m\u001b[0mcoords\u001b[0m\u001b[1;33m)\u001b[0m\u001b[1;33m)\u001b[0m\u001b[1;33m\u001b[0m\u001b[1;33m\u001b[0m\u001b[0m\n\u001b[0;32m    369\u001b[0m     return merge_core(objs, compat, join, explicit_coords=explicit_coords,\n\u001b[1;32m--> 370\u001b[1;33m                       indexes=indexes)\n\u001b[0m\u001b[0;32m    371\u001b[0m \u001b[1;33m\u001b[0m\u001b[0m\n\u001b[0;32m    372\u001b[0m \u001b[1;33m\u001b[0m\u001b[0m\n",
      "\u001b[1;32m~\\AppData\\Local\\conda\\conda\\envs\\USV_python\\lib\\site-packages\\xarray\\core\\merge.py\u001b[0m in \u001b[0;36mmerge_core\u001b[1;34m(objs, compat, join, priority_arg, explicit_coords, indexes)\u001b[0m\n\u001b[0;32m    438\u001b[0m     \u001b[0mcoerced\u001b[0m \u001b[1;33m=\u001b[0m \u001b[0mcoerce_pandas_values\u001b[0m\u001b[1;33m(\u001b[0m\u001b[0mobjs\u001b[0m\u001b[1;33m)\u001b[0m\u001b[1;33m\u001b[0m\u001b[1;33m\u001b[0m\u001b[0m\n\u001b[0;32m    439\u001b[0m     \u001b[0maligned\u001b[0m \u001b[1;33m=\u001b[0m \u001b[0mdeep_align\u001b[0m\u001b[1;33m(\u001b[0m\u001b[0mcoerced\u001b[0m\u001b[1;33m,\u001b[0m \u001b[0mjoin\u001b[0m\u001b[1;33m=\u001b[0m\u001b[0mjoin\u001b[0m\u001b[1;33m,\u001b[0m \u001b[0mcopy\u001b[0m\u001b[1;33m=\u001b[0m\u001b[1;32mFalse\u001b[0m\u001b[1;33m,\u001b[0m \u001b[0mindexes\u001b[0m\u001b[1;33m=\u001b[0m\u001b[0mindexes\u001b[0m\u001b[1;33m)\u001b[0m\u001b[1;33m\u001b[0m\u001b[1;33m\u001b[0m\u001b[0m\n\u001b[1;32m--> 440\u001b[1;33m     \u001b[0mexpanded\u001b[0m \u001b[1;33m=\u001b[0m \u001b[0mexpand_variable_dicts\u001b[0m\u001b[1;33m(\u001b[0m\u001b[0maligned\u001b[0m\u001b[1;33m)\u001b[0m\u001b[1;33m\u001b[0m\u001b[1;33m\u001b[0m\u001b[0m\n\u001b[0m\u001b[0;32m    441\u001b[0m \u001b[1;33m\u001b[0m\u001b[0m\n\u001b[0;32m    442\u001b[0m     \u001b[0mcoord_names\u001b[0m\u001b[1;33m,\u001b[0m \u001b[0mnoncoord_names\u001b[0m \u001b[1;33m=\u001b[0m \u001b[0mdetermine_coords\u001b[0m\u001b[1;33m(\u001b[0m\u001b[0mcoerced\u001b[0m\u001b[1;33m)\u001b[0m\u001b[1;33m\u001b[0m\u001b[1;33m\u001b[0m\u001b[0m\n",
      "\u001b[1;32m~\\AppData\\Local\\conda\\conda\\envs\\USV_python\\lib\\site-packages\\xarray\\core\\merge.py\u001b[0m in \u001b[0;36mexpand_variable_dicts\u001b[1;34m(list_of_variable_dicts)\u001b[0m\n\u001b[0;32m    212\u001b[0m                     \u001b[0mvar_dicts\u001b[0m\u001b[1;33m.\u001b[0m\u001b[0mappend\u001b[0m\u001b[1;33m(\u001b[0m\u001b[0mcoords\u001b[0m\u001b[1;33m)\u001b[0m\u001b[1;33m\u001b[0m\u001b[1;33m\u001b[0m\u001b[0m\n\u001b[0;32m    213\u001b[0m \u001b[1;33m\u001b[0m\u001b[0m\n\u001b[1;32m--> 214\u001b[1;33m                 \u001b[0mvar\u001b[0m \u001b[1;33m=\u001b[0m \u001b[0mas_variable\u001b[0m\u001b[1;33m(\u001b[0m\u001b[0mvar\u001b[0m\u001b[1;33m,\u001b[0m \u001b[0mname\u001b[0m\u001b[1;33m=\u001b[0m\u001b[0mname\u001b[0m\u001b[1;33m)\u001b[0m\u001b[1;33m\u001b[0m\u001b[1;33m\u001b[0m\u001b[0m\n\u001b[0m\u001b[0;32m    215\u001b[0m                 \u001b[0msanitized_vars\u001b[0m\u001b[1;33m[\u001b[0m\u001b[0mname\u001b[0m\u001b[1;33m]\u001b[0m \u001b[1;33m=\u001b[0m \u001b[0mvar\u001b[0m\u001b[1;33m\u001b[0m\u001b[1;33m\u001b[0m\u001b[0m\n\u001b[0;32m    216\u001b[0m \u001b[1;33m\u001b[0m\u001b[0m\n",
      "\u001b[1;32m~\\AppData\\Local\\conda\\conda\\envs\\USV_python\\lib\\site-packages\\xarray\\core\\variable.py\u001b[0m in \u001b[0;36mas_variable\u001b[1;34m(obj, name)\u001b[0m\n\u001b[0;32m     89\u001b[0m     \u001b[1;32melif\u001b[0m \u001b[0misinstance\u001b[0m\u001b[1;33m(\u001b[0m\u001b[0mobj\u001b[0m\u001b[1;33m,\u001b[0m \u001b[1;33m(\u001b[0m\u001b[0mset\u001b[0m\u001b[1;33m,\u001b[0m \u001b[0mdict\u001b[0m\u001b[1;33m)\u001b[0m\u001b[1;33m)\u001b[0m\u001b[1;33m:\u001b[0m\u001b[1;33m\u001b[0m\u001b[1;33m\u001b[0m\u001b[0m\n\u001b[0;32m     90\u001b[0m         raise TypeError(\n\u001b[1;32m---> 91\u001b[1;33m             \"variable %r has invalid type %r\" % (name, type(obj)))\n\u001b[0m\u001b[0;32m     92\u001b[0m     \u001b[1;32melif\u001b[0m \u001b[0mname\u001b[0m \u001b[1;32mis\u001b[0m \u001b[1;32mnot\u001b[0m \u001b[1;32mNone\u001b[0m\u001b[1;33m:\u001b[0m\u001b[1;33m\u001b[0m\u001b[1;33m\u001b[0m\u001b[0m\n\u001b[0;32m     93\u001b[0m         \u001b[0mdata\u001b[0m \u001b[1;33m=\u001b[0m \u001b[0mas_compatible_data\u001b[0m\u001b[1;33m(\u001b[0m\u001b[0mobj\u001b[0m\u001b[1;33m)\u001b[0m\u001b[1;33m\u001b[0m\u001b[1;33m\u001b[0m\u001b[0m\n",
      "\u001b[1;31mTypeError\u001b[0m: variable 'data' has invalid type <class 'dict'>"
     ]
    }
   ],
   "source": [
    "#select animal to process (need to process individually due to memory contraints)\n",
    "path = path_names[8]\n",
    "name = re.search(\"\\d\\d\\d\", path).group(0)\n",
    "\n",
    "#process wav file of animal corresponding to annotations\n",
    "print(str('Begin processing animal # ' + name))\n",
    "\n",
    "#create slices\n",
    "start = time.time()\n",
    "samp_freq, sig_data, slices, steps = create_slice_from_wav(path, 6250, 0.9)\n",
    "end = time.time()\n",
    "print(str('Slices created in ' + str(end - start) + '  seconds'))\n",
    "\n",
    "#create spectrograms\n",
    "start = time.time()\n",
    "spec_slices, freqs_spec, times = create_spec_from_slice_array(slices, spec_window=128, NFFT=512, samp_freq=250000, steps=5625)\n",
    "end = time.time()\n",
    "print(str('Spectrograms created in ' + str(end - start) + '  seconds'))\n",
    "\n",
    "#create xarray Dataset\n",
    "start = time.time()\n",
    "slices_Dataset = create_xarray_dataset_from_dic(spec_slices, freqs_spec, times)\n",
    "end = time.time()\n",
    "print(str('xarray created in ' + str(end - start) + '  seconds'))\n",
    "\n",
    "#save\n",
    "start = time.time()\n",
    "slices_Dataset.to_netcdf(name + '_xr_Dataset.nc')\n",
    "end = time.time()\n",
    "print(str('xarray saved in ' + str(end - start) + '  seconds'))"
   ]
  },
  {
   "cell_type": "code",
   "execution_count": null,
   "metadata": {},
   "outputs": [],
   "source": [
    "slices_Dataset.sel(freq=slice(0,20000))[4,:,:].plot()"
   ]
  }
 ],
 "metadata": {
  "kernelspec": {
   "display_name": "Python 3",
   "language": "python",
   "name": "python3"
  },
  "language_info": {
   "codemirror_mode": {
    "name": "ipython",
    "version": 3
   },
   "file_extension": ".py",
   "mimetype": "text/x-python",
   "name": "python",
   "nbconvert_exporter": "python",
   "pygments_lexer": "ipython3",
   "version": "3.7.2"
  }
 },
 "nbformat": 4,
 "nbformat_minor": 2
}
