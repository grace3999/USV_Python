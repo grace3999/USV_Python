{
 "cells": [
  {
   "cell_type": "code",
   "execution_count": 1,
   "metadata": {},
   "outputs": [],
   "source": [
    "import numpy as np\n",
    "import pandas as pd\n",
    "import math\n",
    "import time\n",
    "import re\n",
    "import os\n",
    "from scipy.io import wavfile\n",
    "from skimage import util\n",
    "from scipy import signal\n",
    "from scipy import stats\n",
    "\n",
    "#from sklearn.preprocessing import StandardScaler\n",
    "#from sklearn.model_selection import KFold, train_test_split, cross_val_score, GridSearchCV, RandomizedSearchCV\n",
    "\n",
    "#from sklearn.cluster import KMeans\n",
    "#from sklearn.metrics.cluster import silhouette_score\n",
    "\n",
    "#visualizing results\n",
    "%matplotlib inline\n",
    "import seaborn as sns\n",
    "import matplotlib.pyplot as plt\n",
    "#import yellowbrick as yb"
   ]
  },
  {
   "cell_type": "code",
   "execution_count": 2,
   "metadata": {},
   "outputs": [],
   "source": [
    "def create_slice_from_wav(file_path, slice_len, step_size):\n",
    "    \"\"\"Creates small slices from wav file. Slice_len (use sampling frequency to convert to ms). \n",
    "    Step_size is amount of overlap between each slice.\"\"\"\n",
    "    \n",
    "    #get animal name\n",
    "    \n",
    "    #read in wav file\n",
    "    samp_freq, sig_data = wavfile.read(file_path)\n",
    "    sig_data = sig_data[0:150000000]\n",
    "    print('Sampling frequency: ' + str(samp_freq))\n",
    "    \n",
    "    #determine number of samples and length\n",
    "    n_samples = sig_data.shape[0]\n",
    "    print('Number of samples: ' + str(n_samples))\n",
    "    sig_len = n_samples/samp_freq\n",
    "    print('Length: ' + str(sig_len) + ' sec')\n",
    "    \n",
    "    #create slices \n",
    "    M = slice_len\n",
    "    steps = int(M*step_size)\n",
    "    slices = util.view_as_windows(sig_data, window_shape=(M,), step=steps)\n",
    "    print(f'Audio shape: {sig_data.shape}, Sliced audio shape: {slices.shape}')\n",
    "    \n",
    "    return samp_freq, sig_data, slices, steps"
   ]
  },
  {
   "cell_type": "code",
   "execution_count": 3,
   "metadata": {},
   "outputs": [],
   "source": [
    "def plot_spec(Sx, times, steps, time_stamp):\n",
    "    \"\"\"Plots a spectrogram from a slice\"\"\"\n",
    "    \n",
    "    f, ax = plt.subplots()\n",
    "    plt.pcolormesh((times*1000) + (time_stamp), freqs_spec / 1000, 10 * np.log10(Sx), cmap = 'cubehelix')\n",
    "    ax.ticklabel_format(useOffset=False)\n",
    "    plt.ylabel('Frequency [kHz]')\n",
    "    plt.xlabel('Time [msec]')\n",
    "    plt.show()\n",
    "    \n",
    "    return plt"
   ]
  },
  {
   "cell_type": "code",
   "execution_count": 4,
   "metadata": {},
   "outputs": [],
   "source": [
    "def multi_plot(image_df, time_stamp_list, x, y):\n",
    "    \"\"\"Plots spectrograms from a list of time_stamps\"\"\"\n",
    "    for time_stamp in time_stamp_list[x:y]:\n",
    "        plt.figure(figsize = (2,5))\n",
    "        plt.pcolormesh((times*1000) + (time_stamp), freqs_spec / 1000, 10 * np.log10(image_df[time_stamp]), cmap = 'cubehelix')\n",
    "        plt.show()"
   ]
  },
  {
   "cell_type": "code",
   "execution_count": 5,
   "metadata": {},
   "outputs": [],
   "source": [
    "def find_features(data):\n",
    "    \"\"\"Finds spectral flatness and power sum for each time stamp in a df.\"\"\"\n",
    "    \n",
    "    start = time.time()\n",
    "    \n",
    "    feature_df = pd.DataFrame(index = data.index, columns = ['animal', 'time_stamp', 'spec_flat', 'power_sum'])\n",
    "    \n",
    "    for time_stamp in data.index:\n",
    "        #spectral flattness\n",
    "        feature_df.loc[time_stamp]['spec_flat'] = (stats.gmean(data.loc[time_stamp])) / (data.loc[time_stamp].mean())\n",
    "        #power sum\n",
    "        feature_df.loc[time_stamp]['power_sum'] = data.loc[time_stamp].sum()\n",
    "        #time stamp\n",
    "        feature_df.loc[time_stamp]['time_stamp'] = time_stamp\n",
    "    \n",
    "    feature_df['animal'] = data['Animal']\n",
    "    end = time.time()\n",
    "    print(end - start)\n",
    "\n",
    "    return feature_df"
   ]
  },
  {
   "cell_type": "code",
   "execution_count": null,
   "metadata": {},
   "outputs": [],
   "source": []
  },
  {
   "cell_type": "markdown",
   "metadata": {},
   "source": [
    "Create df of annotated USVs from RavenLite"
   ]
  },
  {
   "cell_type": "code",
   "execution_count": 6,
   "metadata": {},
   "outputs": [],
   "source": [
    "annot_path = \"C:/Users/Schindler/Documents/Schindler_Lab/Data/Analysis/Excel files/USV/USV_annot.csv\""
   ]
  },
  {
   "cell_type": "code",
   "execution_count": null,
   "metadata": {},
   "outputs": [],
   "source": [
    "annot_features_df_535_low_multi_slices = find_features(annot_535_low_multi_slices)\n",
    "print(annot_features_df_535_low_multi_slices.shape)\n",
    "annot_features_df_535_low_multi_slices"
   ]
  },
  {
   "cell_type": "code",
   "execution_count": null,
   "metadata": {},
   "outputs": [],
   "source": [
    "print(annot_features_df_535_low_multi_slices['spec_flat'].max())\n",
    "print(annot_features_df_535_low_multi_slices['spec_flat'].min())\n",
    "print(annot_features_df_535_low_multi_slices['spec_flat'].mean())\n",
    "print(annot_features_df_535_low_multi_slices['power_sum'].max())\n",
    "print(annot_features_df_535_low_multi_slices['power_sum'].min())\n",
    "print(annot_features_df_535_low_multi_slices['power_sum'].mean())"
   ]
  },
  {
   "cell_type": "code",
   "execution_count": null,
   "metadata": {},
   "outputs": [],
   "source": [
    "time_stamp_list = annot_slice_df.index.values"
   ]
  },
  {
   "cell_type": "code",
   "execution_count": null,
   "metadata": {},
   "outputs": [],
   "source": [
    "multi_plot(spec_slices, time_stamp_list)"
   ]
  },
  {
   "cell_type": "code",
   "execution_count": null,
   "metadata": {},
   "outputs": [],
   "source": [
    "plt.hist(annot_features_df_535_low_multi_slices['power_sum'].values)\n",
    "plt.show()"
   ]
  },
  {
   "cell_type": "code",
   "execution_count": null,
   "metadata": {},
   "outputs": [],
   "source": []
  },
  {
   "cell_type": "code",
   "execution_count": null,
   "metadata": {},
   "outputs": [],
   "source": [
    "annot_535_low_multi = annot_535[annot_535['Annotation'].str.contains('low multi', regex=False)]\n",
    "print(annot_535_low_multi.shape)\n",
    "annot_535_low_multi.head()"
   ]
  }
 ],
 "metadata": {
  "kernelspec": {
   "display_name": "Python 3",
   "language": "python",
   "name": "python3"
  },
  "language_info": {
   "codemirror_mode": {
    "name": "ipython",
    "version": 3
   },
   "file_extension": ".py",
   "mimetype": "text/x-python",
   "name": "python",
   "nbconvert_exporter": "python",
   "pygments_lexer": "ipython3",
   "version": "3.6.7"
  }
 },
 "nbformat": 4,
 "nbformat_minor": 2
}
