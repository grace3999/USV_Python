{
 "cells": [
  {
   "cell_type": "markdown",
   "metadata": {},
   "source": [
    "Goal of analysis script is to pull in txt files of annotated USVs (two files per animal - baseline and pairing (either neutral or CPA pair)) and analyze"
   ]
  },
  {
   "cell_type": "markdown",
   "metadata": {},
   "source": [
    "Import modules"
   ]
  },
  {
   "cell_type": "code",
   "execution_count": 1,
   "metadata": {},
   "outputs": [],
   "source": [
    "import pandas as pd\n",
    "import numpy as np\n",
    "from tkinter import filedialog\n",
    "from tkinter import *\n",
    "import re\n",
    "import os\n",
    "from scipy import stats\n",
    "\n",
    "# visualization\n",
    "%matplotlib inline\n",
    "import matplotlib.pyplot as plt\n",
    "import seaborn as sns"
   ]
  },
  {
   "cell_type": "code",
   "execution_count": 2,
   "metadata": {},
   "outputs": [],
   "source": [
    "pd.set_option('display.max_rows', 500)\n",
    "pd.set_option('display.max_columns', 500)\n",
    "pd.set_option('display.width', 1000)"
   ]
  },
  {
   "cell_type": "markdown",
   "metadata": {},
   "source": [
    "Open dialog box and prompt user to select directory containing the data files "
   ]
  },
  {
   "cell_type": "code",
   "execution_count": 3,
   "metadata": {},
   "outputs": [
    {
     "name": "stdout",
     "output_type": "stream",
     "text": [
      "C:/Users/Schindler/Documents/Schindler_Lab/Data/USVs/CPA_pair_exp/CPA_pair_tables\n"
     ]
    }
   ],
   "source": [
    "root = Tk()\n",
    "root.directory = filedialog.askdirectory()\n",
    "print (root.directory)"
   ]
  },
  {
   "cell_type": "markdown",
   "metadata": {},
   "source": [
    "Create a path name for each data file"
   ]
  },
  {
   "cell_type": "code",
   "execution_count": 4,
   "metadata": {
    "scrolled": false
   },
   "outputs": [
    {
     "data": {
      "text/plain": [
       "'C:/Users/Schindler/Documents/Schindler_Lab/Data/USVs/CPA_pair_exp/CPA_pair_tables/533.Table.1.selections.CPApair.txt'"
      ]
     },
     "execution_count": 4,
     "metadata": {},
     "output_type": "execute_result"
    }
   ],
   "source": [
    "path_names = []\n",
    "files = os.listdir(root.directory)\n",
    "for file in files: \n",
    "        path_names.append(root.directory + \"/\" + file)\n",
    "\n",
    "path_names[0]"
   ]
  },
  {
   "cell_type": "markdown",
   "metadata": {},
   "source": [
    "Read in and create dataframe of animal parameters (pair: 1 = neutral, 2 = CPA pair; Group: 4 = sham, 5 = blast)"
   ]
  },
  {
   "cell_type": "code",
   "execution_count": 5,
   "metadata": {},
   "outputs": [
    {
     "data": {
      "text/html": [
       "<div>\n",
       "<style scoped>\n",
       "    .dataframe tbody tr th:only-of-type {\n",
       "        vertical-align: middle;\n",
       "    }\n",
       "\n",
       "    .dataframe tbody tr th {\n",
       "        vertical-align: top;\n",
       "    }\n",
       "\n",
       "    .dataframe thead th {\n",
       "        text-align: right;\n",
       "    }\n",
       "</style>\n",
       "<table border=\"1\" class=\"dataframe\">\n",
       "  <thead>\n",
       "    <tr style=\"text-align: right;\">\n",
       "      <th></th>\n",
       "      <th>Animal</th>\n",
       "      <th>Pair</th>\n",
       "      <th>Group</th>\n",
       "      <th>Notes</th>\n",
       "    </tr>\n",
       "  </thead>\n",
       "  <tbody>\n",
       "    <tr>\n",
       "      <th>0</th>\n",
       "      <td>527</td>\n",
       "      <td>1</td>\n",
       "      <td>5</td>\n",
       "      <td>weak blast; scruffy</td>\n",
       "    </tr>\n",
       "    <tr>\n",
       "      <th>1</th>\n",
       "      <td>529</td>\n",
       "      <td>1</td>\n",
       "      <td>5</td>\n",
       "      <td>NaN</td>\n",
       "    </tr>\n",
       "    <tr>\n",
       "      <th>2</th>\n",
       "      <td>533</td>\n",
       "      <td>2</td>\n",
       "      <td>5</td>\n",
       "      <td>cage flood am of pair</td>\n",
       "    </tr>\n",
       "    <tr>\n",
       "      <th>3</th>\n",
       "      <td>534</td>\n",
       "      <td>2</td>\n",
       "      <td>5</td>\n",
       "      <td>cage flood am of pair</td>\n",
       "    </tr>\n",
       "    <tr>\n",
       "      <th>4</th>\n",
       "      <td>535</td>\n",
       "      <td>2</td>\n",
       "      <td>5</td>\n",
       "      <td>cage flood am of pair</td>\n",
       "    </tr>\n",
       "  </tbody>\n",
       "</table>\n",
       "</div>"
      ],
      "text/plain": [
       "   Animal  Pair  Group                  Notes\n",
       "0     527     1      5    weak blast; scruffy\n",
       "1     529     1      5                    NaN\n",
       "2     533     2      5  cage flood am of pair\n",
       "3     534     2      5  cage flood am of pair\n",
       "4     535     2      5  cage flood am of pair"
      ]
     },
     "execution_count": 5,
     "metadata": {},
     "output_type": "execute_result"
    }
   ],
   "source": [
    "group_file = \"C:/Users/Schindler/Documents/Schindler_Lab/Data/Analysis/Excel files/USV/3x_groups.xlsx\"\n",
    "data = pd.read_excel(group_file)\n",
    "df_mice = pd.DataFrame(data = data)\n",
    "df_mice = df_mice.drop([15], axis = 0)\n",
    "df_mice.head()"
   ]
  },
  {
   "cell_type": "markdown",
   "metadata": {},
   "source": [
    "Loop through path names to create pandas data table from excel file. Get animal number from path name (animal number is part of file name), use animal number to get group and pair codes from the df_mice table, create array of animal number, group and pair codes the length of the data_table and add each as a column."
   ]
  },
  {
   "cell_type": "code",
   "execution_count": 6,
   "metadata": {},
   "outputs": [
    {
     "data": {
      "text/html": [
       "<div>\n",
       "<style scoped>\n",
       "    .dataframe tbody tr th:only-of-type {\n",
       "        vertical-align: middle;\n",
       "    }\n",
       "\n",
       "    .dataframe tbody tr th {\n",
       "        vertical-align: top;\n",
       "    }\n",
       "\n",
       "    .dataframe thead th {\n",
       "        text-align: right;\n",
       "    }\n",
       "</style>\n",
       "<table border=\"1\" class=\"dataframe\">\n",
       "  <thead>\n",
       "    <tr style=\"text-align: right;\">\n",
       "      <th></th>\n",
       "      <th>Selection</th>\n",
       "      <th>View</th>\n",
       "      <th>Channel</th>\n",
       "      <th>Begin Time (s)</th>\n",
       "      <th>End Time (s)</th>\n",
       "      <th>Low Freq (Hz)</th>\n",
       "      <th>High Freq (Hz)</th>\n",
       "      <th>Delta Time (s)</th>\n",
       "      <th>Delta Freq (Hz)</th>\n",
       "      <th>Avg Power Density (dB FS)</th>\n",
       "      <th>Annotation</th>\n",
       "      <th>Animal</th>\n",
       "      <th>Group</th>\n",
       "      <th>Pair</th>\n",
       "      <th>Session</th>\n",
       "    </tr>\n",
       "  </thead>\n",
       "  <tbody>\n",
       "    <tr>\n",
       "      <th>0</th>\n",
       "      <td>175</td>\n",
       "      <td>Spectrogram 1</td>\n",
       "      <td>1</td>\n",
       "      <td>376.574455</td>\n",
       "      <td>376.583963</td>\n",
       "      <td>7191.2</td>\n",
       "      <td>9940.8</td>\n",
       "      <td>0.010</td>\n",
       "      <td>2749.6</td>\n",
       "      <td>-32.3</td>\n",
       "      <td>low slug</td>\n",
       "      <td>533</td>\n",
       "      <td>5</td>\n",
       "      <td>2</td>\n",
       "      <td>CPApair</td>\n",
       "    </tr>\n",
       "    <tr>\n",
       "      <th>1</th>\n",
       "      <td>2</td>\n",
       "      <td>Spectrogram 1</td>\n",
       "      <td>1</td>\n",
       "      <td>46.306579</td>\n",
       "      <td>46.316881</td>\n",
       "      <td>12901.9</td>\n",
       "      <td>14805.4</td>\n",
       "      <td>0.010</td>\n",
       "      <td>1903.5</td>\n",
       "      <td>-41.9</td>\n",
       "      <td>low slug</td>\n",
       "      <td>533</td>\n",
       "      <td>5</td>\n",
       "      <td>2</td>\n",
       "      <td>CPApair</td>\n",
       "    </tr>\n",
       "    <tr>\n",
       "      <th>2</th>\n",
       "      <td>13</td>\n",
       "      <td>Spectrogram 1</td>\n",
       "      <td>1</td>\n",
       "      <td>243.272865</td>\n",
       "      <td>243.279204</td>\n",
       "      <td>12901.9</td>\n",
       "      <td>15016.9</td>\n",
       "      <td>0.006</td>\n",
       "      <td>2115.0</td>\n",
       "      <td>-41.2</td>\n",
       "      <td>low slug</td>\n",
       "      <td>533</td>\n",
       "      <td>5</td>\n",
       "      <td>2</td>\n",
       "      <td>CPApair</td>\n",
       "    </tr>\n",
       "    <tr>\n",
       "      <th>3</th>\n",
       "      <td>8</td>\n",
       "      <td>Spectrogram 1</td>\n",
       "      <td>1</td>\n",
       "      <td>149.708324</td>\n",
       "      <td>149.714663</td>\n",
       "      <td>14170.9</td>\n",
       "      <td>16074.5</td>\n",
       "      <td>0.006</td>\n",
       "      <td>1903.6</td>\n",
       "      <td>-39.8</td>\n",
       "      <td>low slug</td>\n",
       "      <td>533</td>\n",
       "      <td>5</td>\n",
       "      <td>2</td>\n",
       "      <td>CPApair</td>\n",
       "    </tr>\n",
       "    <tr>\n",
       "      <th>4</th>\n",
       "      <td>12</td>\n",
       "      <td>Spectrogram 1</td>\n",
       "      <td>1</td>\n",
       "      <td>243.176192</td>\n",
       "      <td>243.186493</td>\n",
       "      <td>13324.9</td>\n",
       "      <td>16074.5</td>\n",
       "      <td>0.010</td>\n",
       "      <td>2749.6</td>\n",
       "      <td>-41.5</td>\n",
       "      <td>low slug</td>\n",
       "      <td>533</td>\n",
       "      <td>5</td>\n",
       "      <td>2</td>\n",
       "      <td>CPApair</td>\n",
       "    </tr>\n",
       "  </tbody>\n",
       "</table>\n",
       "</div>"
      ],
      "text/plain": [
       "   Selection           View  Channel  Begin Time (s)  End Time (s)  Low Freq (Hz)  High Freq (Hz)  Delta Time (s)  Delta Freq (Hz)  Avg Power Density (dB FS) Annotation Animal  Group  Pair  Session\n",
       "0        175  Spectrogram 1        1      376.574455    376.583963         7191.2          9940.8           0.010           2749.6                      -32.3   low slug    533      5     2  CPApair\n",
       "1          2  Spectrogram 1        1       46.306579     46.316881        12901.9         14805.4           0.010           1903.5                      -41.9   low slug    533      5     2  CPApair\n",
       "2         13  Spectrogram 1        1      243.272865    243.279204        12901.9         15016.9           0.006           2115.0                      -41.2   low slug    533      5     2  CPApair\n",
       "3          8  Spectrogram 1        1      149.708324    149.714663        14170.9         16074.5           0.006           1903.6                      -39.8   low slug    533      5     2  CPApair\n",
       "4         12  Spectrogram 1        1      243.176192    243.186493        13324.9         16074.5           0.010           2749.6                      -41.5   low slug    533      5     2  CPApair"
      ]
     },
     "execution_count": 6,
     "metadata": {},
     "output_type": "execute_result"
    }
   ],
   "source": [
    "data_table = pd.DataFrame()\n",
    "\n",
    "i = 0\n",
    "\n",
    "for path in path_names:\n",
    "    data = pd.read_table(path)\n",
    "    data_table_int = pd.DataFrame(data = data)\n",
    "    \n",
    "    name = re.search(\"\\d\\d\\d\", path).group(0)\n",
    "    name_mult = [name] * len(data_table_int)\n",
    "    session = re.search(\"base|cagepair|CPApair\", path).group(0)\n",
    "    session = [session] * len(data_table_int)\n",
    "    \n",
    "    group = df_mice[df_mice['Animal'] == int(name)]['Group'].values[0]\n",
    "    group = [group] * len(data_table_int)\n",
    "    pair = df_mice[df_mice['Animal'] == int(name)]['Pair'].values[0]\n",
    "    pair = [pair] * len(data_table_int)\n",
    "    i = i + 1\n",
    "    \n",
    "    data_table_int = data_table_int.assign(Animal = name_mult)\n",
    "    data_table_int = data_table_int.assign(Group = group)  \n",
    "    data_table_int = data_table_int.assign(Pair = pair)\n",
    "    data_table_int = data_table_int.assign(Session = session)\n",
    "    \n",
    "    data_table = data_table.append(data_table_int, ignore_index=True)\n",
    "\n",
    "data_table.head()"
   ]
  },
  {
   "cell_type": "code",
   "execution_count": 7,
   "metadata": {},
   "outputs": [],
   "source": [
    "data_table.drop(['Selection', 'View', 'Channel'], axis=1, inplace = True)"
   ]
  },
  {
   "cell_type": "code",
   "execution_count": 24,
   "metadata": {},
   "outputs": [
    {
     "data": {
      "text/html": [
       "<div>\n",
       "<style scoped>\n",
       "    .dataframe tbody tr th:only-of-type {\n",
       "        vertical-align: middle;\n",
       "    }\n",
       "\n",
       "    .dataframe tbody tr th {\n",
       "        vertical-align: top;\n",
       "    }\n",
       "\n",
       "    .dataframe thead th {\n",
       "        text-align: right;\n",
       "    }\n",
       "</style>\n",
       "<table border=\"1\" class=\"dataframe\">\n",
       "  <thead>\n",
       "    <tr style=\"text-align: right;\">\n",
       "      <th></th>\n",
       "      <th>Begin Time (s)</th>\n",
       "      <th>End Time (s)</th>\n",
       "      <th>Low Freq (Hz)</th>\n",
       "      <th>High Freq (Hz)</th>\n",
       "      <th>Delta Time (s)</th>\n",
       "      <th>Delta Freq (Hz)</th>\n",
       "      <th>Avg Power Density (dB FS)</th>\n",
       "      <th>Annotation</th>\n",
       "      <th>Animal</th>\n",
       "      <th>Group</th>\n",
       "      <th>Pair</th>\n",
       "      <th>Session</th>\n",
       "    </tr>\n",
       "  </thead>\n",
       "  <tbody>\n",
       "    <tr>\n",
       "      <th>0</th>\n",
       "      <td>376.574455</td>\n",
       "      <td>376.583963</td>\n",
       "      <td>7191.2</td>\n",
       "      <td>9940.8</td>\n",
       "      <td>0.010</td>\n",
       "      <td>2749.6</td>\n",
       "      <td>-32.3</td>\n",
       "      <td>low slug</td>\n",
       "      <td>533</td>\n",
       "      <td>5</td>\n",
       "      <td>2</td>\n",
       "      <td>CPApair</td>\n",
       "    </tr>\n",
       "    <tr>\n",
       "      <th>1</th>\n",
       "      <td>46.306579</td>\n",
       "      <td>46.316881</td>\n",
       "      <td>12901.9</td>\n",
       "      <td>14805.4</td>\n",
       "      <td>0.010</td>\n",
       "      <td>1903.5</td>\n",
       "      <td>-41.9</td>\n",
       "      <td>low slug</td>\n",
       "      <td>533</td>\n",
       "      <td>5</td>\n",
       "      <td>2</td>\n",
       "      <td>CPApair</td>\n",
       "    </tr>\n",
       "    <tr>\n",
       "      <th>2</th>\n",
       "      <td>243.272865</td>\n",
       "      <td>243.279204</td>\n",
       "      <td>12901.9</td>\n",
       "      <td>15016.9</td>\n",
       "      <td>0.006</td>\n",
       "      <td>2115.0</td>\n",
       "      <td>-41.2</td>\n",
       "      <td>low slug</td>\n",
       "      <td>533</td>\n",
       "      <td>5</td>\n",
       "      <td>2</td>\n",
       "      <td>CPApair</td>\n",
       "    </tr>\n",
       "    <tr>\n",
       "      <th>3</th>\n",
       "      <td>149.708324</td>\n",
       "      <td>149.714663</td>\n",
       "      <td>14170.9</td>\n",
       "      <td>16074.5</td>\n",
       "      <td>0.006</td>\n",
       "      <td>1903.6</td>\n",
       "      <td>-39.8</td>\n",
       "      <td>low slug</td>\n",
       "      <td>533</td>\n",
       "      <td>5</td>\n",
       "      <td>2</td>\n",
       "      <td>CPApair</td>\n",
       "    </tr>\n",
       "    <tr>\n",
       "      <th>4</th>\n",
       "      <td>243.176192</td>\n",
       "      <td>243.186493</td>\n",
       "      <td>13324.9</td>\n",
       "      <td>16074.5</td>\n",
       "      <td>0.010</td>\n",
       "      <td>2749.6</td>\n",
       "      <td>-41.5</td>\n",
       "      <td>low slug</td>\n",
       "      <td>533</td>\n",
       "      <td>5</td>\n",
       "      <td>2</td>\n",
       "      <td>CPApair</td>\n",
       "    </tr>\n",
       "  </tbody>\n",
       "</table>\n",
       "</div>"
      ],
      "text/plain": [
       "   Begin Time (s)  End Time (s)  Low Freq (Hz)  High Freq (Hz)  Delta Time (s)  Delta Freq (Hz)  Avg Power Density (dB FS) Annotation Animal  Group  Pair  Session\n",
       "0      376.574455    376.583963         7191.2          9940.8           0.010           2749.6                      -32.3   low slug    533      5     2  CPApair\n",
       "1       46.306579     46.316881        12901.9         14805.4           0.010           1903.5                      -41.9   low slug    533      5     2  CPApair\n",
       "2      243.272865    243.279204        12901.9         15016.9           0.006           2115.0                      -41.2   low slug    533      5     2  CPApair\n",
       "3      149.708324    149.714663        14170.9         16074.5           0.006           1903.6                      -39.8   low slug    533      5     2  CPApair\n",
       "4      243.176192    243.186493        13324.9         16074.5           0.010           2749.6                      -41.5   low slug    533      5     2  CPApair"
      ]
     },
     "execution_count": 24,
     "metadata": {},
     "output_type": "execute_result"
    }
   ],
   "source": [
    "data_table.head()"
   ]
  },
  {
   "cell_type": "code",
   "execution_count": 8,
   "metadata": {},
   "outputs": [
    {
     "data": {
      "text/html": [
       "<div>\n",
       "<style scoped>\n",
       "    .dataframe tbody tr th:only-of-type {\n",
       "        vertical-align: middle;\n",
       "    }\n",
       "\n",
       "    .dataframe tbody tr th {\n",
       "        vertical-align: top;\n",
       "    }\n",
       "\n",
       "    .dataframe thead th {\n",
       "        text-align: right;\n",
       "    }\n",
       "</style>\n",
       "<table border=\"1\" class=\"dataframe\">\n",
       "  <thead>\n",
       "    <tr style=\"text-align: right;\">\n",
       "      <th></th>\n",
       "      <th>Begin Time (s)</th>\n",
       "      <th>Annotation</th>\n",
       "      <th>Animal</th>\n",
       "      <th>Group</th>\n",
       "    </tr>\n",
       "  </thead>\n",
       "  <tbody>\n",
       "    <tr>\n",
       "      <th>0</th>\n",
       "      <td>376.574455</td>\n",
       "      <td>low slug</td>\n",
       "      <td>533</td>\n",
       "      <td>5</td>\n",
       "    </tr>\n",
       "    <tr>\n",
       "      <th>1</th>\n",
       "      <td>46.306579</td>\n",
       "      <td>low slug</td>\n",
       "      <td>533</td>\n",
       "      <td>5</td>\n",
       "    </tr>\n",
       "    <tr>\n",
       "      <th>2</th>\n",
       "      <td>243.272865</td>\n",
       "      <td>low slug</td>\n",
       "      <td>533</td>\n",
       "      <td>5</td>\n",
       "    </tr>\n",
       "    <tr>\n",
       "      <th>3</th>\n",
       "      <td>149.708324</td>\n",
       "      <td>low slug</td>\n",
       "      <td>533</td>\n",
       "      <td>5</td>\n",
       "    </tr>\n",
       "    <tr>\n",
       "      <th>4</th>\n",
       "      <td>243.176192</td>\n",
       "      <td>low slug</td>\n",
       "      <td>533</td>\n",
       "      <td>5</td>\n",
       "    </tr>\n",
       "  </tbody>\n",
       "</table>\n",
       "</div>"
      ],
      "text/plain": [
       "   Begin Time (s) Annotation Animal  Group\n",
       "0      376.574455   low slug    533      5\n",
       "1       46.306579   low slug    533      5\n",
       "2      243.272865   low slug    533      5\n",
       "3      149.708324   low slug    533      5\n",
       "4      243.176192   low slug    533      5"
      ]
     },
     "execution_count": 8,
     "metadata": {},
     "output_type": "execute_result"
    }
   ],
   "source": [
    "annot_info = data_table[['Begin Time (s)', 'Annotation', 'Animal', 'Group']]\n",
    "annot_info.head()"
   ]
  },
  {
   "cell_type": "code",
   "execution_count": null,
   "metadata": {},
   "outputs": [],
   "source": [
    "annot_data['Begin Time (s)_1000'] = annot_data['Begin Time (s)']*1000\n",
    "annot_time_stamps = []\n",
    "values = annot_data['Begin Time (s)_1000'].values\n",
    "for value in values:\n",
    "    time_stamp_num = int(value / 22.5)\n",
    "    time_stamp_index = time_stamp_num*22.5\n",
    "    annot_time_stamps.append(time_stamp_index)\n",
    "\n",
    "annot_data['time_stamp'] = annot_time_stamps\n",
    "print(annot_data.shape)"
   ]
  },
  {
   "cell_type": "code",
   "execution_count": 25,
   "metadata": {},
   "outputs": [
    {
     "data": {
      "text/plain": [
       "array(['low slug', 'radar', 'low multi', 'high slug', 'high multi', 'bbc',\n",
       "       'noise'], dtype=object)"
      ]
     },
     "execution_count": 25,
     "metadata": {},
     "output_type": "execute_result"
    }
   ],
   "source": [
    "USV_groups = data_table.replace('mid slug', 'low slug', inplace = True)\n",
    "USV_groups = data_table.replace(['bbc wide', 'bbc long', 'bbc high', 'bbc low'], 'bbc')\n",
    "USV_groups['Annotation'].unique()"
   ]
  },
  {
   "cell_type": "code",
   "execution_count": 26,
   "metadata": {},
   "outputs": [
    {
     "data": {
      "text/plain": [
       "Group  Session\n",
       "0      CPApair     75\n",
       "4      CPApair    110\n",
       "5      CPApair    367\n",
       "Name: Annotation, dtype: int64"
      ]
     },
     "execution_count": 26,
     "metadata": {},
     "output_type": "execute_result"
    }
   ],
   "source": [
    "USV_groups.groupby([\"Group\", 'Session'])['Annotation'].count()"
   ]
  },
  {
   "cell_type": "code",
   "execution_count": 39,
   "metadata": {},
   "outputs": [
    {
     "data": {
      "text/html": [
       "<div>\n",
       "<style scoped>\n",
       "    .dataframe tbody tr th:only-of-type {\n",
       "        vertical-align: middle;\n",
       "    }\n",
       "\n",
       "    .dataframe tbody tr th {\n",
       "        vertical-align: top;\n",
       "    }\n",
       "\n",
       "    .dataframe thead th {\n",
       "        text-align: right;\n",
       "    }\n",
       "</style>\n",
       "<table border=\"1\" class=\"dataframe\">\n",
       "  <thead>\n",
       "    <tr style=\"text-align: right;\">\n",
       "      <th></th>\n",
       "      <th>Begin Time (s)</th>\n",
       "      <th>End Time (s)</th>\n",
       "      <th>Low Freq (Hz)</th>\n",
       "      <th>High Freq (Hz)</th>\n",
       "      <th>Delta Time (s)</th>\n",
       "      <th>Delta Freq (Hz)</th>\n",
       "      <th>Avg Power Density (dB FS)</th>\n",
       "      <th>Annotation</th>\n",
       "      <th>Animal</th>\n",
       "      <th>Group</th>\n",
       "      <th>Pair</th>\n",
       "      <th>Session</th>\n",
       "    </tr>\n",
       "  </thead>\n",
       "  <tbody>\n",
       "    <tr>\n",
       "      <th>0</th>\n",
       "      <td>376.574455</td>\n",
       "      <td>376.583963</td>\n",
       "      <td>7191.2</td>\n",
       "      <td>9940.8</td>\n",
       "      <td>0.010</td>\n",
       "      <td>2749.6</td>\n",
       "      <td>-32.3</td>\n",
       "      <td>low slug</td>\n",
       "      <td>533</td>\n",
       "      <td>5</td>\n",
       "      <td>2</td>\n",
       "      <td>CPApair</td>\n",
       "    </tr>\n",
       "    <tr>\n",
       "      <th>1</th>\n",
       "      <td>46.306579</td>\n",
       "      <td>46.316881</td>\n",
       "      <td>12901.9</td>\n",
       "      <td>14805.4</td>\n",
       "      <td>0.010</td>\n",
       "      <td>1903.5</td>\n",
       "      <td>-41.9</td>\n",
       "      <td>low slug</td>\n",
       "      <td>533</td>\n",
       "      <td>5</td>\n",
       "      <td>2</td>\n",
       "      <td>CPApair</td>\n",
       "    </tr>\n",
       "    <tr>\n",
       "      <th>2</th>\n",
       "      <td>243.272865</td>\n",
       "      <td>243.279204</td>\n",
       "      <td>12901.9</td>\n",
       "      <td>15016.9</td>\n",
       "      <td>0.006</td>\n",
       "      <td>2115.0</td>\n",
       "      <td>-41.2</td>\n",
       "      <td>low slug</td>\n",
       "      <td>533</td>\n",
       "      <td>5</td>\n",
       "      <td>2</td>\n",
       "      <td>CPApair</td>\n",
       "    </tr>\n",
       "    <tr>\n",
       "      <th>3</th>\n",
       "      <td>149.708324</td>\n",
       "      <td>149.714663</td>\n",
       "      <td>14170.9</td>\n",
       "      <td>16074.5</td>\n",
       "      <td>0.006</td>\n",
       "      <td>1903.6</td>\n",
       "      <td>-39.8</td>\n",
       "      <td>low slug</td>\n",
       "      <td>533</td>\n",
       "      <td>5</td>\n",
       "      <td>2</td>\n",
       "      <td>CPApair</td>\n",
       "    </tr>\n",
       "    <tr>\n",
       "      <th>4</th>\n",
       "      <td>243.176192</td>\n",
       "      <td>243.186493</td>\n",
       "      <td>13324.9</td>\n",
       "      <td>16074.5</td>\n",
       "      <td>0.010</td>\n",
       "      <td>2749.6</td>\n",
       "      <td>-41.5</td>\n",
       "      <td>low slug</td>\n",
       "      <td>533</td>\n",
       "      <td>5</td>\n",
       "      <td>2</td>\n",
       "      <td>CPApair</td>\n",
       "    </tr>\n",
       "  </tbody>\n",
       "</table>\n",
       "</div>"
      ],
      "text/plain": [
       "   Begin Time (s)  End Time (s)  Low Freq (Hz)  High Freq (Hz)  Delta Time (s)  Delta Freq (Hz)  Avg Power Density (dB FS) Annotation Animal  Group  Pair  Session\n",
       "0      376.574455    376.583963         7191.2          9940.8           0.010           2749.6                      -32.3   low slug    533      5     2  CPApair\n",
       "1       46.306579     46.316881        12901.9         14805.4           0.010           1903.5                      -41.9   low slug    533      5     2  CPApair\n",
       "2      243.272865    243.279204        12901.9         15016.9           0.006           2115.0                      -41.2   low slug    533      5     2  CPApair\n",
       "3      149.708324    149.714663        14170.9         16074.5           0.006           1903.6                      -39.8   low slug    533      5     2  CPApair\n",
       "4      243.176192    243.186493        13324.9         16074.5           0.010           2749.6                      -41.5   low slug    533      5     2  CPApair"
      ]
     },
     "execution_count": 39,
     "metadata": {},
     "output_type": "execute_result"
    }
   ],
   "source": [
    "USV_groups.head()"
   ]
  },
  {
   "cell_type": "markdown",
   "metadata": {},
   "source": [
    "Create table with only animal and 'Annotation' data for subsequent analysis"
   ]
  },
  {
   "cell_type": "code",
   "execution_count": 27,
   "metadata": {},
   "outputs": [
    {
     "name": "stdout",
     "output_type": "stream",
     "text": [
      "(552, 5)\n"
     ]
    },
    {
     "data": {
      "text/html": [
       "<div>\n",
       "<style scoped>\n",
       "    .dataframe tbody tr th:only-of-type {\n",
       "        vertical-align: middle;\n",
       "    }\n",
       "\n",
       "    .dataframe tbody tr th {\n",
       "        vertical-align: top;\n",
       "    }\n",
       "\n",
       "    .dataframe thead th {\n",
       "        text-align: right;\n",
       "    }\n",
       "</style>\n",
       "<table border=\"1\" class=\"dataframe\">\n",
       "  <thead>\n",
       "    <tr style=\"text-align: right;\">\n",
       "      <th></th>\n",
       "      <th>Animal</th>\n",
       "      <th>Pair</th>\n",
       "      <th>Session</th>\n",
       "      <th>Group</th>\n",
       "      <th>Annotation</th>\n",
       "    </tr>\n",
       "  </thead>\n",
       "  <tbody>\n",
       "    <tr>\n",
       "      <th>0</th>\n",
       "      <td>533</td>\n",
       "      <td>2</td>\n",
       "      <td>CPApair</td>\n",
       "      <td>5</td>\n",
       "      <td>low slug</td>\n",
       "    </tr>\n",
       "    <tr>\n",
       "      <th>1</th>\n",
       "      <td>533</td>\n",
       "      <td>2</td>\n",
       "      <td>CPApair</td>\n",
       "      <td>5</td>\n",
       "      <td>low slug</td>\n",
       "    </tr>\n",
       "    <tr>\n",
       "      <th>2</th>\n",
       "      <td>533</td>\n",
       "      <td>2</td>\n",
       "      <td>CPApair</td>\n",
       "      <td>5</td>\n",
       "      <td>low slug</td>\n",
       "    </tr>\n",
       "    <tr>\n",
       "      <th>3</th>\n",
       "      <td>533</td>\n",
       "      <td>2</td>\n",
       "      <td>CPApair</td>\n",
       "      <td>5</td>\n",
       "      <td>low slug</td>\n",
       "    </tr>\n",
       "    <tr>\n",
       "      <th>4</th>\n",
       "      <td>533</td>\n",
       "      <td>2</td>\n",
       "      <td>CPApair</td>\n",
       "      <td>5</td>\n",
       "      <td>low slug</td>\n",
       "    </tr>\n",
       "  </tbody>\n",
       "</table>\n",
       "</div>"
      ],
      "text/plain": [
       "  Animal  Pair  Session  Group Annotation\n",
       "0    533     2  CPApair      5   low slug\n",
       "1    533     2  CPApair      5   low slug\n",
       "2    533     2  CPApair      5   low slug\n",
       "3    533     2  CPApair      5   low slug\n",
       "4    533     2  CPApair      5   low slug"
      ]
     },
     "execution_count": 27,
     "metadata": {},
     "output_type": "execute_result"
    }
   ],
   "source": [
    "annot = USV_groups[['Animal', 'Pair', 'Session', 'Group', 'Annotation']]\n",
    "print(annot.shape)\n",
    "annot = annot[(annot['Session'] == 'cagepair') | (annot['Session'] == 'CPApair')]\n",
    "annot.head()"
   ]
  },
  {
   "cell_type": "markdown",
   "metadata": {},
   "source": [
    "Use groupby and value_counts to compute each annotation parameters number of occurances for each animal/session, save to new dataframe"
   ]
  },
  {
   "cell_type": "code",
   "execution_count": 28,
   "metadata": {},
   "outputs": [
    {
     "data": {
      "text/html": [
       "<div>\n",
       "<style scoped>\n",
       "    .dataframe tbody tr th:only-of-type {\n",
       "        vertical-align: middle;\n",
       "    }\n",
       "\n",
       "    .dataframe tbody tr th {\n",
       "        vertical-align: top;\n",
       "    }\n",
       "\n",
       "    .dataframe thead th {\n",
       "        text-align: right;\n",
       "    }\n",
       "</style>\n",
       "<table border=\"1\" class=\"dataframe\">\n",
       "  <thead>\n",
       "    <tr style=\"text-align: right;\">\n",
       "      <th></th>\n",
       "      <th></th>\n",
       "      <th></th>\n",
       "      <th></th>\n",
       "      <th></th>\n",
       "      <th>Annotation</th>\n",
       "    </tr>\n",
       "    <tr>\n",
       "      <th>Animal</th>\n",
       "      <th>Pair</th>\n",
       "      <th>Session</th>\n",
       "      <th>Group</th>\n",
       "      <th>Annotation</th>\n",
       "      <th></th>\n",
       "    </tr>\n",
       "  </thead>\n",
       "  <tbody>\n",
       "    <tr>\n",
       "      <th rowspan=\"5\" valign=\"top\">533</th>\n",
       "      <th rowspan=\"5\" valign=\"top\">2</th>\n",
       "      <th rowspan=\"5\" valign=\"top\">CPApair</th>\n",
       "      <th rowspan=\"5\" valign=\"top\">5</th>\n",
       "      <th>radar</th>\n",
       "      <td>140</td>\n",
       "    </tr>\n",
       "    <tr>\n",
       "      <th>low slug</th>\n",
       "      <td>8</td>\n",
       "    </tr>\n",
       "    <tr>\n",
       "      <th>low multi</th>\n",
       "      <td>2</td>\n",
       "    </tr>\n",
       "    <tr>\n",
       "      <th>high multi</th>\n",
       "      <td>1</td>\n",
       "    </tr>\n",
       "    <tr>\n",
       "      <th>high slug</th>\n",
       "      <td>1</td>\n",
       "    </tr>\n",
       "  </tbody>\n",
       "</table>\n",
       "</div>"
      ],
      "text/plain": [
       "                                      Annotation\n",
       "Animal Pair Session Group Annotation            \n",
       "533    2    CPApair 5     radar              140\n",
       "                          low slug             8\n",
       "                          low multi            2\n",
       "                          high multi           1\n",
       "                          high slug            1"
      ]
     },
     "execution_count": 28,
     "metadata": {},
     "output_type": "execute_result"
    }
   ],
   "source": [
    "session_count = pd.DataFrame(data = annot.groupby(['Animal', 'Pair', 'Session', 'Group'])['Annotation'].value_counts())\n",
    "session_count.head()"
   ]
  },
  {
   "cell_type": "code",
   "execution_count": 29,
   "metadata": {},
   "outputs": [
    {
     "name": "stdout",
     "output_type": "stream",
     "text": [
      "(38, 5)\n"
     ]
    },
    {
     "data": {
      "text/html": [
       "<div>\n",
       "<style scoped>\n",
       "    .dataframe tbody tr th:only-of-type {\n",
       "        vertical-align: middle;\n",
       "    }\n",
       "\n",
       "    .dataframe tbody tr th {\n",
       "        vertical-align: top;\n",
       "    }\n",
       "\n",
       "    .dataframe thead th {\n",
       "        text-align: right;\n",
       "    }\n",
       "</style>\n",
       "<table border=\"1\" class=\"dataframe\">\n",
       "  <thead>\n",
       "    <tr style=\"text-align: right;\">\n",
       "      <th></th>\n",
       "      <th>Animal</th>\n",
       "      <th>Session</th>\n",
       "      <th>Group</th>\n",
       "      <th>Annotation</th>\n",
       "      <th>Annot_count</th>\n",
       "    </tr>\n",
       "  </thead>\n",
       "  <tbody>\n",
       "    <tr>\n",
       "      <th>0</th>\n",
       "      <td>533</td>\n",
       "      <td>CPApair</td>\n",
       "      <td>5</td>\n",
       "      <td>radar</td>\n",
       "      <td>140.0</td>\n",
       "    </tr>\n",
       "    <tr>\n",
       "      <th>1</th>\n",
       "      <td>533</td>\n",
       "      <td>CPApair</td>\n",
       "      <td>5</td>\n",
       "      <td>low slug</td>\n",
       "      <td>8.0</td>\n",
       "    </tr>\n",
       "    <tr>\n",
       "      <th>2</th>\n",
       "      <td>533</td>\n",
       "      <td>CPApair</td>\n",
       "      <td>5</td>\n",
       "      <td>low multi</td>\n",
       "      <td>2.0</td>\n",
       "    </tr>\n",
       "    <tr>\n",
       "      <th>3</th>\n",
       "      <td>533</td>\n",
       "      <td>CPApair</td>\n",
       "      <td>5</td>\n",
       "      <td>high multi</td>\n",
       "      <td>1.0</td>\n",
       "    </tr>\n",
       "    <tr>\n",
       "      <th>4</th>\n",
       "      <td>533</td>\n",
       "      <td>CPApair</td>\n",
       "      <td>5</td>\n",
       "      <td>high slug</td>\n",
       "      <td>1.0</td>\n",
       "    </tr>\n",
       "  </tbody>\n",
       "</table>\n",
       "</div>"
      ],
      "text/plain": [
       "  Animal  Session  Group  Annotation  Annot_count\n",
       "0    533  CPApair      5       radar        140.0\n",
       "1    533  CPApair      5    low slug          8.0\n",
       "2    533  CPApair      5   low multi          2.0\n",
       "3    533  CPApair      5  high multi          1.0\n",
       "4    533  CPApair      5   high slug          1.0"
      ]
     },
     "execution_count": 29,
     "metadata": {},
     "output_type": "execute_result"
    }
   ],
   "source": [
    "session_count.rename(columns={'Annotation': 'Annot_count'}, inplace=True)\n",
    "session_count.reset_index(inplace = True)\n",
    "session_count.drop(['Pair'], axis = 1, inplace = True)\n",
    "session_count['Annot_count'] = session_count['Annot_count'].astype('float64')\n",
    "print(session_count.shape)\n",
    "session_count.head()"
   ]
  },
  {
   "cell_type": "code",
   "execution_count": 30,
   "metadata": {},
   "outputs": [
    {
     "name": "stdout",
     "output_type": "stream",
     "text": [
      "<class 'pandas.core.frame.DataFrame'>\n",
      "RangeIndex: 38 entries, 0 to 37\n",
      "Data columns (total 5 columns):\n",
      "Animal         38 non-null object\n",
      "Session        38 non-null object\n",
      "Group          38 non-null int64\n",
      "Annotation     38 non-null object\n",
      "Annot_count    38 non-null float64\n",
      "dtypes: float64(1), int64(1), object(3)\n",
      "memory usage: 1.6+ KB\n"
     ]
    }
   ],
   "source": [
    "session_count.info()"
   ]
  },
  {
   "cell_type": "markdown",
   "metadata": {},
   "source": [
    "For subsequent categorical data analysis we need a 'complete' dataset for each animal across all 14 annot_names. For each animal we need to add a row with 'Annot_count' = 0 for each annot_name not already contained in the dataset. "
   ]
  },
  {
   "cell_type": "code",
   "execution_count": 33,
   "metadata": {},
   "outputs": [
    {
     "name": "stdout",
     "output_type": "stream",
     "text": [
      "7\n",
      "9\n"
     ]
    }
   ],
   "source": [
    "annot_names = session_count['Annotation'].unique().tolist()\n",
    "print(len(annot_names))\n",
    "animal_numbers = session_count['Animal'].unique().tolist()\n",
    "print(len(animal_numbers))"
   ]
  },
  {
   "cell_type": "code",
   "execution_count": 34,
   "metadata": {},
   "outputs": [],
   "source": [
    "def add_annot_rows(data, animal, annot_names):\n",
    "    \n",
    "    sessions = data[data['Animal'] == animal]\n",
    "    \n",
    "    #base = sessions[sessions['Session'] == 'base']\n",
    "    #base['Annot_count'] = base['Annot_count']*2\n",
    "    \n",
    "    CPA = sessions[sessions['Session'] == 'CPApair']\n",
    "    neutral = sessions[sessions['Session'] == 'cagepair']\n",
    "    col_names = sessions.columns.values\n",
    "    new_row = pd.DataFrame(columns = data.columns.values)\n",
    "    #fill in base df\n",
    "    #for name in annot_names:\n",
    "     #   if base[base['Annotation'] == name]['Annot_count'].values >= 0:\n",
    "      #      continue\n",
    "       # else:\n",
    "        #    new_row = pd.DataFrame(data = [animal, 'base', sessions['Group'].values[0], name, 0]).T\n",
    "         #   new_row.columns = col_names\n",
    "          #  base = pd.concat([base, new_row], axis = 0, ignore_index=True)\n",
    "    \n",
    "    #determine if animal is assigned CPA or neutral and fill in df\n",
    "    for name in annot_names:\n",
    "        if len(CPA) == 0:\n",
    "            #fill in neutral df\n",
    "            if neutral[neutral['Annotation'] == name]['Annot_count'].values >= 0:\n",
    "                continue\n",
    "            else:\n",
    "                new_row = pd.DataFrame(data = [animal, neutral['Session'].values[0], neutral['Group'].values[0], name, 0]).T\n",
    "                new_row.columns = col_names\n",
    "                neutral = pd.concat([neutral, new_row], axis = 0, ignore_index=True)\n",
    "        else:\n",
    "            #fill in CPA df\n",
    "            if CPA[CPA['Annotation'] == name]['Annot_count'].values >= 0:\n",
    "                continue\n",
    "            else:\n",
    "                new_row = pd.DataFrame(data = [animal, CPA['Session'].values[0], CPA['Group'].values[0], name, 0]).T\n",
    "                new_row.columns = col_names\n",
    "                CPA = pd.concat([CPA, new_row], axis = 0, ignore_index=True)\n",
    "                \n",
    "    return neutral, CPA"
   ]
  },
  {
   "cell_type": "code",
   "execution_count": 35,
   "metadata": {},
   "outputs": [
    {
     "name": "stdout",
     "output_type": "stream",
     "text": [
      "(63, 5)\n"
     ]
    },
    {
     "name": "stderr",
     "output_type": "stream",
     "text": [
      "C:\\ProgramData\\Anaconda3\\lib\\site-packages\\ipykernel_launcher.py:33: DeprecationWarning: The truth value of an empty array is ambiguous. Returning False, but in future this will result in an error. Use `array.size > 0` to check that an array is not empty.\n"
     ]
    },
    {
     "data": {
      "text/html": [
       "<div>\n",
       "<style scoped>\n",
       "    .dataframe tbody tr th:only-of-type {\n",
       "        vertical-align: middle;\n",
       "    }\n",
       "\n",
       "    .dataframe tbody tr th {\n",
       "        vertical-align: top;\n",
       "    }\n",
       "\n",
       "    .dataframe thead th {\n",
       "        text-align: right;\n",
       "    }\n",
       "</style>\n",
       "<table border=\"1\" class=\"dataframe\">\n",
       "  <thead>\n",
       "    <tr style=\"text-align: right;\">\n",
       "      <th></th>\n",
       "      <th>Animal</th>\n",
       "      <th>Session</th>\n",
       "      <th>Group</th>\n",
       "      <th>Annotation</th>\n",
       "      <th>Annot_count</th>\n",
       "    </tr>\n",
       "  </thead>\n",
       "  <tbody>\n",
       "    <tr>\n",
       "      <th>0</th>\n",
       "      <td>533</td>\n",
       "      <td>CPApair</td>\n",
       "      <td>5</td>\n",
       "      <td>radar</td>\n",
       "      <td>140</td>\n",
       "    </tr>\n",
       "    <tr>\n",
       "      <th>1</th>\n",
       "      <td>533</td>\n",
       "      <td>CPApair</td>\n",
       "      <td>5</td>\n",
       "      <td>low slug</td>\n",
       "      <td>8</td>\n",
       "    </tr>\n",
       "    <tr>\n",
       "      <th>2</th>\n",
       "      <td>533</td>\n",
       "      <td>CPApair</td>\n",
       "      <td>5</td>\n",
       "      <td>low multi</td>\n",
       "      <td>2</td>\n",
       "    </tr>\n",
       "    <tr>\n",
       "      <th>3</th>\n",
       "      <td>533</td>\n",
       "      <td>CPApair</td>\n",
       "      <td>5</td>\n",
       "      <td>high multi</td>\n",
       "      <td>1</td>\n",
       "    </tr>\n",
       "    <tr>\n",
       "      <th>4</th>\n",
       "      <td>533</td>\n",
       "      <td>CPApair</td>\n",
       "      <td>5</td>\n",
       "      <td>high slug</td>\n",
       "      <td>1</td>\n",
       "    </tr>\n",
       "  </tbody>\n",
       "</table>\n",
       "</div>"
      ],
      "text/plain": [
       "  Animal  Session Group  Annotation Annot_count\n",
       "0    533  CPApair     5       radar         140\n",
       "1    533  CPApair     5    low slug           8\n",
       "2    533  CPApair     5   low multi           2\n",
       "3    533  CPApair     5  high multi           1\n",
       "4    533  CPApair     5   high slug           1"
      ]
     },
     "execution_count": 35,
     "metadata": {},
     "output_type": "execute_result"
    }
   ],
   "source": [
    "USV_complete = pd.DataFrame(data = None, columns = session_count.columns.values)\n",
    "for animal in animal_numbers:\n",
    "    neutral, CPA = add_annot_rows(session_count, animal, annot_names)\n",
    "    USV_int = pd.concat([neutral, CPA])\n",
    "    USV_complete = pd.concat([USV_complete, USV_int], join='outer')\n",
    "    \n",
    "print(USV_complete.shape)\n",
    "USV_complete.head()"
   ]
  },
  {
   "cell_type": "code",
   "execution_count": 36,
   "metadata": {},
   "outputs": [
    {
     "name": "stderr",
     "output_type": "stream",
     "text": [
      "C:\\ProgramData\\Anaconda3\\lib\\site-packages\\scipy\\stats\\stats.py:1713: FutureWarning: Using a non-tuple sequence for multidimensional indexing is deprecated; use `arr[tuple(seq)]` instead of `arr[seq]`. In the future this will be interpreted as an array index, `arr[np.array(seq)]`, which will result either in an error or a different result.\n",
      "  return np.add.reduce(sorted[indexer] * weights, axis=axis) / sumval\n"
     ]
    },
    {
     "data": {
      "text/plain": [
       "<matplotlib.axes._subplots.AxesSubplot at 0x209edcba2e8>"
      ]
     },
     "execution_count": 36,
     "metadata": {},
     "output_type": "execute_result"
    },
    {
     "data": {
      "image/png": "[encoded data removed]",
      "text/plain": [
       "<Figure size 720x360 with 1 Axes>"
      ]
     },
     "metadata": {
      "needs_background": "light"
     },
     "output_type": "display_data"
    }
   ],
   "source": [
    "plt.figure(figsize=(10,5))\n",
    "sns.barplot(x = 'Session', y = 'Annot_count', hue = 'Group', data = USV_complete, alpha=0.9)"
   ]
  },
  {
   "cell_type": "code",
   "execution_count": 37,
   "metadata": {},
   "outputs": [
    {
     "name": "stderr",
     "output_type": "stream",
     "text": [
      "C:\\ProgramData\\Anaconda3\\lib\\site-packages\\seaborn\\categorical.py:3666: UserWarning: The `factorplot` function has been renamed to `catplot`. The original name will be removed in a future release. Please update your code. Note that the default `kind` in `factorplot` (`'point'`) has changed `'strip'` in `catplot`.\n",
      "  warnings.warn(msg)\n"
     ]
    },
    {
     "data": {
      "text/plain": [
       "<seaborn.axisgrid.FacetGrid at 0x209ed846ba8>"
      ]
     },
     "execution_count": 37,
     "metadata": {},
     "output_type": "execute_result"
    },
    {
     "data": {
      "image/png": "[encoded data removed]",
      "text/plain": [
       "<Figure size 2562.38x360 with 7 Axes>"
      ]
     },
     "metadata": {
      "needs_background": "light"
     },
     "output_type": "display_data"
    }
   ],
   "source": [
    "sns.factorplot(x = 'Session', y = 'Annot_count', hue = 'Group', col = 'Annotation', kind = 'bar', sharey = False, data = USV_complete, alpha=0.9)"
   ]
  },
  {
   "cell_type": "markdown",
   "metadata": {},
   "source": [
    "Compute a response index ((resp_pair - resp_base) / (resp_pair + resp_base)) for each animal/USV param"
   ]
  },
  {
   "cell_type": "code",
   "execution_count": null,
   "metadata": {
    "collapsed": true
   },
   "outputs": [],
   "source": [
    "def ratio_calc(base, neutral, CPA, animal, annot_names):\n",
    "    ratio_dic = {}\n",
    "    for name in annot_names:\n",
    "        ratio = []\n",
    "        if len(CPA) == 0:\n",
    "            try:\n",
    "                ratio = float((neutral[neutral['Annotation'] == name]['Annot_count'].values - base[base['Annotation'] == name]['Annot_count'].values) / (neutral[neutral['Annotation'] == name]['Annot_count'].values + base[base['Annotation'] == name]['Annot_count'].values))\n",
    "                ratio_dic[name] = ratio\n",
    "            except ZeroDivisionError: \n",
    "                ratio = 0\n",
    "                ratio_dic[name] = ratio\n",
    "        else:\n",
    "            try:\n",
    "                ratio = float((CPA[CPA['Annotation'] == name]['Annot_count'].values - base[base['Annotation'] == name]['Annot_count'].values) / (CPA[CPA['Annotation'] == name]['Annot_count'].values + base[base['Annotation'] == name]['Annot_count'].values))\n",
    "                ratio_dic[name] = ratio\n",
    "            except ZeroDivisionError:\n",
    "                ratio = 0\n",
    "                ratio_dic[name] = ratio\n",
    "    ratio_dic['Animal'] = int(animal)\n",
    "    \n",
    "    return ratio_dic"
   ]
  },
  {
   "cell_type": "code",
   "execution_count": null,
   "metadata": {},
   "outputs": [],
   "source": [
    "ratio_df = pd.DataFrame(data = None, columns = annot_names)\n",
    "for animal in animal_numbers:\n",
    "    base, neutral, CPA = add_annot_rows(session_count, animal, annot_names)\n",
    "    ratio_dic = ratio_calc(base, neutral, CPA, animal, annot_names)\n",
    "    ratio_df = ratio_df.append(ratio_dic, ignore_index=True)\n",
    "    \n",
    "ratio_df.head()"
   ]
  },
  {
   "cell_type": "code",
   "execution_count": null,
   "metadata": {},
   "outputs": [],
   "source": [
    "ratio_df = pd.merge(df_mice, ratio_df, on='Animal')\n",
    "ratio_df"
   ]
  },
  {
   "cell_type": "code",
   "execution_count": null,
   "metadata": {},
   "outputs": [],
   "source": [
    "ratio_df.groupby([\"Group\", 'Pair']).mean()"
   ]
  },
  {
   "cell_type": "code",
   "execution_count": null,
   "metadata": {},
   "outputs": [],
   "source": [
    "plt.figure(figsize=(25,20))\n",
    "sns.barplot(x = 'Pair', y = 'radar', hue = 'Group', data = ratio_df, alpha=0.9)"
   ]
  },
  {
   "cell_type": "code",
   "execution_count": 38,
   "metadata": {},
   "outputs": [],
   "source": [
    "writer = pd.ExcelWriter('USV_counts.xlsx', engine='xlsxwriter')\n",
    "USV_complete.to_excel(writer, sheet_name='Sheet1')\n",
    "writer.save()"
   ]
  },
  {
   "cell_type": "code",
   "execution_count": 40,
   "metadata": {},
   "outputs": [],
   "source": [
    "writer = pd.ExcelWriter('USV_times_annots.xlsx', engine='xlsxwriter')\n",
    "USV_groups.to_excel(writer, sheet_name='Sheet1')\n",
    "writer.save()"
   ]
  },
  {
   "cell_type": "code",
   "execution_count": null,
   "metadata": {},
   "outputs": [],
   "source": []
  }
 ],
 "metadata": {
  "kernelspec": {
   "display_name": "Python 3",
   "language": "python",
   "name": "python3"
  },
  "language_info": {
   "codemirror_mode": {
    "name": "ipython",
    "version": 3
   },
   "file_extension": ".py",
   "mimetype": "text/x-python",
   "name": "python",
   "nbconvert_exporter": "python",
   "pygments_lexer": "ipython3",
   "version": "3.6.7"
  }
 },
 "nbformat": 4,
 "nbformat_minor": 2
}
