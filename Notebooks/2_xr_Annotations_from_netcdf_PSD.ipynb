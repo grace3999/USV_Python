{
  "nbformat": 4,
  "nbformat_minor": 0,
  "metadata": {
    "colab": {
      "name": "2_xr_Annotations_from_netcdf_PSD.ipynb",
      "version": "0.3.2",
      "provenance": [],
      "collapsed_sections": [],
      "include_colab_link": true
    },
    "kernelspec": {
      "display_name": "Python 3",
      "language": "python",
      "name": "python3"
    }
  },
  "cells": [
    {
      "cell_type": "markdown",
      "metadata": {
        "id": "view-in-github",
        "colab_type": "text"
      },
      "source": [
        "<a href=\"https://colab.research.google.com/github/grace3999/USV_Python/blob/colab/Notebooks/2_xr_Annotations_from_netcdf_PSD.ipynb\" target=\"_parent\"><img src=\"https://colab.research.google.com/assets/colab-badge.svg\" alt=\"Open In Colab\"/></a>"
      ]
    },
    {
      "cell_type": "code",
      "metadata": {
        "id": "deqrCXk9rI0V",
        "colab_type": "code",
        "outputId": "eecff1b1-29eb-4ab7-9694-fb0337917c31",
        "colab": {
          "base_uri": "https://localhost:8080/",
          "height": 33
        }
      },
      "source": [
        "#mount google drive containings required files: 1) csv of annotation features, 2) netcdf files\n",
        "from google.colab import drive\n",
        "drive.mount('/content/gdrive')"
      ],
      "execution_count": 1,
      "outputs": [
        {
          "output_type": "stream",
          "text": [
            "Drive already mounted at /content/gdrive; to attempt to forcibly remount, call drive.mount(\"/content/gdrive\", force_remount=True).\n"
          ],
          "name": "stdout"
        }
      ]
    },
    {
      "cell_type": "code",
      "metadata": {
        "id": "FQy4DI2h2Xkx",
        "colab_type": "code",
        "outputId": "7d1e9a3f-a85c-44a2-ce6a-39b5b37a7050",
        "colab": {
          "base_uri": "https://localhost:8080/",
          "height": 66
        }
      },
      "source": [
        "!pip install netcdf4"
      ],
      "execution_count": 2,
      "outputs": [
        {
          "output_type": "stream",
          "text": [
            "Requirement already satisfied: netcdf4 in /usr/local/lib/python3.6/dist-packages (1.5.1.2)\n",
            "Requirement already satisfied: numpy>=1.7 in /usr/local/lib/python3.6/dist-packages (from netcdf4) (1.16.4)\n",
            "Requirement already satisfied: cftime in /usr/local/lib/python3.6/dist-packages (from netcdf4) (1.0.3.4)\n"
          ],
          "name": "stdout"
        }
      ]
    },
    {
      "cell_type": "code",
      "metadata": {
        "id": "yt2j-aLYrGyp",
        "colab_type": "code",
        "colab": {}
      },
      "source": [
        "import numpy as np\n",
        "import pandas as pd\n",
        "import os\n",
        "import re\n",
        "from scipy import stats\n",
        "import xarray as xr\n",
        "\n",
        "#visualizing results\n",
        "%matplotlib inline\n",
        "import matplotlib.pyplot as plt\n",
        "import seaborn as sns\n",
        "\n",
        "pd.set_option('display.max_rows', 500)\n",
        "pd.set_option('display.max_columns', 500)\n",
        "pd.set_option('display.width', 1000)\n",
        "\n",
        "import warnings; warnings.simplefilter('ignore')\n",
        "np.set_printoptions(suppress=True)"
      ],
      "execution_count": 0,
      "outputs": []
    },
    {
      "cell_type": "code",
      "metadata": {
        "id": "AWxUzYD-IgJx",
        "colab_type": "code",
        "colab": {}
      },
      "source": [
        "#may need to be updated based on file naming scheme\n",
        "def get_file_info(path, order):\n",
        "    \"\"\"takes in a file path for annotation selections table and finds the animal_number and session and saves each accordingly. \n",
        "    each file should be named with animal number and exp (e.g. 100_CPA.Table.1.selections)\"\"\"\n",
        "    \n",
        "    if order == 'animal':\n",
        "      animal_number, session = re.split('_|-', path.split('/')[-1].split('.')[0])[0:2]\n",
        "    else:\n",
        "      session, animal_number = re.split('_|-', path.split('/')[-1].split('.')[0])[0:2] \n",
        "    \n",
        "    print(animal_number, session)\n",
        "    \n",
        "    return animal_number, session"
      ],
      "execution_count": 0,
      "outputs": []
    },
    {
      "cell_type": "code",
      "metadata": {
        "id": "ci9n5RHOrGzO",
        "colab_type": "code",
        "colab": {}
      },
      "source": [
        "#need to be updated with animal naming scheme (e.g. int(animal_number) vs animal_number)\n",
        "def create_annot_dataset(path, animal_number, session, annot_data, size_random):\n",
        "    \"\"\"takes in path of netcdf file (created using notebook 1) and corresponding annotations (created using notebook 0)\n",
        "    and creates a new data set of only slices correspondingn to annotations (and random noise if set to True)\"\"\"\n",
        "    \n",
        "    #open xarray Dataset\n",
        "    data = xr.open_dataset(path)\n",
        "    print(data['slices'].shape)\n",
        "    \n",
        "    #get time_stamps of animal's annotations, select slices and save\n",
        "    yes = annot_data[(annot_data['animal_number'] == int(animal_number)) & (annot_data['session'] ==  session)]['time_stamp'].sort_values().values\n",
        "    data_yes = data.sel(slices = yes)\n",
        "    \n",
        "    #get slice indexs (e.g. time_stamps) that are not annotations, select slices and save\n",
        "    slice_indexes = data['slices'].values\n",
        "    no = np.setdiff1d(slice_indexes,yes)\n",
        "    print(yes.shape[0] + no.shape[0])\n",
        "    no_short = np.random.choice(no, size_random, replace=False)\n",
        "    data_no = data.sel(slices = no_short)\n",
        "    \n",
        "    return data_yes, data_no"
      ],
      "execution_count": 0,
      "outputs": []
    },
    {
      "cell_type": "code",
      "metadata": {
        "id": "bW_-JbWsf2XN",
        "colab_type": "code",
        "colab": {}
      },
      "source": [
        "def compute_psd(Dataset):\n",
        "  \"\"\"takes in netcdf dataset and computes psd, saves as df\"\"\"\n",
        "  \n",
        "  psd_df = pd.DataFrame(data = Dataset.groupby('slices').sum(dim='times')['__xarray_dataarray_variable__'].values, index = Dataset['slices'].values, columns = Dataset['freq'].values/1000)\n",
        "  \n",
        "  return psd_df"
      ],
      "execution_count": 0,
      "outputs": []
    },
    {
      "cell_type": "code",
      "metadata": {
        "id": "bTS2dhKah1rH",
        "colab_type": "code",
        "colab": {}
      },
      "source": [
        "def create_annotation_slice_psds(path, order, annot_data, size_random = 15):\n",
        "    \"\"\"takes in path of netcdf file (created using notebook 1), corresponding annotations (created using notebook 0),\n",
        "    and size desired for random slicecs from each file.\n",
        "    uses create_annot_dataset and compute_psd functions to create a new data set of computed features\n",
        "    for only slices correspondingn to annotations and random noise\"\"\"\n",
        "\n",
        "    animal_number, session = get_file_info(path, order)\n",
        "    print(animal_number, session)\n",
        "    \n",
        "    #create datasets of slices of known annotations and a random selection of noise\n",
        "    data_yes, data_no = create_annot_dataset(path, animal_number, session, annot_data, size_random)\n",
        "    \n",
        "    #compute psd\n",
        "    yes_psd = compute_psd(data_yes)\n",
        "    no_psd = compute_psd(data_no)\n",
        "\n",
        "    #add psd to exisiting dataframe of known annotations\n",
        "    annot_yes_psd = annot_data[(annot_data['animal_number'] ==  int(animal_number)) & (annot_data['session'] ==  session)].sort_values(by=['time_stamp'])\n",
        "    annot_yes_psd = pd.merge(annot_yes_psd, yes_psd, left_on=annot_yes_psd['time_stamp'], right_on=yes_psd.index.values)\n",
        "    \n",
        "    #create and fill dataframe for randomly selected noise slices\n",
        "    annot_no_psd = pd.DataFrame(columns = ['animal_number', 'exp', 'session', 'time_stamp', 'Annotation'], index = np.arange(0,size_random))\n",
        "    annot_no_psd['animal_number'] = animal_number\n",
        "    annot_no_psd['exp'] = annot_yes_psd['exp'].unique()[0]\n",
        "    annot_no_psd['session'] = session\n",
        "    annot_no_psd['Annotation'] = 'rand_noise'\n",
        "    annot_no_psd['time_stamp'] = data_no['slices'].values\n",
        "    annot_no_psd = pd.merge(annot_no_psd, no_psd, left_on=annot_no_psd['time_stamp'], right_on=no_psd.index.values)\n",
        "    \n",
        "    return annot_yes_psd, annot_no_psd "
      ],
      "execution_count": 0,
      "outputs": []
    },
    {
      "cell_type": "markdown",
      "metadata": {
        "id": "dlRo_PFFrGzp",
        "colab_type": "text"
      },
      "source": [
        "Create data frame of annotation info"
      ]
    },
    {
      "cell_type": "code",
      "metadata": {
        "id": "BWxUEmy_rGzr",
        "colab_type": "code",
        "colab": {}
      },
      "source": [
        "annot_path_cFos_CPA = '/content/gdrive/Shared drives/USV_eScience_Incubator/Data/annotation_data_frames/annot_df_CPApost_cFos_CPA.csv'\n",
        "annot_path_cFos_neutral = '/content/gdrive/Shared drives/USV_eScience_Incubator/Data/annotation_data_frames/annot_df_neutral_cFos_neutral.csv'\n",
        "\n",
        "annot_path_PETr1_CPA = '/content/gdrive/Shared drives/USV_eScience_Incubator/Data/annotation_data_frames/annot_df_CPApost_PETr1_CPA.csv'\n",
        "\n",
        "annot_path_round2_CPA = '/content/gdrive/Shared drives/USV_eScience_Incubator/Data/annotation_data_frames/annot_df_CPApost_round2_CPA.csv'\n",
        "annot_path_round2_neutral = '/content/gdrive/Shared drives/USV_eScience_Incubator/Data/annotation_data_frames/annot_df_neutral_round2_neutral.csv'\n",
        "\n",
        "annot_paths = [annot_path_cFos_CPA, annot_path_cFos_neutral, annot_path_PETr1_CPA, annot_path_round2_CPA, annot_path_round2_neutral]"
      ],
      "execution_count": 0,
      "outputs": []
    },
    {
      "cell_type": "code",
      "metadata": {
        "id": "Ks2ASEkirGzx",
        "colab_type": "code",
        "outputId": "d824ee03-338e-4279-f57c-24e64522aaec",
        "colab": {
          "base_uri": "https://localhost:8080/",
          "height": 764
        }
      },
      "source": [
        "annot_data = pd.DataFrame()\n",
        "\n",
        "for path in annot_paths:\n",
        "    annot = pd.read_csv(path)\n",
        "    annot = pd.DataFrame(data = annot)\n",
        "    if 'radar' in annot['Annotation'].values:\n",
        "      annot = annot[annot['Annotation'] != 'radar']\n",
        "    if True in pd.isna(annot['Annotation']).values:\n",
        "      annot['Annotation'] = ['BBC'] * annot['Annotation'].shape[0]\n",
        "    \n",
        "    print(annot.shape)\n",
        "    print(annot.Annotation.value_counts())\n",
        "    \n",
        "    annot_data = annot_data.append(annot)\n",
        "\n",
        "print(annot_data.shape)\n",
        "annot_data.head()"
      ],
      "execution_count": 9,
      "outputs": [
        {
          "output_type": "stream",
          "text": [
            "(90, 7)\n",
            "low           48\n",
            "low multi     20\n",
            "bbc           15\n",
            "high           6\n",
            "high multi     1\n",
            "Name: Annotation, dtype: int64\n",
            "(69, 7)\n",
            "bbc           30\n",
            "high          21\n",
            "low           12\n",
            "high multi     3\n",
            "low multi      3\n",
            "Name: Annotation, dtype: int64\n",
            "(154, 7)\n",
            "low            87\n",
            "low multi      25\n",
            "low complex    18\n",
            "high           12\n",
            "bbc            11\n",
            "high multi      1\n",
            "Name: Annotation, dtype: int64\n",
            "(81, 7)\n",
            "BBC    81\n",
            "Name: Annotation, dtype: int64\n",
            "(34, 7)\n",
            "low            14\n",
            "high            9\n",
            "low complex     5\n",
            "bbc             3\n",
            "low multi       2\n",
            "low             1\n",
            "Name: Annotation, dtype: int64\n",
            "(428, 7)\n"
          ],
          "name": "stdout"
        },
        {
          "output_type": "execute_result",
          "data": {
            "text/html": [
              "<div>\n",
              "<style scoped>\n",
              "    .dataframe tbody tr th:only-of-type {\n",
              "        vertical-align: middle;\n",
              "    }\n",
              "\n",
              "    .dataframe tbody tr th {\n",
              "        vertical-align: top;\n",
              "    }\n",
              "\n",
              "    .dataframe thead th {\n",
              "        text-align: right;\n",
              "    }\n",
              "</style>\n",
              "<table border=\"1\" class=\"dataframe\">\n",
              "  <thead>\n",
              "    <tr style=\"text-align: right;\">\n",
              "      <th></th>\n",
              "      <th>Unnamed: 0</th>\n",
              "      <th>Annotation</th>\n",
              "      <th>High Freq (Hz)</th>\n",
              "      <th>animal_number</th>\n",
              "      <th>exp</th>\n",
              "      <th>session</th>\n",
              "      <th>time_stamp</th>\n",
              "    </tr>\n",
              "  </thead>\n",
              "  <tbody>\n",
              "    <tr>\n",
              "      <th>0</th>\n",
              "      <td>0</td>\n",
              "      <td>low</td>\n",
              "      <td>11243.4</td>\n",
              "      <td>534</td>\n",
              "      <td>cFos_CPA</td>\n",
              "      <td>CPApost</td>\n",
              "      <td>52357.5</td>\n",
              "    </tr>\n",
              "    <tr>\n",
              "      <th>1</th>\n",
              "      <td>1</td>\n",
              "      <td>low</td>\n",
              "      <td>11463.8</td>\n",
              "      <td>534</td>\n",
              "      <td>cFos_CPA</td>\n",
              "      <td>CPApost</td>\n",
              "      <td>56137.5</td>\n",
              "    </tr>\n",
              "    <tr>\n",
              "      <th>2</th>\n",
              "      <td>2</td>\n",
              "      <td>low</td>\n",
              "      <td>14329.8</td>\n",
              "      <td>534</td>\n",
              "      <td>cFos_CPA</td>\n",
              "      <td>CPApost</td>\n",
              "      <td>121095.0</td>\n",
              "    </tr>\n",
              "    <tr>\n",
              "      <th>3</th>\n",
              "      <td>3</td>\n",
              "      <td>low</td>\n",
              "      <td>11463.8</td>\n",
              "      <td>534</td>\n",
              "      <td>cFos_CPA</td>\n",
              "      <td>CPApost</td>\n",
              "      <td>121185.0</td>\n",
              "    </tr>\n",
              "    <tr>\n",
              "      <th>4</th>\n",
              "      <td>4</td>\n",
              "      <td>low</td>\n",
              "      <td>18298.1</td>\n",
              "      <td>534</td>\n",
              "      <td>cFos_CPA</td>\n",
              "      <td>CPApost</td>\n",
              "      <td>222300.0</td>\n",
              "    </tr>\n",
              "  </tbody>\n",
              "</table>\n",
              "</div>"
            ],
            "text/plain": [
              "   Unnamed: 0 Annotation  High Freq (Hz)  animal_number       exp  session  time_stamp\n",
              "0           0        low         11243.4            534  cFos_CPA  CPApost     52357.5\n",
              "1           1        low         11463.8            534  cFos_CPA  CPApost     56137.5\n",
              "2           2        low         14329.8            534  cFos_CPA  CPApost    121095.0\n",
              "3           3        low         11463.8            534  cFos_CPA  CPApost    121185.0\n",
              "4           4        low         18298.1            534  cFos_CPA  CPApost    222300.0"
            ]
          },
          "metadata": {
            "tags": []
          },
          "execution_count": 9
        }
      ]
    },
    {
      "cell_type": "code",
      "metadata": {
        "id": "RqrhyDzlrGz4",
        "colab_type": "code",
        "colab": {}
      },
      "source": [
        "netcdf_path_CPA = '/content/gdrive/Shared drives/USV_eScience_Incubator/Data/netcdf_files/CPA'\n",
        "\n",
        "netcdf_path_neutral = '/content/gdrive/Shared drives/USV_eScience_Incubator/Data/netcdf_files/Neutral'"
      ],
      "execution_count": 0,
      "outputs": []
    },
    {
      "cell_type": "code",
      "metadata": {
        "id": "jgYEAG9BrGz7",
        "colab_type": "code",
        "outputId": "741a6209-ace3-4187-8c1c-dda8c0c6e94b",
        "colab": {
          "base_uri": "https://localhost:8080/",
          "height": 466
        }
      },
      "source": [
        "path = netcdf_path_CPA\n",
        "\n",
        "path_names = []\n",
        "files = os.listdir(path)\n",
        "for file in files:\n",
        "  path_names.append(path + \"/\" + file)\n",
        "\n",
        "print(len(path_names))\n",
        "path_names"
      ],
      "execution_count": 13,
      "outputs": [
        {
          "output_type": "stream",
          "text": [
            "26\n"
          ],
          "name": "stdout"
        },
        {
          "output_type": "execute_result",
          "data": {
            "text/plain": [
              "['/content/gdrive/Shared drives/USV_eScience_Incubator/Data/netcdf_files/CPA/533_CPApost_xr_Dataset.nc',\n",
              " '/content/gdrive/Shared drives/USV_eScience_Incubator/Data/netcdf_files/CPA/534_CPApost_xr_Dataset.nc',\n",
              " '/content/gdrive/Shared drives/USV_eScience_Incubator/Data/netcdf_files/CPA/535_CPApost_xr_Dataset.nc',\n",
              " '/content/gdrive/Shared drives/USV_eScience_Incubator/Data/netcdf_files/CPA/542_CPApost_xr_Dataset.nc',\n",
              " '/content/gdrive/Shared drives/USV_eScience_Incubator/Data/netcdf_files/CPA/543_CPApost_xr_Dataset.nc',\n",
              " '/content/gdrive/Shared drives/USV_eScience_Incubator/Data/netcdf_files/CPA/554_CPApost_xr_Dataset.nc',\n",
              " '/content/gdrive/Shared drives/USV_eScience_Incubator/Data/netcdf_files/CPA/555_CPApost_xr_Dataset.nc',\n",
              " '/content/gdrive/Shared drives/USV_eScience_Incubator/Data/netcdf_files/CPA/559_CPApost_xr_Dataset.nc',\n",
              " '/content/gdrive/Shared drives/USV_eScience_Incubator/Data/netcdf_files/CPA/648_CPApost_xr_Dataset.nc',\n",
              " '/content/gdrive/Shared drives/USV_eScience_Incubator/Data/netcdf_files/CPA/649_CPApost_xr_Dataset.nc',\n",
              " '/content/gdrive/Shared drives/USV_eScience_Incubator/Data/netcdf_files/CPA/650_CPApost_xr_Dataset.nc',\n",
              " '/content/gdrive/Shared drives/USV_eScience_Incubator/Data/netcdf_files/CPA/654_CPApost_xr_Dataset.nc',\n",
              " '/content/gdrive/Shared drives/USV_eScience_Incubator/Data/netcdf_files/CPA/655_CPApost_xr_Dataset.nc',\n",
              " '/content/gdrive/Shared drives/USV_eScience_Incubator/Data/netcdf_files/CPA/656_CPApost_xr_Dataset.nc',\n",
              " '/content/gdrive/Shared drives/USV_eScience_Incubator/Data/netcdf_files/CPA/621_CPApost_xr_Dataset.nc',\n",
              " '/content/gdrive/Shared drives/USV_eScience_Incubator/Data/netcdf_files/CPA/632_CPApost_xr_Dataset.nc',\n",
              " '/content/gdrive/Shared drives/USV_eScience_Incubator/Data/netcdf_files/CPA/629_CPApost_xr_Dataset.nc',\n",
              " '/content/gdrive/Shared drives/USV_eScience_Incubator/Data/netcdf_files/CPA/625_CPApost_xr_Dataset.nc',\n",
              " '/content/gdrive/Shared drives/USV_eScience_Incubator/Data/netcdf_files/CPA/624_CPApost_xr_Dataset.nc',\n",
              " '/content/gdrive/Shared drives/USV_eScience_Incubator/Data/netcdf_files/CPA/626_CPApost_xr_Dataset.nc',\n",
              " '/content/gdrive/Shared drives/USV_eScience_Incubator/Data/netcdf_files/CPA/622_CPApost_xr_Dataset.nc',\n",
              " '/content/gdrive/Shared drives/USV_eScience_Incubator/Data/netcdf_files/CPA/630_CPApost_xr_Dataset.nc',\n",
              " '/content/gdrive/Shared drives/USV_eScience_Incubator/Data/netcdf_files/CPA/623_CPApost_xr_Dataset.nc',\n",
              " '/content/gdrive/Shared drives/USV_eScience_Incubator/Data/netcdf_files/CPA/627_CPApost_xr_Dataset.nc',\n",
              " '/content/gdrive/Shared drives/USV_eScience_Incubator/Data/netcdf_files/CPA/631_CPApost_xr_Dataset.nc',\n",
              " '/content/gdrive/Shared drives/USV_eScience_Incubator/Data/netcdf_files/CPA/628_CPApost_xr_Dataset.nc']"
            ]
          },
          "metadata": {
            "tags": []
          },
          "execution_count": 13
        }
      ]
    },
    {
      "cell_type": "code",
      "metadata": {
        "id": "Wh73dobhnmRw",
        "colab_type": "code",
        "outputId": "a3559a7b-b75e-4239-b298-136c5a3eff05",
        "colab": {
          "base_uri": "https://localhost:8080/",
          "height": 1000
        }
      },
      "source": [
        "### may have to update int(animal_number)\n",
        "\n",
        "order = 'animal'\n",
        "size_random = 25\n",
        "session_name = 'CPA'\n",
        "save_path = '/content/gdrive/Shared drives/USV_eScience_Incubator/Data/feature_data_frames'\n",
        "\n",
        "annot_features_yes_psd = pd.DataFrame()\n",
        "annot_features_no_psd = pd.DataFrame()\n",
        "\n",
        "for path in path_names:\n",
        "    \n",
        "    annot_yes, annot_no = create_annotation_slice_psds(path, order, annot_data, size_random)\n",
        "    \n",
        "    annot_features_yes_psd = annot_features_yes_psd.append(annot_yes, ignore_index=True)\n",
        "    annot_features_no_psd = annot_features_no_psd.append(annot_no, ignore_index=True)\n",
        "\n",
        "#create and save combined dataframe of yes and no\n",
        "annot_features_yes_psd.drop(['Unnamed: 0', 'High Freq (Hz)'], axis=1, inplace=True)\n",
        "annot_features_full_psd = pd.concat([annot_features_yes_psd, annot_features_no_psd])\n",
        "print(annot_features_full_psd.shape)\n",
        "print(annot_features_full_psd.Annotation.value_counts())\n",
        "\n",
        "annot_features_full_psd.to_csv(str(save_path + '/annot_psd_25noise_' + session_name + '.csv'))"
      ],
      "execution_count": 14,
      "outputs": [
        {
          "output_type": "stream",
          "text": [
            "533 CPApost\n",
            "533 CPApost\n",
            "(26666,)\n",
            "26666\n",
            "534 CPApost\n",
            "534 CPApost\n",
            "(26666,)\n",
            "26666\n",
            "535 CPApost\n",
            "535 CPApost\n",
            "(26666,)\n",
            "26666\n",
            "542 CPApost\n",
            "542 CPApost\n",
            "(26666,)\n",
            "26666\n",
            "543 CPApost\n",
            "543 CPApost\n",
            "(26666,)\n",
            "26666\n",
            "554 CPApost\n",
            "554 CPApost\n",
            "(26666,)\n",
            "26666\n",
            "555 CPApost\n",
            "555 CPApost\n",
            "(26666,)\n",
            "26666\n",
            "559 CPApost\n",
            "559 CPApost\n",
            "(26666,)\n",
            "26666\n",
            "648 CPApost\n",
            "648 CPApost\n",
            "(26666,)\n",
            "26666\n",
            "649 CPApost\n",
            "649 CPApost\n",
            "(26666,)\n",
            "26666\n",
            "650 CPApost\n",
            "650 CPApost\n",
            "(26666,)\n",
            "26666\n",
            "654 CPApost\n",
            "654 CPApost\n",
            "(26666,)\n",
            "26666\n",
            "655 CPApost\n",
            "655 CPApost\n",
            "(26666,)\n",
            "26666\n",
            "656 CPApost\n",
            "656 CPApost\n",
            "(26666,)\n",
            "26666\n",
            "621 CPApost\n",
            "621 CPApost\n",
            "(26666,)\n",
            "26666\n",
            "632 CPApost\n",
            "632 CPApost\n",
            "(26666,)\n",
            "26666\n",
            "629 CPApost\n",
            "629 CPApost\n",
            "(26666,)\n",
            "26666\n",
            "625 CPApost\n",
            "625 CPApost\n",
            "(26666,)\n",
            "26666\n",
            "624 CPApost\n",
            "624 CPApost\n",
            "(26666,)\n",
            "26666\n",
            "626 CPApost\n",
            "626 CPApost\n",
            "(26666,)\n",
            "26666\n",
            "622 CPApost\n",
            "622 CPApost\n",
            "(26666,)\n",
            "26666\n",
            "630 CPApost\n",
            "630 CPApost\n",
            "(26666,)\n",
            "26666\n",
            "623 CPApost\n",
            "623 CPApost\n",
            "(26666,)\n",
            "26666\n",
            "627 CPApost\n",
            "627 CPApost\n",
            "(26666,)\n",
            "26666\n",
            "631 CPApost\n",
            "631 CPApost\n",
            "(26666,)\n",
            "26666\n",
            "628 CPApost\n",
            "628 CPApost\n",
            "(26666,)\n",
            "26666\n",
            "(975, 263)\n",
            "rand_noise     650\n",
            "low            135\n",
            "BBC             81\n",
            "low multi       45\n",
            "bbc             26\n",
            "high            18\n",
            "low complex     18\n",
            "high multi       2\n",
            "Name: Annotation, dtype: int64\n"
          ],
          "name": "stdout"
        }
      ]
    }
  ]
}