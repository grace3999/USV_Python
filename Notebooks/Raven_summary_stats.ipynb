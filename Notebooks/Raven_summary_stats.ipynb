{
 "cells": [
  {
   "cell_type": "markdown",
   "metadata": {},
   "source": [
    "Goal of analysis script is to pull in txt files of annotated USVs and generate summary statistics"
   ]
  },
  {
   "cell_type": "markdown",
   "metadata": {},
   "source": [
    "Import modules"
   ]
  },
  {
   "cell_type": "code",
   "execution_count": 13,
   "metadata": {},
   "outputs": [],
   "source": [
    "import pandas as pd\n",
    "import numpy as np\n",
    "from tkinter import filedialog\n",
    "from tkinter import *\n",
    "import re\n",
    "import os\n",
    "from scipy import stats\n",
    "\n",
    "# visualization\n",
    "%matplotlib inline\n",
    "import matplotlib.pyplot as plt\n",
    "import seaborn as sns"
   ]
  },
  {
   "cell_type": "code",
   "execution_count": 14,
   "metadata": {},
   "outputs": [],
   "source": [
    "pd.set_option('display.max_rows', 500)\n",
    "pd.set_option('display.max_columns', 500)\n",
    "pd.set_option('display.width', 1000)"
   ]
  },
  {
   "cell_type": "markdown",
   "metadata": {},
   "source": [
    "Open dialog box and prompt user to select directory containing the data files "
   ]
  },
  {
   "cell_type": "code",
   "execution_count": 15,
   "metadata": {},
   "outputs": [
    {
     "name": "stdout",
     "output_type": "stream",
     "text": [
      "C:/Users/Schindler/Documents/Schindler_Lab/Data/USVs/CPA_pair_exp/3x_pair\n"
     ]
    }
   ],
   "source": [
    "root = Tk()\n",
    "root.directory = filedialog.askdirectory()\n",
    "print (root.directory)"
   ]
  },
  {
   "cell_type": "markdown",
   "metadata": {},
   "source": [
    "Create a path name for each data file"
   ]
  },
  {
   "cell_type": "code",
   "execution_count": 16,
   "metadata": {
    "scrolled": true
   },
   "outputs": [
    {
     "data": {
      "text/plain": [
       "'C:/Users/Schindler/Documents/Schindler_Lab/Data/USVs/CPA_pair_exp/3x_pair/527.Table.1.selections.cagepair.txt'"
      ]
     },
     "execution_count": 16,
     "metadata": {},
     "output_type": "execute_result"
    }
   ],
   "source": [
    "path_names = []\n",
    "files = os.listdir(root.directory)\n",
    "for file in files: \n",
    "        path_names.append(root.directory + \"/\" + file)\n",
    "\n",
    "path_names[0]"
   ]
  },
  {
   "cell_type": "markdown",
   "metadata": {},
   "source": [
    "Loop through path names to create pandas data table from excel file. Get animal number and session type from path name (animal number is part of file name)"
   ]
  },
  {
   "cell_type": "code",
   "execution_count": 17,
   "metadata": {},
   "outputs": [
    {
     "data": {
      "text/html": [
       "<div>\n",
       "<style scoped>\n",
       "    .dataframe tbody tr th:only-of-type {\n",
       "        vertical-align: middle;\n",
       "    }\n",
       "\n",
       "    .dataframe tbody tr th {\n",
       "        vertical-align: top;\n",
       "    }\n",
       "\n",
       "    .dataframe thead th {\n",
       "        text-align: right;\n",
       "    }\n",
       "</style>\n",
       "<table border=\"1\" class=\"dataframe\">\n",
       "  <thead>\n",
       "    <tr style=\"text-align: right;\">\n",
       "      <th></th>\n",
       "      <th>Selection</th>\n",
       "      <th>View</th>\n",
       "      <th>Channel</th>\n",
       "      <th>Begin Time (s)</th>\n",
       "      <th>End Time (s)</th>\n",
       "      <th>Low Freq (Hz)</th>\n",
       "      <th>High Freq (Hz)</th>\n",
       "      <th>Delta Time (s)</th>\n",
       "      <th>Delta Freq (Hz)</th>\n",
       "      <th>Avg Power Density (dB FS)</th>\n",
       "      <th>Annotation</th>\n",
       "      <th>Animal</th>\n",
       "      <th>Session</th>\n",
       "    </tr>\n",
       "  </thead>\n",
       "  <tbody>\n",
       "    <tr>\n",
       "      <th>0</th>\n",
       "      <td>1</td>\n",
       "      <td>Spectrogram 1</td>\n",
       "      <td>1</td>\n",
       "      <td>18.929297</td>\n",
       "      <td>18.934698</td>\n",
       "      <td>74332.5</td>\n",
       "      <td>78276.7</td>\n",
       "      <td>0.005</td>\n",
       "      <td>3944.2</td>\n",
       "      <td>-44.4</td>\n",
       "      <td>high slug</td>\n",
       "      <td>527</td>\n",
       "      <td>cagepair</td>\n",
       "    </tr>\n",
       "    <tr>\n",
       "      <th>1</th>\n",
       "      <td>2</td>\n",
       "      <td>Spectrogram 1</td>\n",
       "      <td>1</td>\n",
       "      <td>24.758961</td>\n",
       "      <td>24.769763</td>\n",
       "      <td>10012.1</td>\n",
       "      <td>13046.1</td>\n",
       "      <td>0.011</td>\n",
       "      <td>3034.0</td>\n",
       "      <td>-41.6</td>\n",
       "      <td>low slug</td>\n",
       "      <td>527</td>\n",
       "      <td>cagepair</td>\n",
       "    </tr>\n",
       "    <tr>\n",
       "      <th>2</th>\n",
       "      <td>8</td>\n",
       "      <td>Spectrogram 1</td>\n",
       "      <td>1</td>\n",
       "      <td>174.353273</td>\n",
       "      <td>174.357636</td>\n",
       "      <td>34706.7</td>\n",
       "      <td>41988.2</td>\n",
       "      <td>0.004</td>\n",
       "      <td>7281.5</td>\n",
       "      <td>-41.5</td>\n",
       "      <td>bbc high</td>\n",
       "      <td>527</td>\n",
       "      <td>cagepair</td>\n",
       "    </tr>\n",
       "    <tr>\n",
       "      <th>3</th>\n",
       "      <td>12</td>\n",
       "      <td>Spectrogram 1</td>\n",
       "      <td>1</td>\n",
       "      <td>342.886783</td>\n",
       "      <td>342.892601</td>\n",
       "      <td>16874.1</td>\n",
       "      <td>53888.7</td>\n",
       "      <td>0.006</td>\n",
       "      <td>37014.6</td>\n",
       "      <td>-39.1</td>\n",
       "      <td>bbc long</td>\n",
       "      <td>527</td>\n",
       "      <td>cagepair</td>\n",
       "    </tr>\n",
       "    <tr>\n",
       "      <th>4</th>\n",
       "      <td>14</td>\n",
       "      <td>Spectrogram 1</td>\n",
       "      <td>1</td>\n",
       "      <td>393.056112</td>\n",
       "      <td>393.061930</td>\n",
       "      <td>35194.2</td>\n",
       "      <td>50970.9</td>\n",
       "      <td>0.006</td>\n",
       "      <td>15776.7</td>\n",
       "      <td>-39.1</td>\n",
       "      <td>bbc high</td>\n",
       "      <td>527</td>\n",
       "      <td>cagepair</td>\n",
       "    </tr>\n",
       "  </tbody>\n",
       "</table>\n",
       "</div>"
      ],
      "text/plain": [
       "   Selection           View  Channel  Begin Time (s)  End Time (s)  Low Freq (Hz)  High Freq (Hz)  Delta Time (s)  Delta Freq (Hz)  Avg Power Density (dB FS) Annotation Animal   Session\n",
       "0          1  Spectrogram 1        1       18.929297     18.934698        74332.5         78276.7           0.005           3944.2                      -44.4  high slug    527  cagepair\n",
       "1          2  Spectrogram 1        1       24.758961     24.769763        10012.1         13046.1           0.011           3034.0                      -41.6   low slug    527  cagepair\n",
       "2          8  Spectrogram 1        1      174.353273    174.357636        34706.7         41988.2           0.004           7281.5                      -41.5   bbc high    527  cagepair\n",
       "3         12  Spectrogram 1        1      342.886783    342.892601        16874.1         53888.7           0.006          37014.6                      -39.1   bbc long    527  cagepair\n",
       "4         14  Spectrogram 1        1      393.056112    393.061930        35194.2         50970.9           0.006          15776.7                      -39.1   bbc high    527  cagepair"
      ]
     },
     "execution_count": 17,
     "metadata": {},
     "output_type": "execute_result"
    }
   ],
   "source": [
    "data_table = pd.DataFrame()\n",
    "\n",
    "i = 0\n",
    "\n",
    "for path in path_names:\n",
    "    data = pd.read_table(path)\n",
    "    data_table_int = pd.DataFrame(data = data)\n",
    "    \n",
    "    name = re.search(\"\\d\\d\\d\", path).group(0)\n",
    "    name_mult = [name] * len(data_table_int)\n",
    "    session = re.search(\"base|cagepair|CPApair\", path).group(0)\n",
    "    session = [session] * len(data_table_int)\n",
    "    i = i + 1\n",
    "    \n",
    "    data_table_int = data_table_int.assign(Animal = name_mult)\n",
    "    data_table_int = data_table_int.assign(Session = session)\n",
    "    \n",
    "    data_table = data_table.append(data_table_int, ignore_index=True)\n",
    "\n",
    "data_table.head()"
   ]
  },
  {
   "cell_type": "code",
   "execution_count": 18,
   "metadata": {},
   "outputs": [],
   "source": [
    "data_table.drop(['Selection', 'View', 'Channel'], axis=1, inplace = True)"
   ]
  },
  {
   "cell_type": "code",
   "execution_count": 19,
   "metadata": {},
   "outputs": [
    {
     "data": {
      "text/html": [
       "<div>\n",
       "<style scoped>\n",
       "    .dataframe tbody tr th:only-of-type {\n",
       "        vertical-align: middle;\n",
       "    }\n",
       "\n",
       "    .dataframe tbody tr th {\n",
       "        vertical-align: top;\n",
       "    }\n",
       "\n",
       "    .dataframe thead th {\n",
       "        text-align: right;\n",
       "    }\n",
       "</style>\n",
       "<table border=\"1\" class=\"dataframe\">\n",
       "  <thead>\n",
       "    <tr style=\"text-align: right;\">\n",
       "      <th></th>\n",
       "      <th>Begin Time (s)</th>\n",
       "      <th>End Time (s)</th>\n",
       "      <th>Low Freq (Hz)</th>\n",
       "      <th>High Freq (Hz)</th>\n",
       "      <th>Delta Time (s)</th>\n",
       "      <th>Delta Freq (Hz)</th>\n",
       "      <th>Avg Power Density (dB FS)</th>\n",
       "      <th>Annotation</th>\n",
       "      <th>Animal</th>\n",
       "      <th>Session</th>\n",
       "    </tr>\n",
       "  </thead>\n",
       "  <tbody>\n",
       "    <tr>\n",
       "      <th>0</th>\n",
       "      <td>18.929297</td>\n",
       "      <td>18.934698</td>\n",
       "      <td>74332.5</td>\n",
       "      <td>78276.7</td>\n",
       "      <td>0.005</td>\n",
       "      <td>3944.2</td>\n",
       "      <td>-44.4</td>\n",
       "      <td>high slug</td>\n",
       "      <td>527</td>\n",
       "      <td>cagepair</td>\n",
       "    </tr>\n",
       "    <tr>\n",
       "      <th>1</th>\n",
       "      <td>24.758961</td>\n",
       "      <td>24.769763</td>\n",
       "      <td>10012.1</td>\n",
       "      <td>13046.1</td>\n",
       "      <td>0.011</td>\n",
       "      <td>3034.0</td>\n",
       "      <td>-41.6</td>\n",
       "      <td>low slug</td>\n",
       "      <td>527</td>\n",
       "      <td>cagepair</td>\n",
       "    </tr>\n",
       "    <tr>\n",
       "      <th>2</th>\n",
       "      <td>174.353273</td>\n",
       "      <td>174.357636</td>\n",
       "      <td>34706.7</td>\n",
       "      <td>41988.2</td>\n",
       "      <td>0.004</td>\n",
       "      <td>7281.5</td>\n",
       "      <td>-41.5</td>\n",
       "      <td>bbc high</td>\n",
       "      <td>527</td>\n",
       "      <td>cagepair</td>\n",
       "    </tr>\n",
       "    <tr>\n",
       "      <th>3</th>\n",
       "      <td>342.886783</td>\n",
       "      <td>342.892601</td>\n",
       "      <td>16874.1</td>\n",
       "      <td>53888.7</td>\n",
       "      <td>0.006</td>\n",
       "      <td>37014.6</td>\n",
       "      <td>-39.1</td>\n",
       "      <td>bbc long</td>\n",
       "      <td>527</td>\n",
       "      <td>cagepair</td>\n",
       "    </tr>\n",
       "    <tr>\n",
       "      <th>4</th>\n",
       "      <td>393.056112</td>\n",
       "      <td>393.061930</td>\n",
       "      <td>35194.2</td>\n",
       "      <td>50970.9</td>\n",
       "      <td>0.006</td>\n",
       "      <td>15776.7</td>\n",
       "      <td>-39.1</td>\n",
       "      <td>bbc high</td>\n",
       "      <td>527</td>\n",
       "      <td>cagepair</td>\n",
       "    </tr>\n",
       "  </tbody>\n",
       "</table>\n",
       "</div>"
      ],
      "text/plain": [
       "   Begin Time (s)  End Time (s)  Low Freq (Hz)  High Freq (Hz)  Delta Time (s)  Delta Freq (Hz)  Avg Power Density (dB FS) Annotation Animal   Session\n",
       "0       18.929297     18.934698        74332.5         78276.7           0.005           3944.2                      -44.4  high slug    527  cagepair\n",
       "1       24.758961     24.769763        10012.1         13046.1           0.011           3034.0                      -41.6   low slug    527  cagepair\n",
       "2      174.353273    174.357636        34706.7         41988.2           0.004           7281.5                      -41.5   bbc high    527  cagepair\n",
       "3      342.886783    342.892601        16874.1         53888.7           0.006          37014.6                      -39.1   bbc long    527  cagepair\n",
       "4      393.056112    393.061930        35194.2         50970.9           0.006          15776.7                      -39.1   bbc high    527  cagepair"
      ]
     },
     "execution_count": 19,
     "metadata": {},
     "output_type": "execute_result"
    }
   ],
   "source": [
    "data_table.head()"
   ]
  },
  {
   "cell_type": "markdown",
   "metadata": {},
   "source": [
    "Organize call types into "
   ]
  },
  {
   "cell_type": "code",
   "execution_count": 20,
   "metadata": {},
   "outputs": [
    {
     "data": {
      "text/plain": [
       "array(['high slug', 'low slug', 'bbc', 'high multi', 'low multi', 'radar'],\n",
       "      dtype=object)"
      ]
     },
     "execution_count": 20,
     "metadata": {},
     "output_type": "execute_result"
    }
   ],
   "source": [
    "USV_groups = data_table.replace('mid slug', 'low slug', inplace = True)\n",
    "USV_groups = data_table.replace(['bbc wide', 'bbc long', 'bbc high', 'bbc low'], 'bbc')\n",
    "USV_groups['Annotation'].unique()"
   ]
  },
  {
   "cell_type": "code",
   "execution_count": 21,
   "metadata": {},
   "outputs": [
    {
     "data": {
      "text/html": [
       "<div>\n",
       "<style scoped>\n",
       "    .dataframe tbody tr th:only-of-type {\n",
       "        vertical-align: middle;\n",
       "    }\n",
       "\n",
       "    .dataframe tbody tr th {\n",
       "        vertical-align: top;\n",
       "    }\n",
       "\n",
       "    .dataframe thead th {\n",
       "        text-align: right;\n",
       "    }\n",
       "</style>\n",
       "<table border=\"1\" class=\"dataframe\">\n",
       "  <thead>\n",
       "    <tr style=\"text-align: right;\">\n",
       "      <th></th>\n",
       "      <th>Begin Time (s)</th>\n",
       "      <th>End Time (s)</th>\n",
       "      <th>Low Freq (Hz)</th>\n",
       "      <th>High Freq (Hz)</th>\n",
       "      <th>Delta Time (s)</th>\n",
       "      <th>Delta Freq (Hz)</th>\n",
       "      <th>Avg Power Density (dB FS)</th>\n",
       "      <th>Annotation</th>\n",
       "      <th>Animal</th>\n",
       "      <th>Session</th>\n",
       "    </tr>\n",
       "  </thead>\n",
       "  <tbody>\n",
       "    <tr>\n",
       "      <th>0</th>\n",
       "      <td>18.929297</td>\n",
       "      <td>18.934698</td>\n",
       "      <td>74332.5</td>\n",
       "      <td>78276.7</td>\n",
       "      <td>0.005</td>\n",
       "      <td>3944.2</td>\n",
       "      <td>-44.4</td>\n",
       "      <td>high slug</td>\n",
       "      <td>527</td>\n",
       "      <td>cagepair</td>\n",
       "    </tr>\n",
       "    <tr>\n",
       "      <th>1</th>\n",
       "      <td>24.758961</td>\n",
       "      <td>24.769763</td>\n",
       "      <td>10012.1</td>\n",
       "      <td>13046.1</td>\n",
       "      <td>0.011</td>\n",
       "      <td>3034.0</td>\n",
       "      <td>-41.6</td>\n",
       "      <td>low slug</td>\n",
       "      <td>527</td>\n",
       "      <td>cagepair</td>\n",
       "    </tr>\n",
       "    <tr>\n",
       "      <th>2</th>\n",
       "      <td>174.353273</td>\n",
       "      <td>174.357636</td>\n",
       "      <td>34706.7</td>\n",
       "      <td>41988.2</td>\n",
       "      <td>0.004</td>\n",
       "      <td>7281.5</td>\n",
       "      <td>-41.5</td>\n",
       "      <td>bbc</td>\n",
       "      <td>527</td>\n",
       "      <td>cagepair</td>\n",
       "    </tr>\n",
       "    <tr>\n",
       "      <th>3</th>\n",
       "      <td>342.886783</td>\n",
       "      <td>342.892601</td>\n",
       "      <td>16874.1</td>\n",
       "      <td>53888.7</td>\n",
       "      <td>0.006</td>\n",
       "      <td>37014.6</td>\n",
       "      <td>-39.1</td>\n",
       "      <td>bbc</td>\n",
       "      <td>527</td>\n",
       "      <td>cagepair</td>\n",
       "    </tr>\n",
       "    <tr>\n",
       "      <th>4</th>\n",
       "      <td>393.056112</td>\n",
       "      <td>393.061930</td>\n",
       "      <td>35194.2</td>\n",
       "      <td>50970.9</td>\n",
       "      <td>0.006</td>\n",
       "      <td>15776.7</td>\n",
       "      <td>-39.1</td>\n",
       "      <td>bbc</td>\n",
       "      <td>527</td>\n",
       "      <td>cagepair</td>\n",
       "    </tr>\n",
       "  </tbody>\n",
       "</table>\n",
       "</div>"
      ],
      "text/plain": [
       "   Begin Time (s)  End Time (s)  Low Freq (Hz)  High Freq (Hz)  Delta Time (s)  Delta Freq (Hz)  Avg Power Density (dB FS) Annotation Animal   Session\n",
       "0       18.929297     18.934698        74332.5         78276.7           0.005           3944.2                      -44.4  high slug    527  cagepair\n",
       "1       24.758961     24.769763        10012.1         13046.1           0.011           3034.0                      -41.6   low slug    527  cagepair\n",
       "2      174.353273    174.357636        34706.7         41988.2           0.004           7281.5                      -41.5        bbc    527  cagepair\n",
       "3      342.886783    342.892601        16874.1         53888.7           0.006          37014.6                      -39.1        bbc    527  cagepair\n",
       "4      393.056112    393.061930        35194.2         50970.9           0.006          15776.7                      -39.1        bbc    527  cagepair"
      ]
     },
     "execution_count": 21,
     "metadata": {},
     "output_type": "execute_result"
    }
   ],
   "source": [
    "USV_groups.head()"
   ]
  },
  {
   "cell_type": "code",
   "execution_count": 22,
   "metadata": {},
   "outputs": [
    {
     "data": {
      "text/plain": [
       "Session\n",
       "CPApair     478\n",
       "cagepair     74\n",
       "Name: Annotation, dtype: int64"
      ]
     },
     "execution_count": 22,
     "metadata": {},
     "output_type": "execute_result"
    }
   ],
   "source": [
    "counts = USV_groups.groupby(['Session'])['Annotation'].count()\n",
    "counts"
   ]
  },
  {
   "cell_type": "code",
   "execution_count": 23,
   "metadata": {},
   "outputs": [],
   "source": [
    "writer = pd.ExcelWriter('USV_counts.xlsx', engine='xlsxwriter')\n",
    "counts.to_excel(writer, sheet_name='Sheet1')\n",
    "writer.save()"
   ]
  },
  {
   "cell_type": "code",
   "execution_count": 24,
   "metadata": {},
   "outputs": [],
   "source": [
    "writer = pd.ExcelWriter('USV_annot.xlsx', engine='xlsxwriter')\n",
    "USV_groups.to_excel(writer, sheet_name='Sheet1')\n",
    "writer.save()"
   ]
  },
  {
   "cell_type": "code",
   "execution_count": null,
   "metadata": {},
   "outputs": [],
   "source": []
  }
 ],
 "metadata": {
  "kernelspec": {
   "display_name": "Python 3",
   "language": "python",
   "name": "python3"
  },
  "language_info": {
   "codemirror_mode": {
    "name": "ipython",
    "version": 3
   },
   "file_extension": ".py",
   "mimetype": "text/x-python",
   "name": "python",
   "nbconvert_exporter": "python",
   "pygments_lexer": "ipython3",
   "version": "3.6.7"
  }
 },
 "nbformat": 4,
 "nbformat_minor": 2
}
