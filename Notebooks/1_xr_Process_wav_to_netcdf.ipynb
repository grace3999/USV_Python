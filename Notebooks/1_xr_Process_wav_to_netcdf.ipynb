{
  "nbformat": 4,
  "nbformat_minor": 0,
  "metadata": {
    "colab": {
      "name": "1_xr_Process_wav_to_netcdf.ipynb",
      "version": "0.3.2",
      "provenance": [],
      "collapsed_sections": [],
      "include_colab_link": true
    },
    "kernelspec": {
      "display_name": "Python 3",
      "language": "python",
      "name": "python3"
    }
  },
  "cells": [
    {
      "cell_type": "markdown",
      "metadata": {
        "id": "view-in-github",
        "colab_type": "text"
      },
      "source": [
        "<a href=\"https://colab.research.google.com/github/grace3999/USV_Python/blob/colab/Notebooks/1_xr_Process_wav_to_netcdf.ipynb\" target=\"_parent\"><img src=\"https://colab.research.google.com/assets/colab-badge.svg\" alt=\"Open In Colab\"/></a>"
      ]
    },
    {
      "metadata": {
        "id": "3FqPbe-553Et",
        "colab_type": "code",
        "outputId": "f59ea43a-6039-4ca1-bec3-be1f21065ca0",
        "colab": {
          "base_uri": "https://localhost:8080/",
          "height": 34
        }
      },
      "cell_type": "code",
      "source": [
        "#mount google drive containings required files: 1) wav files\n",
        "from google.colab import drive\n",
        "drive.mount('/content/gdrive')"
      ],
      "execution_count": 1,
      "outputs": [
        {
          "output_type": "stream",
          "text": [
            "Drive already mounted at /content/gdrive; to attempt to forcibly remount, call drive.mount(\"/content/gdrive\", force_remount=True).\n"
          ],
          "name": "stdout"
        }
      ]
    },
    {
      "metadata": {
        "id": "Ys4Wfawq6BUW",
        "colab_type": "code",
        "outputId": "66d36b41-8d99-4659-91ad-410626e7b761",
        "colab": {
          "base_uri": "https://localhost:8080/",
          "height": 68
        }
      },
      "cell_type": "code",
      "source": [
        "!pip install netcdf4"
      ],
      "execution_count": 2,
      "outputs": [
        {
          "output_type": "stream",
          "text": [
            "Requirement already satisfied: netcdf4 in /usr/local/lib/python3.6/dist-packages (1.4.3.2)\n",
            "Requirement already satisfied: cftime in /usr/local/lib/python3.6/dist-packages (from netcdf4) (1.0.3.4)\n",
            "Requirement already satisfied: numpy>=1.7 in /usr/local/lib/python3.6/dist-packages (from netcdf4) (1.14.6)\n"
          ],
          "name": "stdout"
        }
      ]
    },
    {
      "metadata": {
        "id": "y-CzSM8c52Yt",
        "colab_type": "code",
        "colab": {}
      },
      "cell_type": "code",
      "source": [
        "import numpy as np\n",
        "import pandas as pd\n",
        "import math\n",
        "import time\n",
        "import re\n",
        "import os\n",
        "\n",
        "from skimage import util\n",
        "from scipy.io import wavfile\n",
        "from scipy import signal\n",
        "from scipy import stats\n",
        "\n",
        "import xarray as xr\n",
        "\n",
        "%matplotlib inline\n",
        "import matplotlib.pyplot as plt\n",
        "\n",
        "pd.set_option('display.max_rows', 500)\n",
        "pd.set_option('display.max_columns', 500)\n",
        "pd.set_option('display.width', 1000)\n",
        "\n",
        "import warnings; warnings.simplefilter('ignore')\n",
        "np.set_printoptions(suppress=True)"
      ],
      "execution_count": 0,
      "outputs": []
    },
    {
      "metadata": {
        "id": "ObpVD2dq52Yy",
        "colab_type": "code",
        "colab": {}
      },
      "cell_type": "code",
      "source": [
        "def create_slice_from_wav(file_path, file_len, slice_len, step_size):\n",
        "    \"\"\"Creates small slices from wav file. file_length is desired length of file in minutes.\n",
        "    slice_len is desired legth of each slice in ms. \n",
        "    step_size is how big of step to take between steps (larger size is less overlap).\"\"\"\n",
        "    \n",
        "    #read in wav file\n",
        "    samp_freq, sig_data = wavfile.read(file_path)\n",
        "    print('Sampling frequency: ' + str(samp_freq))\n",
        "    \n",
        "    #convert file_length from min to sample numbers\n",
        "    file_length_num = file_len*samp_freq*60\n",
        "    \n",
        "    #convert slice_len from ms to sample numbers\n",
        "    slice_sample_num = slice_len*samp_freq/1000\n",
        "    \n",
        "    #use only slices within file_length\n",
        "    sig_data = sig_data[0:file_length_num]\n",
        "    \n",
        "    #determine number of samples and length\n",
        "    n_samples = sig_data.shape[0]\n",
        "    print('Number of samples: ' + str(n_samples))\n",
        "    sig_len = n_samples/samp_freq\n",
        "    print('Length: ' + str(sig_len) + ' sec')\n",
        "    \n",
        "    #create slices \n",
        "    steps = int(slice_sample_num*step_size)\n",
        "    slices = util.view_as_windows(sig_data, window_shape=(slice_sample_num,), step=steps)\n",
        "    print(f'Audio shape: {sig_data.shape}, Sliced audio shape: {slices.shape}')\n",
        "    \n",
        "    return samp_freq, sig_data, slices, steps, sig_len"
      ],
      "execution_count": 0,
      "outputs": []
    },
    {
      "metadata": {
        "id": "o-TyxhLm52Y2",
        "colab_type": "code",
        "colab": {}
      },
      "cell_type": "code",
      "source": [
        "def create_spec_from_slice_array(slices, steps, spec_window, NFFT, samp_freq):\n",
        "    \"\"\"Creates fft spectrogram from slice. spec_window is length of each segment (nperseg).\n",
        "    NFFT is length of the FFT used (nfft). samp_freq is sampling frequency (in Hz) of slice (fs).\n",
        "    steps is step size between slices\"\"\"\n",
        "    \n",
        "    spec_slices = {}\n",
        "    samp_freq_kHz = samp_freq/1000\n",
        "\n",
        "    for i in range(slices.shape[0]): \n",
        "        if i % 5000 == 0:\n",
        "            print(i)\n",
        "            \n",
        "        #spectrogram\n",
        "        freqs_spec, times, Sx = signal.spectrogram(slices[i,:], fs=samp_freq, nperseg = spec_window, nfft = NFFT)\n",
        "    \n",
        "        time_stamp = ((i*steps) / samp_freq_kHz)\n",
        "    \n",
        "        #store as dic\n",
        "        spec_slices[time_stamp] = Sx\n",
        "\n",
        "    return spec_slices, freqs_spec, times\n"
      ],
      "execution_count": 0,
      "outputs": []
    },
    {
      "metadata": {
        "id": "Gpqq4WHH52Y6",
        "colab_type": "code",
        "colab": {}
      },
      "cell_type": "code",
      "source": [
        "def create_xarray_dataset_from_dic(dic, freqs_spec, times):\n",
        "    \"\"\"Creates an xarray.Dataset object from a dictionary input.\"\"\"\n",
        "    \n",
        "    slices_combined = {}\n",
        "    \n",
        "    for key, fft_slice in dic.items():\n",
        "        slices_combined[key] = xr.DataArray(fft_slice, dims = ('freq', 'times'), coords = {'freq': freqs_spec, 'times': times})\n",
        "    slices_Dataset = xr.Dataset(slices_combined).to_array(dim = 'slices')\n",
        "    \n",
        "    return slices_Dataset"
      ],
      "execution_count": 0,
      "outputs": []
    },
    {
      "metadata": {
        "id": "ma9A1G6J52Y9",
        "colab_type": "code",
        "colab": {}
      },
      "cell_type": "code",
      "source": [
        "#testing function\n",
        "def get_remainders(slices_Dataset, slices, step_size, samp_freq, sig_len):\n",
        "    slice_remainder = np.round((sig_len - (slices.shape[0] * slices.shape[1] * step_size / samp_freq))*1000, 1)\n",
        "    netcdf_remainder = (sig_len * 1000) - slices_Dataset.slices.values[-1] - 22.5\n",
        "    \n",
        "    return slice_remainder, netcdf_remainder"
      ],
      "execution_count": 0,
      "outputs": []
    },
    {
      "metadata": {
        "id": "D8IIQ-VOLdUR",
        "colab_type": "code",
        "colab": {}
      },
      "cell_type": "code",
      "source": [
        "#may need to be updated based on file naming scheme\n",
        "def get_file_info(path, order):\n",
        "    \"\"\"takes in a file path for annotation selections table and finds the animal_number and session and saves each accordingly. \n",
        "    each file should be named with animal number and exp (e.g. 100_CPA.Table.1.selections)\"\"\"\n",
        "    \n",
        "    if order == 'animal':\n",
        "      print('animal first')\n",
        "      session, animal_number = re.split('_|-', path.split('/')[-1].split('.')[0])[0:2]\n",
        "    else:\n",
        "      print('session first')\n",
        "      session, animal_number = re.split('_|-', path.split('/')[-1].split('.')[0])[0:2] \n",
        "    \n",
        "    print(animal_number, session)\n",
        "    \n",
        "    return animal_number, session"
      ],
      "execution_count": 0,
      "outputs": []
    },
    {
      "metadata": {
        "id": "v4DrxNNb52ZD",
        "colab_type": "text"
      },
      "cell_type": "markdown",
      "source": [
        "Find path names for each wav file corresponding to annotated data"
      ]
    },
    {
      "metadata": {
        "id": "beHSEpMG52ZE",
        "colab_type": "code",
        "colab": {}
      },
      "cell_type": "code",
      "source": [
        "wav_dir_path_pain = '/content/gdrive/Team Drives/USV_eScience_Incubator/Data/wav_files/Pain'\n",
        "\n",
        "wav_dir_path_CPA = '/content/gdrive/Team Drives/USV_eScience_Incubator/Data/wav_files/Fear/18.12.07_CPA_pair_3x'\n",
        "\n",
        "wav_dir_path_homecage = '/content/gdrive/Team Drives/USV_eScience_Incubator/Data/wav_files/Fear/18.12.05_housing_nopair_3x'\n",
        "\n",
        "wav_dir_path = [wav_dir_path_CPA, wav_dir_path_homecage]"
      ],
      "execution_count": 0,
      "outputs": []
    },
    {
      "metadata": {
        "id": "-ueTlDtb52ZH",
        "colab_type": "code",
        "outputId": "f96563a0-88bf-4a24-b5da-6144b059d00b",
        "colab": {
          "base_uri": "https://localhost:8080/",
          "height": 51
        }
      },
      "cell_type": "code",
      "source": [
        "path_names = []\n",
        "for path in wav_dir_path:\n",
        "  files = os.listdir(path)\n",
        "  for file in files: \n",
        "        path_names.append(path + \"/\" + file)\n",
        "\n",
        "print(len(path_names))\n",
        "path_names[0]"
      ],
      "execution_count": 10,
      "outputs": [
        {
          "output_type": "stream",
          "text": [
            "16\n"
          ],
          "name": "stdout"
        },
        {
          "output_type": "execute_result",
          "data": {
            "text/plain": [
              "'/content/gdrive/Team Drives/USV_eScience_Incubator/Data/wav_files/Fear/18.12.07_CPA_pair_3x/CPApair_533.wav'"
            ]
          },
          "metadata": {
            "tags": []
          },
          "execution_count": 10
        }
      ]
    },
    {
      "metadata": {
        "scrolled": true,
        "id": "OPrNyNRx52ZM",
        "colab_type": "code",
        "outputId": "2b514d61-c00c-4785-90cd-3f2282b4b7c0",
        "colab": {
          "base_uri": "https://localhost:8080/",
          "height": 272
        }
      },
      "cell_type": "code",
      "source": [
        "order = 'session'\n",
        "save_path = '/content/gdrive/Team Drives/USV_eScience_Incubator/Data/netcdf_files/'\n",
        "\n",
        "file_len=10\n",
        "slice_len=25\n",
        "step_size=0.9\n",
        "\n",
        "spec_window=128\n",
        "NFFT=512\n",
        "\n",
        "for path in path_names:\n",
        "    \n",
        "    animal_number, session = get_file_info(path, order)\n",
        "    \n",
        "    #process wav file of animal corresponding to annotations\n",
        "    print(str('Begin processing animal # ' + animal_number))\n",
        "\n",
        "    #create slices\n",
        "    start = time.time()\n",
        "    samp_freq, sig_data, slices, steps, sig_len = create_slice_from_wav(path, file_len, slice_len, step_size)\n",
        "    end = time.time()\n",
        "    print(str('Slices created in ' + str(end - start) + '  seconds'))\n",
        "\n",
        "    #create spectrograms\n",
        "    start = time.time()\n",
        "    spec_slices, freqs_spec, times = create_spec_from_slice_array(slices, steps, spec_window, NFFT, samp_freq)\n",
        "    end = time.time()\n",
        "    print(str('Spectrograms created in ' + str(end - start) + '  seconds'))\n",
        "\n",
        "    #create xarray Dataset\n",
        "    start = time.time()\n",
        "    slices_Dataset = create_xarray_dataset_from_dic(spec_slices, freqs_spec, times)\n",
        "    end = time.time()\n",
        "    print(str('xarray created in ' + str(end - start) + '  seconds'))\n",
        "\n",
        "    #confirm timestamps are correct\n",
        "    slice_remainder, netcdf_remainder = get_remainders(slices_Dataset, slices, step_size, samp_freq, sig_len)\n",
        "    if slice_remainder != netcdf_remainder:\n",
        "        raise Exception('Mismatch between slice and timestamp remainders')\n",
        "    else:\n",
        "        #save    \n",
        "        start = time.time()\n",
        "        slices_Dataset.to_netcdf(save_path + animal_number + '_' + session + '_xr_Dataset.nc')\n",
        "        end = time.time()\n",
        "        print(str('xarray saved in ' + str(end - start) + '  seconds'))"
      ],
      "execution_count": 0,
      "outputs": [
        {
          "output_type": "stream",
          "text": [
            "session first\n",
            "533 CPApair\n",
            "Begin processing animal # 533\n",
            "Sampling frequency: 250000\n",
            "Number of samples: 150000000\n",
            "Length: 600.0 sec\n",
            "Audio shape: (150000000,), Sliced audio shape: (26666, 6250)\n",
            "Slices created in 4.098203659057617  seconds\n",
            "0\n",
            "5000\n",
            "10000\n",
            "15000\n",
            "20000\n",
            "25000\n",
            "Spectrograms created in 22.483229160308838  seconds\n"
          ],
          "name": "stdout"
        }
      ]
    },
    {
      "metadata": {
        "id": "HK3lgCvjk6Wb",
        "colab_type": "code",
        "colab": {}
      },
      "cell_type": "code",
      "source": [
        "slices_Dataset"
      ],
      "execution_count": 0,
      "outputs": []
    }
  ]
}