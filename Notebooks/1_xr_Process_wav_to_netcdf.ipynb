{
  "nbformat": 4,
  "nbformat_minor": 0,
  "metadata": {
    "colab": {
      "name": "1_xr_Process_wav_to_netcdf.ipynb",
      "version": "0.3.2",
      "provenance": [],
      "collapsed_sections": [],
      "include_colab_link": true
    },
    "kernelspec": {
      "name": "python3",
      "display_name": "Python 3"
    },
    "accelerator": "GPU"
  },
  "cells": [
    {
      "cell_type": "markdown",
      "metadata": {
        "id": "view-in-github",
        "colab_type": "text"
      },
      "source": [
        "<a href=\"https://colab.research.google.com/github/grace3999/USV_Python/blob/colab/Notebooks/1_xr_Process_wav_to_netcdf.ipynb\" target=\"_parent\"><img src=\"https://colab.research.google.com/assets/colab-badge.svg\" alt=\"Open In Colab\"/></a>"
      ]
    },
    {
      "cell_type": "code",
      "metadata": {
        "id": "3FqPbe-553Et",
        "colab_type": "code",
        "outputId": "8a2e9a0b-7251-43a9-bfcb-520765a466fa",
        "colab": {
          "base_uri": "https://localhost:8080/",
          "height": 33
        }
      },
      "source": [
        "#mount google drive containings required files: 1) wav files\n",
        "from google.colab import drive\n",
        "drive.mount('/content/gdrive')"
      ],
      "execution_count": 2,
      "outputs": [
        {
          "output_type": "stream",
          "text": [
            "Drive already mounted at /content/gdrive; to attempt to forcibly remount, call drive.mount(\"/content/gdrive\", force_remount=True).\n"
          ],
          "name": "stdout"
        }
      ]
    },
    {
      "cell_type": "code",
      "metadata": {
        "id": "Ys4Wfawq6BUW",
        "colab_type": "code",
        "outputId": "15d636b0-f64f-4590-bba1-ad00fce25e56",
        "colab": {
          "base_uri": "https://localhost:8080/",
          "height": 66
        }
      },
      "source": [
        "!pip install netcdf4"
      ],
      "execution_count": 3,
      "outputs": [
        {
          "output_type": "stream",
          "text": [
            "Requirement already satisfied: netcdf4 in /usr/local/lib/python3.6/dist-packages (1.5.1.2)\n",
            "Requirement already satisfied: numpy>=1.7 in /usr/local/lib/python3.6/dist-packages (from netcdf4) (1.16.4)\n",
            "Requirement already satisfied: cftime in /usr/local/lib/python3.6/dist-packages (from netcdf4) (1.0.3.4)\n"
          ],
          "name": "stdout"
        }
      ]
    },
    {
      "cell_type": "code",
      "metadata": {
        "id": "y-CzSM8c52Yt",
        "colab_type": "code",
        "colab": {}
      },
      "source": [
        "import numpy as np\n",
        "import pandas as pd\n",
        "import math\n",
        "import time\n",
        "import re\n",
        "import os\n",
        "\n",
        "from skimage import util\n",
        "from scipy.io import wavfile\n",
        "from scipy import signal\n",
        "from scipy import stats\n",
        "\n",
        "import xarray as xr\n",
        "\n",
        "%matplotlib inline\n",
        "import matplotlib.pyplot as plt\n",
        "\n",
        "pd.set_option('display.max_rows', 500)\n",
        "pd.set_option('display.max_columns', 500)\n",
        "pd.set_option('display.width', 1000)\n",
        "\n",
        "import warnings; warnings.simplefilter('ignore')\n",
        "np.set_printoptions(suppress=True)"
      ],
      "execution_count": 0,
      "outputs": []
    },
    {
      "cell_type": "code",
      "metadata": {
        "id": "ObpVD2dq52Yy",
        "colab_type": "code",
        "colab": {}
      },
      "source": [
        "def create_slice_from_wav(file_path, file_len, slice_len, step_size):\n",
        "    \"\"\"Creates small slices from wav file. file_length is desired length of file in minutes.\n",
        "    slice_len is desired legth of each slice in ms. \n",
        "    step_size is how big of step to take between steps (larger size is less overlap).\"\"\"\n",
        "    \n",
        "    #read in wav file\n",
        "    samp_freq, sig_data = wavfile.read(file_path)\n",
        "    print('Sampling frequency: ' + str(samp_freq))\n",
        "    \n",
        "    #convert file_length from min to sample numbers\n",
        "    file_length_num = file_len*samp_freq*60\n",
        "    \n",
        "    #convert slice_len from ms to sample numbers\n",
        "    slice_sample_num = slice_len*samp_freq/1000\n",
        "    \n",
        "    #use only slices within file_length\n",
        "    sig_data = sig_data[0:file_length_num]\n",
        "    \n",
        "    #determine number of samples and length\n",
        "    n_samples = sig_data.shape[0]\n",
        "    print('Number of samples: ' + str(n_samples))\n",
        "    sig_len = n_samples/samp_freq\n",
        "    print('Length: ' + str(sig_len) + ' sec')\n",
        "    \n",
        "    #create slices \n",
        "    steps = int(slice_sample_num*step_size)\n",
        "    slices = util.view_as_windows(sig_data, window_shape=(slice_sample_num,), step=steps)\n",
        "    print(f'Audio shape: {sig_data.shape}, Sliced audio shape: {slices.shape}')\n",
        "    \n",
        "    return samp_freq, sig_data, slices, steps, sig_len"
      ],
      "execution_count": 0,
      "outputs": []
    },
    {
      "cell_type": "code",
      "metadata": {
        "id": "o-TyxhLm52Y2",
        "colab_type": "code",
        "colab": {}
      },
      "source": [
        "def create_spec_from_slice_array(slices, steps, spec_window, NFFT, samp_freq):\n",
        "    \"\"\"Creates fft spectrogram from slice. spec_window is length of each segment (nperseg).\n",
        "    NFFT is length of the FFT used (nfft). samp_freq is sampling frequency (in Hz) of slice (fs).\n",
        "    steps is step size between slices\"\"\"\n",
        "    \n",
        "    spec_slices = {}\n",
        "    samp_freq_kHz = samp_freq/1000\n",
        "\n",
        "    for i in range(slices.shape[0]): \n",
        "        if i % 5000 == 0:\n",
        "            print(i)\n",
        "            \n",
        "        #spectrogram\n",
        "        freqs_spec, times, Sx = signal.spectrogram(slices[i,:], fs=samp_freq, nperseg = spec_window, nfft = NFFT)\n",
        "    \n",
        "        time_stamp = ((i*steps) / samp_freq_kHz)\n",
        "    \n",
        "        #store as dic\n",
        "        spec_slices[time_stamp] = Sx\n",
        "\n",
        "    return spec_slices, freqs_spec, times\n"
      ],
      "execution_count": 0,
      "outputs": []
    },
    {
      "cell_type": "code",
      "metadata": {
        "id": "Gpqq4WHH52Y6",
        "colab_type": "code",
        "colab": {}
      },
      "source": [
        "def create_xarray_dataset_from_dic(dic, freqs_spec, times):\n",
        "    \"\"\"Creates an xarray.Dataset object from a dictionary input.\"\"\"\n",
        "    \n",
        "    slices_combined = {}\n",
        "    \n",
        "    for key, fft_slice in dic.items():\n",
        "        slices_combined[key] = xr.DataArray(fft_slice, dims = ('freq', 'times'), coords = {'freq': freqs_spec, 'times': times})\n",
        "    slices_Dataset = xr.Dataset(slices_combined).to_array(dim = 'slices')\n",
        "    \n",
        "    return slices_Dataset"
      ],
      "execution_count": 0,
      "outputs": []
    },
    {
      "cell_type": "code",
      "metadata": {
        "id": "ma9A1G6J52Y9",
        "colab_type": "code",
        "colab": {}
      },
      "source": [
        "#testing function\n",
        "def get_remainders(slices_Dataset, slices, step_size, samp_freq, sig_len):\n",
        "    slice_remainder = np.round((sig_len - (slices.shape[0] * slices.shape[1] * step_size / samp_freq))*1000, 1)\n",
        "    netcdf_remainder = (sig_len * 1000) - slices_Dataset.slices.values[-1] - 22.5\n",
        "    \n",
        "    return slice_remainder, netcdf_remainder"
      ],
      "execution_count": 0,
      "outputs": []
    },
    {
      "cell_type": "code",
      "metadata": {
        "id": "D8IIQ-VOLdUR",
        "colab_type": "code",
        "colab": {}
      },
      "source": [
        "#may need to be updated based on file naming scheme\n",
        "def get_file_info(path, order):\n",
        "    \"\"\"takes in a file path for annotation selections table and finds the animal_number and session and saves each accordingly. \n",
        "    each file should be named with animal number and exp (e.g. 100_CPA.Table.1.selections)\"\"\"\n",
        "    \n",
        "    if order == 'animal':\n",
        "      print('animal first')\n",
        "      animal_number, session = re.split('_|-', path.split('/')[-1].split('.')[0])[0:2]\n",
        "    else:\n",
        "      print('session first')\n",
        "      session, animal_number = re.split('_|-', path.split('/')[-1].split('.')[0])[0:2] \n",
        "    \n",
        "    print(animal_number, session)\n",
        "    \n",
        "    return animal_number, session"
      ],
      "execution_count": 0,
      "outputs": []
    },
    {
      "cell_type": "markdown",
      "metadata": {
        "id": "v4DrxNNb52ZD",
        "colab_type": "text"
      },
      "source": [
        "Find path names for each wav file corresponding to annotated data"
      ]
    },
    {
      "cell_type": "code",
      "metadata": {
        "id": "beHSEpMG52ZE",
        "colab_type": "code",
        "colab": {}
      },
      "source": [
        "wav_cFos_CPA = '/content/gdrive/Shared drives/USV_eScience_Incubator/Data/wav_files/Fear/CPA_pair_cFos/18.12.07_CPA_pair_3x'\n",
        "wav_cFos_neutral = '/content/gdrive/Shared drives/USV_eScience_Incubator/Data/wav_files/Fear/CPA_pair_cFos/18.12.05_housing_nopair_3x'\n",
        "\n",
        "wav_PETr1_CPA = '/content/gdrive/Shared drives/USV_eScience_Incubator/Data/wav_files/Fear/CPA_pair_PET/CPApair'\n",
        "\n",
        "wav_r2_CPA = '/content/gdrive/Shared drives/USV_eScience_Incubator/Data/wav_files/Fear/CPA_pair_round2/19.04.03_CPApost'\n",
        "wav_r2_neutral = '/content/gdrive/Shared drives/USV_eScience_Incubator/Data/wav_files/Fear/CPA_pair_round2/19.04.01_neutralpost'"
      ],
      "execution_count": 0,
      "outputs": []
    },
    {
      "cell_type": "code",
      "metadata": {
        "id": "-ueTlDtb52ZH",
        "colab_type": "code",
        "outputId": "86a021dd-2d78-4b97-c3ed-0e549773e4f1",
        "colab": {
          "base_uri": "https://localhost:8080/",
          "height": 233
        }
      },
      "source": [
        "path = wav_r2_neutral\n",
        "\n",
        "path_names = []\n",
        "files = os.listdir(path)\n",
        "for file in files: \n",
        "  path_names.append(path + \"/\" + file)\n",
        "\n",
        "print(len(path_names))\n",
        "path_names"
      ],
      "execution_count": 15,
      "outputs": [
        {
          "output_type": "stream",
          "text": [
            "12\n"
          ],
          "name": "stdout"
        },
        {
          "output_type": "execute_result",
          "data": {
            "text/plain": [
              "['/content/gdrive/Shared drives/USV_eScience_Incubator/Data/wav_files/Fear/CPA_pair_round2/19.04.01_neutralpost/626_neutralpost.wav',\n",
              " '/content/gdrive/Shared drives/USV_eScience_Incubator/Data/wav_files/Fear/CPA_pair_round2/19.04.01_neutralpost/628_neutralpost.wav',\n",
              " '/content/gdrive/Shared drives/USV_eScience_Incubator/Data/wav_files/Fear/CPA_pair_round2/19.04.01_neutralpost/623_neutralpost.wav',\n",
              " '/content/gdrive/Shared drives/USV_eScience_Incubator/Data/wav_files/Fear/CPA_pair_round2/19.04.01_neutralpost/629_neutralpost.wav',\n",
              " '/content/gdrive/Shared drives/USV_eScience_Incubator/Data/wav_files/Fear/CPA_pair_round2/19.04.01_neutralpost/625_neutralpost.wav',\n",
              " '/content/gdrive/Shared drives/USV_eScience_Incubator/Data/wav_files/Fear/CPA_pair_round2/19.04.01_neutralpost/624_neutralpost.wav',\n",
              " '/content/gdrive/Shared drives/USV_eScience_Incubator/Data/wav_files/Fear/CPA_pair_round2/19.04.01_neutralpost/630_neutralpost.wav',\n",
              " '/content/gdrive/Shared drives/USV_eScience_Incubator/Data/wav_files/Fear/CPA_pair_round2/19.04.01_neutralpost/627_neutralpost.wav',\n",
              " '/content/gdrive/Shared drives/USV_eScience_Incubator/Data/wav_files/Fear/CPA_pair_round2/19.04.01_neutralpost/632_neutralpost.wav',\n",
              " '/content/gdrive/Shared drives/USV_eScience_Incubator/Data/wav_files/Fear/CPA_pair_round2/19.04.01_neutralpost/622_neutralpost.wav',\n",
              " '/content/gdrive/Shared drives/USV_eScience_Incubator/Data/wav_files/Fear/CPA_pair_round2/19.04.01_neutralpost/621_neutralpost.wav',\n",
              " '/content/gdrive/Shared drives/USV_eScience_Incubator/Data/wav_files/Fear/CPA_pair_round2/19.04.01_neutralpost/631_neutralpost.wav']"
            ]
          },
          "metadata": {
            "tags": []
          },
          "execution_count": 15
        }
      ]
    },
    {
      "cell_type": "code",
      "metadata": {
        "scrolled": true,
        "id": "OPrNyNRx52ZM",
        "colab_type": "code",
        "outputId": "9afd99e1-6b16-43af-a7c9-0851cea9581f",
        "colab": {
          "base_uri": "https://localhost:8080/",
          "height": 1000
        }
      },
      "source": [
        "order = 'animal'\n",
        "save_path = '/content/gdrive/Shared drives/USV_eScience_Incubator/Data/netcdf_files'\n",
        "\n",
        "file_len=10\n",
        "slice_len=25\n",
        "step_size=0.9\n",
        "\n",
        "spec_window=128\n",
        "NFFT=512\n",
        "\n",
        "for path in path_names:\n",
        "    \n",
        "    animal_number, session = get_file_info(path, order)\n",
        "    \n",
        "    #process wav file of animal corresponding to annotations\n",
        "    print(str('Begin processing animal # ' + animal_number))\n",
        "\n",
        "    #create slices\n",
        "    start = time.time()\n",
        "    samp_freq, sig_data, slices, steps, sig_len = create_slice_from_wav(path, file_len, slice_len, step_size)\n",
        "    end = time.time()\n",
        "    print(str('Slices created in ' + str(end - start) + '  seconds'))\n",
        "\n",
        "    #create spectrograms\n",
        "    start = time.time()\n",
        "    spec_slices, freqs_spec, times = create_spec_from_slice_array(slices, steps, spec_window, NFFT, samp_freq)\n",
        "    end = time.time()\n",
        "    print(str('Spectrograms created in ' + str(end - start) + '  seconds'))\n",
        "\n",
        "    #create xarray Dataset\n",
        "    start = time.time()\n",
        "    slices_Dataset = create_xarray_dataset_from_dic(spec_slices, freqs_spec, times)\n",
        "    end = time.time()\n",
        "    print(str('xarray created in ' + str(end - start) + '  seconds'))\n",
        "\n",
        "    #confirm timestamps are correct\n",
        "    slice_remainder, netcdf_remainder = get_remainders(slices_Dataset, slices, step_size, samp_freq, sig_len)\n",
        "    if slice_remainder != netcdf_remainder:\n",
        "        raise Exception('Mismatch between slice and timestamp remainders')\n",
        "    else:\n",
        "        #save    \n",
        "        start = time.time()\n",
        "        slices_Dataset.to_netcdf(str(save_path + '/' + animal_number + '_' + session + '_xr_Dataset.nc'))\n",
        "        end = time.time()\n",
        "        print(str('xarray saved in ' + str(end - start) + '  seconds'))"
      ],
      "execution_count": 16,
      "outputs": [
        {
          "output_type": "stream",
          "text": [
            "animal first\n",
            "626 neutralpost\n",
            "Begin processing animal # 626\n",
            "Sampling frequency: 250000\n",
            "Number of samples: 150000000\n",
            "Length: 600.0 sec\n",
            "Audio shape: (150000000,), Sliced audio shape: (26666, 6250)\n",
            "Slices created in 7.061180830001831  seconds\n",
            "0\n",
            "5000\n",
            "10000\n",
            "15000\n",
            "20000\n",
            "25000\n",
            "Spectrograms created in 20.37616991996765  seconds\n",
            "xarray created in 16.260170698165894  seconds\n",
            "xarray saved in 6.7128190994262695  seconds\n",
            "animal first\n",
            "628 neutralpost\n",
            "Begin processing animal # 628\n",
            "Sampling frequency: 250000\n",
            "Number of samples: 150000000\n",
            "Length: 600.0 sec\n",
            "Audio shape: (150000000,), Sliced audio shape: (26666, 6250)\n",
            "Slices created in 5.153409481048584  seconds\n",
            "0\n",
            "5000\n",
            "10000\n",
            "15000\n",
            "20000\n",
            "25000\n",
            "Spectrograms created in 21.342045307159424  seconds\n",
            "xarray created in 16.872518301010132  seconds\n",
            "xarray saved in 6.8849196434021  seconds\n",
            "animal first\n",
            "623 neutralpost\n",
            "Begin processing animal # 623\n",
            "Sampling frequency: 250000\n",
            "Number of samples: 150000000\n",
            "Length: 600.0 sec\n",
            "Audio shape: (150000000,), Sliced audio shape: (26666, 6250)\n",
            "Slices created in 12.361434698104858  seconds\n",
            "0\n",
            "5000\n",
            "10000\n",
            "15000\n",
            "20000\n",
            "25000\n",
            "Spectrograms created in 22.40823268890381  seconds\n",
            "xarray created in 16.069661140441895  seconds\n",
            "xarray saved in 6.732737064361572  seconds\n",
            "animal first\n",
            "629 neutralpost\n",
            "Begin processing animal # 629\n",
            "Sampling frequency: 250000\n",
            "Number of samples: 150000000\n",
            "Length: 600.0 sec\n",
            "Audio shape: (150000000,), Sliced audio shape: (26666, 6250)\n",
            "Slices created in 6.182979106903076  seconds\n",
            "0\n",
            "5000\n",
            "10000\n",
            "15000\n",
            "20000\n",
            "25000\n",
            "Spectrograms created in 21.333031177520752  seconds\n",
            "xarray created in 16.408900260925293  seconds\n",
            "xarray saved in 7.111654281616211  seconds\n",
            "animal first\n",
            "625 neutralpost\n",
            "Begin processing animal # 625\n",
            "Sampling frequency: 250000\n",
            "Number of samples: 150000000\n",
            "Length: 600.0 sec\n",
            "Audio shape: (150000000,), Sliced audio shape: (26666, 6250)\n",
            "Slices created in 4.731807231903076  seconds\n",
            "0\n",
            "5000\n",
            "10000\n",
            "15000\n",
            "20000\n",
            "25000\n",
            "Spectrograms created in 21.790938138961792  seconds\n",
            "xarray created in 16.13964867591858  seconds\n",
            "xarray saved in 6.378990173339844  seconds\n",
            "animal first\n",
            "624 neutralpost\n",
            "Begin processing animal # 624\n",
            "Sampling frequency: 250000\n",
            "Number of samples: 150000000\n",
            "Length: 600.0 sec\n",
            "Audio shape: (150000000,), Sliced audio shape: (26666, 6250)\n",
            "Slices created in 3.8197689056396484  seconds\n",
            "0\n",
            "5000\n",
            "10000\n",
            "15000\n",
            "20000\n",
            "25000\n",
            "Spectrograms created in 21.240899801254272  seconds\n",
            "xarray created in 16.508386611938477  seconds\n",
            "xarray saved in 6.695523738861084  seconds\n",
            "animal first\n",
            "630 neutralpost\n",
            "Begin processing animal # 630\n",
            "Sampling frequency: 250000\n",
            "Number of samples: 150000000\n",
            "Length: 600.0 sec\n",
            "Audio shape: (150000000,), Sliced audio shape: (26666, 6250)\n",
            "Slices created in 3.997373104095459  seconds\n",
            "0\n",
            "5000\n",
            "10000\n",
            "15000\n",
            "20000\n",
            "25000\n",
            "Spectrograms created in 21.47391963005066  seconds\n",
            "xarray created in 16.121840953826904  seconds\n",
            "xarray saved in 6.503706455230713  seconds\n",
            "animal first\n",
            "627 neutralpost\n",
            "Begin processing animal # 627\n",
            "Sampling frequency: 250000\n",
            "Number of samples: 150000000\n",
            "Length: 600.0 sec\n",
            "Audio shape: (150000000,), Sliced audio shape: (26666, 6250)\n",
            "Slices created in 3.917022705078125  seconds\n",
            "0\n",
            "5000\n",
            "10000\n",
            "15000\n",
            "20000\n",
            "25000\n",
            "Spectrograms created in 21.039172410964966  seconds\n",
            "xarray created in 16.878440856933594  seconds\n",
            "xarray saved in 6.463491439819336  seconds\n",
            "animal first\n",
            "632 neutralpost\n",
            "Begin processing animal # 632\n",
            "Sampling frequency: 250000\n",
            "Number of samples: 150000000\n",
            "Length: 600.0 sec\n",
            "Audio shape: (150000000,), Sliced audio shape: (26666, 6250)\n",
            "Slices created in 4.01962423324585  seconds\n",
            "0\n",
            "5000\n",
            "10000\n",
            "15000\n",
            "20000\n",
            "25000\n",
            "Spectrograms created in 21.3825261592865  seconds\n",
            "xarray created in 16.34377145767212  seconds\n",
            "xarray saved in 6.611170768737793  seconds\n",
            "animal first\n",
            "622 neutralpost\n",
            "Begin processing animal # 622\n",
            "Sampling frequency: 250000\n",
            "Number of samples: 150000000\n",
            "Length: 600.0 sec\n",
            "Audio shape: (150000000,), Sliced audio shape: (26666, 6250)\n",
            "Slices created in 18.0711190700531  seconds\n",
            "0\n",
            "5000\n",
            "10000\n",
            "15000\n",
            "20000\n",
            "25000\n",
            "Spectrograms created in 21.041356801986694  seconds\n",
            "xarray created in 15.619131803512573  seconds\n",
            "xarray saved in 6.7480409145355225  seconds\n",
            "animal first\n",
            "621 neutralpost\n",
            "Begin processing animal # 621\n",
            "Sampling frequency: 250000\n",
            "Number of samples: 150000000\n",
            "Length: 600.0 sec\n",
            "Audio shape: (150000000,), Sliced audio shape: (26666, 6250)\n",
            "Slices created in 5.269752740859985  seconds\n",
            "0\n",
            "5000\n",
            "10000\n",
            "15000\n",
            "20000\n",
            "25000\n",
            "Spectrograms created in 21.54966902732849  seconds\n",
            "xarray created in 16.35216784477234  seconds\n",
            "xarray saved in 6.856696367263794  seconds\n",
            "animal first\n",
            "631 neutralpost\n",
            "Begin processing animal # 631\n",
            "Sampling frequency: 250000\n",
            "Number of samples: 150000000\n",
            "Length: 600.0 sec\n",
            "Audio shape: (150000000,), Sliced audio shape: (26666, 6250)\n",
            "Slices created in 5.345728397369385  seconds\n",
            "0\n",
            "5000\n",
            "10000\n",
            "15000\n",
            "20000\n",
            "25000\n",
            "Spectrograms created in 21.122506856918335  seconds\n",
            "xarray created in 16.320215940475464  seconds\n",
            "xarray saved in 6.798573970794678  seconds\n"
          ],
          "name": "stdout"
        }
      ]
    }
  ]
}