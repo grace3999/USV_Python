{
 "cells": [
  {
   "cell_type": "code",
   "execution_count": 47,
   "metadata": {},
   "outputs": [],
   "source": [
    "import numpy as np\n",
    "import pandas as pd\n",
    "import math\n",
    "import time\n",
    "import re\n",
    "import os\n",
    "from skimage import util\n",
    "from scipy.io import wavfile\n",
    "from scipy import signal\n",
    "from scipy import stats\n",
    "import xarray as xr\n",
    "\n",
    "from sklearn.preprocessing import StandardScaler\n",
    "from sklearn.model_selection import StratifiedKFold, train_test_split, cross_val_score, cross_val_predict\n",
    "from sklearn.linear_model import LogisticRegression, LogisticRegressionCV\n",
    "from sklearn.dummy import DummyClassifier\n",
    "from sklearn import metrics\n",
    "from sklearn.metrics import confusion_matrix\n",
    "from sklearn.metrics import roc_auc_score\n",
    "from sklearn.metrics import mean_squared_error, accuracy_score\n",
    "\n",
    "\n",
    "from sklearn.cluster import KMeans\n",
    "from sklearn.metrics.cluster import silhouette_score\n",
    "from sklearn.decomposition import PCA\n",
    "\n",
    "#visualizing results\n",
    "%matplotlib inline\n",
    "import matplotlib.pyplot as plt\n",
    "import seaborn as sns"
   ]
  },
  {
   "cell_type": "code",
   "execution_count": 48,
   "metadata": {},
   "outputs": [],
   "source": [
    "pd.set_option('display.max_rows', 500)\n",
    "pd.set_option('display.max_columns', 500)\n",
    "pd.set_option('display.width', 1000)"
   ]
  },
  {
   "cell_type": "markdown",
   "metadata": {},
   "source": [
    "Create data frame of annotation info"
   ]
  },
  {
   "cell_type": "code",
   "execution_count": 49,
   "metadata": {},
   "outputs": [
    {
     "name": "stdout",
     "output_type": "stream",
     "text": [
      "(1084, 8)\n",
      "Int64Index([], dtype='int64')\n",
      "(1084, 8)\n",
      "Int64Index([], dtype='int64')\n"
     ]
    },
    {
     "data": {
      "text/html": [
       "<div>\n",
       "<style scoped>\n",
       "    .dataframe tbody tr th:only-of-type {\n",
       "        vertical-align: middle;\n",
       "    }\n",
       "\n",
       "    .dataframe tbody tr th {\n",
       "        vertical-align: top;\n",
       "    }\n",
       "\n",
       "    .dataframe thead th {\n",
       "        text-align: right;\n",
       "    }\n",
       "</style>\n",
       "<table border=\"1\" class=\"dataframe\">\n",
       "  <thead>\n",
       "    <tr style=\"text-align: right;\">\n",
       "      <th></th>\n",
       "      <th>Unnamed: 0</th>\n",
       "      <th>Animal</th>\n",
       "      <th>Group</th>\n",
       "      <th>Annotation</th>\n",
       "      <th>time_stamp</th>\n",
       "      <th>power_sum</th>\n",
       "      <th>spec_pur</th>\n",
       "      <th>spec_cent</th>\n",
       "    </tr>\n",
       "  </thead>\n",
       "  <tbody>\n",
       "    <tr>\n",
       "      <th>0</th>\n",
       "      <td>0</td>\n",
       "      <td>533</td>\n",
       "      <td>5</td>\n",
       "      <td>low slug</td>\n",
       "      <td>46305.0</td>\n",
       "      <td>32714.904</td>\n",
       "      <td>0.368722</td>\n",
       "      <td>39977.722859</td>\n",
       "    </tr>\n",
       "    <tr>\n",
       "      <th>1</th>\n",
       "      <td>1</td>\n",
       "      <td>533</td>\n",
       "      <td>5</td>\n",
       "      <td>low slug</td>\n",
       "      <td>149692.5</td>\n",
       "      <td>43037.465</td>\n",
       "      <td>0.306856</td>\n",
       "      <td>37931.297174</td>\n",
       "    </tr>\n",
       "    <tr>\n",
       "      <th>2</th>\n",
       "      <td>2</td>\n",
       "      <td>533</td>\n",
       "      <td>5</td>\n",
       "      <td>low slug</td>\n",
       "      <td>243157.5</td>\n",
       "      <td>270193.530</td>\n",
       "      <td>0.062226</td>\n",
       "      <td>11483.575417</td>\n",
       "    </tr>\n",
       "    <tr>\n",
       "      <th>3</th>\n",
       "      <td>3</td>\n",
       "      <td>533</td>\n",
       "      <td>5</td>\n",
       "      <td>low slug</td>\n",
       "      <td>243270.0</td>\n",
       "      <td>63014.450</td>\n",
       "      <td>0.232295</td>\n",
       "      <td>32242.080548</td>\n",
       "    </tr>\n",
       "    <tr>\n",
       "      <th>4</th>\n",
       "      <td>4</td>\n",
       "      <td>533</td>\n",
       "      <td>5</td>\n",
       "      <td>low multi</td>\n",
       "      <td>295560.0</td>\n",
       "      <td>74933.164</td>\n",
       "      <td>0.206291</td>\n",
       "      <td>17095.059755</td>\n",
       "    </tr>\n",
       "  </tbody>\n",
       "</table>\n",
       "</div>"
      ],
      "text/plain": [
       "   Unnamed: 0  Animal  Group Annotation  time_stamp   power_sum  spec_pur     spec_cent\n",
       "0           0     533      5   low slug     46305.0   32714.904  0.368722  39977.722859\n",
       "1           1     533      5   low slug    149692.5   43037.465  0.306856  37931.297174\n",
       "2           2     533      5   low slug    243157.5  270193.530  0.062226  11483.575417\n",
       "3           3     533      5   low slug    243270.0   63014.450  0.232295  32242.080548\n",
       "4           4     533      5  low multi    295560.0   74933.164  0.206291  17095.059755"
      ]
     },
     "execution_count": 49,
     "metadata": {},
     "output_type": "execute_result"
    }
   ],
   "source": [
    "features_path = 'C:/Users/Schindler/Documents/ProgrammingFun/USV_python/annot_features_full.csv'\n",
    "annot_features_data = pd.read_csv(features_path)\n",
    "annot_features_full = pd.DataFrame(data = annot_features_data)\n",
    "print(annot_features_full.shape)\n",
    "print(annot_features_full.loc[pd.isna(annot_features_full['spec_pur'])].index)\n",
    "annot_features_full.dropna(axis = 0, inplace=True)\n",
    "print(annot_features_full.shape)\n",
    "print(annot_features_full.loc[pd.isna(annot_features_full['spec_pur'])].index)\n",
    "annot_features_full.head()"
   ]
  },
  {
   "cell_type": "code",
   "execution_count": 50,
   "metadata": {},
   "outputs": [
    {
     "data": {
      "text/html": [
       "<div>\n",
       "<style scoped>\n",
       "    .dataframe tbody tr th:only-of-type {\n",
       "        vertical-align: middle;\n",
       "    }\n",
       "\n",
       "    .dataframe tbody tr th {\n",
       "        vertical-align: top;\n",
       "    }\n",
       "\n",
       "    .dataframe thead tr th {\n",
       "        text-align: left;\n",
       "    }\n",
       "\n",
       "    .dataframe thead tr:last-of-type th {\n",
       "        text-align: right;\n",
       "    }\n",
       "</style>\n",
       "<table border=\"1\" class=\"dataframe\">\n",
       "  <thead>\n",
       "    <tr>\n",
       "      <th></th>\n",
       "      <th colspan=\"8\" halign=\"left\">Unnamed: 0</th>\n",
       "      <th colspan=\"8\" halign=\"left\">Animal</th>\n",
       "      <th colspan=\"8\" halign=\"left\">Group</th>\n",
       "      <th colspan=\"8\" halign=\"left\">time_stamp</th>\n",
       "      <th colspan=\"8\" halign=\"left\">power_sum</th>\n",
       "      <th colspan=\"8\" halign=\"left\">spec_pur</th>\n",
       "      <th colspan=\"8\" halign=\"left\">spec_cent</th>\n",
       "    </tr>\n",
       "    <tr>\n",
       "      <th></th>\n",
       "      <th>count</th>\n",
       "      <th>mean</th>\n",
       "      <th>std</th>\n",
       "      <th>min</th>\n",
       "      <th>25%</th>\n",
       "      <th>50%</th>\n",
       "      <th>75%</th>\n",
       "      <th>max</th>\n",
       "      <th>count</th>\n",
       "      <th>mean</th>\n",
       "      <th>std</th>\n",
       "      <th>min</th>\n",
       "      <th>25%</th>\n",
       "      <th>50%</th>\n",
       "      <th>75%</th>\n",
       "      <th>max</th>\n",
       "      <th>count</th>\n",
       "      <th>mean</th>\n",
       "      <th>std</th>\n",
       "      <th>min</th>\n",
       "      <th>25%</th>\n",
       "      <th>50%</th>\n",
       "      <th>75%</th>\n",
       "      <th>max</th>\n",
       "      <th>count</th>\n",
       "      <th>mean</th>\n",
       "      <th>std</th>\n",
       "      <th>min</th>\n",
       "      <th>25%</th>\n",
       "      <th>50%</th>\n",
       "      <th>75%</th>\n",
       "      <th>max</th>\n",
       "      <th>count</th>\n",
       "      <th>mean</th>\n",
       "      <th>std</th>\n",
       "      <th>min</th>\n",
       "      <th>25%</th>\n",
       "      <th>50%</th>\n",
       "      <th>75%</th>\n",
       "      <th>max</th>\n",
       "      <th>count</th>\n",
       "      <th>mean</th>\n",
       "      <th>std</th>\n",
       "      <th>min</th>\n",
       "      <th>25%</th>\n",
       "      <th>50%</th>\n",
       "      <th>75%</th>\n",
       "      <th>max</th>\n",
       "      <th>count</th>\n",
       "      <th>mean</th>\n",
       "      <th>std</th>\n",
       "      <th>min</th>\n",
       "      <th>25%</th>\n",
       "      <th>50%</th>\n",
       "      <th>75%</th>\n",
       "      <th>max</th>\n",
       "    </tr>\n",
       "    <tr>\n",
       "      <th>Annotation</th>\n",
       "      <th></th>\n",
       "      <th></th>\n",
       "      <th></th>\n",
       "      <th></th>\n",
       "      <th></th>\n",
       "      <th></th>\n",
       "      <th></th>\n",
       "      <th></th>\n",
       "      <th></th>\n",
       "      <th></th>\n",
       "      <th></th>\n",
       "      <th></th>\n",
       "      <th></th>\n",
       "      <th></th>\n",
       "      <th></th>\n",
       "      <th></th>\n",
       "      <th></th>\n",
       "      <th></th>\n",
       "      <th></th>\n",
       "      <th></th>\n",
       "      <th></th>\n",
       "      <th></th>\n",
       "      <th></th>\n",
       "      <th></th>\n",
       "      <th></th>\n",
       "      <th></th>\n",
       "      <th></th>\n",
       "      <th></th>\n",
       "      <th></th>\n",
       "      <th></th>\n",
       "      <th></th>\n",
       "      <th></th>\n",
       "      <th></th>\n",
       "      <th></th>\n",
       "      <th></th>\n",
       "      <th></th>\n",
       "      <th></th>\n",
       "      <th></th>\n",
       "      <th></th>\n",
       "      <th></th>\n",
       "      <th></th>\n",
       "      <th></th>\n",
       "      <th></th>\n",
       "      <th></th>\n",
       "      <th></th>\n",
       "      <th></th>\n",
       "      <th></th>\n",
       "      <th></th>\n",
       "      <th></th>\n",
       "      <th></th>\n",
       "      <th></th>\n",
       "      <th></th>\n",
       "      <th></th>\n",
       "      <th></th>\n",
       "      <th></th>\n",
       "      <th></th>\n",
       "    </tr>\n",
       "  </thead>\n",
       "  <tbody>\n",
       "    <tr>\n",
       "      <th>bbc</th>\n",
       "      <td>16.0</td>\n",
       "      <td>81.875000</td>\n",
       "      <td>26.181100</td>\n",
       "      <td>21.0</td>\n",
       "      <td>76.25</td>\n",
       "      <td>84.5</td>\n",
       "      <td>101.75</td>\n",
       "      <td>107.0</td>\n",
       "      <td>16.0</td>\n",
       "      <td>551.125000</td>\n",
       "      <td>8.724487</td>\n",
       "      <td>534.0</td>\n",
       "      <td>543.0</td>\n",
       "      <td>554.0</td>\n",
       "      <td>559.0</td>\n",
       "      <td>559.0</td>\n",
       "      <td>16.0</td>\n",
       "      <td>4.437500</td>\n",
       "      <td>0.512348</td>\n",
       "      <td>4.0</td>\n",
       "      <td>4.0</td>\n",
       "      <td>4.0</td>\n",
       "      <td>5.0</td>\n",
       "      <td>5.0</td>\n",
       "      <td>16.0</td>\n",
       "      <td>222723.281250</td>\n",
       "      <td>161859.049561</td>\n",
       "      <td>13590.0</td>\n",
       "      <td>117303.75</td>\n",
       "      <td>196908.75</td>\n",
       "      <td>301685.625</td>\n",
       "      <td>535702.5</td>\n",
       "      <td>16.0</td>\n",
       "      <td>2.040783e+05</td>\n",
       "      <td>1.933221e+05</td>\n",
       "      <td>65204.582</td>\n",
       "      <td>118303.71000</td>\n",
       "      <td>157959.005</td>\n",
       "      <td>179809.2375</td>\n",
       "      <td>872012.6</td>\n",
       "      <td>16.0</td>\n",
       "      <td>0.101816</td>\n",
       "      <td>0.046395</td>\n",
       "      <td>0.026119</td>\n",
       "      <td>0.085418</td>\n",
       "      <td>0.089934</td>\n",
       "      <td>0.118413</td>\n",
       "      <td>0.219365</td>\n",
       "      <td>16.0</td>\n",
       "      <td>31369.661607</td>\n",
       "      <td>3408.032120</td>\n",
       "      <td>25428.290568</td>\n",
       "      <td>29530.387688</td>\n",
       "      <td>31273.059203</td>\n",
       "      <td>33965.215906</td>\n",
       "      <td>36864.115098</td>\n",
       "    </tr>\n",
       "    <tr>\n",
       "      <th>high multi</th>\n",
       "      <td>5.0</td>\n",
       "      <td>60.800000</td>\n",
       "      <td>34.981424</td>\n",
       "      <td>10.0</td>\n",
       "      <td>53.00</td>\n",
       "      <td>56.0</td>\n",
       "      <td>82.00</td>\n",
       "      <td>103.0</td>\n",
       "      <td>5.0</td>\n",
       "      <td>543.200000</td>\n",
       "      <td>12.296341</td>\n",
       "      <td>533.0</td>\n",
       "      <td>535.0</td>\n",
       "      <td>535.0</td>\n",
       "      <td>554.0</td>\n",
       "      <td>559.0</td>\n",
       "      <td>5.0</td>\n",
       "      <td>4.800000</td>\n",
       "      <td>0.447214</td>\n",
       "      <td>4.0</td>\n",
       "      <td>5.0</td>\n",
       "      <td>5.0</td>\n",
       "      <td>5.0</td>\n",
       "      <td>5.0</td>\n",
       "      <td>5.0</td>\n",
       "      <td>302022.000000</td>\n",
       "      <td>170424.906515</td>\n",
       "      <td>57397.5</td>\n",
       "      <td>192375.00</td>\n",
       "      <td>379530.00</td>\n",
       "      <td>438345.000</td>\n",
       "      <td>442462.5</td>\n",
       "      <td>5.0</td>\n",
       "      <td>2.495828e+05</td>\n",
       "      <td>2.766522e+05</td>\n",
       "      <td>36262.824</td>\n",
       "      <td>82139.89000</td>\n",
       "      <td>85348.330</td>\n",
       "      <td>353085.7200</td>\n",
       "      <td>691077.3</td>\n",
       "      <td>5.0</td>\n",
       "      <td>0.178159</td>\n",
       "      <td>0.120824</td>\n",
       "      <td>0.047601</td>\n",
       "      <td>0.077175</td>\n",
       "      <td>0.207964</td>\n",
       "      <td>0.208621</td>\n",
       "      <td>0.349433</td>\n",
       "      <td>5.0</td>\n",
       "      <td>31143.298553</td>\n",
       "      <td>10637.140651</td>\n",
       "      <td>20439.491922</td>\n",
       "      <td>22611.237394</td>\n",
       "      <td>27829.758591</td>\n",
       "      <td>42347.084235</td>\n",
       "      <td>42488.920624</td>\n",
       "    </tr>\n",
       "    <tr>\n",
       "      <th>high slug</th>\n",
       "      <td>9.0</td>\n",
       "      <td>66.000000</td>\n",
       "      <td>29.664794</td>\n",
       "      <td>11.0</td>\n",
       "      <td>55.00</td>\n",
       "      <td>68.0</td>\n",
       "      <td>86.00</td>\n",
       "      <td>100.0</td>\n",
       "      <td>9.0</td>\n",
       "      <td>545.888889</td>\n",
       "      <td>10.658851</td>\n",
       "      <td>533.0</td>\n",
       "      <td>535.0</td>\n",
       "      <td>542.0</td>\n",
       "      <td>554.0</td>\n",
       "      <td>559.0</td>\n",
       "      <td>9.0</td>\n",
       "      <td>4.555556</td>\n",
       "      <td>0.527046</td>\n",
       "      <td>4.0</td>\n",
       "      <td>4.0</td>\n",
       "      <td>5.0</td>\n",
       "      <td>5.0</td>\n",
       "      <td>5.0</td>\n",
       "      <td>9.0</td>\n",
       "      <td>220312.500000</td>\n",
       "      <td>219288.402620</td>\n",
       "      <td>6727.5</td>\n",
       "      <td>22657.50</td>\n",
       "      <td>128407.50</td>\n",
       "      <td>395572.500</td>\n",
       "      <td>567112.5</td>\n",
       "      <td>9.0</td>\n",
       "      <td>2.744756e+05</td>\n",
       "      <td>2.536576e+05</td>\n",
       "      <td>33684.504</td>\n",
       "      <td>35585.75000</td>\n",
       "      <td>241675.030</td>\n",
       "      <td>423924.3000</td>\n",
       "      <td>668787.6</td>\n",
       "      <td>9.0</td>\n",
       "      <td>0.177870</td>\n",
       "      <td>0.146711</td>\n",
       "      <td>0.045738</td>\n",
       "      <td>0.051601</td>\n",
       "      <td>0.082861</td>\n",
       "      <td>0.354162</td>\n",
       "      <td>0.370857</td>\n",
       "      <td>9.0</td>\n",
       "      <td>30765.986009</td>\n",
       "      <td>15858.721043</td>\n",
       "      <td>13903.043684</td>\n",
       "      <td>16985.075190</td>\n",
       "      <td>28970.234673</td>\n",
       "      <td>46283.469560</td>\n",
       "      <td>55862.626347</td>\n",
       "    </tr>\n",
       "    <tr>\n",
       "      <th>low multi</th>\n",
       "      <td>17.0</td>\n",
       "      <td>45.176471</td>\n",
       "      <td>30.364937</td>\n",
       "      <td>4.0</td>\n",
       "      <td>24.00</td>\n",
       "      <td>30.0</td>\n",
       "      <td>72.00</td>\n",
       "      <td>91.0</td>\n",
       "      <td>17.0</td>\n",
       "      <td>539.352941</td>\n",
       "      <td>7.631687</td>\n",
       "      <td>533.0</td>\n",
       "      <td>535.0</td>\n",
       "      <td>535.0</td>\n",
       "      <td>542.0</td>\n",
       "      <td>554.0</td>\n",
       "      <td>17.0</td>\n",
       "      <td>4.647059</td>\n",
       "      <td>0.492592</td>\n",
       "      <td>4.0</td>\n",
       "      <td>4.0</td>\n",
       "      <td>5.0</td>\n",
       "      <td>5.0</td>\n",
       "      <td>5.0</td>\n",
       "      <td>17.0</td>\n",
       "      <td>244778.823529</td>\n",
       "      <td>208506.188963</td>\n",
       "      <td>90.0</td>\n",
       "      <td>23017.50</td>\n",
       "      <td>295560.00</td>\n",
       "      <td>455805.000</td>\n",
       "      <td>575505.0</td>\n",
       "      <td>17.0</td>\n",
       "      <td>3.931856e+05</td>\n",
       "      <td>3.583600e+05</td>\n",
       "      <td>45047.930</td>\n",
       "      <td>186790.48000</td>\n",
       "      <td>247730.560</td>\n",
       "      <td>512213.7200</td>\n",
       "      <td>1366219.0</td>\n",
       "      <td>17.0</td>\n",
       "      <td>0.097847</td>\n",
       "      <td>0.073801</td>\n",
       "      <td>0.027210</td>\n",
       "      <td>0.044896</td>\n",
       "      <td>0.079218</td>\n",
       "      <td>0.100473</td>\n",
       "      <td>0.297074</td>\n",
       "      <td>17.0</td>\n",
       "      <td>17385.064098</td>\n",
       "      <td>4301.340444</td>\n",
       "      <td>12501.794627</td>\n",
       "      <td>15822.447828</td>\n",
       "      <td>16554.420830</td>\n",
       "      <td>18903.457821</td>\n",
       "      <td>32044.287711</td>\n",
       "    </tr>\n",
       "    <tr>\n",
       "      <th>low slug</th>\n",
       "      <td>62.0</td>\n",
       "      <td>46.935484</td>\n",
       "      <td>29.354739</td>\n",
       "      <td>0.0</td>\n",
       "      <td>20.50</td>\n",
       "      <td>45.5</td>\n",
       "      <td>66.50</td>\n",
       "      <td>108.0</td>\n",
       "      <td>62.0</td>\n",
       "      <td>539.112903</td>\n",
       "      <td>7.600916</td>\n",
       "      <td>533.0</td>\n",
       "      <td>534.0</td>\n",
       "      <td>535.0</td>\n",
       "      <td>542.0</td>\n",
       "      <td>559.0</td>\n",
       "      <td>62.0</td>\n",
       "      <td>4.677419</td>\n",
       "      <td>0.471280</td>\n",
       "      <td>4.0</td>\n",
       "      <td>4.0</td>\n",
       "      <td>5.0</td>\n",
       "      <td>5.0</td>\n",
       "      <td>5.0</td>\n",
       "      <td>62.0</td>\n",
       "      <td>242996.370968</td>\n",
       "      <td>151981.621983</td>\n",
       "      <td>22725.0</td>\n",
       "      <td>127012.50</td>\n",
       "      <td>243213.75</td>\n",
       "      <td>356428.125</td>\n",
       "      <td>574672.5</td>\n",
       "      <td>62.0</td>\n",
       "      <td>1.026602e+05</td>\n",
       "      <td>1.491664e+05</td>\n",
       "      <td>29249.727</td>\n",
       "      <td>46238.01975</td>\n",
       "      <td>59030.867</td>\n",
       "      <td>109011.7725</td>\n",
       "      <td>1161364.1</td>\n",
       "      <td>62.0</td>\n",
       "      <td>0.223169</td>\n",
       "      <td>0.095624</td>\n",
       "      <td>0.017949</td>\n",
       "      <td>0.137873</td>\n",
       "      <td>0.231384</td>\n",
       "      <td>0.296027</td>\n",
       "      <td>0.405450</td>\n",
       "      <td>62.0</td>\n",
       "      <td>25470.119384</td>\n",
       "      <td>7960.917320</td>\n",
       "      <td>10713.660506</td>\n",
       "      <td>19087.243402</td>\n",
       "      <td>25233.531090</td>\n",
       "      <td>32809.457525</td>\n",
       "      <td>41093.575177</td>\n",
       "    </tr>\n",
       "    <tr>\n",
       "      <th>noise</th>\n",
       "      <td>75.0</td>\n",
       "      <td>146.000000</td>\n",
       "      <td>21.794495</td>\n",
       "      <td>109.0</td>\n",
       "      <td>127.50</td>\n",
       "      <td>146.0</td>\n",
       "      <td>164.50</td>\n",
       "      <td>183.0</td>\n",
       "      <td>75.0</td>\n",
       "      <td>600.000000</td>\n",
       "      <td>0.000000</td>\n",
       "      <td>600.0</td>\n",
       "      <td>600.0</td>\n",
       "      <td>600.0</td>\n",
       "      <td>600.0</td>\n",
       "      <td>600.0</td>\n",
       "      <td>75.0</td>\n",
       "      <td>0.000000</td>\n",
       "      <td>0.000000</td>\n",
       "      <td>0.0</td>\n",
       "      <td>0.0</td>\n",
       "      <td>0.0</td>\n",
       "      <td>0.0</td>\n",
       "      <td>0.0</td>\n",
       "      <td>75.0</td>\n",
       "      <td>100855.200000</td>\n",
       "      <td>56394.564066</td>\n",
       "      <td>967.5</td>\n",
       "      <td>56700.00</td>\n",
       "      <td>107460.00</td>\n",
       "      <td>137610.000</td>\n",
       "      <td>239805.0</td>\n",
       "      <td>75.0</td>\n",
       "      <td>2.590662e+06</td>\n",
       "      <td>7.979639e+06</td>\n",
       "      <td>36285.484</td>\n",
       "      <td>82726.63500</td>\n",
       "      <td>263592.000</td>\n",
       "      <td>860112.3000</td>\n",
       "      <td>49377196.0</td>\n",
       "      <td>75.0</td>\n",
       "      <td>0.125578</td>\n",
       "      <td>0.113946</td>\n",
       "      <td>0.002802</td>\n",
       "      <td>0.030875</td>\n",
       "      <td>0.075092</td>\n",
       "      <td>0.215391</td>\n",
       "      <td>0.380114</td>\n",
       "      <td>75.0</td>\n",
       "      <td>22721.368389</td>\n",
       "      <td>15864.965411</td>\n",
       "      <td>7710.542405</td>\n",
       "      <td>12024.787714</td>\n",
       "      <td>15008.980593</td>\n",
       "      <td>27881.028570</td>\n",
       "      <td>71225.857234</td>\n",
       "    </tr>\n",
       "    <tr>\n",
       "      <th>rand_noise</th>\n",
       "      <td>900.0</td>\n",
       "      <td>449.500000</td>\n",
       "      <td>259.951919</td>\n",
       "      <td>0.0</td>\n",
       "      <td>224.75</td>\n",
       "      <td>449.5</td>\n",
       "      <td>674.25</td>\n",
       "      <td>899.0</td>\n",
       "      <td>900.0</td>\n",
       "      <td>550.555556</td>\n",
       "      <td>19.737494</td>\n",
       "      <td>533.0</td>\n",
       "      <td>535.0</td>\n",
       "      <td>543.0</td>\n",
       "      <td>555.0</td>\n",
       "      <td>600.0</td>\n",
       "      <td>900.0</td>\n",
       "      <td>4.000000</td>\n",
       "      <td>1.491541</td>\n",
       "      <td>0.0</td>\n",
       "      <td>4.0</td>\n",
       "      <td>4.0</td>\n",
       "      <td>5.0</td>\n",
       "      <td>5.0</td>\n",
       "      <td>900.0</td>\n",
       "      <td>287819.650000</td>\n",
       "      <td>170972.175582</td>\n",
       "      <td>1350.0</td>\n",
       "      <td>140613.75</td>\n",
       "      <td>269730.00</td>\n",
       "      <td>430846.875</td>\n",
       "      <td>598860.0</td>\n",
       "      <td>900.0</td>\n",
       "      <td>1.260482e+05</td>\n",
       "      <td>5.460276e+05</td>\n",
       "      <td>22580.180</td>\n",
       "      <td>31553.25700</td>\n",
       "      <td>39351.943</td>\n",
       "      <td>58996.9850</td>\n",
       "      <td>9343450.0</td>\n",
       "      <td>900.0</td>\n",
       "      <td>0.307168</td>\n",
       "      <td>0.107090</td>\n",
       "      <td>0.005556</td>\n",
       "      <td>0.248871</td>\n",
       "      <td>0.331252</td>\n",
       "      <td>0.389052</td>\n",
       "      <td>0.468314</td>\n",
       "      <td>900.0</td>\n",
       "      <td>36758.765941</td>\n",
       "      <td>9923.889574</td>\n",
       "      <td>9482.507198</td>\n",
       "      <td>30426.367363</td>\n",
       "      <td>39314.465412</td>\n",
       "      <td>44731.850233</td>\n",
       "      <td>67244.683077</td>\n",
       "    </tr>\n",
       "  </tbody>\n",
       "</table>\n",
       "</div>"
      ],
      "text/plain": [
       "           Unnamed: 0                                                              Animal                                                            Group                                              time_stamp                                                                                    power_sum                                                                                           spec_pur                                                                       spec_cent                                                                                                  \n",
       "                count        mean         std    min     25%    50%     75%    max  count        mean        std    min    25%    50%    75%    max  count      mean       std  min  25%  50%  75%  max      count           mean            std      min        25%        50%         75%       max     count          mean           std        min           25%         50%          75%         max    count      mean       std       min       25%       50%       75%       max     count          mean           std           min           25%           50%           75%           max\n",
       "Annotation                                                                                                                                                                                                                                                                                                                                                                                                                                                                                                                                                                                          \n",
       "bbc              16.0   81.875000   26.181100   21.0   76.25   84.5  101.75  107.0   16.0  551.125000   8.724487  534.0  543.0  554.0  559.0  559.0   16.0  4.437500  0.512348  4.0  4.0  4.0  5.0  5.0       16.0  222723.281250  161859.049561  13590.0  117303.75  196908.75  301685.625  535702.5      16.0  2.040783e+05  1.933221e+05  65204.582  118303.71000  157959.005  179809.2375    872012.6     16.0  0.101816  0.046395  0.026119  0.085418  0.089934  0.118413  0.219365      16.0  31369.661607   3408.032120  25428.290568  29530.387688  31273.059203  33965.215906  36864.115098\n",
       "high multi        5.0   60.800000   34.981424   10.0   53.00   56.0   82.00  103.0    5.0  543.200000  12.296341  533.0  535.0  535.0  554.0  559.0    5.0  4.800000  0.447214  4.0  5.0  5.0  5.0  5.0        5.0  302022.000000  170424.906515  57397.5  192375.00  379530.00  438345.000  442462.5       5.0  2.495828e+05  2.766522e+05  36262.824   82139.89000   85348.330  353085.7200    691077.3      5.0  0.178159  0.120824  0.047601  0.077175  0.207964  0.208621  0.349433       5.0  31143.298553  10637.140651  20439.491922  22611.237394  27829.758591  42347.084235  42488.920624\n",
       "high slug         9.0   66.000000   29.664794   11.0   55.00   68.0   86.00  100.0    9.0  545.888889  10.658851  533.0  535.0  542.0  554.0  559.0    9.0  4.555556  0.527046  4.0  4.0  5.0  5.0  5.0        9.0  220312.500000  219288.402620   6727.5   22657.50  128407.50  395572.500  567112.5       9.0  2.744756e+05  2.536576e+05  33684.504   35585.75000  241675.030  423924.3000    668787.6      9.0  0.177870  0.146711  0.045738  0.051601  0.082861  0.354162  0.370857       9.0  30765.986009  15858.721043  13903.043684  16985.075190  28970.234673  46283.469560  55862.626347\n",
       "low multi        17.0   45.176471   30.364937    4.0   24.00   30.0   72.00   91.0   17.0  539.352941   7.631687  533.0  535.0  535.0  542.0  554.0   17.0  4.647059  0.492592  4.0  4.0  5.0  5.0  5.0       17.0  244778.823529  208506.188963     90.0   23017.50  295560.00  455805.000  575505.0      17.0  3.931856e+05  3.583600e+05  45047.930  186790.48000  247730.560  512213.7200   1366219.0     17.0  0.097847  0.073801  0.027210  0.044896  0.079218  0.100473  0.297074      17.0  17385.064098   4301.340444  12501.794627  15822.447828  16554.420830  18903.457821  32044.287711\n",
       "low slug         62.0   46.935484   29.354739    0.0   20.50   45.5   66.50  108.0   62.0  539.112903   7.600916  533.0  534.0  535.0  542.0  559.0   62.0  4.677419  0.471280  4.0  4.0  5.0  5.0  5.0       62.0  242996.370968  151981.621983  22725.0  127012.50  243213.75  356428.125  574672.5      62.0  1.026602e+05  1.491664e+05  29249.727   46238.01975   59030.867  109011.7725   1161364.1     62.0  0.223169  0.095624  0.017949  0.137873  0.231384  0.296027  0.405450      62.0  25470.119384   7960.917320  10713.660506  19087.243402  25233.531090  32809.457525  41093.575177\n",
       "noise            75.0  146.000000   21.794495  109.0  127.50  146.0  164.50  183.0   75.0  600.000000   0.000000  600.0  600.0  600.0  600.0  600.0   75.0  0.000000  0.000000  0.0  0.0  0.0  0.0  0.0       75.0  100855.200000   56394.564066    967.5   56700.00  107460.00  137610.000  239805.0      75.0  2.590662e+06  7.979639e+06  36285.484   82726.63500  263592.000  860112.3000  49377196.0     75.0  0.125578  0.113946  0.002802  0.030875  0.075092  0.215391  0.380114      75.0  22721.368389  15864.965411   7710.542405  12024.787714  15008.980593  27881.028570  71225.857234\n",
       "rand_noise      900.0  449.500000  259.951919    0.0  224.75  449.5  674.25  899.0  900.0  550.555556  19.737494  533.0  535.0  543.0  555.0  600.0  900.0  4.000000  1.491541  0.0  4.0  4.0  5.0  5.0      900.0  287819.650000  170972.175582   1350.0  140613.75  269730.00  430846.875  598860.0     900.0  1.260482e+05  5.460276e+05  22580.180   31553.25700   39351.943   58996.9850   9343450.0    900.0  0.307168  0.107090  0.005556  0.248871  0.331252  0.389052  0.468314     900.0  36758.765941   9923.889574   9482.507198  30426.367363  39314.465412  44731.850233  67244.683077"
      ]
     },
     "execution_count": 50,
     "metadata": {},
     "output_type": "execute_result"
    }
   ],
   "source": [
    "annot_features_full.groupby('Annotation').describe()"
   ]
  },
  {
   "cell_type": "code",
   "execution_count": 51,
   "metadata": {},
   "outputs": [],
   "source": [
    "annot_labels_full = annot_features_full['Annotation']"
   ]
  },
  {
   "cell_type": "code",
   "execution_count": 52,
   "metadata": {},
   "outputs": [],
   "source": [
    "#separate and save for later testing dataset\n",
    "X_train, X_test, y_train, y_test = train_test_split(annot_features_full, annot_labels_full, test_size=0.3, random_state=1, stratify = annot_labels_full)"
   ]
  },
  {
   "cell_type": "code",
   "execution_count": 53,
   "metadata": {},
   "outputs": [],
   "source": [
    "y_train.replace(regex={r'low slug': 1, 'high slug': 1, 'low multi': 1, 'high multi': 1, 'bbc': 1, 'noise': 0, 'rand_noise': 0}, inplace=True)"
   ]
  },
  {
   "cell_type": "code",
   "execution_count": 54,
   "metadata": {},
   "outputs": [
    {
     "data": {
      "text/plain": [
       "0    682\n",
       "1     76\n",
       "Name: Annotation, dtype: int64"
      ]
     },
     "execution_count": 54,
     "metadata": {},
     "output_type": "execute_result"
    }
   ],
   "source": [
    "y_train.value_counts()"
   ]
  },
  {
   "cell_type": "code",
   "execution_count": 55,
   "metadata": {},
   "outputs": [
    {
     "data": {
      "text/html": [
       "<div>\n",
       "<style scoped>\n",
       "    .dataframe tbody tr th:only-of-type {\n",
       "        vertical-align: middle;\n",
       "    }\n",
       "\n",
       "    .dataframe tbody tr th {\n",
       "        vertical-align: top;\n",
       "    }\n",
       "\n",
       "    .dataframe thead th {\n",
       "        text-align: right;\n",
       "    }\n",
       "</style>\n",
       "<table border=\"1\" class=\"dataframe\">\n",
       "  <thead>\n",
       "    <tr style=\"text-align: right;\">\n",
       "      <th></th>\n",
       "      <th>power_sum</th>\n",
       "      <th>spec_pur</th>\n",
       "      <th>spec_cent</th>\n",
       "    </tr>\n",
       "  </thead>\n",
       "  <tbody>\n",
       "    <tr>\n",
       "      <th>715</th>\n",
       "      <td>38291.895</td>\n",
       "      <td>0.341985</td>\n",
       "      <td>43326.606692</td>\n",
       "    </tr>\n",
       "    <tr>\n",
       "      <th>614</th>\n",
       "      <td>75516.050</td>\n",
       "      <td>0.307858</td>\n",
       "      <td>38593.783622</td>\n",
       "    </tr>\n",
       "    <tr>\n",
       "      <th>1082</th>\n",
       "      <td>51068.047</td>\n",
       "      <td>0.014144</td>\n",
       "      <td>11387.090700</td>\n",
       "    </tr>\n",
       "    <tr>\n",
       "      <th>885</th>\n",
       "      <td>82732.984</td>\n",
       "      <td>0.153284</td>\n",
       "      <td>20069.902907</td>\n",
       "    </tr>\n",
       "    <tr>\n",
       "      <th>743</th>\n",
       "      <td>27597.244</td>\n",
       "      <td>0.434002</td>\n",
       "      <td>46654.941206</td>\n",
       "    </tr>\n",
       "  </tbody>\n",
       "</table>\n",
       "</div>"
      ],
      "text/plain": [
       "      power_sum  spec_pur     spec_cent\n",
       "715   38291.895  0.341985  43326.606692\n",
       "614   75516.050  0.307858  38593.783622\n",
       "1082  51068.047  0.014144  11387.090700\n",
       "885   82732.984  0.153284  20069.902907\n",
       "743   27597.244  0.434002  46654.941206"
      ]
     },
     "execution_count": 55,
     "metadata": {},
     "output_type": "execute_result"
    }
   ],
   "source": [
    "annot_features = X_train[['power_sum', 'spec_pur', 'spec_cent']]\n",
    "annot_features.head()"
   ]
  },
  {
   "cell_type": "code",
   "execution_count": 56,
   "metadata": {},
   "outputs": [],
   "source": [
    "# center and scale the data\n",
    "scaler = StandardScaler()\n",
    "features_scaled = scaler.fit_transform(annot_features)"
   ]
  },
  {
   "cell_type": "code",
   "execution_count": 57,
   "metadata": {},
   "outputs": [
    {
     "name": "stderr",
     "output_type": "stream",
     "text": [
      "C:\\Users\\Schindler\\AppData\\Local\\conda\\conda\\envs\\USV_python\\lib\\site-packages\\sklearn\\linear_model\\logistic.py:433: FutureWarning: Default solver will be changed to 'lbfgs' in 0.22. Specify a solver to silence this warning.\n",
      "  FutureWarning)\n",
      "C:\\Users\\Schindler\\AppData\\Local\\conda\\conda\\envs\\USV_python\\lib\\site-packages\\sklearn\\linear_model\\logistic.py:433: FutureWarning: Default solver will be changed to 'lbfgs' in 0.22. Specify a solver to silence this warning.\n",
      "  FutureWarning)\n",
      "C:\\Users\\Schindler\\AppData\\Local\\conda\\conda\\envs\\USV_python\\lib\\site-packages\\sklearn\\linear_model\\logistic.py:433: FutureWarning: Default solver will be changed to 'lbfgs' in 0.22. Specify a solver to silence this warning.\n",
      "  FutureWarning)\n",
      "C:\\Users\\Schindler\\AppData\\Local\\conda\\conda\\envs\\USV_python\\lib\\site-packages\\sklearn\\linear_model\\logistic.py:433: FutureWarning: Default solver will be changed to 'lbfgs' in 0.22. Specify a solver to silence this warning.\n",
      "  FutureWarning)\n",
      "C:\\Users\\Schindler\\AppData\\Local\\conda\\conda\\envs\\USV_python\\lib\\site-packages\\sklearn\\linear_model\\logistic.py:433: FutureWarning: Default solver will be changed to 'lbfgs' in 0.22. Specify a solver to silence this warning.\n",
      "  FutureWarning)\n",
      "C:\\Users\\Schindler\\AppData\\Local\\conda\\conda\\envs\\USV_python\\lib\\site-packages\\sklearn\\linear_model\\logistic.py:433: FutureWarning: Default solver will be changed to 'lbfgs' in 0.22. Specify a solver to silence this warning.\n",
      "  FutureWarning)\n"
     ]
    },
    {
     "data": {
      "text/plain": [
       "array([[682,   0],\n",
       "       [ 76,   0]], dtype=int64)"
      ]
     },
     "execution_count": 57,
     "metadata": {},
     "output_type": "execute_result"
    }
   ],
   "source": [
    "#skf = StratifiedKFold(n_splits=3)\n",
    "#lr_cv.fit(features_scaled, annot_labels)\n",
    "#print(\"Test set accuracy of LR model: \",lr_cv.score(features_scaled, annot_labels))\n",
    "\n",
    "lr_cv = LogisticRegression(random_state=0)\n",
    "\n",
    "y_pred = cross_val_predict(lr_cv, features_scaled, y_train, cv=3, method='predict')\n",
    "y_pred_prob = cross_val_predict(lr_cv, features_scaled, y_train, cv=3, method='predict_proba')\n",
    "conf_mat = confusion_matrix(y_train, y_pred)\n",
    "conf_mat"
   ]
  },
  {
   "cell_type": "code",
   "execution_count": 58,
   "metadata": {},
   "outputs": [
    {
     "name": "stdout",
     "output_type": "stream",
     "text": [
      "Sensitivity/Recall (TPR):  0.0\n",
      "Precision (PPV):  0.0\n",
      "Accuracy:  0.899736147757256\n",
      "F1: 0.0\n"
     ]
    },
    {
     "name": "stderr",
     "output_type": "stream",
     "text": [
      "C:\\Users\\Schindler\\AppData\\Local\\conda\\conda\\envs\\USV_python\\lib\\site-packages\\sklearn\\metrics\\classification.py:1143: UndefinedMetricWarning: Precision is ill-defined and being set to 0.0 due to no predicted samples.\n",
      "  'precision', 'predicted', average, warn_for)\n",
      "C:\\Users\\Schindler\\AppData\\Local\\conda\\conda\\envs\\USV_python\\lib\\site-packages\\sklearn\\metrics\\classification.py:1143: UndefinedMetricWarning: F-score is ill-defined and being set to 0.0 due to no predicted samples.\n",
      "  'precision', 'predicted', average, warn_for)\n"
     ]
    }
   ],
   "source": [
    "# calculate some of these metrics using sklearn and the test set samples\n",
    "print(\"Sensitivity/Recall (TPR): \",metrics.recall_score(y_train,y_pred))\n",
    "print(\"Precision (PPV): \", metrics.precision_score(y_train,y_pred))\n",
    "print(\"Accuracy: \", metrics.accuracy_score(y_train,y_pred))\n",
    "print(\"F1:\", metrics.f1_score(y_train,y_pred))"
   ]
  },
  {
   "cell_type": "code",
   "execution_count": 59,
   "metadata": {},
   "outputs": [
    {
     "name": "stdout",
     "output_type": "stream",
     "text": [
      "Classification Report:\n",
      "               precision    recall  f1-score   support\n",
      "\n",
      "           0       0.90      1.00      0.95       682\n",
      "           1       0.00      0.00      0.00        76\n",
      "\n",
      "   micro avg       0.90      0.90      0.90       758\n",
      "   macro avg       0.45      0.50      0.47       758\n",
      "weighted avg       0.81      0.90      0.85       758\n",
      "\n"
     ]
    },
    {
     "name": "stderr",
     "output_type": "stream",
     "text": [
      "C:\\Users\\Schindler\\AppData\\Local\\conda\\conda\\envs\\USV_python\\lib\\site-packages\\sklearn\\metrics\\classification.py:1143: UndefinedMetricWarning: Precision and F-score are ill-defined and being set to 0.0 in labels with no predicted samples.\n",
      "  'precision', 'predicted', average, warn_for)\n",
      "C:\\Users\\Schindler\\AppData\\Local\\conda\\conda\\envs\\USV_python\\lib\\site-packages\\sklearn\\metrics\\classification.py:1143: UndefinedMetricWarning: Precision and F-score are ill-defined and being set to 0.0 in labels with no predicted samples.\n",
      "  'precision', 'predicted', average, warn_for)\n",
      "C:\\Users\\Schindler\\AppData\\Local\\conda\\conda\\envs\\USV_python\\lib\\site-packages\\sklearn\\metrics\\classification.py:1143: UndefinedMetricWarning: Precision and F-score are ill-defined and being set to 0.0 in labels with no predicted samples.\n",
      "  'precision', 'predicted', average, warn_for)\n"
     ]
    }
   ],
   "source": [
    "print(\"Classification Report:\\n\", metrics.classification_report(y_train,y_pred))"
   ]
  },
  {
   "cell_type": "code",
   "execution_count": 60,
   "metadata": {},
   "outputs": [
    {
     "data": {
      "text/plain": [
       "0.7540129649637289"
      ]
     },
     "execution_count": 60,
     "metadata": {},
     "output_type": "execute_result"
    }
   ],
   "source": [
    "metrics.roc_auc_score(y_train, y_pred_prob[:,1])"
   ]
  },
  {
   "cell_type": "code",
   "execution_count": 61,
   "metadata": {},
   "outputs": [
    {
     "data": {
      "text/plain": [
       "Text(0, 0.5, 'True Positive Rate (Sensitivity)')"
      ]
     },
     "execution_count": 61,
     "metadata": {},
     "output_type": "execute_result"
    },
    {
     "data": {
      "image/png": "[encoded data removed]",
      "text/plain": [
       "<Figure size 432x288 with 1 Axes>"
      ]
     },
     "metadata": {
      "needs_background": "light"
     },
     "output_type": "display_data"
    }
   ],
   "source": [
    "fpr_lr, tpr_lr, thresholds_lr = metrics.roc_curve(y_train, y_pred_prob[:,1])\n",
    "# plot LR model ROC curves\n",
    "plt.plot(fpr_lr, tpr_lr,label=\"lr\")\n",
    "plt.xlim([0, 1])\n",
    "plt.ylim([0, 1.05])\n",
    "plt.legend(loc=\"lower right\")\n",
    "plt.xlabel('False Positive Rate (1 - Specificity)', fontsize = 15)\n",
    "plt.ylabel('True Positive Rate (Sensitivity)', fontsize = 15)"
   ]
  },
  {
   "cell_type": "code",
   "execution_count": 62,
   "metadata": {},
   "outputs": [
    {
     "data": {
      "text/plain": [
       "Text(0, 0.5, 'True Positive Rate (Sensitivity) or Class 1 Threshold Probability')"
      ]
     },
     "execution_count": 62,
     "metadata": {},
     "output_type": "execute_result"
    },
    {
     "data": {
      "image/png": "[encoded data removed]",
      "text/plain": [
       "<Figure size 432x288 with 1 Axes>"
      ]
     },
     "metadata": {
      "needs_background": "light"
     },
     "output_type": "display_data"
    }
   ],
   "source": [
    "# plot LR and RF model ROC curves\n",
    "plt.plot(fpr_lr, tpr_lr,label=\"lr\")\n",
    "plt.plot(fpr_lr,thresholds_lr, label=\"lr_thresh\")\n",
    "plt.xlim([0, 1])\n",
    "plt.ylim([0, 1.05])\n",
    "plt.legend(loc=\"center\")\n",
    "plt.xlabel('False Positive Rate (1 - Specificity)', fontsize= 15)\n",
    "plt.ylabel('True Positive Rate (Sensitivity) or Class 1 Threshold Probability', fontsize = 15)"
   ]
  },
  {
   "cell_type": "code",
   "execution_count": 66,
   "metadata": {},
   "outputs": [
    {
     "name": "stderr",
     "output_type": "stream",
     "text": [
      "No handles with labels found to put in legend.\n"
     ]
    },
    {
     "data": {
      "text/plain": [
       "Text(0, 0.5, 'Precision')"
      ]
     },
     "execution_count": 66,
     "metadata": {},
     "output_type": "execute_result"
    },
    {
     "data": {
      "image/png": "[encoded data removed]",
      "text/plain": [
       "<Figure size 432x288 with 1 Axes>"
      ]
     },
     "metadata": {
      "needs_background": "light"
     },
     "output_type": "display_data"
    }
   ],
   "source": [
    "# calculate precision-recall curve\n",
    "precision, recall, thresholds = metrics.precision_recall_curve(y_train, y_pred_prob[:,1])\n",
    "plt.plot(recall, precision, label='')\n",
    "plt.xlim([0, 1])\n",
    "plt.ylim([0, 1.05])\n",
    "plt.legend(loc=\"lower right\")\n",
    "plt.xlabel('Recall (Sensitivity)', fontsize = 15)\n",
    "plt.ylabel('Precision', fontsize = 15)"
   ]
  },
  {
   "cell_type": "code",
   "execution_count": null,
   "metadata": {},
   "outputs": [],
   "source": [
    "dumb_model = DummyClassifier(strategy='most_frequent')\n",
    "dumb_model.fit(X_train, y_train)\n",
    "y_dumb_class = dumb_model.predict(X_test)\n",
    "print(\"Most frequent class dummy classifier test accuracy: \",metrics.accuracy_score(y_test, y_dumb_class))"
   ]
  },
  {
   "cell_type": "code",
   "execution_count": null,
   "metadata": {},
   "outputs": [],
   "source": []
  },
  {
   "cell_type": "code",
   "execution_count": null,
   "metadata": {},
   "outputs": [],
   "source": []
  },
  {
   "cell_type": "code",
   "execution_count": null,
   "metadata": {},
   "outputs": [],
   "source": []
  },
  {
   "cell_type": "code",
   "execution_count": null,
   "metadata": {},
   "outputs": [],
   "source": [
    "lr_cv = LogisticRegression(random_state=0)\n",
    "lr_cv.fit(X_train, y_train)\n",
    "y_pred = lr_cv.predict(X_test)\n",
    "y_test.value_counts()"
   ]
  },
  {
   "cell_type": "code",
   "execution_count": null,
   "metadata": {},
   "outputs": [],
   "source": []
  },
  {
   "cell_type": "code",
   "execution_count": null,
   "metadata": {},
   "outputs": [],
   "source": [
    "annot_features_full_low = annot_features_full[(annot_features_full['Annotation'] == 'low slug') | (annot_features_full['Annotation'] == 'low multi') | (annot_features_full['Annotation'] == 'noise') | (annot_features_full['Annotation'] == 'rand_noise')]\n",
    "annot_features_full_low.head()"
   ]
  },
  {
   "cell_type": "code",
   "execution_count": null,
   "metadata": {},
   "outputs": [],
   "source": [
    "annot_labels_low = annot_features_full_low['Annotation']\n",
    "annot_labels_low.replace(regex={r'low slug': 1, 'low multi': 1, 'noise': 0, 'rand_noise': 0}, inplace=True)\n",
    "annot_labels_low.head()"
   ]
  },
  {
   "cell_type": "code",
   "execution_count": null,
   "metadata": {},
   "outputs": [],
   "source": [
    "annot_features_low = annot_features_full_low[['power_sum', 'spec_pur', 'spec_cent']]\n",
    "annot_features_low.head()"
   ]
  },
  {
   "cell_type": "code",
   "execution_count": null,
   "metadata": {},
   "outputs": [],
   "source": [
    "# center and scale the data\n",
    "scaler = StandardScaler()\n",
    "features_scaled_low = scaler.fit_transform(annot_features_low)\n",
    "\n",
    "skf = StratifiedKFold(n_splits=5)\n",
    "lr_cv = LogisticRegressionCV(random_state=0, cv = skf)\n",
    "\n",
    "lr_cv.fit(features_scaled_low, annot_labels_low)\n",
    "\n",
    "print(\"Test set accuracy of LR model: \",lr_cv.score(features_scaled_low, annot_labels_low))"
   ]
  },
  {
   "cell_type": "code",
   "execution_count": null,
   "metadata": {},
   "outputs": [],
   "source": [
    "from sklearn.linear_model import LogisticRegression\n",
    "from sklearn.model_selection import cross_val_predict\n",
    "from sklearn.metrics import confusion_matrix\n",
    "\n",
    "lr_cv = LogisticRegression(random_state=0)\n",
    "\n",
    "y_pred = cross_val_predict(lr_cv, features_scaled_low, annot_labels_low, cv=3)\n",
    "conf_mat = confusion_matrix(annot_labels_low, y_pred)\n",
    "conf_mat"
   ]
  },
  {
   "cell_type": "code",
   "execution_count": null,
   "metadata": {},
   "outputs": [],
   "source": []
  },
  {
   "cell_type": "code",
   "execution_count": null,
   "metadata": {},
   "outputs": [],
   "source": []
  },
  {
   "cell_type": "code",
   "execution_count": null,
   "metadata": {},
   "outputs": [],
   "source": []
  },
  {
   "cell_type": "code",
   "execution_count": null,
   "metadata": {},
   "outputs": [],
   "source": []
  },
  {
   "cell_type": "code",
   "execution_count": null,
   "metadata": {},
   "outputs": [],
   "source": [
    "k_range = range(2,10)\n",
    "scores = []\n",
    "for k in k_range:\n",
    "    print(k)\n",
    "    km_ss = KMeans(n_clusters=k, random_state=19)\n",
    "    km_ss.fit(features_scaled)\n",
    "    scores.append(silhouette_score(features_scaled, km_ss.labels_))\n",
    "    print(scores)\n",
    "\n",
    "# plot the results\n",
    "plt.plot(k_range, scores)\n",
    "plt.xlabel('Number of clusters')\n",
    "plt.ylabel('Silhouette Coefficient')"
   ]
  },
  {
   "cell_type": "markdown",
   "metadata": {},
   "source": [
    "Try only predicting low USVs"
   ]
  },
  {
   "cell_type": "code",
   "execution_count": null,
   "metadata": {},
   "outputs": [],
   "source": []
  },
  {
   "cell_type": "code",
   "execution_count": null,
   "metadata": {},
   "outputs": [],
   "source": [
    "annot_features_low = annot_features_full[(annot_features_full['Annotation'] == 'low slug') | (annot_features_full['Annotation'] == 'low multi')]"
   ]
  },
  {
   "cell_type": "code",
   "execution_count": null,
   "metadata": {},
   "outputs": [],
   "source": [
    "annot_labels = annot_features_full['Annotation']\n",
    "print(annot_labels.values)\n",
    "annot_labels.replace(regex={r'low slug': 1, 'high slug': 2, 'low multi': 1, 'high multi': 2, 'bbc': 3, 'noise': 0, 'rand_noise': 0}, inplace=True)\n",
    "annot_labels.tail()"
   ]
  },
  {
   "cell_type": "code",
   "execution_count": null,
   "metadata": {},
   "outputs": [],
   "source": [
    "km2 = KMeans(n_clusters=2,random_state=19)\n",
    "km2.fit(features_scaled)\n",
    "score = silhouette_score(features_scaled, km_ss.labels_)\n",
    "annot_features_full['kmeans_2_scaled'] = [ \"cluster_\" + str(label) for label in km2.labels_ ]\n",
    "#summary_ave.groupby('kmeans_2_scaled').mean()\n",
    "print(score)"
   ]
  },
  {
   "cell_type": "code",
   "execution_count": null,
   "metadata": {},
   "outputs": [],
   "source": [
    "annot_features_full.groupby('Annotation')['kmeans_2_scaled'].value_counts()"
   ]
  },
  {
   "cell_type": "code",
   "execution_count": null,
   "metadata": {},
   "outputs": [],
   "source": []
  }
 ],
 "metadata": {
  "kernelspec": {
   "display_name": "Python 3",
   "language": "python",
   "name": "python3"
  },
  "language_info": {
   "codemirror_mode": {
    "name": "ipython",
    "version": 3
   },
   "file_extension": ".py",
   "mimetype": "text/x-python",
   "name": "python",
   "nbconvert_exporter": "python",
   "pygments_lexer": "ipython3",
   "version": "3.7.2"
  }
 },
 "nbformat": 4,
 "nbformat_minor": 2
}
