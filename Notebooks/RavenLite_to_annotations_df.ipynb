{
 "cells": [
  {
   "cell_type": "markdown",
   "metadata": {},
   "source": [
    "Goal of analysis script is to pull in txt files of annotated USVs and prepare to be used to find corresponding spectrogram slices from wav files"
   ]
  },
  {
   "cell_type": "markdown",
   "metadata": {},
   "source": [
    "Import modules"
   ]
  },
  {
   "cell_type": "code",
   "execution_count": 1,
   "metadata": {},
   "outputs": [],
   "source": [
    "import pandas as pd\n",
    "import numpy as np\n",
    "from tkinter import filedialog\n",
    "from tkinter import *\n",
    "import re\n",
    "import os\n",
    "from scipy import stats\n",
    "\n",
    "# visualization\n",
    "%matplotlib inline\n",
    "import matplotlib.pyplot as plt\n",
    "import seaborn as sns"
   ]
  },
  {
   "cell_type": "code",
   "execution_count": 2,
   "metadata": {},
   "outputs": [],
   "source": [
    "pd.set_option('display.max_rows', 500)\n",
    "pd.set_option('display.max_columns', 500)\n",
    "pd.set_option('display.width', 1000)"
   ]
  },
  {
   "cell_type": "markdown",
   "metadata": {},
   "source": [
    "Open dialog box and prompt user to select directory containing the data files "
   ]
  },
  {
   "cell_type": "code",
   "execution_count": 3,
   "metadata": {},
   "outputs": [
    {
     "name": "stdout",
     "output_type": "stream",
     "text": [
      "C:/Users/Schindler/Documents/Schindler_Lab/Data/USVs/CPA_pair_exp/CPA_pair_tables\n"
     ]
    }
   ],
   "source": [
    "root = Tk()\n",
    "root.directory = filedialog.askdirectory()\n",
    "print (root.directory)"
   ]
  },
  {
   "cell_type": "markdown",
   "metadata": {},
   "source": [
    "Create a path name for each data file"
   ]
  },
  {
   "cell_type": "code",
   "execution_count": 4,
   "metadata": {
    "scrolled": false
   },
   "outputs": [
    {
     "data": {
      "text/plain": [
       "'C:/Users/Schindler/Documents/Schindler_Lab/Data/USVs/CPA_pair_exp/CPA_pair_tables/533.Table.1.selections.CPApair.txt'"
      ]
     },
     "execution_count": 4,
     "metadata": {},
     "output_type": "execute_result"
    }
   ],
   "source": [
    "path_names = []\n",
    "files = os.listdir(root.directory)\n",
    "for file in files: \n",
    "        path_names.append(root.directory + \"/\" + file)\n",
    "\n",
    "path_names[0]"
   ]
  },
  {
   "cell_type": "markdown",
   "metadata": {},
   "source": [
    "Read in and create dataframe of animal parameters (pair: 1 = neutral, 2 = CPA pair; Group: 4 = sham, 5 = blast)"
   ]
  },
  {
   "cell_type": "code",
   "execution_count": 5,
   "metadata": {},
   "outputs": [
    {
     "data": {
      "text/html": [
       "<div>\n",
       "<style scoped>\n",
       "    .dataframe tbody tr th:only-of-type {\n",
       "        vertical-align: middle;\n",
       "    }\n",
       "\n",
       "    .dataframe tbody tr th {\n",
       "        vertical-align: top;\n",
       "    }\n",
       "\n",
       "    .dataframe thead th {\n",
       "        text-align: right;\n",
       "    }\n",
       "</style>\n",
       "<table border=\"1\" class=\"dataframe\">\n",
       "  <thead>\n",
       "    <tr style=\"text-align: right;\">\n",
       "      <th></th>\n",
       "      <th>Animal</th>\n",
       "      <th>Pair</th>\n",
       "      <th>Group</th>\n",
       "      <th>Notes</th>\n",
       "    </tr>\n",
       "  </thead>\n",
       "  <tbody>\n",
       "    <tr>\n",
       "      <th>0</th>\n",
       "      <td>527</td>\n",
       "      <td>1</td>\n",
       "      <td>5</td>\n",
       "      <td>weak blast; scruffy</td>\n",
       "    </tr>\n",
       "    <tr>\n",
       "      <th>1</th>\n",
       "      <td>529</td>\n",
       "      <td>1</td>\n",
       "      <td>5</td>\n",
       "      <td>NaN</td>\n",
       "    </tr>\n",
       "    <tr>\n",
       "      <th>2</th>\n",
       "      <td>533</td>\n",
       "      <td>2</td>\n",
       "      <td>5</td>\n",
       "      <td>cage flood am of pair</td>\n",
       "    </tr>\n",
       "    <tr>\n",
       "      <th>3</th>\n",
       "      <td>534</td>\n",
       "      <td>2</td>\n",
       "      <td>5</td>\n",
       "      <td>cage flood am of pair</td>\n",
       "    </tr>\n",
       "    <tr>\n",
       "      <th>4</th>\n",
       "      <td>535</td>\n",
       "      <td>2</td>\n",
       "      <td>5</td>\n",
       "      <td>cage flood am of pair</td>\n",
       "    </tr>\n",
       "  </tbody>\n",
       "</table>\n",
       "</div>"
      ],
      "text/plain": [
       "   Animal  Pair  Group                  Notes\n",
       "0     527     1      5    weak blast; scruffy\n",
       "1     529     1      5                    NaN\n",
       "2     533     2      5  cage flood am of pair\n",
       "3     534     2      5  cage flood am of pair\n",
       "4     535     2      5  cage flood am of pair"
      ]
     },
     "execution_count": 5,
     "metadata": {},
     "output_type": "execute_result"
    }
   ],
   "source": [
    "group_file = \"C:/Users/Schindler/Documents/Schindler_Lab/Data/Analysis/Excel files/USV/3x_groups.xlsx\"\n",
    "data = pd.read_excel(group_file)\n",
    "df_mice = pd.DataFrame(data = data)\n",
    "df_mice = df_mice.drop([15], axis = 0)\n",
    "df_mice.head()"
   ]
  },
  {
   "cell_type": "markdown",
   "metadata": {},
   "source": [
    "Loop through path names to create pandas data table from excel file. Get animal number from path name (animal number is part of file name), use animal number to get group and pair codes from the df_mice table, create array of animal number, group and pair codes the length of the data_table and add each as a column."
   ]
  },
  {
   "cell_type": "code",
   "execution_count": 6,
   "metadata": {},
   "outputs": [
    {
     "data": {
      "text/html": [
       "<div>\n",
       "<style scoped>\n",
       "    .dataframe tbody tr th:only-of-type {\n",
       "        vertical-align: middle;\n",
       "    }\n",
       "\n",
       "    .dataframe tbody tr th {\n",
       "        vertical-align: top;\n",
       "    }\n",
       "\n",
       "    .dataframe thead th {\n",
       "        text-align: right;\n",
       "    }\n",
       "</style>\n",
       "<table border=\"1\" class=\"dataframe\">\n",
       "  <thead>\n",
       "    <tr style=\"text-align: right;\">\n",
       "      <th></th>\n",
       "      <th>Selection</th>\n",
       "      <th>View</th>\n",
       "      <th>Channel</th>\n",
       "      <th>Begin Time (s)</th>\n",
       "      <th>End Time (s)</th>\n",
       "      <th>Low Freq (Hz)</th>\n",
       "      <th>High Freq (Hz)</th>\n",
       "      <th>Delta Time (s)</th>\n",
       "      <th>Delta Freq (Hz)</th>\n",
       "      <th>Avg Power Density (dB FS)</th>\n",
       "      <th>Annotation</th>\n",
       "      <th>Animal</th>\n",
       "      <th>Group</th>\n",
       "      <th>Pair</th>\n",
       "      <th>Session</th>\n",
       "    </tr>\n",
       "  </thead>\n",
       "  <tbody>\n",
       "    <tr>\n",
       "      <th>0</th>\n",
       "      <td>175</td>\n",
       "      <td>Spectrogram 1</td>\n",
       "      <td>1</td>\n",
       "      <td>376.574455</td>\n",
       "      <td>376.583963</td>\n",
       "      <td>7191.2</td>\n",
       "      <td>9940.8</td>\n",
       "      <td>0.010</td>\n",
       "      <td>2749.6</td>\n",
       "      <td>-32.3</td>\n",
       "      <td>low slug</td>\n",
       "      <td>533</td>\n",
       "      <td>5</td>\n",
       "      <td>2</td>\n",
       "      <td>CPApair</td>\n",
       "    </tr>\n",
       "    <tr>\n",
       "      <th>1</th>\n",
       "      <td>2</td>\n",
       "      <td>Spectrogram 1</td>\n",
       "      <td>1</td>\n",
       "      <td>46.306579</td>\n",
       "      <td>46.316881</td>\n",
       "      <td>12901.9</td>\n",
       "      <td>14805.4</td>\n",
       "      <td>0.010</td>\n",
       "      <td>1903.5</td>\n",
       "      <td>-41.9</td>\n",
       "      <td>low slug</td>\n",
       "      <td>533</td>\n",
       "      <td>5</td>\n",
       "      <td>2</td>\n",
       "      <td>CPApair</td>\n",
       "    </tr>\n",
       "    <tr>\n",
       "      <th>2</th>\n",
       "      <td>13</td>\n",
       "      <td>Spectrogram 1</td>\n",
       "      <td>1</td>\n",
       "      <td>243.272865</td>\n",
       "      <td>243.279204</td>\n",
       "      <td>12901.9</td>\n",
       "      <td>15016.9</td>\n",
       "      <td>0.006</td>\n",
       "      <td>2115.0</td>\n",
       "      <td>-41.2</td>\n",
       "      <td>low slug</td>\n",
       "      <td>533</td>\n",
       "      <td>5</td>\n",
       "      <td>2</td>\n",
       "      <td>CPApair</td>\n",
       "    </tr>\n",
       "    <tr>\n",
       "      <th>3</th>\n",
       "      <td>8</td>\n",
       "      <td>Spectrogram 1</td>\n",
       "      <td>1</td>\n",
       "      <td>149.708324</td>\n",
       "      <td>149.714663</td>\n",
       "      <td>14170.9</td>\n",
       "      <td>16074.5</td>\n",
       "      <td>0.006</td>\n",
       "      <td>1903.6</td>\n",
       "      <td>-39.8</td>\n",
       "      <td>low slug</td>\n",
       "      <td>533</td>\n",
       "      <td>5</td>\n",
       "      <td>2</td>\n",
       "      <td>CPApair</td>\n",
       "    </tr>\n",
       "    <tr>\n",
       "      <th>4</th>\n",
       "      <td>12</td>\n",
       "      <td>Spectrogram 1</td>\n",
       "      <td>1</td>\n",
       "      <td>243.176192</td>\n",
       "      <td>243.186493</td>\n",
       "      <td>13324.9</td>\n",
       "      <td>16074.5</td>\n",
       "      <td>0.010</td>\n",
       "      <td>2749.6</td>\n",
       "      <td>-41.5</td>\n",
       "      <td>low slug</td>\n",
       "      <td>533</td>\n",
       "      <td>5</td>\n",
       "      <td>2</td>\n",
       "      <td>CPApair</td>\n",
       "    </tr>\n",
       "  </tbody>\n",
       "</table>\n",
       "</div>"
      ],
      "text/plain": [
       "   Selection           View  Channel  Begin Time (s)  End Time (s)  Low Freq (Hz)  High Freq (Hz)  Delta Time (s)  Delta Freq (Hz)  Avg Power Density (dB FS) Annotation Animal  Group  Pair  Session\n",
       "0        175  Spectrogram 1        1      376.574455    376.583963         7191.2          9940.8           0.010           2749.6                      -32.3   low slug    533      5     2  CPApair\n",
       "1          2  Spectrogram 1        1       46.306579     46.316881        12901.9         14805.4           0.010           1903.5                      -41.9   low slug    533      5     2  CPApair\n",
       "2         13  Spectrogram 1        1      243.272865    243.279204        12901.9         15016.9           0.006           2115.0                      -41.2   low slug    533      5     2  CPApair\n",
       "3          8  Spectrogram 1        1      149.708324    149.714663        14170.9         16074.5           0.006           1903.6                      -39.8   low slug    533      5     2  CPApair\n",
       "4         12  Spectrogram 1        1      243.176192    243.186493        13324.9         16074.5           0.010           2749.6                      -41.5   low slug    533      5     2  CPApair"
      ]
     },
     "execution_count": 6,
     "metadata": {},
     "output_type": "execute_result"
    }
   ],
   "source": [
    "data_table = pd.DataFrame()\n",
    "\n",
    "i = 0\n",
    "\n",
    "for path in path_names:\n",
    "    data = pd.read_table(path)\n",
    "    data_table_int = pd.DataFrame(data = data)\n",
    "    \n",
    "    name = re.search(\"\\d\\d\\d\", path).group(0)\n",
    "    name_mult = [name] * len(data_table_int)\n",
    "    session = re.search(\"base|cagepair|CPApair\", path).group(0)\n",
    "    session = [session] * len(data_table_int)\n",
    "    \n",
    "    group = df_mice[df_mice['Animal'] == int(name)]['Group'].values[0]\n",
    "    group = [group] * len(data_table_int)\n",
    "    pair = df_mice[df_mice['Animal'] == int(name)]['Pair'].values[0]\n",
    "    pair = [pair] * len(data_table_int)\n",
    "    i = i + 1\n",
    "    \n",
    "    data_table_int = data_table_int.assign(Animal = name_mult)\n",
    "    data_table_int = data_table_int.assign(Group = group)  \n",
    "    data_table_int = data_table_int.assign(Pair = pair)\n",
    "    data_table_int = data_table_int.assign(Session = session)\n",
    "    \n",
    "    data_table = data_table.append(data_table_int, ignore_index=True)\n",
    "\n",
    "data_table.head()"
   ]
  },
  {
   "cell_type": "code",
   "execution_count": 7,
   "metadata": {},
   "outputs": [],
   "source": [
    "data_table.drop(['Selection', 'View', 'Channel'], axis=1, inplace = True)"
   ]
  },
  {
   "cell_type": "code",
   "execution_count": 8,
   "metadata": {},
   "outputs": [
    {
     "data": {
      "text/html": [
       "<div>\n",
       "<style scoped>\n",
       "    .dataframe tbody tr th:only-of-type {\n",
       "        vertical-align: middle;\n",
       "    }\n",
       "\n",
       "    .dataframe tbody tr th {\n",
       "        vertical-align: top;\n",
       "    }\n",
       "\n",
       "    .dataframe thead th {\n",
       "        text-align: right;\n",
       "    }\n",
       "</style>\n",
       "<table border=\"1\" class=\"dataframe\">\n",
       "  <thead>\n",
       "    <tr style=\"text-align: right;\">\n",
       "      <th></th>\n",
       "      <th>Begin Time (s)</th>\n",
       "      <th>End Time (s)</th>\n",
       "      <th>Low Freq (Hz)</th>\n",
       "      <th>High Freq (Hz)</th>\n",
       "      <th>Delta Time (s)</th>\n",
       "      <th>Delta Freq (Hz)</th>\n",
       "      <th>Avg Power Density (dB FS)</th>\n",
       "      <th>Annotation</th>\n",
       "      <th>Animal</th>\n",
       "      <th>Group</th>\n",
       "      <th>Pair</th>\n",
       "      <th>Session</th>\n",
       "    </tr>\n",
       "  </thead>\n",
       "  <tbody>\n",
       "    <tr>\n",
       "      <th>0</th>\n",
       "      <td>376.574455</td>\n",
       "      <td>376.583963</td>\n",
       "      <td>7191.2</td>\n",
       "      <td>9940.8</td>\n",
       "      <td>0.010</td>\n",
       "      <td>2749.6</td>\n",
       "      <td>-32.3</td>\n",
       "      <td>low slug</td>\n",
       "      <td>533</td>\n",
       "      <td>5</td>\n",
       "      <td>2</td>\n",
       "      <td>CPApair</td>\n",
       "    </tr>\n",
       "    <tr>\n",
       "      <th>1</th>\n",
       "      <td>46.306579</td>\n",
       "      <td>46.316881</td>\n",
       "      <td>12901.9</td>\n",
       "      <td>14805.4</td>\n",
       "      <td>0.010</td>\n",
       "      <td>1903.5</td>\n",
       "      <td>-41.9</td>\n",
       "      <td>low slug</td>\n",
       "      <td>533</td>\n",
       "      <td>5</td>\n",
       "      <td>2</td>\n",
       "      <td>CPApair</td>\n",
       "    </tr>\n",
       "    <tr>\n",
       "      <th>2</th>\n",
       "      <td>243.272865</td>\n",
       "      <td>243.279204</td>\n",
       "      <td>12901.9</td>\n",
       "      <td>15016.9</td>\n",
       "      <td>0.006</td>\n",
       "      <td>2115.0</td>\n",
       "      <td>-41.2</td>\n",
       "      <td>low slug</td>\n",
       "      <td>533</td>\n",
       "      <td>5</td>\n",
       "      <td>2</td>\n",
       "      <td>CPApair</td>\n",
       "    </tr>\n",
       "    <tr>\n",
       "      <th>3</th>\n",
       "      <td>149.708324</td>\n",
       "      <td>149.714663</td>\n",
       "      <td>14170.9</td>\n",
       "      <td>16074.5</td>\n",
       "      <td>0.006</td>\n",
       "      <td>1903.6</td>\n",
       "      <td>-39.8</td>\n",
       "      <td>low slug</td>\n",
       "      <td>533</td>\n",
       "      <td>5</td>\n",
       "      <td>2</td>\n",
       "      <td>CPApair</td>\n",
       "    </tr>\n",
       "    <tr>\n",
       "      <th>4</th>\n",
       "      <td>243.176192</td>\n",
       "      <td>243.186493</td>\n",
       "      <td>13324.9</td>\n",
       "      <td>16074.5</td>\n",
       "      <td>0.010</td>\n",
       "      <td>2749.6</td>\n",
       "      <td>-41.5</td>\n",
       "      <td>low slug</td>\n",
       "      <td>533</td>\n",
       "      <td>5</td>\n",
       "      <td>2</td>\n",
       "      <td>CPApair</td>\n",
       "    </tr>\n",
       "  </tbody>\n",
       "</table>\n",
       "</div>"
      ],
      "text/plain": [
       "   Begin Time (s)  End Time (s)  Low Freq (Hz)  High Freq (Hz)  Delta Time (s)  Delta Freq (Hz)  Avg Power Density (dB FS) Annotation Animal  Group  Pair  Session\n",
       "0      376.574455    376.583963         7191.2          9940.8           0.010           2749.6                      -32.3   low slug    533      5     2  CPApair\n",
       "1       46.306579     46.316881        12901.9         14805.4           0.010           1903.5                      -41.9   low slug    533      5     2  CPApair\n",
       "2      243.272865    243.279204        12901.9         15016.9           0.006           2115.0                      -41.2   low slug    533      5     2  CPApair\n",
       "3      149.708324    149.714663        14170.9         16074.5           0.006           1903.6                      -39.8   low slug    533      5     2  CPApair\n",
       "4      243.176192    243.186493        13324.9         16074.5           0.010           2749.6                      -41.5   low slug    533      5     2  CPApair"
      ]
     },
     "execution_count": 8,
     "metadata": {},
     "output_type": "execute_result"
    }
   ],
   "source": [
    "data_table.head()"
   ]
  },
  {
   "cell_type": "code",
   "execution_count": 9,
   "metadata": {},
   "outputs": [
    {
     "data": {
      "text/html": [
       "<div>\n",
       "<style scoped>\n",
       "    .dataframe tbody tr th:only-of-type {\n",
       "        vertical-align: middle;\n",
       "    }\n",
       "\n",
       "    .dataframe tbody tr th {\n",
       "        vertical-align: top;\n",
       "    }\n",
       "\n",
       "    .dataframe thead th {\n",
       "        text-align: right;\n",
       "    }\n",
       "</style>\n",
       "<table border=\"1\" class=\"dataframe\">\n",
       "  <thead>\n",
       "    <tr style=\"text-align: right;\">\n",
       "      <th></th>\n",
       "      <th>Begin Time (s)</th>\n",
       "      <th>Annotation</th>\n",
       "      <th>Animal</th>\n",
       "      <th>Group</th>\n",
       "    </tr>\n",
       "  </thead>\n",
       "  <tbody>\n",
       "    <tr>\n",
       "      <th>0</th>\n",
       "      <td>376.574455</td>\n",
       "      <td>low slug</td>\n",
       "      <td>533</td>\n",
       "      <td>5</td>\n",
       "    </tr>\n",
       "    <tr>\n",
       "      <th>1</th>\n",
       "      <td>46.306579</td>\n",
       "      <td>low slug</td>\n",
       "      <td>533</td>\n",
       "      <td>5</td>\n",
       "    </tr>\n",
       "    <tr>\n",
       "      <th>2</th>\n",
       "      <td>243.272865</td>\n",
       "      <td>low slug</td>\n",
       "      <td>533</td>\n",
       "      <td>5</td>\n",
       "    </tr>\n",
       "    <tr>\n",
       "      <th>3</th>\n",
       "      <td>149.708324</td>\n",
       "      <td>low slug</td>\n",
       "      <td>533</td>\n",
       "      <td>5</td>\n",
       "    </tr>\n",
       "    <tr>\n",
       "      <th>4</th>\n",
       "      <td>243.176192</td>\n",
       "      <td>low slug</td>\n",
       "      <td>533</td>\n",
       "      <td>5</td>\n",
       "    </tr>\n",
       "  </tbody>\n",
       "</table>\n",
       "</div>"
      ],
      "text/plain": [
       "   Begin Time (s) Annotation Animal  Group\n",
       "0      376.574455   low slug    533      5\n",
       "1       46.306579   low slug    533      5\n",
       "2      243.272865   low slug    533      5\n",
       "3      149.708324   low slug    533      5\n",
       "4      243.176192   low slug    533      5"
      ]
     },
     "execution_count": 9,
     "metadata": {},
     "output_type": "execute_result"
    }
   ],
   "source": [
    "annot_info = data_table[['Begin Time (s)', 'Annotation', 'Animal', 'Group']]\n",
    "annot_info.head()"
   ]
  },
  {
   "cell_type": "code",
   "execution_count": 12,
   "metadata": {},
   "outputs": [
    {
     "name": "stdout",
     "output_type": "stream",
     "text": [
      "(552, 6)\n"
     ]
    },
    {
     "name": "stderr",
     "output_type": "stream",
     "text": [
      "C:\\ProgramData\\Anaconda3\\lib\\site-packages\\ipykernel_launcher.py:1: SettingWithCopyWarning: \n",
      "A value is trying to be set on a copy of a slice from a DataFrame.\n",
      "Try using .loc[row_indexer,col_indexer] = value instead\n",
      "\n",
      "See the caveats in the documentation: http://pandas.pydata.org/pandas-docs/stable/indexing.html#indexing-view-versus-copy\n",
      "  \"\"\"Entry point for launching an IPython kernel.\n",
      "C:\\ProgramData\\Anaconda3\\lib\\site-packages\\ipykernel_launcher.py:9: SettingWithCopyWarning: \n",
      "A value is trying to be set on a copy of a slice from a DataFrame.\n",
      "Try using .loc[row_indexer,col_indexer] = value instead\n",
      "\n",
      "See the caveats in the documentation: http://pandas.pydata.org/pandas-docs/stable/indexing.html#indexing-view-versus-copy\n",
      "  if __name__ == '__main__':\n"
     ]
    },
    {
     "data": {
      "text/html": [
       "<div>\n",
       "<style scoped>\n",
       "    .dataframe tbody tr th:only-of-type {\n",
       "        vertical-align: middle;\n",
       "    }\n",
       "\n",
       "    .dataframe tbody tr th {\n",
       "        vertical-align: top;\n",
       "    }\n",
       "\n",
       "    .dataframe thead th {\n",
       "        text-align: right;\n",
       "    }\n",
       "</style>\n",
       "<table border=\"1\" class=\"dataframe\">\n",
       "  <thead>\n",
       "    <tr style=\"text-align: right;\">\n",
       "      <th></th>\n",
       "      <th>Begin Time (s)</th>\n",
       "      <th>Annotation</th>\n",
       "      <th>Animal</th>\n",
       "      <th>Group</th>\n",
       "      <th>Begin Time (s)_1000</th>\n",
       "      <th>time_stamp</th>\n",
       "    </tr>\n",
       "  </thead>\n",
       "  <tbody>\n",
       "    <tr>\n",
       "      <th>0</th>\n",
       "      <td>376.574455</td>\n",
       "      <td>low slug</td>\n",
       "      <td>533</td>\n",
       "      <td>5</td>\n",
       "      <td>376574.45450</td>\n",
       "      <td>376560.0</td>\n",
       "    </tr>\n",
       "    <tr>\n",
       "      <th>1</th>\n",
       "      <td>46.306579</td>\n",
       "      <td>low slug</td>\n",
       "      <td>533</td>\n",
       "      <td>5</td>\n",
       "      <td>46306.57941</td>\n",
       "      <td>46305.0</td>\n",
       "    </tr>\n",
       "    <tr>\n",
       "      <th>2</th>\n",
       "      <td>243.272865</td>\n",
       "      <td>low slug</td>\n",
       "      <td>533</td>\n",
       "      <td>5</td>\n",
       "      <td>243272.86510</td>\n",
       "      <td>243270.0</td>\n",
       "    </tr>\n",
       "    <tr>\n",
       "      <th>3</th>\n",
       "      <td>149.708324</td>\n",
       "      <td>low slug</td>\n",
       "      <td>533</td>\n",
       "      <td>5</td>\n",
       "      <td>149708.32400</td>\n",
       "      <td>149692.5</td>\n",
       "    </tr>\n",
       "    <tr>\n",
       "      <th>4</th>\n",
       "      <td>243.176192</td>\n",
       "      <td>low slug</td>\n",
       "      <td>533</td>\n",
       "      <td>5</td>\n",
       "      <td>243176.19170</td>\n",
       "      <td>243157.5</td>\n",
       "    </tr>\n",
       "  </tbody>\n",
       "</table>\n",
       "</div>"
      ],
      "text/plain": [
       "   Begin Time (s) Annotation Animal  Group  Begin Time (s)_1000  time_stamp\n",
       "0      376.574455   low slug    533      5         376574.45450    376560.0\n",
       "1       46.306579   low slug    533      5          46306.57941     46305.0\n",
       "2      243.272865   low slug    533      5         243272.86510    243270.0\n",
       "3      149.708324   low slug    533      5         149708.32400    149692.5\n",
       "4      243.176192   low slug    533      5         243176.19170    243157.5"
      ]
     },
     "execution_count": 12,
     "metadata": {},
     "output_type": "execute_result"
    }
   ],
   "source": [
    "annot_info['Begin Time (s)_1000'] = annot_info['Begin Time (s)']*1000\n",
    "annot_time_stamps = []\n",
    "values = annot_info['Begin Time (s)_1000'].values\n",
    "for value in values:\n",
    "    time_stamp_num = int(value / 22.5)\n",
    "    time_stamp_index = time_stamp_num*22.5\n",
    "    annot_time_stamps.append(time_stamp_index)\n",
    "\n",
    "annot_info['time_stamp'] = annot_time_stamps\n",
    "print(annot_info.shape)\n",
    "annot_info.head()"
   ]
  },
  {
   "cell_type": "code",
   "execution_count": 13,
   "metadata": {},
   "outputs": [
    {
     "name": "stderr",
     "output_type": "stream",
     "text": [
      "C:\\ProgramData\\Anaconda3\\lib\\site-packages\\pandas\\core\\frame.py:3798: SettingWithCopyWarning: \n",
      "A value is trying to be set on a copy of a slice from a DataFrame\n",
      "\n",
      "See the caveats in the documentation: http://pandas.pydata.org/pandas-docs/stable/indexing.html#indexing-view-versus-copy\n",
      "  method=method)\n"
     ]
    },
    {
     "data": {
      "text/plain": [
       "array(['low slug', 'radar', 'low multi', 'high slug', 'high multi', 'bbc',\n",
       "       'noise'], dtype=object)"
      ]
     },
     "execution_count": 13,
     "metadata": {},
     "output_type": "execute_result"
    }
   ],
   "source": [
    "annot_info.replace('mid slug', 'low slug', inplace = True)\n",
    "annot_info.replace(['bbc wide', 'bbc long', 'bbc high', 'bbc low'], 'bbc')\n",
    "annot_info['Annotation'].unique()"
   ]
  },
  {
   "cell_type": "code",
   "execution_count": 14,
   "metadata": {},
   "outputs": [],
   "source": [
    "writer = pd.ExcelWriter('annot_info_df.xlsx', engine='xlsxwriter')\n",
    "annot_info.to_excel(writer, sheet_name='Sheet1')\n",
    "writer.save()"
   ]
  },
  {
   "cell_type": "code",
   "execution_count": null,
   "metadata": {},
   "outputs": [],
   "source": []
  }
 ],
 "metadata": {
  "kernelspec": {
   "display_name": "Python 3",
   "language": "python",
   "name": "python3"
  },
  "language_info": {
   "codemirror_mode": {
    "name": "ipython",
    "version": 3
   },
   "file_extension": ".py",
   "mimetype": "text/x-python",
   "name": "python",
   "nbconvert_exporter": "python",
   "pygments_lexer": "ipython3",
   "version": "3.6.7"
  }
 },
 "nbformat": 4,
 "nbformat_minor": 2
}
