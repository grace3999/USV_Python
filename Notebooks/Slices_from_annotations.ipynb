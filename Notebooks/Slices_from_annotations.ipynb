{
 "cells": [
  {
   "cell_type": "code",
   "execution_count": 1,
   "metadata": {},
   "outputs": [],
   "source": [
    "import numpy as np\n",
    "import pandas as pd\n",
    "import math\n",
    "import time\n",
    "import re\n",
    "import os\n",
    "from scipy.io import wavfile\n",
    "from skimage import util\n",
    "from scipy import signal\n",
    "from scipy import stats"
   ]
  },
  {
   "cell_type": "code",
   "execution_count": 2,
   "metadata": {},
   "outputs": [],
   "source": [
    "def create_slice_from_wav(file_path, slice_len, step_size):\n",
    "    \"\"\"Creates small slices from wav file. Slice_len (use sampling frequency to convert to ms). \n",
    "    Step_size is amount of overlap between each slice.\"\"\"\n",
    "    \n",
    "    #get animal name\n",
    "    \n",
    "    #read in wav file\n",
    "    samp_freq, sig_data = wavfile.read(file_path)\n",
    "    sig_data = sig_data[0:150000000]\n",
    "    print('Sampling frequency: ' + str(samp_freq))\n",
    "    \n",
    "    #determine number of samples and length\n",
    "    n_samples = sig_data.shape[0]\n",
    "    print('Number of samples: ' + str(n_samples))\n",
    "    sig_len = n_samples/samp_freq\n",
    "    print('Length: ' + str(sig_len) + ' sec')\n",
    "    \n",
    "    #create slices \n",
    "    M = slice_len\n",
    "    steps = int(M*step_size)\n",
    "    slices = util.view_as_windows(sig_data, window_shape=(M,), step=steps)\n",
    "    print(f'Audio shape: {sig_data.shape}, Sliced audio shape: {slices.shape}')\n",
    "    \n",
    "    return samp_freq, sig_data, slices, steps"
   ]
  },
  {
   "cell_type": "markdown",
   "metadata": {},
   "source": [
    "Read in df of annotated USVs"
   ]
  },
  {
   "cell_type": "code",
   "execution_count": 3,
   "metadata": {},
   "outputs": [],
   "source": [
    "annot_path = \"C:/Users/Schindler/Documents/Schindler_Lab/Data/Analysis/Excel files/USV/annot_info_df.xlsx\""
   ]
  },
  {
   "cell_type": "code",
   "execution_count": 4,
   "metadata": {},
   "outputs": [
    {
     "data": {
      "text/html": [
       "<div>\n",
       "<style scoped>\n",
       "    .dataframe tbody tr th:only-of-type {\n",
       "        vertical-align: middle;\n",
       "    }\n",
       "\n",
       "    .dataframe tbody tr th {\n",
       "        vertical-align: top;\n",
       "    }\n",
       "\n",
       "    .dataframe thead th {\n",
       "        text-align: right;\n",
       "    }\n",
       "</style>\n",
       "<table border=\"1\" class=\"dataframe\">\n",
       "  <thead>\n",
       "    <tr style=\"text-align: right;\">\n",
       "      <th></th>\n",
       "      <th>Begin Time (s)</th>\n",
       "      <th>Annotation</th>\n",
       "      <th>Animal</th>\n",
       "      <th>Group</th>\n",
       "      <th>Begin Time (s)_1000</th>\n",
       "      <th>time_stamp</th>\n",
       "    </tr>\n",
       "  </thead>\n",
       "  <tbody>\n",
       "    <tr>\n",
       "      <th>0</th>\n",
       "      <td>376.574455</td>\n",
       "      <td>low slug</td>\n",
       "      <td>533</td>\n",
       "      <td>5</td>\n",
       "      <td>376574.45450</td>\n",
       "      <td>376560.0</td>\n",
       "    </tr>\n",
       "    <tr>\n",
       "      <th>1</th>\n",
       "      <td>46.306579</td>\n",
       "      <td>low slug</td>\n",
       "      <td>533</td>\n",
       "      <td>5</td>\n",
       "      <td>46306.57941</td>\n",
       "      <td>46305.0</td>\n",
       "    </tr>\n",
       "    <tr>\n",
       "      <th>2</th>\n",
       "      <td>243.272865</td>\n",
       "      <td>low slug</td>\n",
       "      <td>533</td>\n",
       "      <td>5</td>\n",
       "      <td>243272.86510</td>\n",
       "      <td>243270.0</td>\n",
       "    </tr>\n",
       "    <tr>\n",
       "      <th>3</th>\n",
       "      <td>149.708324</td>\n",
       "      <td>low slug</td>\n",
       "      <td>533</td>\n",
       "      <td>5</td>\n",
       "      <td>149708.32400</td>\n",
       "      <td>149692.5</td>\n",
       "    </tr>\n",
       "    <tr>\n",
       "      <th>4</th>\n",
       "      <td>243.176192</td>\n",
       "      <td>low slug</td>\n",
       "      <td>533</td>\n",
       "      <td>5</td>\n",
       "      <td>243176.19170</td>\n",
       "      <td>243157.5</td>\n",
       "    </tr>\n",
       "  </tbody>\n",
       "</table>\n",
       "</div>"
      ],
      "text/plain": [
       "   Begin Time (s) Annotation  Animal  Group  Begin Time (s)_1000  time_stamp\n",
       "0      376.574455   low slug     533      5         376574.45450    376560.0\n",
       "1       46.306579   low slug     533      5          46306.57941     46305.0\n",
       "2      243.272865   low slug     533      5         243272.86510    243270.0\n",
       "3      149.708324   low slug     533      5         149708.32400    149692.5\n",
       "4      243.176192   low slug     533      5         243176.19170    243157.5"
      ]
     },
     "execution_count": 4,
     "metadata": {},
     "output_type": "execute_result"
    }
   ],
   "source": [
    "data = pd.read_excel(annot_path)\n",
    "annot_data = pd.DataFrame(data = data)\n",
    "annot_data.head()"
   ]
  },
  {
   "cell_type": "markdown",
   "metadata": {},
   "source": [
    "Find path names for each wav file corresponding to annotated data"
   ]
  },
  {
   "cell_type": "code",
   "execution_count": 5,
   "metadata": {},
   "outputs": [],
   "source": [
    "wav_dir_path = 'C:/Users/Schindler/Documents/Schindler_Lab/Data/USVs/CPA_pair_exp/18.12.07_CPA_pair_3x'"
   ]
  },
  {
   "cell_type": "code",
   "execution_count": 6,
   "metadata": {},
   "outputs": [
    {
     "data": {
      "text/plain": [
       "['C:/Users/Schindler/Documents/Schindler_Lab/Data/USVs/CPA_pair_exp/18.12.07_CPA_pair_3x/533.wav',\n",
       " 'C:/Users/Schindler/Documents/Schindler_Lab/Data/USVs/CPA_pair_exp/18.12.07_CPA_pair_3x/534.wav',\n",
       " 'C:/Users/Schindler/Documents/Schindler_Lab/Data/USVs/CPA_pair_exp/18.12.07_CPA_pair_3x/535.wav',\n",
       " 'C:/Users/Schindler/Documents/Schindler_Lab/Data/USVs/CPA_pair_exp/18.12.07_CPA_pair_3x/542.wav',\n",
       " 'C:/Users/Schindler/Documents/Schindler_Lab/Data/USVs/CPA_pair_exp/18.12.07_CPA_pair_3x/543.wav',\n",
       " 'C:/Users/Schindler/Documents/Schindler_Lab/Data/USVs/CPA_pair_exp/18.12.07_CPA_pair_3x/554.wav',\n",
       " 'C:/Users/Schindler/Documents/Schindler_Lab/Data/USVs/CPA_pair_exp/18.12.07_CPA_pair_3x/555.wav',\n",
       " 'C:/Users/Schindler/Documents/Schindler_Lab/Data/USVs/CPA_pair_exp/18.12.07_CPA_pair_3x/559.wav',\n",
       " 'C:/Users/Schindler/Documents/Schindler_Lab/Data/USVs/CPA_pair_exp/18.12.07_CPA_pair_3x/600.wav']"
      ]
     },
     "execution_count": 6,
     "metadata": {},
     "output_type": "execute_result"
    }
   ],
   "source": [
    "path_names = []\n",
    "files = os.listdir(wav_dir_path)\n",
    "for file in files: \n",
    "        path_names.append(wav_dir_path + \"/\" + file)\n",
    "\n",
    "path_names"
   ]
  },
  {
   "cell_type": "code",
   "execution_count": 7,
   "metadata": {},
   "outputs": [],
   "source": [
    "annot_slices = pd.DataFrame()"
   ]
  },
  {
   "cell_type": "code",
   "execution_count": 24,
   "metadata": {
    "scrolled": true
   },
   "outputs": [
    {
     "name": "stdout",
     "output_type": "stream",
     "text": [
      "Begin processing animal # 600\n",
      "Sampling frequency: 250000\n",
      "Number of samples: 76005376\n",
      "Length: 304.021504 sec\n",
      "Audio shape: (76005376,), Sliced audio shape: (13511, 6250)\n",
      "Slices created in 0.5842423439025879  seconds\n",
      "0\n",
      "1000\n",
      "2000\n",
      "3000\n",
      "4000\n",
      "5000\n",
      "6000\n",
      "7000\n",
      "8000\n",
      "9000\n",
      "10000\n",
      "11000\n",
      "12000\n",
      "13000\n",
      "Spectrograms created in 76.05259823799133  seconds\n",
      "Data frame created in 1.148120403289795  seconds\n",
      "(75, 14135)\n",
      "(552, 14135)\n"
     ]
    }
   ],
   "source": [
    "spec_slices = {}\n",
    "spec_slices_ravel = {}\n",
    "spec_slices_df = pd.DataFrame()\n",
    "annot_slices_int = pd.DataFrame()\n",
    "\n",
    "#select animal to process (need to process individually due to memory contraints)\n",
    "path = path_names[8]\n",
    "name = re.search(\"\\d\\d\\d\", path).group(0)\n",
    "\n",
    "#create data frame of annotations from animal \n",
    "annot = annot_data[(annot_data['Animal'] == int(name))]\n",
    "annot.reset_index(inplace = True)\n",
    "\n",
    "#process wav file of animal corresponding to annotations\n",
    "print(str('Begin processing animal # ' + name))\n",
    "\n",
    "spec_window = 128\n",
    "NFFT = 512\n",
    "    \n",
    "#create slices\n",
    "start = time.time()\n",
    "samp_freq, sig_data, slices, steps = create_slice_from_wav(path, 6250, 0.9)\n",
    "end = time.time()\n",
    "print(str('Slices created in ' + str(end - start) + '  seconds'))\n",
    "    \n",
    "#create spectrogram from each slice\n",
    "start = time.time()\n",
    "i = 0\n",
    "samp_freq_kHz = samp_freq/1000\n",
    "    \n",
    "for i in range(slices.shape[0]): \n",
    "    if i % 1000 == 0:\n",
    "        print(i)\n",
    "    #spectrogram\n",
    "    freqs_spec, times, Sx = signal.spectrogram(slices[i,:], fs=samp_freq, nperseg = spec_window, nfft = NFFT)\n",
    "    \n",
    "    time_stamp = i*steps / samp_freq_kHz\n",
    "    \n",
    "    #store as dic\n",
    "    spec_slices[time_stamp] = Sx\n",
    "    spec_slices_ravel[time_stamp] = spec_slices[time_stamp].ravel().T\n",
    "    \n",
    "end = time.time()\n",
    "print(str('Spectrograms created in ' + str(end - start) + '  seconds'))\n",
    "\n",
    "#store as data frame\n",
    "start = time.time()\n",
    "spec_slices_df = pd.DataFrame(spec_slices_ravel).T\n",
    " \n",
    "end = time.time()\n",
    "print(str('Data frame created in ' + str(end - start) + '  seconds'))\n",
    "\n",
    "#create new data frame of only slices corresponding to annotations\n",
    "annot_slices_int = spec_slices_df.loc[annot['time_stamp']]\n",
    "print(annot_slices_int.shape)\n",
    "\n",
    "#add data frame to larger dictionary \n",
    "annot_slices = annot_slices.append(annot_slices_int, ignore_index=False)\n",
    "print(annot_slices.shape)\n"
   ]
  },
  {
   "cell_type": "code",
   "execution_count": 25,
   "metadata": {},
   "outputs": [],
   "source": [
    "annot_slices_int.to_csv(name + '_annot_slices.csv')"
   ]
  },
  {
   "cell_type": "code",
   "execution_count": 25,
   "metadata": {},
   "outputs": [],
   "source": [
    "annot_slices.to_csv('full_annot_slices.csv')"
   ]
  },
  {
   "cell_type": "code",
   "execution_count": null,
   "metadata": {},
   "outputs": [],
   "source": []
  }
 ],
 "metadata": {
  "kernelspec": {
   "display_name": "Python 3",
   "language": "python",
   "name": "python3"
  },
  "language_info": {
   "codemirror_mode": {
    "name": "ipython",
    "version": 3
   },
   "file_extension": ".py",
   "mimetype": "text/x-python",
   "name": "python",
   "nbconvert_exporter": "python",
   "pygments_lexer": "ipython3",
   "version": "3.6.7"
  }
 },
 "nbformat": 4,
 "nbformat_minor": 2
}
