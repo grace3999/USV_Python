{
  "nbformat": 4,
  "nbformat_minor": 0,
  "metadata": {
    "colab": {
      "name": "6_xr_Annotations_deeplearning.ipynb",
      "version": "0.3.2",
      "provenance": [],
      "collapsed_sections": [],
      "include_colab_link": true
    },
    "kernelspec": {
      "name": "python3",
      "display_name": "Python 3"
    },
    "accelerator": "GPU"
  },
  "cells": [
    {
      "cell_type": "markdown",
      "metadata": {
        "id": "view-in-github",
        "colab_type": "text"
      },
      "source": [
        "<a href=\"https://colab.research.google.com/github/grace3999/USV_Python/blob/colab/Notebooks/6_xr_Annotations_deeplearning.ipynb\" target=\"_parent\"><img src=\"https://colab.research.google.com/assets/colab-badge.svg\" alt=\"Open In Colab\"/></a>"
      ]
    },
    {
      "metadata": {
        "id": "_68WL66QsTHI",
        "colab_type": "code",
        "outputId": "8857fb14-b91f-458c-b8c9-f24258e2a0ec",
        "colab": {
          "base_uri": "https://localhost:8080/",
          "height": 68
        }
      },
      "cell_type": "code",
      "source": [
        "!pip install netcdf4"
      ],
      "execution_count": 0,
      "outputs": [
        {
          "output_type": "stream",
          "text": [
            "Requirement already satisfied: netcdf4 in /usr/local/lib/python3.6/dist-packages (1.4.3.2)\n",
            "Requirement already satisfied: numpy>=1.7 in /usr/local/lib/python3.6/dist-packages (from netcdf4) (1.14.6)\n",
            "Requirement already satisfied: cftime in /usr/local/lib/python3.6/dist-packages (from netcdf4) (1.0.3.4)\n"
          ],
          "name": "stdout"
        }
      ]
    },
    {
      "metadata": {
        "id": "M5JdMCJQxPmU",
        "colab_type": "code",
        "outputId": "a52b40aa-aca9-4b2f-8441-37bf21cbb254",
        "colab": {
          "base_uri": "https://localhost:8080/",
          "height": 34
        }
      },
      "cell_type": "code",
      "source": [
        "!pip install tensorboardcolab"
      ],
      "execution_count": 0,
      "outputs": [
        {
          "output_type": "stream",
          "text": [
            "Requirement already satisfied: tensorboardcolab in /usr/local/lib/python3.6/dist-packages (0.0.22)\n"
          ],
          "name": "stdout"
        }
      ]
    },
    {
      "metadata": {
        "id": "g9rXpQWtrflD",
        "colab_type": "code",
        "colab": {}
      },
      "cell_type": "code",
      "source": [
        "import numpy as np\n",
        "import pandas as pd\n",
        "from os.path import join\n",
        "from scipy import interpolate\n",
        "import xarray as xr\n",
        "\n",
        "from sklearn.utils import resample\n",
        "from sklearn.model_selection import train_test_split\n",
        "from sklearn.metrics import precision_recall_curve\n",
        "\n",
        "from sklearn.metrics import f1_score\n",
        "\n",
        "\n",
        "\n",
        "#visualizing results\n",
        "%matplotlib inline\n",
        "import matplotlib.pyplot as plt\n",
        "\n",
        "import warnings\n",
        "warnings.filterwarnings(\"ignore\")"
      ],
      "execution_count": 0,
      "outputs": []
    },
    {
      "metadata": {
        "id": "PMnBsd7erfmR",
        "colab_type": "code",
        "colab": {}
      },
      "cell_type": "code",
      "source": [
        "pd.set_option('display.max_rows', 500)\n",
        "pd.set_option('display.max_columns', 500)\n",
        "pd.set_option('display.width', 1000)"
      ],
      "execution_count": 0,
      "outputs": []
    },
    {
      "metadata": {
        "id": "Knzt_zb5tH4v",
        "colab_type": "code",
        "outputId": "46a94677-b98d-4ff3-d3a0-0b4768047905",
        "colab": {
          "base_uri": "https://localhost:8080/",
          "height": 34
        }
      },
      "cell_type": "code",
      "source": [
        "#mount google drive containings required files: 1) csv of annotation features, 2) netcdf files\n",
        "from google.colab import drive\n",
        "drive.mount('/content/gdrive')"
      ],
      "execution_count": 0,
      "outputs": [
        {
          "output_type": "stream",
          "text": [
            "Drive already mounted at /content/gdrive; to attempt to forcibly remount, call drive.mount(\"/content/gdrive\", force_remount=True).\n"
          ],
          "name": "stdout"
        }
      ]
    },
    {
      "metadata": {
        "id": "a6OClLhFrfm1",
        "colab_type": "code",
        "outputId": "3318d3a4-a7a8-4e6b-8a7f-6a4eb34ab2db",
        "colab": {
          "base_uri": "https://localhost:8080/",
          "height": 275
        }
      },
      "cell_type": "code",
      "source": [
        "#use shell commands to find file path for csv of annotation features\n",
        "features_path = '/content/gdrive/Team Drives/USV_eScience_Incubator/Data/feature_data_frames/annot_features_full.csv'\n",
        "annot_features_data = pd.read_csv(features_path)\n",
        "annot_features_full = pd.DataFrame(data = annot_features_data)\n",
        "print(annot_features_full.shape)\n",
        "#ensure no nans\n",
        "print(annot_features_full.loc[pd.isna(annot_features_full['spec_pur'])].index)\n",
        "annot_features_full.head()"
      ],
      "execution_count": 0,
      "outputs": [
        {
          "output_type": "stream",
          "text": [
            "(959, 13)\n",
            "Int64Index([], dtype='int64')\n"
          ],
          "name": "stdout"
        },
        {
          "output_type": "execute_result",
          "data": {
            "text/html": [
              "<div>\n",
              "<style scoped>\n",
              "    .dataframe tbody tr th:only-of-type {\n",
              "        vertical-align: middle;\n",
              "    }\n",
              "\n",
              "    .dataframe tbody tr th {\n",
              "        vertical-align: top;\n",
              "    }\n",
              "\n",
              "    .dataframe thead th {\n",
              "        text-align: right;\n",
              "    }\n",
              "</style>\n",
              "<table border=\"1\" class=\"dataframe\">\n",
              "  <thead>\n",
              "    <tr style=\"text-align: right;\">\n",
              "      <th></th>\n",
              "      <th>Unnamed: 0</th>\n",
              "      <th>animal_number</th>\n",
              "      <th>session</th>\n",
              "      <th>time_stamp</th>\n",
              "      <th>Annotation</th>\n",
              "      <th>power_sum</th>\n",
              "      <th>spec_pur</th>\n",
              "      <th>spec_cent</th>\n",
              "      <th>spec_spread</th>\n",
              "      <th>spec_skew</th>\n",
              "      <th>spec_kurt</th>\n",
              "      <th>spec_slope</th>\n",
              "      <th>spec_roll</th>\n",
              "    </tr>\n",
              "  </thead>\n",
              "  <tbody>\n",
              "    <tr>\n",
              "      <th>0</th>\n",
              "      <td>0</td>\n",
              "      <td>527</td>\n",
              "      <td>cagepair</td>\n",
              "      <td>18922.5</td>\n",
              "      <td>high slug</td>\n",
              "      <td>44921.600</td>\n",
              "      <td>0.335974</td>\n",
              "      <td>40617.050954</td>\n",
              "      <td>117729.192000</td>\n",
              "      <td>6.831866</td>\n",
              "      <td>48.160918</td>\n",
              "      <td>0.000787</td>\n",
              "      <td>38586.198407</td>\n",
              "    </tr>\n",
              "    <tr>\n",
              "      <th>1</th>\n",
              "      <td>1</td>\n",
              "      <td>527</td>\n",
              "      <td>cagepair</td>\n",
              "      <td>24750.0</td>\n",
              "      <td>low slug</td>\n",
              "      <td>53212.637</td>\n",
              "      <td>0.295599</td>\n",
              "      <td>27042.548508</td>\n",
              "      <td>3827.200195</td>\n",
              "      <td>3.556462</td>\n",
              "      <td>20.402396</td>\n",
              "      <td>-0.000227</td>\n",
              "      <td>25690.421083</td>\n",
              "    </tr>\n",
              "    <tr>\n",
              "      <th>2</th>\n",
              "      <td>2</td>\n",
              "      <td>527</td>\n",
              "      <td>cagepair</td>\n",
              "      <td>56002.5</td>\n",
              "      <td>bbc</td>\n",
              "      <td>94253.766</td>\n",
              "      <td>0.189555</td>\n",
              "      <td>30090.095178</td>\n",
              "      <td>68103.292456</td>\n",
              "      <td>3.982554</td>\n",
              "      <td>18.393372</td>\n",
              "      <td>-0.002314</td>\n",
              "      <td>28585.590419</td>\n",
              "    </tr>\n",
              "    <tr>\n",
              "      <th>3</th>\n",
              "      <td>3</td>\n",
              "      <td>527</td>\n",
              "      <td>cagepair</td>\n",
              "      <td>174352.5</td>\n",
              "      <td>bbc</td>\n",
              "      <td>51008.836</td>\n",
              "      <td>0.306177</td>\n",
              "      <td>34324.170621</td>\n",
              "      <td>52563.703613</td>\n",
              "      <td>3.336529</td>\n",
              "      <td>10.448164</td>\n",
              "      <td>-0.001250</td>\n",
              "      <td>32607.962090</td>\n",
              "    </tr>\n",
              "    <tr>\n",
              "      <th>4</th>\n",
              "      <td>4</td>\n",
              "      <td>527</td>\n",
              "      <td>cagepair</td>\n",
              "      <td>342877.5</td>\n",
              "      <td>bbc</td>\n",
              "      <td>164846.110</td>\n",
              "      <td>0.144833</td>\n",
              "      <td>33090.921412</td>\n",
              "      <td>22861.514782</td>\n",
              "      <td>1.852232</td>\n",
              "      <td>3.185318</td>\n",
              "      <td>-0.001784</td>\n",
              "      <td>31436.375341</td>\n",
              "    </tr>\n",
              "  </tbody>\n",
              "</table>\n",
              "</div>"
            ],
            "text/plain": [
              "   Unnamed: 0  animal_number   session  time_stamp Annotation   power_sum  spec_pur     spec_cent    spec_spread  spec_skew  spec_kurt  spec_slope     spec_roll\n",
              "0           0            527  cagepair     18922.5  high slug   44921.600  0.335974  40617.050954  117729.192000   6.831866  48.160918    0.000787  38586.198407\n",
              "1           1            527  cagepair     24750.0   low slug   53212.637  0.295599  27042.548508    3827.200195   3.556462  20.402396   -0.000227  25690.421083\n",
              "2           2            527  cagepair     56002.5        bbc   94253.766  0.189555  30090.095178   68103.292456   3.982554  18.393372   -0.002314  28585.590419\n",
              "3           3            527  cagepair    174352.5        bbc   51008.836  0.306177  34324.170621   52563.703613   3.336529  10.448164   -0.001250  32607.962090\n",
              "4           4            527  cagepair    342877.5        bbc  164846.110  0.144833  33090.921412   22861.514782   1.852232   3.185318   -0.001784  31436.375341"
            ]
          },
          "metadata": {
            "tags": []
          },
          "execution_count": 6
        }
      ]
    },
    {
      "metadata": {
        "id": "75agLbierfoG",
        "colab_type": "code",
        "outputId": "260f030f-5f95-43e5-f265-18026d428279",
        "colab": {
          "base_uri": "https://localhost:8080/",
          "height": 241
        }
      },
      "cell_type": "code",
      "source": [
        "#create array of class labels, add to df\n",
        "annot_labels = annot_features_full['Annotation']\n",
        "annot_labels = annot_labels.replace(regex={r'low slug': 1, 'high slug': 1, 'low multi': 1, 'high multi': 1, 'bbc': 1, 'rand_noise': 0})\n",
        "annot_features_full['class'] = annot_labels\n",
        "annot_features_full.head()"
      ],
      "execution_count": 0,
      "outputs": [
        {
          "output_type": "execute_result",
          "data": {
            "text/html": [
              "<div>\n",
              "<style scoped>\n",
              "    .dataframe tbody tr th:only-of-type {\n",
              "        vertical-align: middle;\n",
              "    }\n",
              "\n",
              "    .dataframe tbody tr th {\n",
              "        vertical-align: top;\n",
              "    }\n",
              "\n",
              "    .dataframe thead th {\n",
              "        text-align: right;\n",
              "    }\n",
              "</style>\n",
              "<table border=\"1\" class=\"dataframe\">\n",
              "  <thead>\n",
              "    <tr style=\"text-align: right;\">\n",
              "      <th></th>\n",
              "      <th>Unnamed: 0</th>\n",
              "      <th>animal_number</th>\n",
              "      <th>session</th>\n",
              "      <th>time_stamp</th>\n",
              "      <th>Annotation</th>\n",
              "      <th>power_sum</th>\n",
              "      <th>spec_pur</th>\n",
              "      <th>spec_cent</th>\n",
              "      <th>spec_spread</th>\n",
              "      <th>spec_skew</th>\n",
              "      <th>spec_kurt</th>\n",
              "      <th>spec_slope</th>\n",
              "      <th>spec_roll</th>\n",
              "      <th>class</th>\n",
              "    </tr>\n",
              "  </thead>\n",
              "  <tbody>\n",
              "    <tr>\n",
              "      <th>0</th>\n",
              "      <td>0</td>\n",
              "      <td>527</td>\n",
              "      <td>cagepair</td>\n",
              "      <td>18922.5</td>\n",
              "      <td>high slug</td>\n",
              "      <td>44921.600</td>\n",
              "      <td>0.335974</td>\n",
              "      <td>40617.050954</td>\n",
              "      <td>117729.192000</td>\n",
              "      <td>6.831866</td>\n",
              "      <td>48.160918</td>\n",
              "      <td>0.000787</td>\n",
              "      <td>38586.198407</td>\n",
              "      <td>1</td>\n",
              "    </tr>\n",
              "    <tr>\n",
              "      <th>1</th>\n",
              "      <td>1</td>\n",
              "      <td>527</td>\n",
              "      <td>cagepair</td>\n",
              "      <td>24750.0</td>\n",
              "      <td>low slug</td>\n",
              "      <td>53212.637</td>\n",
              "      <td>0.295599</td>\n",
              "      <td>27042.548508</td>\n",
              "      <td>3827.200195</td>\n",
              "      <td>3.556462</td>\n",
              "      <td>20.402396</td>\n",
              "      <td>-0.000227</td>\n",
              "      <td>25690.421083</td>\n",
              "      <td>1</td>\n",
              "    </tr>\n",
              "    <tr>\n",
              "      <th>2</th>\n",
              "      <td>2</td>\n",
              "      <td>527</td>\n",
              "      <td>cagepair</td>\n",
              "      <td>56002.5</td>\n",
              "      <td>bbc</td>\n",
              "      <td>94253.766</td>\n",
              "      <td>0.189555</td>\n",
              "      <td>30090.095178</td>\n",
              "      <td>68103.292456</td>\n",
              "      <td>3.982554</td>\n",
              "      <td>18.393372</td>\n",
              "      <td>-0.002314</td>\n",
              "      <td>28585.590419</td>\n",
              "      <td>1</td>\n",
              "    </tr>\n",
              "    <tr>\n",
              "      <th>3</th>\n",
              "      <td>3</td>\n",
              "      <td>527</td>\n",
              "      <td>cagepair</td>\n",
              "      <td>174352.5</td>\n",
              "      <td>bbc</td>\n",
              "      <td>51008.836</td>\n",
              "      <td>0.306177</td>\n",
              "      <td>34324.170621</td>\n",
              "      <td>52563.703613</td>\n",
              "      <td>3.336529</td>\n",
              "      <td>10.448164</td>\n",
              "      <td>-0.001250</td>\n",
              "      <td>32607.962090</td>\n",
              "      <td>1</td>\n",
              "    </tr>\n",
              "    <tr>\n",
              "      <th>4</th>\n",
              "      <td>4</td>\n",
              "      <td>527</td>\n",
              "      <td>cagepair</td>\n",
              "      <td>342877.5</td>\n",
              "      <td>bbc</td>\n",
              "      <td>164846.110</td>\n",
              "      <td>0.144833</td>\n",
              "      <td>33090.921412</td>\n",
              "      <td>22861.514782</td>\n",
              "      <td>1.852232</td>\n",
              "      <td>3.185318</td>\n",
              "      <td>-0.001784</td>\n",
              "      <td>31436.375341</td>\n",
              "      <td>1</td>\n",
              "    </tr>\n",
              "  </tbody>\n",
              "</table>\n",
              "</div>"
            ],
            "text/plain": [
              "   Unnamed: 0  animal_number   session  time_stamp Annotation   power_sum  spec_pur     spec_cent    spec_spread  spec_skew  spec_kurt  spec_slope     spec_roll  class\n",
              "0           0            527  cagepair     18922.5  high slug   44921.600  0.335974  40617.050954  117729.192000   6.831866  48.160918    0.000787  38586.198407      1\n",
              "1           1            527  cagepair     24750.0   low slug   53212.637  0.295599  27042.548508    3827.200195   3.556462  20.402396   -0.000227  25690.421083      1\n",
              "2           2            527  cagepair     56002.5        bbc   94253.766  0.189555  30090.095178   68103.292456   3.982554  18.393372   -0.002314  28585.590419      1\n",
              "3           3            527  cagepair    174352.5        bbc   51008.836  0.306177  34324.170621   52563.703613   3.336529  10.448164   -0.001250  32607.962090      1\n",
              "4           4            527  cagepair    342877.5        bbc  164846.110  0.144833  33090.921412   22861.514782   1.852232   3.185318   -0.001784  31436.375341      1"
            ]
          },
          "metadata": {
            "tags": []
          },
          "execution_count": 7
        }
      ]
    },
    {
      "metadata": {
        "id": "FYTTeBymrfos",
        "colab_type": "code",
        "outputId": "606fffbb-ca0b-4dc4-d973-60332ee72615",
        "colab": {
          "base_uri": "https://localhost:8080/",
          "height": 170
        }
      },
      "cell_type": "code",
      "source": [
        "#separate and save for later testing dataset\n",
        "#stratify splitting by annotation types\n",
        "train_orig, test_orig = train_test_split(annot_features_full, test_size=0.3, random_state=1, stratify = annot_features_full.Annotation)\n",
        "print(train_orig.shape)\n",
        "print(test_orig.shape)\n",
        "print(train_orig['Annotation'].value_counts())"
      ],
      "execution_count": 0,
      "outputs": [
        {
          "output_type": "stream",
          "text": [
            "(671, 14)\n",
            "(288, 14)\n",
            "rand_noise    560\n",
            "low slug       42\n",
            "bbc            31\n",
            "high slug      19\n",
            "low multi      16\n",
            "high multi      3\n",
            "Name: Annotation, dtype: int64\n"
          ],
          "name": "stdout"
        }
      ]
    },
    {
      "metadata": {
        "id": "L6ISlKANrfpX",
        "colab_type": "code",
        "outputId": "65ab50e7-1255-4890-a3ed-80e846a8870d",
        "colab": {
          "base_uri": "https://localhost:8080/",
          "height": 289
        }
      },
      "cell_type": "code",
      "source": [
        "#separate and save for later testing dataset\n",
        "train_validate, test_validate = train_test_split(train_orig, test_size=0.15, random_state=1, stratify = train_orig.Annotation)\n",
        "print(train_validate.shape)\n",
        "print(test_validate.shape)\n",
        "print(train_validate['Annotation'].value_counts())\n",
        "print(test_validate['Annotation'].value_counts())"
      ],
      "execution_count": 0,
      "outputs": [
        {
          "output_type": "stream",
          "text": [
            "(570, 14)\n",
            "(101, 14)\n",
            "rand_noise    476\n",
            "low slug       36\n",
            "bbc            26\n",
            "high slug      16\n",
            "low multi      14\n",
            "high multi      2\n",
            "Name: Annotation, dtype: int64\n",
            "rand_noise    84\n",
            "low slug       6\n",
            "bbc            5\n",
            "high slug      3\n",
            "low multi      2\n",
            "high multi     1\n",
            "Name: Annotation, dtype: int64\n"
          ],
          "name": "stdout"
        }
      ]
    },
    {
      "metadata": {
        "id": "_yB3aNYcrfqC",
        "colab_type": "code",
        "outputId": "b8a2bcb6-c82f-49fa-e05d-778ed0f8efe4",
        "colab": {
          "base_uri": "https://localhost:8080/",
          "height": 377
        }
      },
      "cell_type": "code",
      "source": [
        "#upsample minority class (upsample to an equal number of noise samples)\n",
        "train_validate_maj = train_validate[train_validate['Annotation'] == 'rand_noise']\n",
        "train_validate_min = train_validate[train_validate['Annotation'] != 'rand_noise']\n",
        "\n",
        "train_validate_min_upsamples = resample(train_validate_min, replace=True, n_samples = len(train_validate_maj), random_state = 123)\n",
        "\n",
        "train_validate_upsamples = pd.concat([train_validate_min_upsamples, train_validate_maj])\n",
        "\n",
        "print(train_validate_upsamples.shape)\n",
        "print(train_validate_upsamples['Annotation'].value_counts())\n",
        "\n",
        "train_validate_upsamples.head()"
      ],
      "execution_count": 0,
      "outputs": [
        {
          "output_type": "stream",
          "text": [
            "(952, 14)\n",
            "rand_noise    476\n",
            "low slug      170\n",
            "bbc           125\n",
            "high slug      88\n",
            "low multi      80\n",
            "high multi     13\n",
            "Name: Annotation, dtype: int64\n"
          ],
          "name": "stdout"
        },
        {
          "output_type": "execute_result",
          "data": {
            "text/html": [
              "<div>\n",
              "<style scoped>\n",
              "    .dataframe tbody tr th:only-of-type {\n",
              "        vertical-align: middle;\n",
              "    }\n",
              "\n",
              "    .dataframe tbody tr th {\n",
              "        vertical-align: top;\n",
              "    }\n",
              "\n",
              "    .dataframe thead th {\n",
              "        text-align: right;\n",
              "    }\n",
              "</style>\n",
              "<table border=\"1\" class=\"dataframe\">\n",
              "  <thead>\n",
              "    <tr style=\"text-align: right;\">\n",
              "      <th></th>\n",
              "      <th>Unnamed: 0</th>\n",
              "      <th>animal_number</th>\n",
              "      <th>session</th>\n",
              "      <th>time_stamp</th>\n",
              "      <th>Annotation</th>\n",
              "      <th>power_sum</th>\n",
              "      <th>spec_pur</th>\n",
              "      <th>spec_cent</th>\n",
              "      <th>spec_spread</th>\n",
              "      <th>spec_skew</th>\n",
              "      <th>spec_kurt</th>\n",
              "      <th>spec_slope</th>\n",
              "      <th>spec_roll</th>\n",
              "      <th>class</th>\n",
              "    </tr>\n",
              "  </thead>\n",
              "  <tbody>\n",
              "    <tr>\n",
              "      <th>124</th>\n",
              "      <td>124</td>\n",
              "      <td>556</td>\n",
              "      <td>cagepair</td>\n",
              "      <td>41512.5</td>\n",
              "      <td>bbc</td>\n",
              "      <td>283922.600</td>\n",
              "      <td>0.105281</td>\n",
              "      <td>35128.433948</td>\n",
              "      <td>27613.082970</td>\n",
              "      <td>1.746885</td>\n",
              "      <td>2.369667</td>\n",
              "      <td>-0.001916</td>\n",
              "      <td>33372.012250</td>\n",
              "      <td>1</td>\n",
              "    </tr>\n",
              "    <tr>\n",
              "      <th>49</th>\n",
              "      <td>49</td>\n",
              "      <td>535</td>\n",
              "      <td>CPApair</td>\n",
              "      <td>201847.5</td>\n",
              "      <td>low slug</td>\n",
              "      <td>114278.914</td>\n",
              "      <td>0.151498</td>\n",
              "      <td>16245.921214</td>\n",
              "      <td>18541.400530</td>\n",
              "      <td>5.060017</td>\n",
              "      <td>27.840860</td>\n",
              "      <td>-0.001240</td>\n",
              "      <td>15433.625153</td>\n",
              "      <td>1</td>\n",
              "    </tr>\n",
              "    <tr>\n",
              "      <th>131</th>\n",
              "      <td>131</td>\n",
              "      <td>556</td>\n",
              "      <td>cagepair</td>\n",
              "      <td>169807.5</td>\n",
              "      <td>high slug</td>\n",
              "      <td>47409.770</td>\n",
              "      <td>0.329336</td>\n",
              "      <td>30112.858088</td>\n",
              "      <td>13748.241415</td>\n",
              "      <td>6.074303</td>\n",
              "      <td>42.912236</td>\n",
              "      <td>-0.000247</td>\n",
              "      <td>28607.215183</td>\n",
              "      <td>1</td>\n",
              "    </tr>\n",
              "    <tr>\n",
              "      <th>137</th>\n",
              "      <td>137</td>\n",
              "      <td>556</td>\n",
              "      <td>cagepair</td>\n",
              "      <td>459967.5</td>\n",
              "      <td>high slug</td>\n",
              "      <td>88313.625</td>\n",
              "      <td>0.185218</td>\n",
              "      <td>34136.696251</td>\n",
              "      <td>175651.225991</td>\n",
              "      <td>6.314609</td>\n",
              "      <td>40.124449</td>\n",
              "      <td>-0.001435</td>\n",
              "      <td>32429.861439</td>\n",
              "      <td>1</td>\n",
              "    </tr>\n",
              "    <tr>\n",
              "      <th>147</th>\n",
              "      <td>147</td>\n",
              "      <td>557</td>\n",
              "      <td>cagepair</td>\n",
              "      <td>79177.5</td>\n",
              "      <td>bbc</td>\n",
              "      <td>121944.500</td>\n",
              "      <td>0.143545</td>\n",
              "      <td>31621.628971</td>\n",
              "      <td>96620.582439</td>\n",
              "      <td>3.463390</td>\n",
              "      <td>12.100880</td>\n",
              "      <td>-0.002297</td>\n",
              "      <td>30040.547522</td>\n",
              "      <td>1</td>\n",
              "    </tr>\n",
              "  </tbody>\n",
              "</table>\n",
              "</div>"
            ],
            "text/plain": [
              "     Unnamed: 0  animal_number   session  time_stamp Annotation   power_sum  spec_pur     spec_cent    spec_spread  spec_skew  spec_kurt  spec_slope     spec_roll  class\n",
              "124         124            556  cagepair     41512.5        bbc  283922.600  0.105281  35128.433948   27613.082970   1.746885   2.369667   -0.001916  33372.012250      1\n",
              "49           49            535   CPApair    201847.5   low slug  114278.914  0.151498  16245.921214   18541.400530   5.060017  27.840860   -0.001240  15433.625153      1\n",
              "131         131            556  cagepair    169807.5  high slug   47409.770  0.329336  30112.858088   13748.241415   6.074303  42.912236   -0.000247  28607.215183      1\n",
              "137         137            556  cagepair    459967.5  high slug   88313.625  0.185218  34136.696251  175651.225991   6.314609  40.124449   -0.001435  32429.861439      1\n",
              "147         147            557  cagepair     79177.5        bbc  121944.500  0.143545  31621.628971   96620.582439   3.463390  12.100880   -0.002297  30040.547522      1"
            ]
          },
          "metadata": {
            "tags": []
          },
          "execution_count": 10
        }
      ]
    },
    {
      "metadata": {
        "id": "ojHT-d0drfqk",
        "colab_type": "code",
        "colab": {}
      },
      "cell_type": "code",
      "source": [
        "def square_rgb(xr_slice):\n",
        "    #takes in slice from netcdf file and reshapes to be compatible with keras pretrained model\n",
        "    times = data['times'].values\n",
        "    freqs = data['freq'].values\n",
        "    \n",
        "    #make square for Keras - need to interpolate data, first create function and then apply\n",
        "    x = np.arange(0, len(times))\n",
        "    y = np.arange(0, len(freqs))\n",
        "    f = interpolate.interp2d(x, y, xr_slice.values)\n",
        "    xnew = np.linspace(0, len(times), num=128)\n",
        "    ynew = np.linspace(0, len(freqs), num=128)\n",
        "    znew = f(xnew, ynew)\n",
        "\n",
        "    X = np.log(znew)\n",
        "    \n",
        "    #normalize and change to rgba (remove a)\n",
        "    X_colored = plt.cm.viridis((X - X.mean())/(X.max() - X.min()))\n",
        "    X_colored = X_colored[:,:,:3]\n",
        "    \n",
        "    return X_colored"
      ],
      "execution_count": 0,
      "outputs": []
    },
    {
      "metadata": {
        "id": "G1nDBud8rfrJ",
        "colab_type": "code",
        "outputId": "48699e43-363a-4ecb-99de-271470b31594",
        "colab": {
          "base_uri": "https://localhost:8080/",
          "height": 34
        }
      },
      "cell_type": "code",
      "source": [
        "#create keras compatible image for each annotation in train data set, save as np array\n",
        "rgbs = []\n",
        "i = 1\n",
        "for index, row in train_validate_upsamples.iterrows():\n",
        "    data = xr.open_dataset('/content/gdrive/Team Drives/USV_eScience_Incubator/Data/netcdf_files/Fear/' + str(row['animal_number']) + '_' +  str(row['session']) + '_xr_Dataset.nc')\n",
        "    \n",
        "    xr_slice = data['__xarray_dataarray_variable__'].sel(slices=row['time_stamp'])\n",
        "    \n",
        "    rgb = square_rgb(xr_slice)\n",
        "    \n",
        "    rgbs.append(rgb)\n",
        "    \n",
        "X = np.stack(rgbs)*255\n",
        "print(X.shape)"
      ],
      "execution_count": 0,
      "outputs": [
        {
          "output_type": "stream",
          "text": [
            "(952, 128, 128, 3)\n"
          ],
          "name": "stdout"
        }
      ]
    },
    {
      "metadata": {
        "id": "TOoqbMPHrfr2",
        "colab_type": "code",
        "outputId": "003155ce-72ea-4d8b-d4dc-a2857f76b9ae",
        "colab": {
          "base_uri": "https://localhost:8080/",
          "height": 34
        }
      },
      "cell_type": "code",
      "source": [
        "y = train_validate_upsamples['class']\n",
        "y.shape"
      ],
      "execution_count": 0,
      "outputs": [
        {
          "output_type": "execute_result",
          "data": {
            "text/plain": [
              "(952,)"
            ]
          },
          "metadata": {
            "tags": []
          },
          "execution_count": 13
        }
      ]
    },
    {
      "metadata": {
        "id": "8CBXV6dwrfsV",
        "colab_type": "code",
        "outputId": "52bd283f-1021-4588-eaf9-8efa41317536",
        "colab": {
          "base_uri": "https://localhost:8080/",
          "height": 34
        }
      },
      "cell_type": "code",
      "source": [
        "#create keras compatible image for each annotation in test data set, save as np array\n",
        "rgbs_test = []\n",
        "i = 1\n",
        "for index, row in test_validate.iterrows():\n",
        "    data = xr.open_dataset('/content/gdrive/Team Drives/USV_eScience_Incubator/Data/netcdf_files/Fear/' + str(row['animal_number'])  + '_' +  str(row['session']) + '_xr_Dataset.nc')\n",
        "    \n",
        "    xr_slice = data['__xarray_dataarray_variable__'].sel(slices=row['time_stamp'])\n",
        "    \n",
        "    rgb = square_rgb(xr_slice)\n",
        "\n",
        "    rgbs_test.append(rgb)\n",
        "    \n",
        "X_test = np.stack(rgbs_test)*255\n",
        "print(X_test.shape)"
      ],
      "execution_count": 0,
      "outputs": [
        {
          "output_type": "stream",
          "text": [
            "(101, 128, 128, 3)\n"
          ],
          "name": "stdout"
        }
      ]
    },
    {
      "metadata": {
        "id": "kSd2_tg0rftC",
        "colab_type": "code",
        "outputId": "8300e2ee-4632-45e2-b5f8-b6f87ec1b47b",
        "colab": {
          "base_uri": "https://localhost:8080/",
          "height": 34
        }
      },
      "cell_type": "code",
      "source": [
        "y_test = test_validate['class']\n",
        "y_test.shape"
      ],
      "execution_count": 0,
      "outputs": [
        {
          "output_type": "execute_result",
          "data": {
            "text/plain": [
              "(101,)"
            ]
          },
          "metadata": {
            "tags": []
          },
          "execution_count": 15
        }
      ]
    },
    {
      "metadata": {
        "id": "hE-mB2j_rftx",
        "colab_type": "code",
        "outputId": "d065a46b-2ec2-4763-b32d-9f0fc1cd1a82",
        "colab": {
          "base_uri": "https://localhost:8080/",
          "height": 34
        }
      },
      "cell_type": "code",
      "source": [
        "import keras\n",
        "from keras.layers import Dense,GlobalAveragePooling2D\n",
        "from keras.applications import MobileNet\n",
        "from keras.preprocessing import image\n",
        "from keras.applications.mobilenet import preprocess_input\n",
        "from keras.preprocessing.image import ImageDataGenerator\n",
        "from keras.models import Model\n",
        "from keras.optimizers import Adam\n",
        "\n",
        "from keras.layers import Dropout, Activation\n",
        "from keras.layers.normalization import BatchNormalization\n",
        "from sklearn.model_selection import train_test_split\n",
        "from keras.callbacks import ModelCheckpoint, EarlyStopping, ReduceLROnPlateau, CSVLogger, Callback\n",
        "from sklearn.metrics import confusion_matrix, f1_score, precision_score, recall_score\n",
        "from tensorboardcolab import TensorBoardColab, TensorBoardColabCallback"
      ],
      "execution_count": 0,
      "outputs": [
        {
          "output_type": "stream",
          "text": [
            "Using TensorFlow backend.\n"
          ],
          "name": "stderr"
        }
      ]
    },
    {
      "metadata": {
        "id": "tuMCeLUfrfuJ",
        "colab_type": "code",
        "outputId": "f38a734f-ef71-4062-86a8-54de7b59a4e6",
        "colab": {
          "base_uri": "https://localhost:8080/",
          "height": 88
        }
      },
      "cell_type": "code",
      "source": [
        "base_model=MobileNet(input_shape = (128,128,3), include_top=False) #imports the mobilenet model and discards the last 1000 neuron layer."
      ],
      "execution_count": 0,
      "outputs": [
        {
          "output_type": "stream",
          "text": [
            "WARNING:tensorflow:From /usr/local/lib/python3.6/dist-packages/tensorflow/python/framework/op_def_library.py:263: colocate_with (from tensorflow.python.framework.ops) is deprecated and will be removed in a future version.\n",
            "Instructions for updating:\n",
            "Colocations handled automatically by placer.\n"
          ],
          "name": "stdout"
        }
      ]
    },
    {
      "metadata": {
        "id": "4rXRN3C-rful",
        "colab_type": "code",
        "colab": {}
      },
      "cell_type": "code",
      "source": [
        "x=base_model.output\n",
        "x=GlobalAveragePooling2D()(x)\n",
        "#x=Dense(1024,activation='relu')(x) #we add dense layers so that the model can learn more complex functions and classify for better results.\n",
        "#x=Dense(1024,activation='relu')(x) #dense layer 2\n",
        "#x=Dense(512,activation='relu')(x) #dense layer 3\n",
        "preds=Dense(1,activation='sigmoid', name='features')(x) #final layer with softmax activation"
      ],
      "execution_count": 0,
      "outputs": []
    },
    {
      "metadata": {
        "id": "HCiKAO62rfu9",
        "colab_type": "code",
        "colab": {}
      },
      "cell_type": "code",
      "source": [
        "model=Model(inputs=base_model.input,outputs=preds)"
      ],
      "execution_count": 0,
      "outputs": []
    },
    {
      "metadata": {
        "id": "L6Mt_7morfvS",
        "colab_type": "code",
        "colab": {}
      },
      "cell_type": "code",
      "source": [
        "for layer in model.layers[:-1]:\n",
        "    layer.trainable=False\n",
        "for layer in model.layers[-1:]:\n",
        "    layer.trainable=True"
      ],
      "execution_count": 0,
      "outputs": []
    },
    {
      "metadata": {
        "id": "aXPBXghUrfv4",
        "colab_type": "code",
        "colab": {}
      },
      "cell_type": "code",
      "source": [
        "from keras import backend as K\n",
        "\n",
        "# recall, precision and f1 functions (note that f1 calls the out of scope recall and precision functions)\n",
        "\n",
        "def recall(y_true, y_pred):\n",
        "    \"\"\"Recall metric.\n",
        "\n",
        "    Only computes a batch-wise average of recall.\n",
        "\n",
        "    Computes the recall, a metric for multi-label classification of\n",
        "    how many relevant items are selected.\n",
        "    \"\"\"\n",
        "    true_positives = K.sum(K.round(K.clip(y_true * y_pred, 0, 1)))\n",
        "    possible_positives = K.sum(K.round(K.clip(y_true, 0, 1)))\n",
        "    r = true_positives / (possible_positives + K.epsilon())\n",
        "    return r\n",
        "\n",
        "    \n",
        "def precision(y_true, y_pred):\n",
        "    \"\"\"Precision metric.\n",
        "\n",
        "    Only computes a batch-wise average of precision.\n",
        "\n",
        "    Computes the precision, a metric for multi-label classification of\n",
        "    how many selected items are relevant.\n",
        "    \"\"\"\n",
        "    true_positives = K.sum(K.round(K.clip(y_true * y_pred, 0, 1)))\n",
        "    predicted_positives = K.sum(K.round(K.clip(y_pred, 0, 1)))\n",
        "    p = true_positives / (predicted_positives + K.epsilon())\n",
        "    return p\n",
        "\n",
        "def f1(y_true, y_pred):\n",
        "    \n",
        "    p = precision(y_true, y_pred)\n",
        "    r = recall(y_true, y_pred)\n",
        "    \n",
        "    return 2*((p*r)/(p+r+K.epsilon()))"
      ],
      "execution_count": 0,
      "outputs": []
    },
    {
      "metadata": {
        "id": "4JSuLsDwrfwd",
        "colab_type": "code",
        "colab": {}
      },
      "cell_type": "code",
      "source": [
        "model.compile(optimizer='Adam',loss='binary_crossentropy',metrics=[f1, precision, recall])"
      ],
      "execution_count": 0,
      "outputs": []
    },
    {
      "metadata": {
        "id": "AF7M8JT1HVx1",
        "colab_type": "code",
        "colab": {}
      },
      "cell_type": "code",
      "source": [
        "batch_size = 64"
      ],
      "execution_count": 0,
      "outputs": []
    },
    {
      "metadata": {
        "id": "o7lq04zgrfw3",
        "colab_type": "code",
        "colab": {}
      },
      "cell_type": "code",
      "source": [
        "# turning off the featurewise_center and the feature_std_normalization.\n",
        "train_datagen=ImageDataGenerator(featurewise_center=False,\n",
        "    featurewise_std_normalization=False, width_shift_range=0.2, fill_mode='reflect', preprocessing_function=preprocess_input) #included in our dependencies\n",
        "\n",
        "train_generator=train_datagen.flow(X, y, batch_size=batch_size, shuffle=True)"
      ],
      "execution_count": 0,
      "outputs": []
    },
    {
      "metadata": {
        "id": "Ia93rXg7rfxQ",
        "colab_type": "code",
        "colab": {}
      },
      "cell_type": "code",
      "source": [
        "# defining the validation generator: we need to apply the same preprocessing as the ones on the training set\n",
        "test_datagen = ImageDataGenerator(preprocessing_function=preprocess_input)\n",
        "\n",
        "validation_generator = test_datagen.flow(X_test, y_test, batch_size=batch_size, shuffle=True)"
      ],
      "execution_count": 0,
      "outputs": []
    },
    {
      "metadata": {
        "id": "GYhFwJQfrfxp",
        "colab_type": "code",
        "outputId": "60a81f31-f080-4b0a-99da-fa9db65e5e5d",
        "colab": {
          "base_uri": "https://localhost:8080/",
          "height": 68
        }
      },
      "cell_type": "code",
      "source": [
        "# it stopped working for Valentina\n",
        "\n",
        "log_dir='/content/gdrive/Team Drives/USV_eScience_Incubator/Data/TF_logs/run_a'\n",
        "\n",
        "with open(join(log_dir, 'metadata.tsv'), 'w') as f:\n",
        "   f.write('Index\\tLabel\\n')\n",
        "   for index,label in enumerate(y_test):\n",
        "       f.write('%d\\t%d\\n' % (index,label))\n",
        "\n",
        "#tensorboard = TensorBoard(log_dir=log_dir, histogram_freq=1, batch_size=32, write_graph=True, write_grads=False, write_images=True, embeddings_freq=1, embeddings_layer_names=['features'], embeddings_metadata=join(log_dir, 'metadata.tsv'), embeddings_data=X_test, update_freq='epoch')\n",
        "\n",
        "tbc = TensorBoardColab()\n",
        "\n",
        "callbacks_list = [\n",
        "    EarlyStopping(monitor = 'val_acc', patience = 6, verbose = 1),\n",
        "    ReduceLROnPlateau(monitor = 'val_acc', factor = 0.1, patience = 3, verbose = 1), [TensorBoardColabCallback(tbc)]]"
      ],
      "execution_count": 0,
      "outputs": [
        {
          "output_type": "stream",
          "text": [
            "Wait for 8 seconds...\n",
            "TensorBoard link:\n",
            "http://90ad257f.ngrok.io\n"
          ],
          "name": "stdout"
        }
      ]
    },
    {
      "metadata": {
        "id": "0Rd9PJzkrfyK",
        "colab_type": "code",
        "colab": {}
      },
      "cell_type": "code",
      "source": [
        "# we will use the validation generator, not the test datasets directly\n",
        "\n",
        "#step_size_train=train_generator.n//train_generator.batch_size\n",
        "\n",
        "#model.fit_generator(generator=train_generator, steps_per_epoch=step_size_train,\n",
        "#                   epochs=9,\n",
        "#                   validation_data = [X_test, y_test],\n",
        "#                callbacks=[TensorBoardColabCallback(tbc)])\n",
        "#\n",
        "#model.fit_generator(train_generator, steps_per_epoch=num_of_train_samples // batch_size, epochs=epochs, validation_data=validation_generator, validation_steps=num_of_test_samples // batch_size)"
      ],
      "execution_count": 0,
      "outputs": []
    },
    {
      "metadata": {
        "id": "Xr_FPYcUrfyu",
        "colab_type": "code",
        "colab": {}
      },
      "cell_type": "code",
      "source": [
        "# stopped working for Valentina\n",
        "\n",
        "# command for starting tensorboard from terminal\n",
        "\n",
        "# !python -m tensorboard.main --logdir='/content/gdrive/Team Drives/USV_eScience_Incubator/Data/TF_logs/run_a/'"
      ],
      "execution_count": 0,
      "outputs": []
    },
    {
      "metadata": {
        "id": "LFu2nBneNgH-",
        "colab_type": "code",
        "colab": {}
      },
      "cell_type": "code",
      "source": [
        "#ls /content/gdrive/Team\\ Drives/USV_eScience_Incubator/Data/TF_logs/run_a"
      ],
      "execution_count": 0,
      "outputs": []
    },
    {
      "metadata": {
        "id": "hlCmt5KWI0qB",
        "colab_type": "code",
        "outputId": "df335229-2177-4784-d927-e7e4a1c83b67",
        "colab": {
          "base_uri": "https://localhost:8080/",
          "height": 34
        }
      },
      "cell_type": "code",
      "source": [
        "num_of_train_samples = X.shape[0]\n",
        "num_of_test_samples = X_test.shape[0]\n",
        "print(num_of_train_samples)"
      ],
      "execution_count": 0,
      "outputs": [
        {
          "output_type": "stream",
          "text": [
            "952\n"
          ],
          "name": "stdout"
        }
      ]
    },
    {
      "metadata": {
        "id": "z-EzbmMDrfzi",
        "colab_type": "code",
        "outputId": "a3c24924-8d76-46c9-e024-5933dc0d436d",
        "colab": {
          "base_uri": "https://localhost:8080/",
          "height": 1788
        }
      },
      "cell_type": "code",
      "source": [
        "num_of_train_samples = X.shape[0]\n",
        "num_of_test_samples = X_test.shape[0]\n",
        "history = model.fit_generator(train_generator, steps_per_epoch=num_of_train_samples // batch_size, epochs=50, \n",
        "                    validation_data=validation_generator, validation_steps= num_of_test_samples // batch_size,\n",
        "                    callbacks=[TensorBoardColabCallback(tbc)])"
      ],
      "execution_count": 0,
      "outputs": [
        {
          "output_type": "stream",
          "text": [
            "WARNING:tensorflow:From /usr/local/lib/python3.6/dist-packages/tensorflow/python/ops/math_ops.py:3066: to_int32 (from tensorflow.python.ops.math_ops) is deprecated and will be removed in a future version.\n",
            "Instructions for updating:\n",
            "Use tf.cast instead.\n",
            "Epoch 1/50\n",
            "14/14 [==============================] - 5s 359ms/step - loss: 0.6521 - f1: 0.6478 - precision: 0.6711 - recall: 0.6544 - val_loss: 0.5806 - val_f1: 0.3810 - val_precision: 0.4000 - val_recall: 0.3636\n",
            "Epoch 2/50\n",
            "14/14 [==============================] - 4s 260ms/step - loss: 0.5804 - f1: 0.7159 - precision: 0.7286 - recall: 0.7311 - val_loss: 0.5710 - val_f1: 0.2857 - val_precision: 0.2500 - val_recall: 0.3333\n",
            "Epoch 3/50\n",
            "14/14 [==============================] - 3s 237ms/step - loss: 0.5640 - f1: 0.7325 - precision: 0.7695 - recall: 0.7046 - val_loss: 0.6387 - val_f1: 0.4211 - val_precision: 0.2963 - val_recall: 0.7273\n",
            "Epoch 4/50\n",
            "14/14 [==============================] - 3s 248ms/step - loss: 0.4956 - f1: 0.7698 - precision: 0.7962 - recall: 0.7543 - val_loss: 0.6283 - val_f1: 0.3750 - val_precision: 0.3000 - val_recall: 0.5000\n",
            "Epoch 5/50\n",
            "14/14 [==============================] - 4s 251ms/step - loss: 0.4573 - f1: 0.7867 - precision: 0.8109 - recall: 0.7680 - val_loss: 0.5319 - val_f1: 0.5217 - val_precision: 0.5000 - val_recall: 0.5455\n",
            "Epoch 6/50\n",
            "14/14 [==============================] - 3s 247ms/step - loss: 0.4249 - f1: 0.8023 - precision: 0.8220 - recall: 0.7907 - val_loss: 0.5433 - val_f1: 0.4615 - val_precision: 0.4286 - val_recall: 0.5000\n",
            "Epoch 7/50\n",
            "14/14 [==============================] - 4s 251ms/step - loss: 0.4649 - f1: 0.7775 - precision: 0.7925 - recall: 0.7710 - val_loss: 0.4556 - val_f1: 0.5000 - val_precision: 0.5714 - val_recall: 0.4444\n",
            "Epoch 8/50\n",
            "14/14 [==============================] - 3s 249ms/step - loss: 0.4211 - f1: 0.8162 - precision: 0.8245 - recall: 0.8147 - val_loss: 0.5110 - val_f1: 0.3636 - val_precision: 0.6667 - val_recall: 0.2500\n",
            "Epoch 9/50\n",
            "14/14 [==============================] - 3s 249ms/step - loss: 0.4331 - f1: 0.7993 - precision: 0.8363 - recall: 0.7787 - val_loss: 0.6001 - val_f1: 0.4138 - val_precision: 0.3529 - val_recall: 0.5000\n",
            "Epoch 10/50\n",
            "14/14 [==============================] - 3s 248ms/step - loss: 0.4412 - f1: 0.7884 - precision: 0.8271 - recall: 0.7685 - val_loss: 0.4805 - val_f1: 0.7273 - val_precision: 0.6667 - val_recall: 0.8000\n",
            "Epoch 11/50\n",
            "14/14 [==============================] - 4s 251ms/step - loss: 0.3964 - f1: 0.8271 - precision: 0.8229 - recall: 0.8439 - val_loss: 0.4327 - val_f1: 0.2000 - val_precision: 0.2500 - val_recall: 0.1667\n",
            "Epoch 12/50\n",
            "14/14 [==============================] - 3s 246ms/step - loss: 0.3899 - f1: 0.8195 - precision: 0.8380 - recall: 0.8135 - val_loss: 0.5596 - val_f1: 0.6667 - val_precision: 0.7000 - val_recall: 0.6364\n",
            "Epoch 13/50\n",
            "14/14 [==============================] - 3s 249ms/step - loss: 0.3733 - f1: 0.8530 - precision: 0.8832 - recall: 0.8284 - val_loss: 0.5848 - val_f1: 0.5806 - val_precision: 0.5000 - val_recall: 0.6923\n",
            "Epoch 14/50\n",
            "14/14 [==============================] - 3s 246ms/step - loss: 0.3743 - f1: 0.8376 - precision: 0.8503 - recall: 0.8293 - val_loss: 0.5173 - val_f1: 0.4000 - val_precision: 0.3333 - val_recall: 0.5000\n",
            "Epoch 15/50\n",
            "14/14 [==============================] - 4s 250ms/step - loss: 0.3663 - f1: 0.8406 - precision: 0.8640 - recall: 0.8304 - val_loss: 0.6436 - val_f1: 0.2667 - val_precision: 0.1739 - val_recall: 0.5714\n",
            "Epoch 16/50\n",
            "14/14 [==============================] - 4s 251ms/step - loss: 0.3516 - f1: 0.8485 - precision: 0.8704 - recall: 0.8313 - val_loss: 0.5129 - val_f1: 0.6667 - val_precision: 0.6364 - val_recall: 0.7000\n",
            "Epoch 17/50\n",
            "14/14 [==============================] - 4s 252ms/step - loss: 0.3571 - f1: 0.8401 - precision: 0.8501 - recall: 0.8383 - val_loss: 0.5867 - val_f1: 0.5185 - val_precision: 0.3889 - val_recall: 0.7778\n",
            "Epoch 18/50\n",
            "14/14 [==============================] - 3s 246ms/step - loss: 0.3377 - f1: 0.8498 - precision: 0.8623 - recall: 0.8456 - val_loss: 0.6109 - val_f1: 0.4444 - val_precision: 0.3158 - val_recall: 0.7500\n",
            "Epoch 19/50\n",
            "14/14 [==============================] - 4s 250ms/step - loss: 0.3201 - f1: 0.8520 - precision: 0.8659 - recall: 0.8466 - val_loss: 0.6060 - val_f1: 0.4186 - val_precision: 0.3000 - val_recall: 0.6923\n",
            "Epoch 20/50\n",
            "14/14 [==============================] - 3s 247ms/step - loss: 0.3268 - f1: 0.8649 - precision: 0.8659 - recall: 0.8717 - val_loss: 0.5742 - val_f1: 0.4000 - val_precision: 0.2727 - val_recall: 0.7500\n",
            "Epoch 21/50\n",
            "14/14 [==============================] - 3s 250ms/step - loss: 0.3320 - f1: 0.8679 - precision: 0.8668 - recall: 0.8835 - val_loss: 0.6549 - val_f1: 0.3721 - val_precision: 0.2424 - val_recall: 0.8000\n",
            "Epoch 22/50\n",
            "14/14 [==============================] - 3s 245ms/step - loss: 0.3139 - f1: 0.8440 - precision: 0.8926 - recall: 0.8080 - val_loss: 0.6499 - val_f1: 0.4000 - val_precision: 0.2778 - val_recall: 0.7143\n",
            "Epoch 23/50\n",
            "14/14 [==============================] - 4s 252ms/step - loss: 0.3415 - f1: 0.8536 - precision: 0.8414 - recall: 0.8731 - val_loss: 0.5927 - val_f1: 0.5161 - val_precision: 0.4000 - val_recall: 0.7273\n",
            "Epoch 24/50\n",
            "14/14 [==============================] - 3s 246ms/step - loss: 0.2767 - f1: 0.8898 - precision: 0.9064 - recall: 0.8754 - val_loss: 0.5557 - val_f1: 0.4000 - val_precision: 0.2857 - val_recall: 0.6667\n",
            "Epoch 25/50\n",
            "14/14 [==============================] - 4s 251ms/step - loss: 0.3327 - f1: 0.8530 - precision: 0.8642 - recall: 0.8511 - val_loss: 0.5561 - val_f1: 0.5600 - val_precision: 0.4667 - val_recall: 0.7000\n",
            "Epoch 26/50\n",
            "14/14 [==============================] - 3s 246ms/step - loss: 0.3306 - f1: 0.8557 - precision: 0.8536 - recall: 0.8667 - val_loss: 0.5235 - val_f1: 0.4286 - val_precision: 0.4286 - val_recall: 0.4286\n",
            "Epoch 27/50\n",
            "14/14 [==============================] - 3s 250ms/step - loss: 0.3320 - f1: 0.8532 - precision: 0.8733 - recall: 0.8420 - val_loss: 0.6527 - val_f1: 0.4000 - val_precision: 0.2647 - val_recall: 0.8182\n",
            "Epoch 28/50\n",
            "14/14 [==============================] - 3s 245ms/step - loss: 0.3129 - f1: 0.8612 - precision: 0.8712 - recall: 0.8567 - val_loss: 0.5872 - val_f1: 0.4444 - val_precision: 0.3333 - val_recall: 0.6667\n",
            "Epoch 29/50\n",
            "14/14 [==============================] - 4s 251ms/step - loss: 0.3053 - f1: 0.8644 - precision: 0.8625 - recall: 0.8747 - val_loss: 0.6693 - val_f1: 0.3721 - val_precision: 0.2424 - val_recall: 0.8000\n",
            "Epoch 30/50\n",
            "14/14 [==============================] - 3s 245ms/step - loss: 0.3056 - f1: 0.8768 - precision: 0.8994 - recall: 0.8637 - val_loss: 0.6713 - val_f1: 0.4286 - val_precision: 0.2857 - val_recall: 0.8571\n",
            "Epoch 31/50\n",
            "14/14 [==============================] - 4s 252ms/step - loss: 0.3125 - f1: 0.8600 - precision: 0.8764 - recall: 0.8517 - val_loss: 0.5350 - val_f1: 0.5000 - val_precision: 0.4167 - val_recall: 0.6250\n",
            "Epoch 32/50\n",
            "14/14 [==============================] - 3s 244ms/step - loss: 0.2631 - f1: 0.8982 - precision: 0.8843 - recall: 0.9201 - val_loss: 0.6072 - val_f1: 0.6667 - val_precision: 0.5833 - val_recall: 0.7778\n",
            "Epoch 33/50\n",
            "14/14 [==============================] - 4s 250ms/step - loss: 0.3329 - f1: 0.8471 - precision: 0.8902 - recall: 0.8195 - val_loss: 0.7153 - val_f1: 0.3774 - val_precision: 0.2439 - val_recall: 0.8333\n",
            "Epoch 34/50\n",
            "14/14 [==============================] - 3s 245ms/step - loss: 0.2582 - f1: 0.9044 - precision: 0.9101 - recall: 0.9017 - val_loss: 0.5519 - val_f1: 0.5000 - val_precision: 0.3636 - val_recall: 0.8000\n",
            "Epoch 35/50\n",
            "14/14 [==============================] - 3s 250ms/step - loss: 0.3001 - f1: 0.8770 - precision: 0.8870 - recall: 0.8714 - val_loss: 0.6561 - val_f1: 0.2857 - val_precision: 0.1818 - val_recall: 0.6667\n",
            "Epoch 36/50\n",
            "14/14 [==============================] - 3s 247ms/step - loss: 0.3110 - f1: 0.8688 - precision: 0.8698 - recall: 0.8803 - val_loss: 0.6288 - val_f1: 0.5833 - val_precision: 0.4375 - val_recall: 0.8750\n",
            "Epoch 37/50\n",
            "14/14 [==============================] - 3s 249ms/step - loss: 0.2595 - f1: 0.8963 - precision: 0.9133 - recall: 0.8864 - val_loss: 0.5709 - val_f1: 0.6061 - val_precision: 0.5000 - val_recall: 0.7692\n",
            "Epoch 38/50\n",
            "14/14 [==============================] - 4s 277ms/step - loss: 0.2856 - f1: 0.8909 - precision: 0.9017 - recall: 0.8915 - val_loss: 0.7371 - val_f1: 0.2143 - val_precision: 0.1250 - val_recall: 0.7500\n",
            "Epoch 39/50\n",
            "14/14 [==============================] - 5s 323ms/step - loss: 0.2566 - f1: 0.8912 - precision: 0.9160 - recall: 0.8755 - val_loss: 0.6578 - val_f1: 0.3913 - val_precision: 0.2647 - val_recall: 0.7500\n",
            "Epoch 40/50\n",
            "14/14 [==============================] - 3s 245ms/step - loss: 0.2748 - f1: 0.8847 - precision: 0.8845 - recall: 0.8932 - val_loss: 0.6476 - val_f1: 0.4762 - val_precision: 0.3125 - val_recall: 1.0000\n",
            "Epoch 41/50\n",
            "14/14 [==============================] - 3s 249ms/step - loss: 0.2560 - f1: 0.9001 - precision: 0.9024 - recall: 0.9041 - val_loss: 0.6728 - val_f1: 0.3077 - val_precision: 0.2000 - val_recall: 0.6667\n",
            "Epoch 42/50\n",
            "14/14 [==============================] - 3s 247ms/step - loss: 0.2900 - f1: 0.8765 - precision: 0.9008 - recall: 0.8598 - val_loss: 0.6206 - val_f1: 0.5926 - val_precision: 0.4211 - val_recall: 1.0000\n",
            "Epoch 43/50\n",
            "14/14 [==============================] - 4s 255ms/step - loss: 0.2691 - f1: 0.8823 - precision: 0.9060 - recall: 0.8702 - val_loss: 0.6718 - val_f1: 0.4286 - val_precision: 0.2903 - val_recall: 0.8182\n",
            "Epoch 44/50\n",
            "14/14 [==============================] - 3s 249ms/step - loss: 0.2772 - f1: 0.8983 - precision: 0.8838 - recall: 0.9215 - val_loss: 0.5418 - val_f1: 0.6250 - val_precision: 0.5000 - val_recall: 0.8333\n",
            "Epoch 45/50\n",
            "14/14 [==============================] - 3s 249ms/step - loss: 0.2713 - f1: 0.8903 - precision: 0.9064 - recall: 0.8824 - val_loss: 0.6716 - val_f1: 0.4898 - val_precision: 0.3333 - val_recall: 0.9231\n",
            "Epoch 46/50\n",
            "14/14 [==============================] - 3s 248ms/step - loss: 0.2559 - f1: 0.9021 - precision: 0.9150 - recall: 0.8937 - val_loss: 0.6609 - val_f1: 0.1176 - val_precision: 0.0769 - val_recall: 0.2500\n",
            "Epoch 47/50\n",
            "14/14 [==============================] - 4s 250ms/step - loss: 0.2682 - f1: 0.8778 - precision: 0.8779 - recall: 0.8867 - val_loss: 0.6121 - val_f1: 0.4390 - val_precision: 0.3000 - val_recall: 0.8182\n",
            "Epoch 48/50\n",
            "14/14 [==============================] - 3s 245ms/step - loss: 0.2377 - f1: 0.9021 - precision: 0.8985 - recall: 0.9090 - val_loss: 0.7120 - val_f1: 0.4167 - val_precision: 0.2778 - val_recall: 0.8333\n",
            "Epoch 49/50\n",
            "14/14 [==============================] - 3s 247ms/step - loss: 0.2487 - f1: 0.9008 - precision: 0.9149 - recall: 0.8919 - val_loss: 0.6655 - val_f1: 0.4186 - val_precision: 0.2727 - val_recall: 0.9000\n",
            "Epoch 50/50\n",
            "14/14 [==============================] - 3s 246ms/step - loss: 0.2617 - f1: 0.8717 - precision: 0.8843 - recall: 0.8645 - val_loss: 0.6561 - val_f1: 0.3810 - val_precision: 0.2857 - val_recall: 0.5714\n"
          ],
          "name": "stdout"
        }
      ]
    },
    {
      "metadata": {
        "id": "J6fLf8zKaX5r",
        "colab_type": "code",
        "colab": {}
      },
      "cell_type": "code",
      "source": [
        ""
      ],
      "execution_count": 0,
      "outputs": []
    },
    {
      "metadata": {
        "id": "DtX2G5Zxrf0Z",
        "colab_type": "code",
        "colab": {}
      },
      "cell_type": "code",
      "source": [
        ""
      ],
      "execution_count": 0,
      "outputs": []
    },
    {
      "metadata": {
        "id": "cCXeehqpZVfT",
        "colab_type": "text"
      },
      "cell_type": "markdown",
      "source": [
        "Saving the model and its weights."
      ]
    },
    {
      "metadata": {
        "id": "Gl_tKiKGQlOx",
        "colab_type": "code",
        "colab": {}
      },
      "cell_type": "code",
      "source": [
        "#from keras.models import model_from_json\n",
        "## serialize model to JSON\n",
        "#model_json = model.to_json()\n",
        "#with open(\"model.json\", \"w\") as json_file:\n",
        "#    json_file.write(model_json)\n",
        "# serialize weights to HDF5\n",
        "#model.save_weights(\"model.h5\")\n",
        "#print(\"Saved model to disk\")\n",
        " \n",
        "# later...\n",
        " \n",
        "# load json and create model\n",
        "#json_file = open('model.json', 'r')\n",
        "#loaded_model_json = json_file.read()\n",
        "#json_file.close()\n",
        "#loaded_model = model_from_json(loaded_model_json)\n",
        "# load weights into new model\n",
        "#loaded_model.load_weights(\"model.h5\")\n",
        "#print(\"Loaded model from disk\")\n",
        " \n",
        "# evaluate loaded model on test data\n",
        "#loaded_model.compile(loss='binary_crossentropy', optimizer='Adam', metrics=[f1,precision,recall])\n",
        "#score = loaded_model.evaluate(X, y, verbose=0)\n",
        "#print(\"%s: %.2f%%\" % (loaded_model.metrics_names[1], score[1]*100))\n"
      ],
      "execution_count": 0,
      "outputs": []
    },
    {
      "metadata": {
        "id": "YaILOnPobkWC",
        "colab_type": "code",
        "colab": {}
      },
      "cell_type": "code",
      "source": [
        ""
      ],
      "execution_count": 0,
      "outputs": []
    },
    {
      "metadata": {
        "id": "09t31dssQn4X",
        "colab_type": "text"
      },
      "cell_type": "markdown",
      "source": [
        "**Performance on the Validation Set**"
      ]
    },
    {
      "metadata": {
        "id": "P62gk5cdrf09",
        "colab_type": "code",
        "colab": {}
      },
      "cell_type": "code",
      "source": [
        "#Confusion Matrix and Classification Report\n",
        "X_test_temp = X_test.copy()\n",
        "Y_pred = model.predict(preprocess_input(X_test_temp))\n",
        "y_pred = (Y_pred>0.5)"
      ],
      "execution_count": 0,
      "outputs": []
    },
    {
      "metadata": {
        "id": "d9Z4MfnrtnIu",
        "colab_type": "code",
        "outputId": "bf6617b3-ea13-4181-e085-ab907c32cf75",
        "colab": {
          "base_uri": "https://localhost:8080/",
          "height": 51
        }
      },
      "cell_type": "code",
      "source": [
        "score = model.evaluate(X_test_temp,y_test)\n",
        "print(\"%s: %.2f%%\" % (model.metrics_names[1], score[1]*100))"
      ],
      "execution_count": 0,
      "outputs": [
        {
          "output_type": "stream",
          "text": [
            "101/101 [==============================] - 0s 1ms/step\n",
            "f1: 42.55%\n"
          ],
          "name": "stdout"
        }
      ]
    },
    {
      "metadata": {
        "id": "-2ldVkjonivq",
        "colab_type": "code",
        "colab": {}
      },
      "cell_type": "code",
      "source": [
        ""
      ],
      "execution_count": 0,
      "outputs": []
    },
    {
      "metadata": {
        "id": "-2W7oVvmrf1a",
        "colab_type": "code",
        "outputId": "2b2beec6-678e-440a-eb6d-3614219ee730",
        "colab": {
          "base_uri": "https://localhost:8080/",
          "height": 51
        }
      },
      "cell_type": "code",
      "source": [
        "print(Y_pred.shape)\n",
        "print(y_test.shape)"
      ],
      "execution_count": 0,
      "outputs": [
        {
          "output_type": "stream",
          "text": [
            "(101, 1)\n",
            "(101,)\n"
          ],
          "name": "stdout"
        }
      ]
    },
    {
      "metadata": {
        "id": "1EdI0cNnrf1v",
        "colab_type": "code",
        "outputId": "cd05bd31-0ffe-4b50-cdf2-284814d89092",
        "colab": {
          "base_uri": "https://localhost:8080/",
          "height": 332
        }
      },
      "cell_type": "code",
      "source": [
        "p, r, thresholds = precision_recall_curve(y_test, Y_pred)\n",
        "plt.plot(r, p)\n",
        "\n",
        "plt.xlim([0, 1])\n",
        "plt.ylim([0, 1.05])\n",
        "plt.legend(loc=\"lower right\")\n",
        "plt.xlabel('Recall (Sensitivity)', fontsize = 15)\n",
        "plt.ylabel('Precision', fontsize = 15)\n",
        "plt.title('Precision-Recall Curve')"
      ],
      "execution_count": 0,
      "outputs": [
        {
          "output_type": "stream",
          "text": [
            "No handles with labels found to put in legend.\n"
          ],
          "name": "stderr"
        },
        {
          "output_type": "execute_result",
          "data": {
            "text/plain": [
              "Text(0.5, 1.0, 'Precision-Recall Curve')"
            ]
          },
          "metadata": {
            "tags": []
          },
          "execution_count": 35
        },
        {
          "output_type": "display_data",
          "data": {
            "image/png": "[encoded data removed]",
            "text/plain": [
              "<Figure size 432x288 with 1 Axes>"
            ]
          },
          "metadata": {
            "tags": []
          }
        }
      ]
    },
    {
      "metadata": {
        "id": "benOFsIjrf2M",
        "colab_type": "code",
        "outputId": "5fafb635-b485-4ac0-ed50-ccd32db48d02",
        "colab": {
          "base_uri": "https://localhost:8080/",
          "height": 332
        }
      },
      "cell_type": "code",
      "source": [
        "from sklearn.metrics import roc_curve\n",
        "fpr, tpr, thresholds = roc_curve(y_test, Y_pred)\n",
        "plt.plot(fpr, tpr)\n",
        "\n",
        "plt.xlim([0, 1])\n",
        "plt.ylim([0, 1.05])\n",
        "plt.legend(loc=\"lower right\")\n",
        "plt.xlabel('False Positive Rate', fontsize = 15)\n",
        "plt.ylabel('True Positive Rate', fontsize = 15)\n",
        "plt.title('ROC Curve')"
      ],
      "execution_count": 0,
      "outputs": [
        {
          "output_type": "stream",
          "text": [
            "No handles with labels found to put in legend.\n"
          ],
          "name": "stderr"
        },
        {
          "output_type": "execute_result",
          "data": {
            "text/plain": [
              "Text(0.5, 1.0, 'ROC Curve')"
            ]
          },
          "metadata": {
            "tags": []
          },
          "execution_count": 36
        },
        {
          "output_type": "display_data",
          "data": {
            "image/png": "[encoded data removed]",
            "text/plain": [
              "<Figure size 432x288 with 1 Axes>"
            ]
          },
          "metadata": {
            "tags": []
          }
        }
      ]
    },
    {
      "metadata": {
        "id": "AG_eDI6ZQfTe",
        "colab_type": "code",
        "colab": {}
      },
      "cell_type": "code",
      "source": [
        "# define the plot_confusion_matrix function\n",
        "from sklearn.utils.multiclass import unique_labels\n",
        "def plot_confusion_matrix(y_true, y_pred, classes,\n",
        "                          normalize=False,\n",
        "                          title=None,\n",
        "                          cmap=plt.cm.Blues):\n",
        "    \"\"\"\n",
        "    This function prints and plots the confusion matrix.\n",
        "    Normalization can be applied by setting `normalize=True`.\n",
        "    \"\"\"\n",
        "    if not title:\n",
        "        if normalize:\n",
        "            title = 'Normalized confusion matrix'\n",
        "        else:\n",
        "            title = 'Confusion matrix, without normalization'\n",
        "\n",
        "    # Compute confusion matrix\n",
        "    cm = confusion_matrix(y_true, y_pred)\n",
        "    # Only use the labels that appear in the data\n",
        "    classes = classes[unique_labels(y_true, y_pred)]\n",
        "    if normalize:\n",
        "        cm = cm.astype('float') / cm.sum(axis=1)[:, np.newaxis]\n",
        "        print(\"Normalized confusion matrix\")\n",
        "    else:\n",
        "        print('Confusion matrix, without normalization')\n",
        "\n",
        "    print(cm)\n",
        "\n",
        "    fig, ax = plt.subplots()\n",
        "    im = ax.imshow(cm, interpolation='nearest', cmap=cmap)\n",
        "    ax.figure.colorbar(im, ax=ax)\n",
        "    # We want to show all ticks...\n",
        "    ax.set(xticks=np.arange(cm.shape[1]),\n",
        "           yticks=np.arange(cm.shape[0]),\n",
        "           # ... and label them with the respective list entries\n",
        "           xticklabels=classes, yticklabels=classes,\n",
        "           title=title,\n",
        "           ylabel='True label',\n",
        "           xlabel='Predicted label')\n",
        "\n",
        "    # Rotate the tick labels and set their alignment.\n",
        "    plt.setp(ax.get_xticklabels(), rotation=45, ha=\"right\",\n",
        "             rotation_mode=\"anchor\")\n",
        "\n",
        "    # Loop over data dimensions and create text annotations.\n",
        "    fmt = '.2f' if normalize else 'd'\n",
        "    thresh = cm.max() / 2.\n",
        "    for i in range(cm.shape[0]):\n",
        "        for j in range(cm.shape[1]):\n",
        "            ax.text(j, i, format(cm[i, j], fmt),\n",
        "                    ha=\"center\", va=\"center\",\n",
        "                    color=\"white\" if cm[i, j] > thresh else \"black\")\n",
        "    fig.tight_layout()\n",
        "    return ax\n",
        "\n"
      ],
      "execution_count": 0,
      "outputs": []
    },
    {
      "metadata": {
        "id": "VdPzDSjgQ3M0",
        "colab_type": "code",
        "outputId": "ac093802-12fe-4e07-e60b-7fbaed7a773b",
        "colab": {
          "base_uri": "https://localhost:8080/",
          "height": 555
        }
      },
      "cell_type": "code",
      "source": [
        "plt.style.use('default')\n",
        "plot_confusion_matrix(list(y_test), y_pred.flatten(),unique_labels(y_pred.flatten(),list(y_test)))\n",
        "plt.title('Validation F1 Score: ' + str(round(f1_score(y_test,y_pred),2)))"
      ],
      "execution_count": 0,
      "outputs": [
        {
          "output_type": "stream",
          "text": [
            "Confusion matrix, without normalization\n",
            "[[55 29]\n",
            " [ 4 13]]\n"
          ],
          "name": "stdout"
        },
        {
          "output_type": "execute_result",
          "data": {
            "text/plain": [
              "Text(0.5, 1.0, 'Validation F1 Score: 0.44')"
            ]
          },
          "metadata": {
            "tags": []
          },
          "execution_count": 38
        },
        {
          "output_type": "display_data",
          "data": {
            "image/png": "[encoded data removed]",
            "text/plain": [
              "<Figure size 640x480 with 2 Axes>"
            ]
          },
          "metadata": {
            "tags": []
          }
        }
      ]
    },
    {
      "metadata": {
        "id": "P_eF0jkMm4ut",
        "colab_type": "code",
        "colab": {}
      },
      "cell_type": "code",
      "source": [
        ""
      ],
      "execution_count": 0,
      "outputs": []
    },
    {
      "metadata": {
        "id": "-Dqe6qC-n8G7",
        "colab_type": "text"
      },
      "cell_type": "markdown",
      "source": [
        "Let's compare with the training set performance."
      ]
    },
    {
      "metadata": {
        "id": "83UWGVDITj88",
        "colab_type": "code",
        "colab": {}
      },
      "cell_type": "code",
      "source": [
        "\n",
        "#Confusion Matrix and Classification Report\n",
        "X_temp = X.copy()\n",
        "Y_pred = model.predict(preprocess_input(X_temp))\n",
        "y_pred = (Y_pred>0.5)"
      ],
      "execution_count": 0,
      "outputs": []
    },
    {
      "metadata": {
        "id": "D4xbenNkmkBD",
        "colab_type": "code",
        "outputId": "714b28e4-f6da-482a-9b6b-2e787c42f929",
        "colab": {
          "base_uri": "https://localhost:8080/",
          "height": 555
        }
      },
      "cell_type": "code",
      "source": [
        "plot_confusion_matrix(list(y), y_pred.flatten(),unique_labels(y_pred.flatten(),list(y_test)))\n",
        "plt.title('Train F1 Score: ' + str(round(f1_score(y,y_pred)*100)/100))"
      ],
      "execution_count": 0,
      "outputs": [
        {
          "output_type": "stream",
          "text": [
            "Confusion matrix, without normalization\n",
            "[[332 144]\n",
            " [ 95 381]]\n"
          ],
          "name": "stdout"
        },
        {
          "output_type": "execute_result",
          "data": {
            "text/plain": [
              "Text(0.5, 1.0, 'Train F1 Score: 0.76')"
            ]
          },
          "metadata": {
            "tags": []
          },
          "execution_count": 40
        },
        {
          "output_type": "display_data",
          "data": {
            "image/png": "[encoded data removed]",
            "text/plain": [
              "<Figure size 640x480 with 2 Axes>"
            ]
          },
          "metadata": {
            "tags": []
          }
        }
      ]
    },
    {
      "metadata": {
        "id": "RcnB1HvBRDNy",
        "colab_type": "code",
        "outputId": "7ade32d8-d944-4213-85d0-f14426dd4028",
        "colab": {
          "base_uri": "https://localhost:8080/",
          "height": 489
        }
      },
      "cell_type": "code",
      "source": [
        "line2 = plt.plot(history.history['f1'],label = 'train_F1')\n",
        "line1 = plt.plot(history.history['val_f1'],label = 'val_F1')\n",
        "\n",
        "plt.title('F1 scores: training vs validation')\n",
        "#plt.legend((line1, line2), ('train_F1','val_F1'))\n",
        "plt.legend()\n",
        "plt.xlabel('Iteration')"
      ],
      "execution_count": 0,
      "outputs": [
        {
          "output_type": "execute_result",
          "data": {
            "text/plain": [
              "Text(0.5, 0, 'Iteration')"
            ]
          },
          "metadata": {
            "tags": []
          },
          "execution_count": 41
        },
        {
          "output_type": "display_data",
          "data": {
            "image/png": "[encoded data removed]",
            "text/plain": [
              "<Figure size 640x480 with 1 Axes>"
            ]
          },
          "metadata": {
            "tags": []
          }
        }
      ]
    },
    {
      "metadata": {
        "id": "aaOiYcAzToOs",
        "colab_type": "code",
        "colab": {}
      },
      "cell_type": "code",
      "source": [
        ""
      ],
      "execution_count": 0,
      "outputs": []
    },
    {
      "metadata": {
        "id": "vPjmIA4sUnxd",
        "colab_type": "code",
        "colab": {}
      },
      "cell_type": "code",
      "source": [
        ""
      ],
      "execution_count": 0,
      "outputs": []
    }
  ]
}