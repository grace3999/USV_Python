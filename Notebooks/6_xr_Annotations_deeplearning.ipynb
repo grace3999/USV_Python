{
 "cells": [
  {
   "cell_type": "code",
   "execution_count": 1,
   "metadata": {},
   "outputs": [
    {
     "name": "stderr",
     "output_type": "stream",
     "text": [
      "Using TensorFlow backend.\n"
     ]
    }
   ],
   "source": [
    "import numpy as np\n",
    "import pandas as pd\n",
    "from scipy import signal\n",
    "from scipy import stats\n",
    "from scipy import interpolate\n",
    "import xarray as xr\n",
    "from sklearn.model_selection import train_test_split\n",
    "import keras\n",
    "\n",
    "#visualizing results\n",
    "%matplotlib inline\n",
    "import matplotlib.pyplot as plt\n",
    "import seaborn as sns\n",
    "\n",
    "import warnings\n",
    "warnings.filterwarnings(\"ignore\")"
   ]
  },
  {
   "cell_type": "code",
   "execution_count": 2,
   "metadata": {},
   "outputs": [],
   "source": [
    "pd.set_option('display.max_rows', 500)\n",
    "pd.set_option('display.max_columns', 500)\n",
    "pd.set_option('display.width', 1000)"
   ]
  },
  {
   "cell_type": "code",
   "execution_count": 3,
   "metadata": {},
   "outputs": [
    {
     "name": "stdout",
     "output_type": "stream",
     "text": [
      "(1084, 13)\n",
      "Int64Index([], dtype='int64')\n"
     ]
    },
    {
     "data": {
      "text/html": [
       "<div>\n",
       "<style scoped>\n",
       "    .dataframe tbody tr th:only-of-type {\n",
       "        vertical-align: middle;\n",
       "    }\n",
       "\n",
       "    .dataframe tbody tr th {\n",
       "        vertical-align: top;\n",
       "    }\n",
       "\n",
       "    .dataframe thead th {\n",
       "        text-align: right;\n",
       "    }\n",
       "</style>\n",
       "<table border=\"1\" class=\"dataframe\">\n",
       "  <thead>\n",
       "    <tr style=\"text-align: right;\">\n",
       "      <th></th>\n",
       "      <th>Unnamed: 0</th>\n",
       "      <th>Animal</th>\n",
       "      <th>Group</th>\n",
       "      <th>Annotation</th>\n",
       "      <th>time_stamp</th>\n",
       "      <th>power_sum</th>\n",
       "      <th>spec_pur</th>\n",
       "      <th>spec_cent</th>\n",
       "      <th>spec_spread</th>\n",
       "      <th>spec_skew</th>\n",
       "      <th>spec_kurt</th>\n",
       "      <th>spec_slope</th>\n",
       "      <th>spec_roll</th>\n",
       "    </tr>\n",
       "  </thead>\n",
       "  <tbody>\n",
       "    <tr>\n",
       "      <th>0</th>\n",
       "      <td>0</td>\n",
       "      <td>533</td>\n",
       "      <td>5</td>\n",
       "      <td>low slug</td>\n",
       "      <td>46305.0</td>\n",
       "      <td>32714.904</td>\n",
       "      <td>0.368722</td>\n",
       "      <td>39977.724643</td>\n",
       "      <td>9966.541464</td>\n",
       "      <td>2.313672</td>\n",
       "      <td>9.578221</td>\n",
       "      <td>0.000271</td>\n",
       "      <td>37978.838411</td>\n",
       "    </tr>\n",
       "    <tr>\n",
       "      <th>1</th>\n",
       "      <td>1</td>\n",
       "      <td>533</td>\n",
       "      <td>5</td>\n",
       "      <td>low slug</td>\n",
       "      <td>149692.5</td>\n",
       "      <td>43037.465</td>\n",
       "      <td>0.306856</td>\n",
       "      <td>37931.297975</td>\n",
       "      <td>20543.321215</td>\n",
       "      <td>4.308415</td>\n",
       "      <td>22.308306</td>\n",
       "      <td>-0.000239</td>\n",
       "      <td>36034.733076</td>\n",
       "    </tr>\n",
       "    <tr>\n",
       "      <th>2</th>\n",
       "      <td>2</td>\n",
       "      <td>533</td>\n",
       "      <td>5</td>\n",
       "      <td>low slug</td>\n",
       "      <td>243157.5</td>\n",
       "      <td>270193.530</td>\n",
       "      <td>0.062226</td>\n",
       "      <td>11483.575333</td>\n",
       "      <td>37201.715521</td>\n",
       "      <td>6.940257</td>\n",
       "      <td>50.135018</td>\n",
       "      <td>-0.001537</td>\n",
       "      <td>10909.396566</td>\n",
       "    </tr>\n",
       "    <tr>\n",
       "      <th>3</th>\n",
       "      <td>3</td>\n",
       "      <td>533</td>\n",
       "      <td>5</td>\n",
       "      <td>low slug</td>\n",
       "      <td>243270.0</td>\n",
       "      <td>63014.450</td>\n",
       "      <td>0.232295</td>\n",
       "      <td>32242.081971</td>\n",
       "      <td>21947.090189</td>\n",
       "      <td>5.325133</td>\n",
       "      <td>33.372614</td>\n",
       "      <td>-0.000671</td>\n",
       "      <td>30629.977872</td>\n",
       "    </tr>\n",
       "    <tr>\n",
       "      <th>4</th>\n",
       "      <td>4</td>\n",
       "      <td>533</td>\n",
       "      <td>5</td>\n",
       "      <td>low multi</td>\n",
       "      <td>295560.0</td>\n",
       "      <td>74933.164</td>\n",
       "      <td>0.206291</td>\n",
       "      <td>17095.059221</td>\n",
       "      <td>11740.918797</td>\n",
       "      <td>5.372725</td>\n",
       "      <td>34.224633</td>\n",
       "      <td>-0.001093</td>\n",
       "      <td>16240.306260</td>\n",
       "    </tr>\n",
       "  </tbody>\n",
       "</table>\n",
       "</div>"
      ],
      "text/plain": [
       "   Unnamed: 0  Animal  Group Annotation  time_stamp   power_sum  spec_pur     spec_cent   spec_spread  spec_skew  spec_kurt  spec_slope     spec_roll\n",
       "0           0     533      5   low slug     46305.0   32714.904  0.368722  39977.724643   9966.541464   2.313672   9.578221    0.000271  37978.838411\n",
       "1           1     533      5   low slug    149692.5   43037.465  0.306856  37931.297975  20543.321215   4.308415  22.308306   -0.000239  36034.733076\n",
       "2           2     533      5   low slug    243157.5  270193.530  0.062226  11483.575333  37201.715521   6.940257  50.135018   -0.001537  10909.396566\n",
       "3           3     533      5   low slug    243270.0   63014.450  0.232295  32242.081971  21947.090189   5.325133  33.372614   -0.000671  30629.977872\n",
       "4           4     533      5  low multi    295560.0   74933.164  0.206291  17095.059221  11740.918797   5.372725  34.224633   -0.001093  16240.306260"
      ]
     },
     "execution_count": 3,
     "metadata": {},
     "output_type": "execute_result"
    }
   ],
   "source": [
    "features_path = 'C:/Users/Schindler/Documents/ProgrammingFun/USV_python/annot_features_full.csv'\n",
    "annot_features_data = pd.read_csv(features_path)\n",
    "annot_features_full = pd.DataFrame(data = annot_features_data)\n",
    "print(annot_features_full.shape)\n",
    "print(annot_features_full.loc[pd.isna(annot_features_full['spec_pur'])].index)\n",
    "annot_features_full.head()"
   ]
  },
  {
   "cell_type": "code",
   "execution_count": 4,
   "metadata": {},
   "outputs": [
    {
     "data": {
      "text/plain": [
       "(1009, 13)"
      ]
     },
     "execution_count": 4,
     "metadata": {},
     "output_type": "execute_result"
    }
   ],
   "source": [
    "annot_features_full = annot_features_full[annot_features_full['Annotation'] != 'noise']\n",
    "annot_features_full.shape"
   ]
  },
  {
   "cell_type": "code",
   "execution_count": 5,
   "metadata": {},
   "outputs": [],
   "source": [
    "#separate and save for later testing dataset\n",
    "train_orig, test_orig = train_test_split(annot_features_full, test_size=0.3, random_state=1, stratify = annot_features_full.Annotation)"
   ]
  },
  {
   "cell_type": "code",
   "execution_count": 6,
   "metadata": {},
   "outputs": [
    {
     "data": {
      "text/plain": [
       "(600, 13)"
      ]
     },
     "execution_count": 6,
     "metadata": {},
     "output_type": "execute_result"
    }
   ],
   "source": [
    "#separate and save for later testing dataset\n",
    "train_train, test_validate = train_test_split(train_orig, test_size=0.15, random_state=1, stratify = train_orig.Annotation)\n",
    "train_train.shape"
   ]
  },
  {
   "cell_type": "code",
   "execution_count": 7,
   "metadata": {},
   "outputs": [
    {
     "data": {
      "text/plain": [
       "rand_noise    536\n",
       "low slug       37\n",
       "low multi      10\n",
       "bbc             9\n",
       "high slug       5\n",
       "high multi      3\n",
       "Name: Annotation, dtype: int64"
      ]
     },
     "execution_count": 7,
     "metadata": {},
     "output_type": "execute_result"
    }
   ],
   "source": [
    "train_train.Annotation.value_counts()"
   ]
  },
  {
   "cell_type": "code",
   "execution_count": 8,
   "metadata": {},
   "outputs": [],
   "source": [
    "def square_rgb(xr_slice):\n",
    "    times = data['times'].values\n",
    "    freqs = data['freq'].values\n",
    "    \n",
    "    #make square for Keras - need to interpolate data, first create function and then apply\n",
    "    x = np.arange(0, len(times))\n",
    "    y = np.arange(0, len(freqs))\n",
    "    f = interpolate.interp2d(x, y, xr_slice.values)\n",
    "    xnew = np.linspace(0, len(times), num=128)\n",
    "    ynew = np.linspace(0, len(freqs), num=128)\n",
    "    znew = f(xnew, ynew)\n",
    "\n",
    "    X = np.log(znew)\n",
    "    \n",
    "    #normalize and change to rgba (remove a)\n",
    "    X_colored = plt.cm.viridis((X - X.mean())/(X.max() - X.min()))\n",
    "    X_colored = X_colored[:,:,:3]\n",
    "    \n",
    "    return X_colored"
   ]
  },
  {
   "cell_type": "code",
   "execution_count": 9,
   "metadata": {},
   "outputs": [
    {
     "name": "stdout",
     "output_type": "stream",
     "text": [
      "(600, 128, 128, 3)\n"
     ]
    }
   ],
   "source": [
    "rgbs = []\n",
    "i = 1\n",
    "for index, row in train_train.iterrows():\n",
    "    data = xr.open_dataset('C:/Users/Schindler/Documents/ProgrammingFun/USV_python/Datasets/' + str(row['Animal']) + '_xr_Dataset.nc')\n",
    "    \n",
    "    xr_slice = data['__xarray_dataarray_variable__'].sel(slices=row['time_stamp'])\n",
    "    \n",
    "    rgb = square_rgb(xr_slice)\n",
    "    \n",
    "    #rgbs[(str(row['Animal']) + '_' + str(row['time_stamp']))] = rgb\n",
    "    rgbs.append(rgb)\n",
    "    \n",
    "X = np.stack(rgbs)\n",
    "print(X.shape)"
   ]
  },
  {
   "cell_type": "code",
   "execution_count": 10,
   "metadata": {},
   "outputs": [
    {
     "data": {
      "text/plain": [
       "(600,)"
      ]
     },
     "execution_count": 10,
     "metadata": {},
     "output_type": "execute_result"
    }
   ],
   "source": [
    "y = train_train['Annotation']\n",
    "y.shape"
   ]
  }
 ],
 "metadata": {
  "kernelspec": {
   "display_name": "Python 3",
   "language": "python",
   "name": "python3"
  },
  "language_info": {
   "codemirror_mode": {
    "name": "ipython",
    "version": 3
   },
   "file_extension": ".py",
   "mimetype": "text/x-python",
   "name": "python",
   "nbconvert_exporter": "python",
   "pygments_lexer": "ipython3",
   "version": "3.6.6"
  }
 },
 "nbformat": 4,
 "nbformat_minor": 2
}
