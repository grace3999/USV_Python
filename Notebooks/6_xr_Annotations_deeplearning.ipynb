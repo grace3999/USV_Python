{
 "cells": [
  {
   "cell_type": "code",
   "execution_count": 1,
   "metadata": {},
   "outputs": [
    {
     "name": "stderr",
     "output_type": "stream",
     "text": [
      "Using TensorFlow backend.\n"
     ]
    }
   ],
   "source": [
    "import numpy as np\n",
    "import pandas as pd\n",
    "from scipy import signal\n",
    "from scipy import stats\n",
    "from scipy import interpolate\n",
    "import xarray as xr\n",
    "from sklearn.model_selection import train_test_split\n",
    "import keras\n",
    "\n",
    "#visualizing results\n",
    "%matplotlib inline\n",
    "import matplotlib.pyplot as plt\n",
    "import seaborn as sns\n",
    "\n",
    "import warnings\n",
    "warnings.filterwarnings(\"ignore\")"
   ]
  },
  {
   "cell_type": "code",
   "execution_count": 2,
   "metadata": {},
   "outputs": [],
   "source": [
    "pd.set_option('display.max_rows', 500)\n",
    "pd.set_option('display.max_columns', 500)\n",
    "pd.set_option('display.width', 1000)"
   ]
  },
  {
   "cell_type": "code",
   "execution_count": 3,
   "metadata": {},
   "outputs": [
    {
     "name": "stdout",
     "output_type": "stream",
     "text": [
      "(1084, 13)\n",
      "Int64Index([], dtype='int64')\n"
     ]
    },
    {
     "data": {
      "text/html": [
       "<div>\n",
       "<style scoped>\n",
       "    .dataframe tbody tr th:only-of-type {\n",
       "        vertical-align: middle;\n",
       "    }\n",
       "\n",
       "    .dataframe tbody tr th {\n",
       "        vertical-align: top;\n",
       "    }\n",
       "\n",
       "    .dataframe thead th {\n",
       "        text-align: right;\n",
       "    }\n",
       "</style>\n",
       "<table border=\"1\" class=\"dataframe\">\n",
       "  <thead>\n",
       "    <tr style=\"text-align: right;\">\n",
       "      <th></th>\n",
       "      <th>Unnamed: 0</th>\n",
       "      <th>Animal</th>\n",
       "      <th>Group</th>\n",
       "      <th>Annotation</th>\n",
       "      <th>time_stamp</th>\n",
       "      <th>power_sum</th>\n",
       "      <th>spec_pur</th>\n",
       "      <th>spec_cent</th>\n",
       "      <th>spec_spread</th>\n",
       "      <th>spec_skew</th>\n",
       "      <th>spec_kurt</th>\n",
       "      <th>spec_slope</th>\n",
       "      <th>spec_roll</th>\n",
       "    </tr>\n",
       "  </thead>\n",
       "  <tbody>\n",
       "    <tr>\n",
       "      <th>0</th>\n",
       "      <td>0</td>\n",
       "      <td>533</td>\n",
       "      <td>5</td>\n",
       "      <td>low slug</td>\n",
       "      <td>46305.0</td>\n",
       "      <td>32714.904</td>\n",
       "      <td>0.368722</td>\n",
       "      <td>39977.724643</td>\n",
       "      <td>9966.541464</td>\n",
       "      <td>2.313672</td>\n",
       "      <td>9.578221</td>\n",
       "      <td>0.000271</td>\n",
       "      <td>37978.838411</td>\n",
       "    </tr>\n",
       "    <tr>\n",
       "      <th>1</th>\n",
       "      <td>1</td>\n",
       "      <td>533</td>\n",
       "      <td>5</td>\n",
       "      <td>low slug</td>\n",
       "      <td>149692.5</td>\n",
       "      <td>43037.465</td>\n",
       "      <td>0.306856</td>\n",
       "      <td>37931.297975</td>\n",
       "      <td>20543.321215</td>\n",
       "      <td>4.308415</td>\n",
       "      <td>22.308306</td>\n",
       "      <td>-0.000239</td>\n",
       "      <td>36034.733076</td>\n",
       "    </tr>\n",
       "    <tr>\n",
       "      <th>2</th>\n",
       "      <td>2</td>\n",
       "      <td>533</td>\n",
       "      <td>5</td>\n",
       "      <td>low slug</td>\n",
       "      <td>243157.5</td>\n",
       "      <td>270193.530</td>\n",
       "      <td>0.062226</td>\n",
       "      <td>11483.575333</td>\n",
       "      <td>37201.715521</td>\n",
       "      <td>6.940257</td>\n",
       "      <td>50.135018</td>\n",
       "      <td>-0.001537</td>\n",
       "      <td>10909.396566</td>\n",
       "    </tr>\n",
       "    <tr>\n",
       "      <th>3</th>\n",
       "      <td>3</td>\n",
       "      <td>533</td>\n",
       "      <td>5</td>\n",
       "      <td>low slug</td>\n",
       "      <td>243270.0</td>\n",
       "      <td>63014.450</td>\n",
       "      <td>0.232295</td>\n",
       "      <td>32242.081971</td>\n",
       "      <td>21947.090189</td>\n",
       "      <td>5.325133</td>\n",
       "      <td>33.372614</td>\n",
       "      <td>-0.000671</td>\n",
       "      <td>30629.977872</td>\n",
       "    </tr>\n",
       "    <tr>\n",
       "      <th>4</th>\n",
       "      <td>4</td>\n",
       "      <td>533</td>\n",
       "      <td>5</td>\n",
       "      <td>low multi</td>\n",
       "      <td>295560.0</td>\n",
       "      <td>74933.164</td>\n",
       "      <td>0.206291</td>\n",
       "      <td>17095.059221</td>\n",
       "      <td>11740.918797</td>\n",
       "      <td>5.372725</td>\n",
       "      <td>34.224633</td>\n",
       "      <td>-0.001093</td>\n",
       "      <td>16240.306260</td>\n",
       "    </tr>\n",
       "  </tbody>\n",
       "</table>\n",
       "</div>"
      ],
      "text/plain": [
       "   Unnamed: 0  Animal  Group Annotation  time_stamp   power_sum  spec_pur     spec_cent   spec_spread  spec_skew  spec_kurt  spec_slope     spec_roll\n",
       "0           0     533      5   low slug     46305.0   32714.904  0.368722  39977.724643   9966.541464   2.313672   9.578221    0.000271  37978.838411\n",
       "1           1     533      5   low slug    149692.5   43037.465  0.306856  37931.297975  20543.321215   4.308415  22.308306   -0.000239  36034.733076\n",
       "2           2     533      5   low slug    243157.5  270193.530  0.062226  11483.575333  37201.715521   6.940257  50.135018   -0.001537  10909.396566\n",
       "3           3     533      5   low slug    243270.0   63014.450  0.232295  32242.081971  21947.090189   5.325133  33.372614   -0.000671  30629.977872\n",
       "4           4     533      5  low multi    295560.0   74933.164  0.206291  17095.059221  11740.918797   5.372725  34.224633   -0.001093  16240.306260"
      ]
     },
     "execution_count": 3,
     "metadata": {},
     "output_type": "execute_result"
    }
   ],
   "source": [
    "features_path = 'C:/Users/Schindler/Documents/ProgrammingFun/USV_python/annot_features_full.csv'\n",
    "annot_features_data = pd.read_csv(features_path)\n",
    "annot_features_full = pd.DataFrame(data = annot_features_data)\n",
    "print(annot_features_full.shape)\n",
    "print(annot_features_full.loc[pd.isna(annot_features_full['spec_pur'])].index)\n",
    "annot_features_full.head()"
   ]
  },
  {
   "cell_type": "code",
   "execution_count": 4,
   "metadata": {},
   "outputs": [
    {
     "data": {
      "text/plain": [
       "(1009, 13)"
      ]
     },
     "execution_count": 4,
     "metadata": {},
     "output_type": "execute_result"
    }
   ],
   "source": [
    "annot_features_full = annot_features_full[annot_features_full['Annotation'] != 'noise']\n",
    "annot_features_full.shape"
   ]
  },
  {
   "cell_type": "code",
   "execution_count": 26,
   "metadata": {},
   "outputs": [
    {
     "data": {
      "text/html": [
       "<div>\n",
       "<style scoped>\n",
       "    .dataframe tbody tr th:only-of-type {\n",
       "        vertical-align: middle;\n",
       "    }\n",
       "\n",
       "    .dataframe tbody tr th {\n",
       "        vertical-align: top;\n",
       "    }\n",
       "\n",
       "    .dataframe thead th {\n",
       "        text-align: right;\n",
       "    }\n",
       "</style>\n",
       "<table border=\"1\" class=\"dataframe\">\n",
       "  <thead>\n",
       "    <tr style=\"text-align: right;\">\n",
       "      <th></th>\n",
       "      <th>Unnamed: 0</th>\n",
       "      <th>Animal</th>\n",
       "      <th>Group</th>\n",
       "      <th>Annotation</th>\n",
       "      <th>time_stamp</th>\n",
       "      <th>power_sum</th>\n",
       "      <th>spec_pur</th>\n",
       "      <th>spec_cent</th>\n",
       "      <th>spec_spread</th>\n",
       "      <th>spec_skew</th>\n",
       "      <th>spec_kurt</th>\n",
       "      <th>spec_slope</th>\n",
       "      <th>spec_roll</th>\n",
       "      <th>class</th>\n",
       "    </tr>\n",
       "  </thead>\n",
       "  <tbody>\n",
       "    <tr>\n",
       "      <th>0</th>\n",
       "      <td>0</td>\n",
       "      <td>533</td>\n",
       "      <td>5</td>\n",
       "      <td>low slug</td>\n",
       "      <td>46305.0</td>\n",
       "      <td>32714.904</td>\n",
       "      <td>0.368722</td>\n",
       "      <td>39977.724643</td>\n",
       "      <td>9966.541464</td>\n",
       "      <td>2.313672</td>\n",
       "      <td>9.578221</td>\n",
       "      <td>0.000271</td>\n",
       "      <td>37978.838411</td>\n",
       "      <td>1</td>\n",
       "    </tr>\n",
       "    <tr>\n",
       "      <th>1</th>\n",
       "      <td>1</td>\n",
       "      <td>533</td>\n",
       "      <td>5</td>\n",
       "      <td>low slug</td>\n",
       "      <td>149692.5</td>\n",
       "      <td>43037.465</td>\n",
       "      <td>0.306856</td>\n",
       "      <td>37931.297975</td>\n",
       "      <td>20543.321215</td>\n",
       "      <td>4.308415</td>\n",
       "      <td>22.308306</td>\n",
       "      <td>-0.000239</td>\n",
       "      <td>36034.733076</td>\n",
       "      <td>1</td>\n",
       "    </tr>\n",
       "    <tr>\n",
       "      <th>2</th>\n",
       "      <td>2</td>\n",
       "      <td>533</td>\n",
       "      <td>5</td>\n",
       "      <td>low slug</td>\n",
       "      <td>243157.5</td>\n",
       "      <td>270193.530</td>\n",
       "      <td>0.062226</td>\n",
       "      <td>11483.575333</td>\n",
       "      <td>37201.715521</td>\n",
       "      <td>6.940257</td>\n",
       "      <td>50.135018</td>\n",
       "      <td>-0.001537</td>\n",
       "      <td>10909.396566</td>\n",
       "      <td>1</td>\n",
       "    </tr>\n",
       "    <tr>\n",
       "      <th>3</th>\n",
       "      <td>3</td>\n",
       "      <td>533</td>\n",
       "      <td>5</td>\n",
       "      <td>low slug</td>\n",
       "      <td>243270.0</td>\n",
       "      <td>63014.450</td>\n",
       "      <td>0.232295</td>\n",
       "      <td>32242.081971</td>\n",
       "      <td>21947.090189</td>\n",
       "      <td>5.325133</td>\n",
       "      <td>33.372614</td>\n",
       "      <td>-0.000671</td>\n",
       "      <td>30629.977872</td>\n",
       "      <td>1</td>\n",
       "    </tr>\n",
       "    <tr>\n",
       "      <th>4</th>\n",
       "      <td>4</td>\n",
       "      <td>533</td>\n",
       "      <td>5</td>\n",
       "      <td>low multi</td>\n",
       "      <td>295560.0</td>\n",
       "      <td>74933.164</td>\n",
       "      <td>0.206291</td>\n",
       "      <td>17095.059221</td>\n",
       "      <td>11740.918797</td>\n",
       "      <td>5.372725</td>\n",
       "      <td>34.224633</td>\n",
       "      <td>-0.001093</td>\n",
       "      <td>16240.306260</td>\n",
       "      <td>1</td>\n",
       "    </tr>\n",
       "  </tbody>\n",
       "</table>\n",
       "</div>"
      ],
      "text/plain": [
       "   Unnamed: 0  Animal  Group Annotation  time_stamp   power_sum  spec_pur     spec_cent   spec_spread  spec_skew  spec_kurt  spec_slope     spec_roll  class\n",
       "0           0     533      5   low slug     46305.0   32714.904  0.368722  39977.724643   9966.541464   2.313672   9.578221    0.000271  37978.838411      1\n",
       "1           1     533      5   low slug    149692.5   43037.465  0.306856  37931.297975  20543.321215   4.308415  22.308306   -0.000239  36034.733076      1\n",
       "2           2     533      5   low slug    243157.5  270193.530  0.062226  11483.575333  37201.715521   6.940257  50.135018   -0.001537  10909.396566      1\n",
       "3           3     533      5   low slug    243270.0   63014.450  0.232295  32242.081971  21947.090189   5.325133  33.372614   -0.000671  30629.977872      1\n",
       "4           4     533      5  low multi    295560.0   74933.164  0.206291  17095.059221  11740.918797   5.372725  34.224633   -0.001093  16240.306260      1"
      ]
     },
     "execution_count": 26,
     "metadata": {},
     "output_type": "execute_result"
    }
   ],
   "source": [
    "annot_labels_up = annot_features_full['Annotation']\n",
    "annot_labels_up = annot_labels_up.replace(regex={r'low slug': 1, 'high slug': 1, 'low multi': 1, 'high multi': 1, 'bbc': 1, 'noise': 0, 'rand_noise': 0})\n",
    "annot_features_full['class'] = annot_labels_up\n",
    "annot_features_full.head()"
   ]
  },
  {
   "cell_type": "code",
   "execution_count": 27,
   "metadata": {},
   "outputs": [],
   "source": [
    "#separate and save for later testing dataset\n",
    "train_orig, test_orig = train_test_split(annot_features_full, test_size=0.3, random_state=1, stratify = annot_features_full.Annotation)"
   ]
  },
  {
   "cell_type": "code",
   "execution_count": 28,
   "metadata": {},
   "outputs": [
    {
     "data": {
      "text/plain": [
       "(600, 14)"
      ]
     },
     "execution_count": 28,
     "metadata": {},
     "output_type": "execute_result"
    }
   ],
   "source": [
    "#separate and save for later testing dataset\n",
    "train_train, test_validate = train_test_split(train_orig, test_size=0.15, random_state=1, stratify = train_orig.Annotation)\n",
    "train_train.shape"
   ]
  },
  {
   "cell_type": "code",
   "execution_count": 29,
   "metadata": {},
   "outputs": [
    {
     "data": {
      "text/plain": [
       "rand_noise    536\n",
       "low slug       37\n",
       "low multi      10\n",
       "bbc             9\n",
       "high slug       5\n",
       "high multi      3\n",
       "Name: Annotation, dtype: int64"
      ]
     },
     "execution_count": 29,
     "metadata": {},
     "output_type": "execute_result"
    }
   ],
   "source": [
    "train_train.Annotation.value_counts()"
   ]
  },
  {
   "cell_type": "code",
   "execution_count": 30,
   "metadata": {},
   "outputs": [],
   "source": [
    "def square_rgb(xr_slice):\n",
    "    times = data['times'].values\n",
    "    freqs = data['freq'].values\n",
    "    \n",
    "    #make square for Keras - need to interpolate data, first create function and then apply\n",
    "    x = np.arange(0, len(times))\n",
    "    y = np.arange(0, len(freqs))\n",
    "    f = interpolate.interp2d(x, y, xr_slice.values)\n",
    "    xnew = np.linspace(0, len(times), num=128)\n",
    "    ynew = np.linspace(0, len(freqs), num=128)\n",
    "    znew = f(xnew, ynew)\n",
    "\n",
    "    X = np.log(znew)\n",
    "    \n",
    "    #normalize and change to rgba (remove a)\n",
    "    X_colored = plt.cm.viridis((X - X.mean())/(X.max() - X.min()))\n",
    "    X_colored = X_colored[:,:,:3]\n",
    "    \n",
    "    return X_colored"
   ]
  },
  {
   "cell_type": "code",
   "execution_count": 31,
   "metadata": {},
   "outputs": [
    {
     "name": "stdout",
     "output_type": "stream",
     "text": [
      "(600, 128, 128, 3)\n"
     ]
    }
   ],
   "source": [
    "rgbs = []\n",
    "i = 1\n",
    "for index, row in train_train.iterrows():\n",
    "    data = xr.open_dataset('C:/Users/Schindler/Documents/ProgrammingFun/USV_python/Datasets/' + str(row['Animal']) + '_xr_Dataset.nc')\n",
    "    \n",
    "    xr_slice = data['__xarray_dataarray_variable__'].sel(slices=row['time_stamp'])\n",
    "    \n",
    "    rgb = square_rgb(xr_slice)\n",
    "    \n",
    "    #rgbs[(str(row['Animal']) + '_' + str(row['time_stamp']))] = rgb\n",
    "    rgbs.append(rgb)\n",
    "    \n",
    "X = np.stack(rgbs)\n",
    "print(X.shape)"
   ]
  },
  {
   "cell_type": "code",
   "execution_count": 33,
   "metadata": {},
   "outputs": [
    {
     "data": {
      "text/plain": [
       "(600,)"
      ]
     },
     "execution_count": 33,
     "metadata": {},
     "output_type": "execute_result"
    }
   ],
   "source": [
    "y = train_train['class']\n",
    "y.shape"
   ]
  },
  {
   "cell_type": "code",
   "execution_count": 34,
   "metadata": {},
   "outputs": [
    {
     "name": "stdout",
     "output_type": "stream",
     "text": [
      "(106, 128, 128, 3)\n"
     ]
    }
   ],
   "source": [
    "rgbs_test = []\n",
    "i = 1\n",
    "for index, row in test_validate.iterrows():\n",
    "    data = xr.open_dataset('C:/Users/Schindler/Documents/ProgrammingFun/USV_python/Datasets/' + str(row['Animal']) + '_xr_Dataset.nc')\n",
    "    \n",
    "    xr_slice = data['__xarray_dataarray_variable__'].sel(slices=row['time_stamp'])\n",
    "    \n",
    "    rgb = square_rgb(xr_slice)\n",
    "    \n",
    "    #rgbs[(str(row['Animal']) + '_' + str(row['time_stamp']))] = rgb\n",
    "    rgbs_test.append(rgb)\n",
    "    \n",
    "X_test = np.stack(rgbs_test)\n",
    "print(X_test.shape)"
   ]
  },
  {
   "cell_type": "code",
   "execution_count": 35,
   "metadata": {},
   "outputs": [
    {
     "data": {
      "text/plain": [
       "(106,)"
      ]
     },
     "execution_count": 35,
     "metadata": {},
     "output_type": "execute_result"
    }
   ],
   "source": [
    "y_test = test_validate['class']\n",
    "y_test.shape"
   ]
  },
  {
   "cell_type": "code",
   "execution_count": 11,
   "metadata": {},
   "outputs": [],
   "source": [
    "from keras.layers import Dense,GlobalAveragePooling2D\n",
    "from keras.applications import MobileNet\n",
    "from keras.preprocessing import image\n",
    "from keras.applications.mobilenet import preprocess_input\n",
    "from keras.preprocessing.image import ImageDataGenerator\n",
    "from keras.models import Model\n",
    "from keras.optimizers import Adam\n",
    "\n",
    "from keras.layers import Dropout, Activation\n",
    "from keras.layers.normalization import BatchNormalization\n",
    "from sklearn.model_selection import train_test_split\n",
    "from keras.callbacks import ModelCheckpoint, EarlyStopping, ReduceLROnPlateau, CSVLogger, TensorBoard"
   ]
  },
  {
   "cell_type": "code",
   "execution_count": 12,
   "metadata": {},
   "outputs": [
    {
     "name": "stdout",
     "output_type": "stream",
     "text": [
      "Downloading data from https://github.com/fchollet/deep-learning-models/releases/download/v0.6/mobilenet_1_0_128_tf_no_top.h5\n",
      "17227776/17225924 [==============================] - 4s 0us/step\n"
     ]
    }
   ],
   "source": [
    "base_model=MobileNet(input_shape = (128,128,3), include_top=False) #imports the mobilenet model and discards the last 1000 neuron layer."
   ]
  },
  {
   "cell_type": "code",
   "execution_count": 13,
   "metadata": {},
   "outputs": [],
   "source": [
    "x=base_model.output\n",
    "x=GlobalAveragePooling2D()(x)\n",
    "x=Dense(1024,activation='relu')(x) #we add dense layers so that the model can learn more complex functions and classify for better results.\n",
    "x=Dense(1024,activation='relu')(x) #dense layer 2\n",
    "x=Dense(512,activation='relu')(x) #dense layer 3\n",
    "preds=Dense(1,activation='sigmoid')(x) #final layer with softmax activation"
   ]
  },
  {
   "cell_type": "code",
   "execution_count": 14,
   "metadata": {},
   "outputs": [],
   "source": [
    "model=Model(inputs=base_model.input,outputs=preds)"
   ]
  },
  {
   "cell_type": "code",
   "execution_count": 15,
   "metadata": {},
   "outputs": [],
   "source": [
    "for layer in model.layers[:-5]:\n",
    "    layer.trainable=False\n",
    "for layer in model.layers[-5:]:\n",
    "    layer.trainable=True"
   ]
  },
  {
   "cell_type": "code",
   "execution_count": 16,
   "metadata": {},
   "outputs": [],
   "source": [
    "model.compile(optimizer='Adam',loss='binary_crossentropy',metrics=['accuracy'])"
   ]
  },
  {
   "cell_type": "code",
   "execution_count": 36,
   "metadata": {},
   "outputs": [],
   "source": [
    "train_datagen=ImageDataGenerator(featurewise_center=True,\n",
    "    featurewise_std_normalization=True, width_shift_range=0.2, preprocessing_function=preprocess_input) #included in our dependencies\n",
    "\n",
    "train_generator=train_datagen.flow(X, y, batch_size=32,shuffle=True)"
   ]
  },
  {
   "cell_type": "code",
   "execution_count": 37,
   "metadata": {},
   "outputs": [],
   "source": [
    "callbacks_list = [\n",
    "    EarlyStopping(monitor = 'val_acc', patience = 6, verbose = 1),\n",
    "    ReduceLROnPlateau(monitor = 'val_acc', factor = 0.1, patience = 3, verbose = 1)]\n",
    "    #CSVLogger('model_' + str(model) + '.log')]"
   ]
  },
  {
   "cell_type": "code",
   "execution_count": 40,
   "metadata": {},
   "outputs": [
    {
     "name": "stdout",
     "output_type": "stream",
     "text": [
      "Epoch 1/20\n",
      "18/18 [==============================] - 88s 5s/step - loss: 1.2133 - acc: 0.9161 - val_loss: 0.3562 - val_acc: 0.8868\n",
      "Epoch 2/20\n",
      "18/18 [==============================] - 84s 5s/step - loss: 0.9863 - acc: 0.8877 - val_loss: 0.3903 - val_acc: 0.8868\n",
      "Epoch 3/20\n",
      "18/18 [==============================] - 85s 5s/step - loss: 0.8551 - acc: 0.8611 - val_loss: 0.4125 - val_acc: 0.8868\n",
      "Epoch 4/20\n",
      "18/18 [==============================] - 87s 5s/step - loss: 0.7713 - acc: 0.8367 - val_loss: 0.4145 - val_acc: 0.8868\n",
      "\n",
      "Epoch 00004: ReduceLROnPlateau reducing learning rate to 1.0000000656873453e-06.\n",
      "Epoch 5/20\n",
      "18/18 [==============================] - 92s 5s/step - loss: 0.8429 - acc: 0.8490 - val_loss: 0.4152 - val_acc: 0.8868\n",
      "Epoch 6/20\n",
      "18/18 [==============================] - 92s 5s/step - loss: 0.8249 - acc: 0.8183 - val_loss: 0.4156 - val_acc: 0.8868\n",
      "Epoch 7/20\n",
      "18/18 [==============================] - 87s 5s/step - loss: 0.8848 - acc: 0.8392 - val_loss: 0.4165 - val_acc: 0.8868\n",
      "\n",
      "Epoch 00007: ReduceLROnPlateau reducing learning rate to 1.0000001111620805e-07.\n",
      "Epoch 00007: early stopping\n"
     ]
    },
    {
     "data": {
      "text/plain": [
       "<keras.callbacks.History at 0x1b438a165f8>"
      ]
     },
     "execution_count": 40,
     "metadata": {},
     "output_type": "execute_result"
    }
   ],
   "source": [
    "step_size_train=train_generator.n//train_generator.batch_size\n",
    "model.fit_generator(generator=train_generator,\n",
    "                   steps_per_epoch=step_size_train,\n",
    "                   epochs=20,\n",
    "                   validation_data = [X_test, y_test], callbacks = callbacks_list, class_weight={0:1,1:10})"
   ]
  },
  {
   "cell_type": "code",
   "execution_count": null,
   "metadata": {},
   "outputs": [],
   "source": []
  },
  {
   "cell_type": "code",
   "execution_count": null,
   "metadata": {},
   "outputs": [],
   "source": []
  },
  {
   "cell_type": "code",
   "execution_count": null,
   "metadata": {},
   "outputs": [],
   "source": [
    "from imblearn.keras import balanced_batch_generator\n",
    "from imblearn.under_sampling import NearMiss\n",
    "\n",
    "training_generator, steps_per_epoch = balanced_batch_generator(X, y, sampler=NearMiss(), batch_size=10, random_state=42)\n",
    "\n",
    "callback_history = model.fit_generator(generator=training_generator, steps_per_epoch=steps_per_epoch, epochs=10, verbose=0)"
   ]
  }
 ],
 "metadata": {
  "kernelspec": {
   "display_name": "Python 3",
   "language": "python",
   "name": "python3"
  },
  "language_info": {
   "codemirror_mode": {
    "name": "ipython",
    "version": 3
   },
   "file_extension": ".py",
   "mimetype": "text/x-python",
   "name": "python",
   "nbconvert_exporter": "python",
   "pygments_lexer": "ipython3",
   "version": "3.6.6"
  }
 },
 "nbformat": 4,
 "nbformat_minor": 2
}
