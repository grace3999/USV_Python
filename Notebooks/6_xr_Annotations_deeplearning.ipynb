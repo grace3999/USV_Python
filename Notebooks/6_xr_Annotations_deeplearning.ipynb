{
 "cells": [
  {
   "cell_type": "code",
   "execution_count": 1,
   "metadata": {},
   "outputs": [
    {
     "name": "stderr",
     "output_type": "stream",
     "text": [
      "Using TensorFlow backend.\n"
     ]
    }
   ],
   "source": [
    "import numpy as np\n",
    "import pandas as pd\n",
    "from os.path import exists, join\n",
    "import datetime\n",
    "from scipy import signal\n",
    "from scipy import stats\n",
    "from scipy import interpolate\n",
    "import xarray as xr\n",
    "from sklearn.model_selection import train_test_split\n",
    "from sklearn.metrics import precision_recall_curve\n",
    "\n",
    "import keras\n",
    "from sklearn.utils import resample\n",
    "\n",
    "#visualizing results\n",
    "%matplotlib inline\n",
    "import matplotlib.pyplot as plt\n",
    "import seaborn as sns\n",
    "\n",
    "import warnings\n",
    "warnings.filterwarnings(\"ignore\")"
   ]
  },
  {
   "cell_type": "code",
   "execution_count": 2,
   "metadata": {},
   "outputs": [],
   "source": [
    "pd.set_option('display.max_rows', 500)\n",
    "pd.set_option('display.max_columns', 500)\n",
    "pd.set_option('display.width', 1000)"
   ]
  },
  {
   "cell_type": "code",
   "execution_count": 3,
   "metadata": {},
   "outputs": [
    {
     "name": "stdout",
     "output_type": "stream",
     "text": [
      "(959, 13)\n",
      "Int64Index([], dtype='int64')\n"
     ]
    },
    {
     "data": {
      "text/html": [
       "<div>\n",
       "<style scoped>\n",
       "    .dataframe tbody tr th:only-of-type {\n",
       "        vertical-align: middle;\n",
       "    }\n",
       "\n",
       "    .dataframe tbody tr th {\n",
       "        vertical-align: top;\n",
       "    }\n",
       "\n",
       "    .dataframe thead th {\n",
       "        text-align: right;\n",
       "    }\n",
       "</style>\n",
       "<table border=\"1\" class=\"dataframe\">\n",
       "  <thead>\n",
       "    <tr style=\"text-align: right;\">\n",
       "      <th></th>\n",
       "      <th>Unnamed: 0</th>\n",
       "      <th>animal_number</th>\n",
       "      <th>session</th>\n",
       "      <th>time_stamp</th>\n",
       "      <th>Annotation</th>\n",
       "      <th>power_sum</th>\n",
       "      <th>spec_pur</th>\n",
       "      <th>spec_cent</th>\n",
       "      <th>spec_spread</th>\n",
       "      <th>spec_skew</th>\n",
       "      <th>spec_kurt</th>\n",
       "      <th>spec_slope</th>\n",
       "      <th>spec_roll</th>\n",
       "    </tr>\n",
       "  </thead>\n",
       "  <tbody>\n",
       "    <tr>\n",
       "      <th>0</th>\n",
       "      <td>0</td>\n",
       "      <td>527</td>\n",
       "      <td>cagepair</td>\n",
       "      <td>18922.5</td>\n",
       "      <td>high slug</td>\n",
       "      <td>44921.600</td>\n",
       "      <td>0.335974</td>\n",
       "      <td>40617.050954</td>\n",
       "      <td>117729.192000</td>\n",
       "      <td>6.831866</td>\n",
       "      <td>48.160918</td>\n",
       "      <td>0.000787</td>\n",
       "      <td>38586.198407</td>\n",
       "    </tr>\n",
       "    <tr>\n",
       "      <th>1</th>\n",
       "      <td>1</td>\n",
       "      <td>527</td>\n",
       "      <td>cagepair</td>\n",
       "      <td>24750.0</td>\n",
       "      <td>low slug</td>\n",
       "      <td>53212.637</td>\n",
       "      <td>0.295599</td>\n",
       "      <td>27042.548508</td>\n",
       "      <td>3827.200195</td>\n",
       "      <td>3.556462</td>\n",
       "      <td>20.402396</td>\n",
       "      <td>-0.000227</td>\n",
       "      <td>25690.421083</td>\n",
       "    </tr>\n",
       "    <tr>\n",
       "      <th>2</th>\n",
       "      <td>2</td>\n",
       "      <td>527</td>\n",
       "      <td>cagepair</td>\n",
       "      <td>56002.5</td>\n",
       "      <td>bbc</td>\n",
       "      <td>94253.766</td>\n",
       "      <td>0.189555</td>\n",
       "      <td>30090.095178</td>\n",
       "      <td>68103.292456</td>\n",
       "      <td>3.982554</td>\n",
       "      <td>18.393372</td>\n",
       "      <td>-0.002314</td>\n",
       "      <td>28585.590419</td>\n",
       "    </tr>\n",
       "    <tr>\n",
       "      <th>3</th>\n",
       "      <td>3</td>\n",
       "      <td>527</td>\n",
       "      <td>cagepair</td>\n",
       "      <td>174352.5</td>\n",
       "      <td>bbc</td>\n",
       "      <td>51008.836</td>\n",
       "      <td>0.306177</td>\n",
       "      <td>34324.170621</td>\n",
       "      <td>52563.703613</td>\n",
       "      <td>3.336529</td>\n",
       "      <td>10.448164</td>\n",
       "      <td>-0.001250</td>\n",
       "      <td>32607.962090</td>\n",
       "    </tr>\n",
       "    <tr>\n",
       "      <th>4</th>\n",
       "      <td>4</td>\n",
       "      <td>527</td>\n",
       "      <td>cagepair</td>\n",
       "      <td>342877.5</td>\n",
       "      <td>bbc</td>\n",
       "      <td>164846.110</td>\n",
       "      <td>0.144833</td>\n",
       "      <td>33090.921412</td>\n",
       "      <td>22861.514782</td>\n",
       "      <td>1.852232</td>\n",
       "      <td>3.185318</td>\n",
       "      <td>-0.001784</td>\n",
       "      <td>31436.375341</td>\n",
       "    </tr>\n",
       "  </tbody>\n",
       "</table>\n",
       "</div>"
      ],
      "text/plain": [
       "   Unnamed: 0  animal_number   session  time_stamp Annotation   power_sum  spec_pur     spec_cent    spec_spread  spec_skew  spec_kurt  spec_slope     spec_roll\n",
       "0           0            527  cagepair     18922.5  high slug   44921.600  0.335974  40617.050954  117729.192000   6.831866  48.160918    0.000787  38586.198407\n",
       "1           1            527  cagepair     24750.0   low slug   53212.637  0.295599  27042.548508    3827.200195   3.556462  20.402396   -0.000227  25690.421083\n",
       "2           2            527  cagepair     56002.5        bbc   94253.766  0.189555  30090.095178   68103.292456   3.982554  18.393372   -0.002314  28585.590419\n",
       "3           3            527  cagepair    174352.5        bbc   51008.836  0.306177  34324.170621   52563.703613   3.336529  10.448164   -0.001250  32607.962090\n",
       "4           4            527  cagepair    342877.5        bbc  164846.110  0.144833  33090.921412   22861.514782   1.852232   3.185318   -0.001784  31436.375341"
      ]
     },
     "execution_count": 3,
     "metadata": {},
     "output_type": "execute_result"
    }
   ],
   "source": [
    "features_path = 'C:/Users/Schindler/Documents/ProgrammingFun/USV_python/annot_features_full.csv'\n",
    "annot_features_data = pd.read_csv(features_path)\n",
    "annot_features_full = pd.DataFrame(data = annot_features_data)\n",
    "print(annot_features_full.shape)\n",
    "print(annot_features_full.loc[pd.isna(annot_features_full['spec_pur'])].index)\n",
    "annot_features_full.head()"
   ]
  },
  {
   "cell_type": "code",
   "execution_count": 4,
   "metadata": {},
   "outputs": [
    {
     "data": {
      "text/html": [
       "<div>\n",
       "<style scoped>\n",
       "    .dataframe tbody tr th:only-of-type {\n",
       "        vertical-align: middle;\n",
       "    }\n",
       "\n",
       "    .dataframe tbody tr th {\n",
       "        vertical-align: top;\n",
       "    }\n",
       "\n",
       "    .dataframe thead th {\n",
       "        text-align: right;\n",
       "    }\n",
       "</style>\n",
       "<table border=\"1\" class=\"dataframe\">\n",
       "  <thead>\n",
       "    <tr style=\"text-align: right;\">\n",
       "      <th></th>\n",
       "      <th>Unnamed: 0</th>\n",
       "      <th>animal_number</th>\n",
       "      <th>session</th>\n",
       "      <th>time_stamp</th>\n",
       "      <th>Annotation</th>\n",
       "      <th>power_sum</th>\n",
       "      <th>spec_pur</th>\n",
       "      <th>spec_cent</th>\n",
       "      <th>spec_spread</th>\n",
       "      <th>spec_skew</th>\n",
       "      <th>spec_kurt</th>\n",
       "      <th>spec_slope</th>\n",
       "      <th>spec_roll</th>\n",
       "      <th>class</th>\n",
       "    </tr>\n",
       "  </thead>\n",
       "  <tbody>\n",
       "    <tr>\n",
       "      <th>0</th>\n",
       "      <td>0</td>\n",
       "      <td>527</td>\n",
       "      <td>cagepair</td>\n",
       "      <td>18922.5</td>\n",
       "      <td>high slug</td>\n",
       "      <td>44921.600</td>\n",
       "      <td>0.335974</td>\n",
       "      <td>40617.050954</td>\n",
       "      <td>117729.192000</td>\n",
       "      <td>6.831866</td>\n",
       "      <td>48.160918</td>\n",
       "      <td>0.000787</td>\n",
       "      <td>38586.198407</td>\n",
       "      <td>1</td>\n",
       "    </tr>\n",
       "    <tr>\n",
       "      <th>1</th>\n",
       "      <td>1</td>\n",
       "      <td>527</td>\n",
       "      <td>cagepair</td>\n",
       "      <td>24750.0</td>\n",
       "      <td>low slug</td>\n",
       "      <td>53212.637</td>\n",
       "      <td>0.295599</td>\n",
       "      <td>27042.548508</td>\n",
       "      <td>3827.200195</td>\n",
       "      <td>3.556462</td>\n",
       "      <td>20.402396</td>\n",
       "      <td>-0.000227</td>\n",
       "      <td>25690.421083</td>\n",
       "      <td>1</td>\n",
       "    </tr>\n",
       "    <tr>\n",
       "      <th>2</th>\n",
       "      <td>2</td>\n",
       "      <td>527</td>\n",
       "      <td>cagepair</td>\n",
       "      <td>56002.5</td>\n",
       "      <td>bbc</td>\n",
       "      <td>94253.766</td>\n",
       "      <td>0.189555</td>\n",
       "      <td>30090.095178</td>\n",
       "      <td>68103.292456</td>\n",
       "      <td>3.982554</td>\n",
       "      <td>18.393372</td>\n",
       "      <td>-0.002314</td>\n",
       "      <td>28585.590419</td>\n",
       "      <td>1</td>\n",
       "    </tr>\n",
       "    <tr>\n",
       "      <th>3</th>\n",
       "      <td>3</td>\n",
       "      <td>527</td>\n",
       "      <td>cagepair</td>\n",
       "      <td>174352.5</td>\n",
       "      <td>bbc</td>\n",
       "      <td>51008.836</td>\n",
       "      <td>0.306177</td>\n",
       "      <td>34324.170621</td>\n",
       "      <td>52563.703613</td>\n",
       "      <td>3.336529</td>\n",
       "      <td>10.448164</td>\n",
       "      <td>-0.001250</td>\n",
       "      <td>32607.962090</td>\n",
       "      <td>1</td>\n",
       "    </tr>\n",
       "    <tr>\n",
       "      <th>4</th>\n",
       "      <td>4</td>\n",
       "      <td>527</td>\n",
       "      <td>cagepair</td>\n",
       "      <td>342877.5</td>\n",
       "      <td>bbc</td>\n",
       "      <td>164846.110</td>\n",
       "      <td>0.144833</td>\n",
       "      <td>33090.921412</td>\n",
       "      <td>22861.514782</td>\n",
       "      <td>1.852232</td>\n",
       "      <td>3.185318</td>\n",
       "      <td>-0.001784</td>\n",
       "      <td>31436.375341</td>\n",
       "      <td>1</td>\n",
       "    </tr>\n",
       "  </tbody>\n",
       "</table>\n",
       "</div>"
      ],
      "text/plain": [
       "   Unnamed: 0  animal_number   session  time_stamp Annotation   power_sum  spec_pur     spec_cent    spec_spread  spec_skew  spec_kurt  spec_slope     spec_roll  class\n",
       "0           0            527  cagepair     18922.5  high slug   44921.600  0.335974  40617.050954  117729.192000   6.831866  48.160918    0.000787  38586.198407      1\n",
       "1           1            527  cagepair     24750.0   low slug   53212.637  0.295599  27042.548508    3827.200195   3.556462  20.402396   -0.000227  25690.421083      1\n",
       "2           2            527  cagepair     56002.5        bbc   94253.766  0.189555  30090.095178   68103.292456   3.982554  18.393372   -0.002314  28585.590419      1\n",
       "3           3            527  cagepair    174352.5        bbc   51008.836  0.306177  34324.170621   52563.703613   3.336529  10.448164   -0.001250  32607.962090      1\n",
       "4           4            527  cagepair    342877.5        bbc  164846.110  0.144833  33090.921412   22861.514782   1.852232   3.185318   -0.001784  31436.375341      1"
      ]
     },
     "execution_count": 4,
     "metadata": {},
     "output_type": "execute_result"
    }
   ],
   "source": [
    "annot_labels_up = annot_features_full['Annotation']\n",
    "annot_labels_up = annot_labels_up.replace(regex={r'low slug': 1, 'high slug': 1, 'low multi': 1, 'high multi': 1, 'bbc': 1, 'rand_noise': 0})\n",
    "annot_features_full['class'] = annot_labels_up\n",
    "annot_features_full.head()"
   ]
  },
  {
   "cell_type": "code",
   "execution_count": 5,
   "metadata": {},
   "outputs": [],
   "source": [
    "#separate and save for later testing dataset\n",
    "train_orig, test_orig = train_test_split(annot_features_full, test_size=0.3, random_state=1, stratify = annot_features_full.Annotation)"
   ]
  },
  {
   "cell_type": "code",
   "execution_count": 6,
   "metadata": {},
   "outputs": [
    {
     "data": {
      "text/plain": [
       "(570, 14)"
      ]
     },
     "execution_count": 6,
     "metadata": {},
     "output_type": "execute_result"
    }
   ],
   "source": [
    "#separate and save for later testing dataset\n",
    "train_train, test_validate = train_test_split(train_orig, test_size=0.15, random_state=1, stratify = train_orig.Annotation)\n",
    "train_train.shape"
   ]
  },
  {
   "cell_type": "code",
   "execution_count": 7,
   "metadata": {},
   "outputs": [
    {
     "name": "stdout",
     "output_type": "stream",
     "text": [
      "rand_noise    476\n",
      "low slug      170\n",
      "bbc           125\n",
      "high slug      88\n",
      "low multi      80\n",
      "high multi     13\n",
      "Name: Annotation, dtype: int64\n"
     ]
    },
    {
     "data": {
      "text/html": [
       "<div>\n",
       "<style scoped>\n",
       "    .dataframe tbody tr th:only-of-type {\n",
       "        vertical-align: middle;\n",
       "    }\n",
       "\n",
       "    .dataframe tbody tr th {\n",
       "        vertical-align: top;\n",
       "    }\n",
       "\n",
       "    .dataframe thead th {\n",
       "        text-align: right;\n",
       "    }\n",
       "</style>\n",
       "<table border=\"1\" class=\"dataframe\">\n",
       "  <thead>\n",
       "    <tr style=\"text-align: right;\">\n",
       "      <th></th>\n",
       "      <th>Unnamed: 0</th>\n",
       "      <th>animal_number</th>\n",
       "      <th>session</th>\n",
       "      <th>time_stamp</th>\n",
       "      <th>Annotation</th>\n",
       "      <th>power_sum</th>\n",
       "      <th>spec_pur</th>\n",
       "      <th>spec_cent</th>\n",
       "      <th>spec_spread</th>\n",
       "      <th>spec_skew</th>\n",
       "      <th>spec_kurt</th>\n",
       "      <th>spec_slope</th>\n",
       "      <th>spec_roll</th>\n",
       "      <th>class</th>\n",
       "    </tr>\n",
       "  </thead>\n",
       "  <tbody>\n",
       "    <tr>\n",
       "      <th>124</th>\n",
       "      <td>124</td>\n",
       "      <td>556</td>\n",
       "      <td>cagepair</td>\n",
       "      <td>41512.5</td>\n",
       "      <td>bbc</td>\n",
       "      <td>283922.600</td>\n",
       "      <td>0.105281</td>\n",
       "      <td>35128.433948</td>\n",
       "      <td>27613.082970</td>\n",
       "      <td>1.746885</td>\n",
       "      <td>2.369667</td>\n",
       "      <td>-0.001916</td>\n",
       "      <td>33372.012250</td>\n",
       "      <td>1</td>\n",
       "    </tr>\n",
       "    <tr>\n",
       "      <th>49</th>\n",
       "      <td>49</td>\n",
       "      <td>535</td>\n",
       "      <td>CPApair</td>\n",
       "      <td>201847.5</td>\n",
       "      <td>low slug</td>\n",
       "      <td>114278.914</td>\n",
       "      <td>0.151498</td>\n",
       "      <td>16245.921214</td>\n",
       "      <td>18541.400530</td>\n",
       "      <td>5.060017</td>\n",
       "      <td>27.840860</td>\n",
       "      <td>-0.001240</td>\n",
       "      <td>15433.625153</td>\n",
       "      <td>1</td>\n",
       "    </tr>\n",
       "    <tr>\n",
       "      <th>131</th>\n",
       "      <td>131</td>\n",
       "      <td>556</td>\n",
       "      <td>cagepair</td>\n",
       "      <td>169807.5</td>\n",
       "      <td>high slug</td>\n",
       "      <td>47409.770</td>\n",
       "      <td>0.329336</td>\n",
       "      <td>30112.858088</td>\n",
       "      <td>13748.241415</td>\n",
       "      <td>6.074303</td>\n",
       "      <td>42.912236</td>\n",
       "      <td>-0.000247</td>\n",
       "      <td>28607.215183</td>\n",
       "      <td>1</td>\n",
       "    </tr>\n",
       "    <tr>\n",
       "      <th>137</th>\n",
       "      <td>137</td>\n",
       "      <td>556</td>\n",
       "      <td>cagepair</td>\n",
       "      <td>459967.5</td>\n",
       "      <td>high slug</td>\n",
       "      <td>88313.625</td>\n",
       "      <td>0.185218</td>\n",
       "      <td>34136.696251</td>\n",
       "      <td>175651.225991</td>\n",
       "      <td>6.314609</td>\n",
       "      <td>40.124449</td>\n",
       "      <td>-0.001435</td>\n",
       "      <td>32429.861439</td>\n",
       "      <td>1</td>\n",
       "    </tr>\n",
       "    <tr>\n",
       "      <th>147</th>\n",
       "      <td>147</td>\n",
       "      <td>557</td>\n",
       "      <td>cagepair</td>\n",
       "      <td>79177.5</td>\n",
       "      <td>bbc</td>\n",
       "      <td>121944.500</td>\n",
       "      <td>0.143545</td>\n",
       "      <td>31621.628971</td>\n",
       "      <td>96620.582439</td>\n",
       "      <td>3.463390</td>\n",
       "      <td>12.100880</td>\n",
       "      <td>-0.002297</td>\n",
       "      <td>30040.547522</td>\n",
       "      <td>1</td>\n",
       "    </tr>\n",
       "  </tbody>\n",
       "</table>\n",
       "</div>"
      ],
      "text/plain": [
       "     Unnamed: 0  animal_number   session  time_stamp Annotation   power_sum  spec_pur     spec_cent    spec_spread  spec_skew  spec_kurt  spec_slope     spec_roll  class\n",
       "124         124            556  cagepair     41512.5        bbc  283922.600  0.105281  35128.433948   27613.082970   1.746885   2.369667   -0.001916  33372.012250      1\n",
       "49           49            535   CPApair    201847.5   low slug  114278.914  0.151498  16245.921214   18541.400530   5.060017  27.840860   -0.001240  15433.625153      1\n",
       "131         131            556  cagepair    169807.5  high slug   47409.770  0.329336  30112.858088   13748.241415   6.074303  42.912236   -0.000247  28607.215183      1\n",
       "137         137            556  cagepair    459967.5  high slug   88313.625  0.185218  34136.696251  175651.225991   6.314609  40.124449   -0.001435  32429.861439      1\n",
       "147         147            557  cagepair     79177.5        bbc  121944.500  0.143545  31621.628971   96620.582439   3.463390  12.100880   -0.002297  30040.547522      1"
      ]
     },
     "execution_count": 7,
     "metadata": {},
     "output_type": "execute_result"
    }
   ],
   "source": [
    "train_orig_maj = train_train[train_train['Annotation'] == 'rand_noise']\n",
    "train_orig_min = train_train[train_train['Annotation'] != 'rand_noise']\n",
    "\n",
    "train_orig_min_upsamples = resample(train_orig_min, replace=True, n_samples = len(train_orig_maj), random_state = 123)\n",
    "\n",
    "train_orig_upsamples = pd.concat([train_orig_min_upsamples, train_orig_maj])\n",
    "\n",
    "print(train_orig_upsamples.Annotation.value_counts())\n",
    "\n",
    "train_orig_upsamples.head()"
   ]
  },
  {
   "cell_type": "code",
   "execution_count": 8,
   "metadata": {},
   "outputs": [],
   "source": [
    "def square_rgb(xr_slice):\n",
    "    times = data['times'].values\n",
    "    freqs = data['freq'].values\n",
    "    \n",
    "    #make square for Keras - need to interpolate data, first create function and then apply\n",
    "    x = np.arange(0, len(times))\n",
    "    y = np.arange(0, len(freqs))\n",
    "    f = interpolate.interp2d(x, y, xr_slice.values)\n",
    "    xnew = np.linspace(0, len(times), num=128)\n",
    "    ynew = np.linspace(0, len(freqs), num=128)\n",
    "    znew = f(xnew, ynew)\n",
    "\n",
    "    X = np.log(znew)\n",
    "    \n",
    "    #normalize and change to rgba (remove a)\n",
    "    X_colored = plt.cm.viridis((X - X.mean())/(X.max() - X.min()))\n",
    "    X_colored = X_colored[:,:,:3]\n",
    "    \n",
    "    return X_colored"
   ]
  },
  {
   "cell_type": "code",
   "execution_count": 9,
   "metadata": {},
   "outputs": [
    {
     "name": "stdout",
     "output_type": "stream",
     "text": [
      "(952, 128, 128, 3)\n"
     ]
    }
   ],
   "source": [
    "rgbs = []\n",
    "i = 1\n",
    "for index, row in train_orig_upsamples.iterrows():\n",
    "    data = xr.open_dataset('C:/Users/Schindler/Documents/ProgrammingFun/USV_python/Datasets/' + str(row['animal_number']) + '_xr_Dataset.nc')\n",
    "    \n",
    "    xr_slice = data['__xarray_dataarray_variable__'].sel(slices=row['time_stamp'])\n",
    "    \n",
    "    rgb = square_rgb(xr_slice)\n",
    "    \n",
    "    #rgbs[(str(row['Animal']) + '_' + str(row['time_stamp']))] = rgb\n",
    "    rgbs.append(rgb)\n",
    "    \n",
    "X = np.stack(rgbs)\n",
    "print(X.shape)"
   ]
  },
  {
   "cell_type": "code",
   "execution_count": 10,
   "metadata": {},
   "outputs": [
    {
     "data": {
      "text/plain": [
       "(952,)"
      ]
     },
     "execution_count": 10,
     "metadata": {},
     "output_type": "execute_result"
    }
   ],
   "source": [
    "y = train_orig_upsamples['class']\n",
    "y.shape"
   ]
  },
  {
   "cell_type": "code",
   "execution_count": 11,
   "metadata": {},
   "outputs": [
    {
     "name": "stdout",
     "output_type": "stream",
     "text": [
      "(101, 128, 128, 3)\n"
     ]
    }
   ],
   "source": [
    "rgbs_test = []\n",
    "i = 1\n",
    "for index, row in test_validate.iterrows():\n",
    "    data = xr.open_dataset('C:/Users/Schindler/Documents/ProgrammingFun/USV_python/Datasets/' + str(row['animal_number']) + '_xr_Dataset.nc')\n",
    "    \n",
    "    xr_slice = data['__xarray_dataarray_variable__'].sel(slices=row['time_stamp'])\n",
    "    \n",
    "    rgb = square_rgb(xr_slice)\n",
    "    \n",
    "    #rgbs[(str(row['Animal']) + '_' + str(row['time_stamp']))] = rgb\n",
    "    rgbs_test.append(rgb)\n",
    "    \n",
    "X_test = np.stack(rgbs_test)\n",
    "print(X_test.shape)"
   ]
  },
  {
   "cell_type": "code",
   "execution_count": 12,
   "metadata": {},
   "outputs": [
    {
     "data": {
      "text/plain": [
       "(101,)"
      ]
     },
     "execution_count": 12,
     "metadata": {},
     "output_type": "execute_result"
    }
   ],
   "source": [
    "y_test = test_validate['class']\n",
    "y_test.shape"
   ]
  },
  {
   "cell_type": "code",
   "execution_count": 13,
   "metadata": {},
   "outputs": [],
   "source": [
    "from keras.layers import Dense,GlobalAveragePooling2D\n",
    "from keras.applications import MobileNet\n",
    "from keras.preprocessing import image\n",
    "from keras.applications.mobilenet import preprocess_input\n",
    "from keras.preprocessing.image import ImageDataGenerator\n",
    "from keras.models import Model\n",
    "from keras.optimizers import Adam\n",
    "\n",
    "from keras.layers import Dropout, Activation\n",
    "from keras.layers.normalization import BatchNormalization\n",
    "from sklearn.model_selection import train_test_split\n",
    "from keras.callbacks import ModelCheckpoint, EarlyStopping, ReduceLROnPlateau, CSVLogger, TensorBoard, Callback\n",
    "from sklearn.metrics import confusion_matrix, f1_score, precision_score, recall_score"
   ]
  },
  {
   "cell_type": "code",
   "execution_count": 14,
   "metadata": {},
   "outputs": [],
   "source": [
    "base_model=MobileNet(input_shape = (128,128,3), include_top=False) #imports the mobilenet model and discards the last 1000 neuron layer."
   ]
  },
  {
   "cell_type": "code",
   "execution_count": 15,
   "metadata": {},
   "outputs": [],
   "source": [
    "x=base_model.output\n",
    "x=GlobalAveragePooling2D()(x)\n",
    "#x=Dense(1024,activation='relu')(x) #we add dense layers so that the model can learn more complex functions and classify for better results.\n",
    "#x=Dense(1024,activation='relu')(x) #dense layer 2\n",
    "#x=Dense(512,activation='relu')(x) #dense layer 3\n",
    "preds=Dense(1,activation='sigmoid', name='features')(x) #final layer with softmax activation"
   ]
  },
  {
   "cell_type": "code",
   "execution_count": 16,
   "metadata": {},
   "outputs": [],
   "source": [
    "model=Model(inputs=base_model.input,outputs=preds)"
   ]
  },
  {
   "cell_type": "code",
   "execution_count": 17,
   "metadata": {},
   "outputs": [],
   "source": [
    "for layer in model.layers[:-5]:\n",
    "    layer.trainable=False\n",
    "for layer in model.layers[-5:]:\n",
    "    layer.trainable=True"
   ]
  },
  {
   "cell_type": "code",
   "execution_count": 18,
   "metadata": {},
   "outputs": [],
   "source": [
    "from keras import backend as K\n",
    "\n",
    "def f1(y_true, y_pred):\n",
    "    def recall(y_true, y_pred):\n",
    "        \"\"\"Recall metric.\n",
    "\n",
    "        Only computes a batch-wise average of recall.\n",
    "\n",
    "        Computes the recall, a metric for multi-label classification of\n",
    "        how many relevant items are selected.\n",
    "        \"\"\"\n",
    "        true_positives = K.sum(K.round(K.clip(y_true * y_pred, 0, 1)))\n",
    "        possible_positives = K.sum(K.round(K.clip(y_true, 0, 1)))\n",
    "        recall = true_positives / (possible_positives + K.epsilon())\n",
    "        return recall\n",
    "\n",
    "    def precision(y_true, y_pred):\n",
    "        \"\"\"Precision metric.\n",
    "\n",
    "        Only computes a batch-wise average of precision.\n",
    "\n",
    "        Computes the precision, a metric for multi-label classification of\n",
    "        how many selected items are relevant.\n",
    "        \"\"\"\n",
    "        true_positives = K.sum(K.round(K.clip(y_true * y_pred, 0, 1)))\n",
    "        predicted_positives = K.sum(K.round(K.clip(y_pred, 0, 1)))\n",
    "        precision = true_positives / (predicted_positives + K.epsilon())\n",
    "        return precision\n",
    "    precision = precision(y_true, y_pred)\n",
    "    recall = recall(y_true, y_pred)\n",
    "    \n",
    "    return 2*((precision*recall)/(precision+recall+K.epsilon()))"
   ]
  },
  {
   "cell_type": "code",
   "execution_count": 19,
   "metadata": {},
   "outputs": [],
   "source": [
    "model.compile(optimizer='Adam',loss='binary_crossentropy',metrics=[f1])"
   ]
  },
  {
   "cell_type": "code",
   "execution_count": 20,
   "metadata": {},
   "outputs": [],
   "source": [
    "train_datagen=ImageDataGenerator(featurewise_center=True,\n",
    "    featurewise_std_normalization=True, width_shift_range=0.2, preprocessing_function=preprocess_input) #included in our dependencies\n",
    "\n",
    "train_generator=train_datagen.flow(X, y, batch_size=32,shuffle=True)"
   ]
  },
  {
   "cell_type": "code",
   "execution_count": 21,
   "metadata": {},
   "outputs": [],
   "source": [
    "test_datagen = ImageDataGenerator()\n",
    "\n",
    "validation_generator = test_datagen.flow(X_test, y_test, batch_size=32,shuffle=True)"
   ]
  },
  {
   "cell_type": "code",
   "execution_count": 23,
   "metadata": {},
   "outputs": [],
   "source": [
    "log_dir=\"C:/Users/Schindler/Documents/ProgrammingFun/USV_python/TF_logs/run_e\"\n",
    "\n",
    "with open(join(log_dir, 'metadata.tsv'), 'w') as f:\n",
    "    f.write('Index\\tLabel\\n')\n",
    "    for index,label in enumerate(y_test):\n",
    "        f.write('%d\\t%d\\n' % (index,label))\n",
    "    \n",
    "#tensorboard = callback_tensorboard(log_dir=\"C:/Users/Schindler/Documents/ProgrammingFun/USV_python/TF_logs/run_b\")\n",
    "\n",
    "tensorboard = TensorBoard(log_dir=log_dir, histogram_freq=1, batch_size=32, write_graph=True, write_grads=False, write_images=True, embeddings_freq=1, embeddings_layer_names=['features'], embeddings_metadata=join(log_dir, 'metadata.tsv'), embeddings_data=X_test, update_freq='epoch')\n",
    "\n",
    "\n",
    "callbacks_list = [\n",
    "    EarlyStopping(monitor = 'val_acc', patience = 6, verbose = 1),\n",
    "    ReduceLROnPlateau(monitor = 'val_acc', factor = 0.1, patience = 3, verbose = 1), tensorboard]"
   ]
  },
  {
   "cell_type": "code",
   "execution_count": 24,
   "metadata": {},
   "outputs": [
    {
     "name": "stdout",
     "output_type": "stream",
     "text": [
      "Epoch 1/9\n",
      "29/29 [==============================] - 186s 6s/step - loss: 0.5370 - f1: 0.8007 - val_loss: 0.6542 - val_f1: 0.0000e+00\n",
      "Epoch 2/9\n",
      "29/29 [==============================] - 153s 5s/step - loss: 0.2291 - f1: 0.9122 - val_loss: 0.9751 - val_f1: 0.0000e+00\n",
      "Epoch 3/9\n",
      "29/29 [==============================] - 172s 6s/step - loss: 0.1547 - f1: 0.9443 - val_loss: 1.2598 - val_f1: 0.0000e+00\n",
      "Epoch 4/9\n",
      "29/29 [==============================] - 163s 6s/step - loss: 0.1324 - f1: 0.9381 - val_loss: 1.0948 - val_f1: 0.0000e+00\n",
      "Epoch 5/9\n",
      "29/29 [==============================] - 167s 6s/step - loss: 0.0948 - f1: 0.9569 - val_loss: 0.8281 - val_f1: 0.0000e+00\n",
      "Epoch 6/9\n",
      "28/29 [===========================>..] - ETA: 4s - loss: 0.0855 - f1: 0.9712"
     ]
    },
    {
     "ename": "KeyboardInterrupt",
     "evalue": "",
     "output_type": "error",
     "traceback": [
      "\u001b[1;31m---------------------------------------------------------------------------\u001b[0m",
      "\u001b[1;31mKeyboardInterrupt\u001b[0m                         Traceback (most recent call last)",
      "\u001b[1;32m<ipython-input-24-32c51d9e3500>\u001b[0m in \u001b[0;36m<module>\u001b[1;34m\u001b[0m\n\u001b[0;32m      4\u001b[0m                    \u001b[0mepochs\u001b[0m\u001b[1;33m=\u001b[0m\u001b[1;36m9\u001b[0m\u001b[1;33m,\u001b[0m\u001b[1;33m\u001b[0m\u001b[0m\n\u001b[0;32m      5\u001b[0m                    \u001b[0mvalidation_data\u001b[0m \u001b[1;33m=\u001b[0m \u001b[1;33m[\u001b[0m\u001b[0mX_test\u001b[0m\u001b[1;33m,\u001b[0m \u001b[0my_test\u001b[0m\u001b[1;33m]\u001b[0m\u001b[1;33m,\u001b[0m\u001b[1;33m\u001b[0m\u001b[0m\n\u001b[1;32m----> 6\u001b[1;33m                 callbacks = callbacks_list)\n\u001b[0m\u001b[0;32m      7\u001b[0m \u001b[1;33m\u001b[0m\u001b[0m\n\u001b[0;32m      8\u001b[0m \u001b[1;31m#model.fit_generator(train_generator, steps_per_epoch=num_of_train_samples // batch_size, epochs=epochs, validation_data=validation_generator, validation_steps=num_of_test_samples // batch_size)\u001b[0m\u001b[1;33m\u001b[0m\u001b[1;33m\u001b[0m\u001b[0m\n",
      "\u001b[1;32m~\\AppData\\Local\\conda\\conda\\envs\\USV_python\\lib\\site-packages\\keras\\legacy\\interfaces.py\u001b[0m in \u001b[0;36mwrapper\u001b[1;34m(*args, **kwargs)\u001b[0m\n\u001b[0;32m     89\u001b[0m                 warnings.warn('Update your `' + object_name + '` call to the ' +\n\u001b[0;32m     90\u001b[0m                               'Keras 2 API: ' + signature, stacklevel=2)\n\u001b[1;32m---> 91\u001b[1;33m             \u001b[1;32mreturn\u001b[0m \u001b[0mfunc\u001b[0m\u001b[1;33m(\u001b[0m\u001b[1;33m*\u001b[0m\u001b[0margs\u001b[0m\u001b[1;33m,\u001b[0m \u001b[1;33m**\u001b[0m\u001b[0mkwargs\u001b[0m\u001b[1;33m)\u001b[0m\u001b[1;33m\u001b[0m\u001b[0m\n\u001b[0m\u001b[0;32m     92\u001b[0m         \u001b[0mwrapper\u001b[0m\u001b[1;33m.\u001b[0m\u001b[0m_original_function\u001b[0m \u001b[1;33m=\u001b[0m \u001b[0mfunc\u001b[0m\u001b[1;33m\u001b[0m\u001b[0m\n\u001b[0;32m     93\u001b[0m         \u001b[1;32mreturn\u001b[0m \u001b[0mwrapper\u001b[0m\u001b[1;33m\u001b[0m\u001b[0m\n",
      "\u001b[1;32m~\\AppData\\Local\\conda\\conda\\envs\\USV_python\\lib\\site-packages\\keras\\engine\\training.py\u001b[0m in \u001b[0;36mfit_generator\u001b[1;34m(self, generator, steps_per_epoch, epochs, verbose, callbacks, validation_data, validation_steps, class_weight, max_queue_size, workers, use_multiprocessing, shuffle, initial_epoch)\u001b[0m\n\u001b[0;32m   1416\u001b[0m             \u001b[0muse_multiprocessing\u001b[0m\u001b[1;33m=\u001b[0m\u001b[0muse_multiprocessing\u001b[0m\u001b[1;33m,\u001b[0m\u001b[1;33m\u001b[0m\u001b[0m\n\u001b[0;32m   1417\u001b[0m             \u001b[0mshuffle\u001b[0m\u001b[1;33m=\u001b[0m\u001b[0mshuffle\u001b[0m\u001b[1;33m,\u001b[0m\u001b[1;33m\u001b[0m\u001b[0m\n\u001b[1;32m-> 1418\u001b[1;33m             initial_epoch=initial_epoch)\n\u001b[0m\u001b[0;32m   1419\u001b[0m \u001b[1;33m\u001b[0m\u001b[0m\n\u001b[0;32m   1420\u001b[0m     \u001b[1;33m@\u001b[0m\u001b[0minterfaces\u001b[0m\u001b[1;33m.\u001b[0m\u001b[0mlegacy_generator_methods_support\u001b[0m\u001b[1;33m\u001b[0m\u001b[0m\n",
      "\u001b[1;32m~\\AppData\\Local\\conda\\conda\\envs\\USV_python\\lib\\site-packages\\keras\\engine\\training_generator.py\u001b[0m in \u001b[0;36mfit_generator\u001b[1;34m(model, generator, steps_per_epoch, epochs, verbose, callbacks, validation_data, validation_steps, class_weight, max_queue_size, workers, use_multiprocessing, shuffle, initial_epoch)\u001b[0m\n\u001b[0;32m    215\u001b[0m                 outs = model.train_on_batch(x, y,\n\u001b[0;32m    216\u001b[0m                                             \u001b[0msample_weight\u001b[0m\u001b[1;33m=\u001b[0m\u001b[0msample_weight\u001b[0m\u001b[1;33m,\u001b[0m\u001b[1;33m\u001b[0m\u001b[0m\n\u001b[1;32m--> 217\u001b[1;33m                                             class_weight=class_weight)\n\u001b[0m\u001b[0;32m    218\u001b[0m \u001b[1;33m\u001b[0m\u001b[0m\n\u001b[0;32m    219\u001b[0m                 \u001b[0mouts\u001b[0m \u001b[1;33m=\u001b[0m \u001b[0mto_list\u001b[0m\u001b[1;33m(\u001b[0m\u001b[0mouts\u001b[0m\u001b[1;33m)\u001b[0m\u001b[1;33m\u001b[0m\u001b[0m\n",
      "\u001b[1;32m~\\AppData\\Local\\conda\\conda\\envs\\USV_python\\lib\\site-packages\\keras\\engine\\training.py\u001b[0m in \u001b[0;36mtrain_on_batch\u001b[1;34m(self, x, y, sample_weight, class_weight)\u001b[0m\n\u001b[0;32m   1215\u001b[0m             \u001b[0mins\u001b[0m \u001b[1;33m=\u001b[0m \u001b[0mx\u001b[0m \u001b[1;33m+\u001b[0m \u001b[0my\u001b[0m \u001b[1;33m+\u001b[0m \u001b[0msample_weights\u001b[0m\u001b[1;33m\u001b[0m\u001b[0m\n\u001b[0;32m   1216\u001b[0m         \u001b[0mself\u001b[0m\u001b[1;33m.\u001b[0m\u001b[0m_make_train_function\u001b[0m\u001b[1;33m(\u001b[0m\u001b[1;33m)\u001b[0m\u001b[1;33m\u001b[0m\u001b[0m\n\u001b[1;32m-> 1217\u001b[1;33m         \u001b[0moutputs\u001b[0m \u001b[1;33m=\u001b[0m \u001b[0mself\u001b[0m\u001b[1;33m.\u001b[0m\u001b[0mtrain_function\u001b[0m\u001b[1;33m(\u001b[0m\u001b[0mins\u001b[0m\u001b[1;33m)\u001b[0m\u001b[1;33m\u001b[0m\u001b[0m\n\u001b[0m\u001b[0;32m   1218\u001b[0m         \u001b[1;32mreturn\u001b[0m \u001b[0munpack_singleton\u001b[0m\u001b[1;33m(\u001b[0m\u001b[0moutputs\u001b[0m\u001b[1;33m)\u001b[0m\u001b[1;33m\u001b[0m\u001b[0m\n\u001b[0;32m   1219\u001b[0m \u001b[1;33m\u001b[0m\u001b[0m\n",
      "\u001b[1;32m~\\AppData\\Local\\conda\\conda\\envs\\USV_python\\lib\\site-packages\\keras\\backend\\tensorflow_backend.py\u001b[0m in \u001b[0;36m__call__\u001b[1;34m(self, inputs)\u001b[0m\n\u001b[0;32m   2719\u001b[0m                     \u001b[1;34m'In order to feed symbolic tensors to a Keras model '\u001b[0m\u001b[1;33m\u001b[0m\u001b[0m\n\u001b[0;32m   2720\u001b[0m                     'in TensorFlow, you need tensorflow 1.8 or higher.')\n\u001b[1;32m-> 2721\u001b[1;33m             \u001b[1;32mreturn\u001b[0m \u001b[0mself\u001b[0m\u001b[1;33m.\u001b[0m\u001b[0m_legacy_call\u001b[0m\u001b[1;33m(\u001b[0m\u001b[0minputs\u001b[0m\u001b[1;33m)\u001b[0m\u001b[1;33m\u001b[0m\u001b[0m\n\u001b[0m\u001b[0;32m   2722\u001b[0m \u001b[1;33m\u001b[0m\u001b[0m\n\u001b[0;32m   2723\u001b[0m \u001b[1;33m\u001b[0m\u001b[0m\n",
      "\u001b[1;32m~\\AppData\\Local\\conda\\conda\\envs\\USV_python\\lib\\site-packages\\keras\\backend\\tensorflow_backend.py\u001b[0m in \u001b[0;36m_legacy_call\u001b[1;34m(self, inputs)\u001b[0m\n\u001b[0;32m   2691\u001b[0m         \u001b[0msession\u001b[0m \u001b[1;33m=\u001b[0m \u001b[0mget_session\u001b[0m\u001b[1;33m(\u001b[0m\u001b[1;33m)\u001b[0m\u001b[1;33m\u001b[0m\u001b[0m\n\u001b[0;32m   2692\u001b[0m         updated = session.run(fetches=fetches, feed_dict=feed_dict,\n\u001b[1;32m-> 2693\u001b[1;33m                               **self.session_kwargs)\n\u001b[0m\u001b[0;32m   2694\u001b[0m         \u001b[1;32mreturn\u001b[0m \u001b[0mupdated\u001b[0m\u001b[1;33m[\u001b[0m\u001b[1;33m:\u001b[0m\u001b[0mlen\u001b[0m\u001b[1;33m(\u001b[0m\u001b[0mself\u001b[0m\u001b[1;33m.\u001b[0m\u001b[0moutputs\u001b[0m\u001b[1;33m)\u001b[0m\u001b[1;33m]\u001b[0m\u001b[1;33m\u001b[0m\u001b[0m\n\u001b[0;32m   2695\u001b[0m \u001b[1;33m\u001b[0m\u001b[0m\n",
      "\u001b[1;32m~\\AppData\\Local\\conda\\conda\\envs\\USV_python\\lib\\site-packages\\tensorflow\\python\\client\\session.py\u001b[0m in \u001b[0;36mrun\u001b[1;34m(self, fetches, feed_dict, options, run_metadata)\u001b[0m\n\u001b[0;32m    893\u001b[0m     \u001b[1;32mtry\u001b[0m\u001b[1;33m:\u001b[0m\u001b[1;33m\u001b[0m\u001b[0m\n\u001b[0;32m    894\u001b[0m       result = self._run(None, fetches, feed_dict, options_ptr,\n\u001b[1;32m--> 895\u001b[1;33m                          run_metadata_ptr)\n\u001b[0m\u001b[0;32m    896\u001b[0m       \u001b[1;32mif\u001b[0m \u001b[0mrun_metadata\u001b[0m\u001b[1;33m:\u001b[0m\u001b[1;33m\u001b[0m\u001b[0m\n\u001b[0;32m    897\u001b[0m         \u001b[0mproto_data\u001b[0m \u001b[1;33m=\u001b[0m \u001b[0mtf_session\u001b[0m\u001b[1;33m.\u001b[0m\u001b[0mTF_GetBuffer\u001b[0m\u001b[1;33m(\u001b[0m\u001b[0mrun_metadata_ptr\u001b[0m\u001b[1;33m)\u001b[0m\u001b[1;33m\u001b[0m\u001b[0m\n",
      "\u001b[1;32m~\\AppData\\Local\\conda\\conda\\envs\\USV_python\\lib\\site-packages\\tensorflow\\python\\client\\session.py\u001b[0m in \u001b[0;36m_run\u001b[1;34m(self, handle, fetches, feed_dict, options, run_metadata)\u001b[0m\n\u001b[0;32m   1126\u001b[0m     \u001b[1;32mif\u001b[0m \u001b[0mfinal_fetches\u001b[0m \u001b[1;32mor\u001b[0m \u001b[0mfinal_targets\u001b[0m \u001b[1;32mor\u001b[0m \u001b[1;33m(\u001b[0m\u001b[0mhandle\u001b[0m \u001b[1;32mand\u001b[0m \u001b[0mfeed_dict_tensor\u001b[0m\u001b[1;33m)\u001b[0m\u001b[1;33m:\u001b[0m\u001b[1;33m\u001b[0m\u001b[0m\n\u001b[0;32m   1127\u001b[0m       results = self._do_run(handle, final_targets, final_fetches,\n\u001b[1;32m-> 1128\u001b[1;33m                              feed_dict_tensor, options, run_metadata)\n\u001b[0m\u001b[0;32m   1129\u001b[0m     \u001b[1;32melse\u001b[0m\u001b[1;33m:\u001b[0m\u001b[1;33m\u001b[0m\u001b[0m\n\u001b[0;32m   1130\u001b[0m       \u001b[0mresults\u001b[0m \u001b[1;33m=\u001b[0m \u001b[1;33m[\u001b[0m\u001b[1;33m]\u001b[0m\u001b[1;33m\u001b[0m\u001b[0m\n",
      "\u001b[1;32m~\\AppData\\Local\\conda\\conda\\envs\\USV_python\\lib\\site-packages\\tensorflow\\python\\client\\session.py\u001b[0m in \u001b[0;36m_do_run\u001b[1;34m(self, handle, target_list, fetch_list, feed_dict, options, run_metadata)\u001b[0m\n\u001b[0;32m   1342\u001b[0m     \u001b[1;32mif\u001b[0m \u001b[0mhandle\u001b[0m \u001b[1;32mis\u001b[0m \u001b[1;32mNone\u001b[0m\u001b[1;33m:\u001b[0m\u001b[1;33m\u001b[0m\u001b[0m\n\u001b[0;32m   1343\u001b[0m       return self._do_call(_run_fn, self._session, feeds, fetches, targets,\n\u001b[1;32m-> 1344\u001b[1;33m                            options, run_metadata)\n\u001b[0m\u001b[0;32m   1345\u001b[0m     \u001b[1;32melse\u001b[0m\u001b[1;33m:\u001b[0m\u001b[1;33m\u001b[0m\u001b[0m\n\u001b[0;32m   1346\u001b[0m       \u001b[1;32mreturn\u001b[0m \u001b[0mself\u001b[0m\u001b[1;33m.\u001b[0m\u001b[0m_do_call\u001b[0m\u001b[1;33m(\u001b[0m\u001b[0m_prun_fn\u001b[0m\u001b[1;33m,\u001b[0m \u001b[0mself\u001b[0m\u001b[1;33m.\u001b[0m\u001b[0m_session\u001b[0m\u001b[1;33m,\u001b[0m \u001b[0mhandle\u001b[0m\u001b[1;33m,\u001b[0m \u001b[0mfeeds\u001b[0m\u001b[1;33m,\u001b[0m \u001b[0mfetches\u001b[0m\u001b[1;33m)\u001b[0m\u001b[1;33m\u001b[0m\u001b[0m\n",
      "\u001b[1;32m~\\AppData\\Local\\conda\\conda\\envs\\USV_python\\lib\\site-packages\\tensorflow\\python\\client\\session.py\u001b[0m in \u001b[0;36m_do_call\u001b[1;34m(self, fn, *args)\u001b[0m\n\u001b[0;32m   1348\u001b[0m   \u001b[1;32mdef\u001b[0m \u001b[0m_do_call\u001b[0m\u001b[1;33m(\u001b[0m\u001b[0mself\u001b[0m\u001b[1;33m,\u001b[0m \u001b[0mfn\u001b[0m\u001b[1;33m,\u001b[0m \u001b[1;33m*\u001b[0m\u001b[0margs\u001b[0m\u001b[1;33m)\u001b[0m\u001b[1;33m:\u001b[0m\u001b[1;33m\u001b[0m\u001b[0m\n\u001b[0;32m   1349\u001b[0m     \u001b[1;32mtry\u001b[0m\u001b[1;33m:\u001b[0m\u001b[1;33m\u001b[0m\u001b[0m\n\u001b[1;32m-> 1350\u001b[1;33m       \u001b[1;32mreturn\u001b[0m \u001b[0mfn\u001b[0m\u001b[1;33m(\u001b[0m\u001b[1;33m*\u001b[0m\u001b[0margs\u001b[0m\u001b[1;33m)\u001b[0m\u001b[1;33m\u001b[0m\u001b[0m\n\u001b[0m\u001b[0;32m   1351\u001b[0m     \u001b[1;32mexcept\u001b[0m \u001b[0merrors\u001b[0m\u001b[1;33m.\u001b[0m\u001b[0mOpError\u001b[0m \u001b[1;32mas\u001b[0m \u001b[0me\u001b[0m\u001b[1;33m:\u001b[0m\u001b[1;33m\u001b[0m\u001b[0m\n\u001b[0;32m   1352\u001b[0m       \u001b[0mmessage\u001b[0m \u001b[1;33m=\u001b[0m \u001b[0mcompat\u001b[0m\u001b[1;33m.\u001b[0m\u001b[0mas_text\u001b[0m\u001b[1;33m(\u001b[0m\u001b[0me\u001b[0m\u001b[1;33m.\u001b[0m\u001b[0mmessage\u001b[0m\u001b[1;33m)\u001b[0m\u001b[1;33m\u001b[0m\u001b[0m\n",
      "\u001b[1;32m~\\AppData\\Local\\conda\\conda\\envs\\USV_python\\lib\\site-packages\\tensorflow\\python\\client\\session.py\u001b[0m in \u001b[0;36m_run_fn\u001b[1;34m(session, feed_dict, fetch_list, target_list, options, run_metadata)\u001b[0m\n\u001b[0;32m   1327\u001b[0m           return tf_session.TF_Run(session, options,\n\u001b[0;32m   1328\u001b[0m                                    \u001b[0mfeed_dict\u001b[0m\u001b[1;33m,\u001b[0m \u001b[0mfetch_list\u001b[0m\u001b[1;33m,\u001b[0m \u001b[0mtarget_list\u001b[0m\u001b[1;33m,\u001b[0m\u001b[1;33m\u001b[0m\u001b[0m\n\u001b[1;32m-> 1329\u001b[1;33m                                    status, run_metadata)\n\u001b[0m\u001b[0;32m   1330\u001b[0m \u001b[1;33m\u001b[0m\u001b[0m\n\u001b[0;32m   1331\u001b[0m     \u001b[1;32mdef\u001b[0m \u001b[0m_prun_fn\u001b[0m\u001b[1;33m(\u001b[0m\u001b[0msession\u001b[0m\u001b[1;33m,\u001b[0m \u001b[0mhandle\u001b[0m\u001b[1;33m,\u001b[0m \u001b[0mfeed_dict\u001b[0m\u001b[1;33m,\u001b[0m \u001b[0mfetch_list\u001b[0m\u001b[1;33m)\u001b[0m\u001b[1;33m:\u001b[0m\u001b[1;33m\u001b[0m\u001b[0m\n",
      "\u001b[1;31mKeyboardInterrupt\u001b[0m: "
     ]
    }
   ],
   "source": [
    "step_size_train=train_generator.n//train_generator.batch_size\n",
    "\n",
    "model.fit_generator(generator=train_generator, steps_per_epoch=step_size_train,\n",
    "                   epochs=9,\n",
    "                   validation_data = [X_test, y_test],\n",
    "                callbacks = callbacks_list)\n",
    "\n",
    "#model.fit_generator(train_generator, steps_per_epoch=num_of_train_samples // batch_size, epochs=epochs, validation_data=validation_generator, validation_steps=num_of_test_samples // batch_size)"
   ]
  },
  {
   "cell_type": "code",
   "execution_count": null,
   "metadata": {},
   "outputs": [],
   "source": [
    "#command for starting tensorboard from terminal\n",
    "\n",
    "#python -m tensorboard.main --logdir=\"C:/Users/Schindler/Documents/ProgrammingFun/USV_python/TF_logs/run_a\""
   ]
  },
  {
   "cell_type": "code",
   "execution_count": null,
   "metadata": {},
   "outputs": [],
   "source": []
  },
  {
   "cell_type": "code",
   "execution_count": null,
   "metadata": {},
   "outputs": [],
   "source": []
  },
  {
   "cell_type": "code",
   "execution_count": null,
   "metadata": {},
   "outputs": [],
   "source": [
    "#Confution Matrix and Classification Report\n",
    "Y_pred = model.predict_generator(validation_generator)\n",
    "y_pred = np.argmax(Y_pred, axis=1)"
   ]
  },
  {
   "cell_type": "code",
   "execution_count": null,
   "metadata": {},
   "outputs": [],
   "source": [
    "print(Y_pred.shape)\n",
    "print(y_test.shape)"
   ]
  },
  {
   "cell_type": "code",
   "execution_count": null,
   "metadata": {},
   "outputs": [],
   "source": [
    "precision, recall, thresholds = precision_recall_curve(y_test, Y_pred)\n",
    "plt.plot(recall, precision)\n",
    "\n",
    "plt.xlim([0, 1])\n",
    "plt.ylim([0, 1.05])\n",
    "plt.legend(loc=\"lower right\")\n",
    "plt.xlabel('Recall (Sensitivity)', fontsize = 15)\n",
    "plt.ylabel('Precision', fontsize = 15)"
   ]
  },
  {
   "cell_type": "code",
   "execution_count": null,
   "metadata": {},
   "outputs": [],
   "source": [
    "print('Confusion Matrix')\n",
    "print(confusion_matrix(validation_generator.classes, y_pred))\n",
    "print('Classification Report')\n",
    "target_names = ['Cats', 'Dogs', 'Horse']\n",
    "print(classification_report(validation_generator.classes, y_pred, target_names=target_names))"
   ]
  }
 ],
 "metadata": {
  "kernelspec": {
   "display_name": "Python 3",
   "language": "python",
   "name": "python3"
  },
  "language_info": {
   "codemirror_mode": {
    "name": "ipython",
    "version": 3
   },
   "file_extension": ".py",
   "mimetype": "text/x-python",
   "name": "python",
   "nbconvert_exporter": "python",
   "pygments_lexer": "ipython3",
   "version": "3.6.6"
  }
 },
 "nbformat": 4,
 "nbformat_minor": 2
}
