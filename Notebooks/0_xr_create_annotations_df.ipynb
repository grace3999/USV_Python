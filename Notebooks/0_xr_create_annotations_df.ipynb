{
 "cells": [
  {
   "cell_type": "code",
   "execution_count": 1,
   "metadata": {},
   "outputs": [],
   "source": [
    "import numpy as np\n",
    "import pandas as pd\n",
    "import os\n",
    "import re\n",
    "\n",
    "pd.set_option('display.max_rows', 500)\n",
    "pd.set_option('display.max_columns', 500)\n",
    "pd.set_option('display.width', 1000)\n",
    "\n",
    "import warnings; warnings.simplefilter('ignore')"
   ]
  },
  {
   "cell_type": "code",
   "execution_count": 2,
   "metadata": {},
   "outputs": [],
   "source": [
    "def get_dir_list(dir_path):\n",
    "    path_names = []\n",
    "    dirs = os.listdir(dir_path)\n",
    "    for file in dirs: \n",
    "        path_names.append(dir_path + \"/\" + file)\n",
    "\n",
    "    return path_names   "
   ]
  },
  {
   "cell_type": "code",
   "execution_count": 3,
   "metadata": {},
   "outputs": [],
   "source": [
    "def get_file_info(file_path_name, session_name):\n",
    "    # takes in a file path, finds the animal_number and session and saves each accordingly\n",
    "    \n",
    "    path_split = file_path_name.split('/')\n",
    "    file_split = path_split[-1].split('.')\n",
    "    animal_number, session = file_split[0].split('_')\n",
    "\n",
    "    return animal_number, session"
   ]
  },
  {
   "cell_type": "code",
   "execution_count": 4,
   "metadata": {},
   "outputs": [],
   "source": [
    "def create_animal_df(file_path_name, animal_number, session):\n",
    "    # takes in a file path, creates data frame, adds animal number and session columns\n",
    "    \n",
    "    data = pd.read_table(file_path_name)\n",
    "    data = pd.DataFrame(data = data)\n",
    "    \n",
    "    data['animal_number'] = [animal_number]*data.shape[0]\n",
    "    data['session'] = [session]*data.shape[0]\n",
    "    \n",
    "    #Determine closest time stamp of each annotation and add as column to df\n",
    "    data['Begin Time (s)_1000'] = data['Begin Time (s)']*1000\n",
    "    time_lambda = lambda a: (a // 22.5)*22.5\n",
    "    data['time_stamp'] = time_lambda(data['Begin Time (s)_1000'])\n",
    "    \n",
    "    data = data[['animal_number', 'session', 'time_stamp', 'Annotation']]\n",
    "\n",
    "    return data"
   ]
  },
  {
   "cell_type": "code",
   "execution_count": 5,
   "metadata": {},
   "outputs": [],
   "source": [
    "def create_annot_df(dir_path, session_name):\n",
    "    annot_df = pd.DataFrame()\n",
    "    \n",
    "    path_names = get_dir_list(dir_path)\n",
    "    for path in path_names:\n",
    "        animal_number, session = get_file_info(path, session_name)\n",
    "        animal_df = create_animal_df(path, animal_number, session)\n",
    "        annot_df = annot_df.append(animal_df)\n",
    "    \n",
    "    #save as csv\n",
    "    annot_df.to_csv(str('annot_df_' + str(dir_path.split('/')[-1]) + '.csv'))\n",
    "    \n",
    "    return annot_df"
   ]
  },
  {
   "cell_type": "code",
   "execution_count": 8,
   "metadata": {},
   "outputs": [],
   "source": [
    "dir_path = \"C:/Users/Schindler/Documents/Schindler_Lab/Data/USVs/Annotation_tables/3x_CPA_pair_tables\""
   ]
  },
  {
   "cell_type": "code",
   "execution_count": 9,
   "metadata": {
    "scrolled": true
   },
   "outputs": [
    {
     "name": "stdout",
     "output_type": "stream",
     "text": [
      "(459, 4)\n"
     ]
    }
   ],
   "source": [
    "annot_df = create_annot_df(dir_path, 'CPApair')\n",
    "print(annot_df.shape)"
   ]
  },
  {
   "cell_type": "code",
   "execution_count": null,
   "metadata": {},
   "outputs": [],
   "source": []
  }
 ],
 "metadata": {
  "kernelspec": {
   "display_name": "Python 3",
   "language": "python",
   "name": "python3"
  },
  "language_info": {
   "codemirror_mode": {
    "name": "ipython",
    "version": 3
   },
   "file_extension": ".py",
   "mimetype": "text/x-python",
   "name": "python",
   "nbconvert_exporter": "python",
   "pygments_lexer": "ipython3",
   "version": "3.6.6"
  }
 },
 "nbformat": 4,
 "nbformat_minor": 2
}
