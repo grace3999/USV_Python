{
  "nbformat": 4,
  "nbformat_minor": 0,
  "metadata": {
    "colab": {
      "name": "0_xr_create_annotations_df.ipynb",
      "version": "0.3.2",
      "provenance": [],
      "collapsed_sections": [],
      "include_colab_link": true
    },
    "kernelspec": {
      "display_name": "Python 3",
      "language": "python",
      "name": "python3"
    }
  },
  "cells": [
    {
      "cell_type": "markdown",
      "metadata": {
        "id": "view-in-github",
        "colab_type": "text"
      },
      "source": [
        "<a href=\"https://colab.research.google.com/github/grace3999/USV_Python/blob/colab/Notebooks/0_xr_create_annotations_df.ipynb\" target=\"_parent\"><img src=\"https://colab.research.google.com/assets/colab-badge.svg\" alt=\"Open In Colab\"/></a>"
      ]
    },
    {
      "metadata": {
        "id": "zBtYn5fU2Roq",
        "colab_type": "code",
        "outputId": "7ae4f193-37e8-4526-daaf-74932be8c46a",
        "colab": {
          "base_uri": "https://localhost:8080/",
          "height": 35
        }
      },
      "cell_type": "code",
      "source": [
        "#mount google drive containings required files: 1) csv of annotation features, 2) netcdf files\n",
        "from google.colab import drive\n",
        "drive.mount('/content/gdrive')"
      ],
      "execution_count": 0,
      "outputs": [
        {
          "output_type": "stream",
          "text": [
            "Drive already mounted at /content/gdrive; to attempt to forcibly remount, call drive.mount(\"/content/gdrive\", force_remount=True).\n"
          ],
          "name": "stdout"
        }
      ]
    },
    {
      "metadata": {
        "id": "X-HadvV02IBC",
        "colab_type": "code",
        "colab": {}
      },
      "cell_type": "code",
      "source": [
        "import numpy as np\n",
        "import pandas as pd\n",
        "import os\n",
        "import re\n",
        "\n",
        "pd.set_option('display.max_rows', 500)\n",
        "pd.set_option('display.max_columns', 500)\n",
        "pd.set_option('display.width', 1000)\n",
        "\n",
        "import warnings; warnings.simplefilter('ignore')\n",
        "np.set_printoptions(suppress=True)"
      ],
      "execution_count": 0,
      "outputs": []
    },
    {
      "metadata": {
        "id": "jGG8EnUR2IBJ",
        "colab_type": "code",
        "colab": {}
      },
      "cell_type": "code",
      "source": [
        "def get_dir_list(dir_path):\n",
        "    \"\"\"takes in a directory path which contains the selection tables of annotations created from Raven Soft Lite, \n",
        "    creates list of path names\"\"\"\n",
        "    \n",
        "    path_names = []\n",
        "    dirs = os.listdir(dir_path)\n",
        "    for file in dirs: \n",
        "        path_names.append(dir_path + \"/\" + file)\n",
        "\n",
        "    return path_names   "
      ],
      "execution_count": 0,
      "outputs": []
    },
    {
      "metadata": {
        "id": "TpsFbDrR2IBO",
        "colab_type": "code",
        "colab": {}
      },
      "cell_type": "code",
      "source": [
        "#may need to be updated based on file naming scheme\n",
        "def get_file_info(path_name, order):\n",
        "    \"\"\"takes in a file path for annotation selections table and finds the animal_number and session and saves each accordingly. \n",
        "    'order' refers to whether the animal or session is listed first in the path name\n",
        "    each file should be named with animal number and exp (e.g. 100_CPA.Table.1.selections)\"\"\"\n",
        "    \n",
        "    if order == 'animal':\n",
        "      animal_number, session = re.split('_|-', path_name.split('/')[-1].split('.')[0])[0:2]\n",
        "    else:\n",
        "      session, animal_number = re.split('_|-', path_name.split('/')[-1].split('.')[0])[0:2] \n",
        "\n",
        "    return animal_number, session"
      ],
      "execution_count": 0,
      "outputs": []
    },
    {
      "metadata": {
        "id": "ckDyJ3Fr2IBU",
        "colab_type": "code",
        "colab": {}
      },
      "cell_type": "code",
      "source": [
        "def create_animal_df(path_name, animal_number, session, ts_mult):\n",
        "    \"\"\"takes in a file path for annotation selections table, animal number, session, and timestamp multiple and creates data frame.\n",
        "    computes closest timestamp (based on multiple) and adds animal number, session, and time stamp columns\"\"\"\n",
        "    \n",
        "    data = pd.read_table(path_name)\n",
        "    data = pd.DataFrame(data = data)\n",
        "    \n",
        "    data['animal_number'] = [animal_number]*data.shape[0]\n",
        "    data['session'] = [session]*data.shape[0]\n",
        "    \n",
        "    #Determine closest time stamp of each annotation and add as column to df\n",
        "    data['Begin Time (s)_1000'] = data['Begin Time (s)']*1000\n",
        "    time_lambda = lambda a: (a // ts_mult)*ts_mult\n",
        "    data['time_stamp'] = time_lambda(data['Begin Time (s)_1000'])\n",
        "    \n",
        "    data = data[['animal_number', 'session', 'time_stamp', 'Annotation', 'High Freq (Hz)']]\n",
        "\n",
        "    return data"
      ],
      "execution_count": 0,
      "outputs": []
    },
    {
      "metadata": {
        "id": "1QlaGO2p2IBZ",
        "colab_type": "code",
        "colab": {}
      },
      "cell_type": "code",
      "source": [
        "def create_annot_df(dir_path, order, ts_mult, session_name, save_path):\n",
        "    \"\"\"takes in a directory path which contains the selection tables of annotations created from Raven Soft Lite,\n",
        "    uses get_dir_list, get_file_info, and create_animal_df functions \n",
        "    to create a single data frame containing annotations for each file in dir_path\"\"\"\n",
        "    \n",
        "    annot_df = pd.DataFrame()\n",
        "    \n",
        "    path_names = get_dir_list(dir_path)\n",
        "    \n",
        "    for path in path_names:\n",
        "        animal_number, session = get_file_info(path, order)\n",
        "        animal_df = create_animal_df(path, animal_number, session, ts_mult)\n",
        "        annot_df = annot_df.append(animal_df)\n",
        "    \n",
        "    #save as csv using name of dir_path\n",
        "    annot_df.to_csv(str(save_path + '/annot_df_' + str(session_name) + '.csv'))\n",
        "    \n",
        "    return annot_df"
      ],
      "execution_count": 0,
      "outputs": []
    },
    {
      "metadata": {
        "id": "hcCNC-EX7DFi",
        "colab_type": "code",
        "colab": {}
      },
      "cell_type": "code",
      "source": [
        "path_CPA = '/content/gdrive/Team Drives/USV_eScience_Incubator/Data/annotation_tables/CPA_pair_tables'\n",
        "path_homecage = '/content/gdrive/Team Drives/USV_eScience_Incubator/Data/annotation_tables/Homecage_pair_tables'\n",
        "path_pain = '/content/gdrive/Team Drives/USV_eScience_Incubator/Data/annotation_tables/Pain_tables'"
      ],
      "execution_count": 0,
      "outputs": []
    },
    {
      "metadata": {
        "scrolled": true,
        "id": "jHVySBI-2IBk",
        "colab_type": "code",
        "outputId": "1be809d1-ea48-426f-e960-d7490356d458",
        "colab": {
          "base_uri": "https://localhost:8080/",
          "height": 219
        }
      },
      "cell_type": "code",
      "source": [
        "order = 'animal'\n",
        "ts_mult=22.5\n",
        "session_name = 'homecage2'\n",
        "save_path = '/content/gdrive/Team Drives/USV_eScience_Incubator/Data/annotation_data_frames'\n",
        "\n",
        "annot_df = create_annot_df(path_homecage, order, ts_mult, session_name, save_path)\n",
        "print(annot_df.shape)\n",
        "annot_df.head()"
      ],
      "execution_count": 0,
      "outputs": [
        {
          "output_type": "stream",
          "text": [
            "(69, 5)\n"
          ],
          "name": "stdout"
        },
        {
          "output_type": "execute_result",
          "data": {
            "text/html": [
              "<div>\n",
              "<style scoped>\n",
              "    .dataframe tbody tr th:only-of-type {\n",
              "        vertical-align: middle;\n",
              "    }\n",
              "\n",
              "    .dataframe tbody tr th {\n",
              "        vertical-align: top;\n",
              "    }\n",
              "\n",
              "    .dataframe thead th {\n",
              "        text-align: right;\n",
              "    }\n",
              "</style>\n",
              "<table border=\"1\" class=\"dataframe\">\n",
              "  <thead>\n",
              "    <tr style=\"text-align: right;\">\n",
              "      <th></th>\n",
              "      <th>animal_number</th>\n",
              "      <th>session</th>\n",
              "      <th>time_stamp</th>\n",
              "      <th>Annotation</th>\n",
              "      <th>High Freq (Hz)</th>\n",
              "    </tr>\n",
              "  </thead>\n",
              "  <tbody>\n",
              "    <tr>\n",
              "      <th>0</th>\n",
              "      <td>527</td>\n",
              "      <td>cagepair</td>\n",
              "      <td>18922.5</td>\n",
              "      <td>high slug</td>\n",
              "      <td>78276.7</td>\n",
              "    </tr>\n",
              "    <tr>\n",
              "      <th>1</th>\n",
              "      <td>527</td>\n",
              "      <td>cagepair</td>\n",
              "      <td>24750.0</td>\n",
              "      <td>low slug</td>\n",
              "      <td>13046.1</td>\n",
              "    </tr>\n",
              "    <tr>\n",
              "      <th>2</th>\n",
              "      <td>527</td>\n",
              "      <td>cagepair</td>\n",
              "      <td>174352.5</td>\n",
              "      <td>bbc</td>\n",
              "      <td>41988.2</td>\n",
              "    </tr>\n",
              "    <tr>\n",
              "      <th>3</th>\n",
              "      <td>527</td>\n",
              "      <td>cagepair</td>\n",
              "      <td>342877.5</td>\n",
              "      <td>bbc</td>\n",
              "      <td>53888.7</td>\n",
              "    </tr>\n",
              "    <tr>\n",
              "      <th>4</th>\n",
              "      <td>527</td>\n",
              "      <td>cagepair</td>\n",
              "      <td>393052.5</td>\n",
              "      <td>bbc</td>\n",
              "      <td>50970.9</td>\n",
              "    </tr>\n",
              "  </tbody>\n",
              "</table>\n",
              "</div>"
            ],
            "text/plain": [
              "  animal_number   session  time_stamp Annotation  High Freq (Hz)\n",
              "0           527  cagepair     18922.5  high slug         78276.7\n",
              "1           527  cagepair     24750.0   low slug         13046.1\n",
              "2           527  cagepair    174352.5        bbc         41988.2\n",
              "3           527  cagepair    342877.5        bbc         53888.7\n",
              "4           527  cagepair    393052.5        bbc         50970.9"
            ]
          },
          "metadata": {
            "tags": []
          },
          "execution_count": 11
        }
      ]
    }
  ]
}