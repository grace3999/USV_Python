{
  "nbformat": 4,
  "nbformat_minor": 0,
  "metadata": {
    "colab": {
      "name": "0_xr_create_annotations_df.ipynb",
      "version": "0.3.2",
      "provenance": [],
      "collapsed_sections": [],
      "include_colab_link": true
    },
    "kernelspec": {
      "display_name": "Python 3",
      "language": "python",
      "name": "python3"
    }
  },
  "cells": [
    {
      "cell_type": "markdown",
      "metadata": {
        "id": "view-in-github",
        "colab_type": "text"
      },
      "source": [
        "<a href=\"https://colab.research.google.com/github/grace3999/USV_Python/blob/colab/Notebooks/0_xr_create_annotations_df.ipynb\" target=\"_parent\"><img src=\"https://colab.research.google.com/assets/colab-badge.svg\" alt=\"Open In Colab\"/></a>"
      ]
    },
    {
      "cell_type": "code",
      "metadata": {
        "id": "zBtYn5fU2Roq",
        "colab_type": "code",
        "outputId": "17530524-3ede-4342-d277-7f4c5ca50ffe",
        "colab": {
          "base_uri": "https://localhost:8080/",
          "height": 33
        }
      },
      "source": [
        "#mount google drive containings required files: 1) csv of annotation features, 2) netcdf files\n",
        "from google.colab import drive\n",
        "drive.mount('/content/gdrive')"
      ],
      "execution_count": 1,
      "outputs": [
        {
          "output_type": "stream",
          "text": [
            "Drive already mounted at /content/gdrive; to attempt to forcibly remount, call drive.mount(\"/content/gdrive\", force_remount=True).\n"
          ],
          "name": "stdout"
        }
      ]
    },
    {
      "cell_type": "code",
      "metadata": {
        "id": "X-HadvV02IBC",
        "colab_type": "code",
        "colab": {}
      },
      "source": [
        "import numpy as np\n",
        "import pandas as pd\n",
        "import os\n",
        "import re\n",
        "\n",
        "pd.set_option('display.max_rows', 500)\n",
        "pd.set_option('display.max_columns', 500)\n",
        "pd.set_option('display.width', 1000)\n",
        "\n",
        "import warnings; warnings.simplefilter('ignore')\n",
        "np.set_printoptions(suppress=True)"
      ],
      "execution_count": 0,
      "outputs": []
    },
    {
      "cell_type": "code",
      "metadata": {
        "id": "jGG8EnUR2IBJ",
        "colab_type": "code",
        "colab": {}
      },
      "source": [
        "def get_dir_list(dir_path):\n",
        "    \"\"\"takes in a directory path which contains the selection tables of annotations created from Raven Soft Lite, \n",
        "    creates list of path names\"\"\"\n",
        "    \n",
        "    path_names = []\n",
        "    dirs = os.listdir(dir_path)\n",
        "    for file in dirs: \n",
        "        path_names.append(dir_path + \"/\" + file)\n",
        "\n",
        "    return path_names   "
      ],
      "execution_count": 0,
      "outputs": []
    },
    {
      "cell_type": "code",
      "metadata": {
        "id": "TpsFbDrR2IBO",
        "colab_type": "code",
        "colab": {}
      },
      "source": [
        "#may need to be updated based on file naming scheme\n",
        "def get_file_info(path_name, order):\n",
        "    \"\"\"takes in a file path for annotation selections table and finds the animal_number and session and saves each accordingly. \n",
        "    'order' refers to whether the animal or session is listed first in the path name\n",
        "    each file should be named with animal number and exp (e.g. 100_CPA.Table.1.selections)\"\"\"\n",
        "    \n",
        "    if order == 'animal':\n",
        "      animal_number, session = re.split('_|-', path_name.split('/')[-1].split('.')[0])[0:2]\n",
        "    else:\n",
        "      session, animal_number = re.split('_|-', path_name.split('/')[-1].split('.')[0])[0:2] \n",
        "\n",
        "    return animal_number, session"
      ],
      "execution_count": 0,
      "outputs": []
    },
    {
      "cell_type": "code",
      "metadata": {
        "id": "ckDyJ3Fr2IBU",
        "colab_type": "code",
        "colab": {}
      },
      "source": [
        "def create_animal_df(path_name, animal_number, session, ts_mult):\n",
        "    \"\"\"takes in a file path for annotation selections table, animal number, session, and timestamp multiple and creates data frame.\n",
        "    computes closest timestamp (based on multiple) and adds animal number, session, and time stamp columns\"\"\"\n",
        "    \n",
        "    data = pd.read_table(path_name)\n",
        "    data = pd.DataFrame(data = data)\n",
        "    \n",
        "    data['animal_number'] = [animal_number]*data.shape[0]\n",
        "    data['session'] = [session]*data.shape[0]\n",
        "    \n",
        "    #Determine closest time stamp of each annotation and add as column to df\n",
        "    data['Begin Time (s)_1000'] = data['Begin Time (s)']*1000\n",
        "    time_lambda = lambda a: (a // ts_mult)*ts_mult\n",
        "    data['time_stamp'] = time_lambda(data['Begin Time (s)_1000'])\n",
        "    \n",
        "    data = data[['animal_number', 'session', 'time_stamp', 'Annotation', 'High Freq (Hz)']]\n",
        "\n",
        "    return data"
      ],
      "execution_count": 0,
      "outputs": []
    },
    {
      "cell_type": "code",
      "metadata": {
        "id": "1QlaGO2p2IBZ",
        "colab_type": "code",
        "colab": {}
      },
      "source": [
        "def create_annot_df(dir_path, order, exp, ts_mult, save_path):\n",
        "    \"\"\"takes in a directory path which contains the selection tables of annotations created from Raven Soft Lite,\n",
        "    uses get_dir_list, get_file_info, and create_animal_df functions \n",
        "    to create a single data frame containing annotations for each file in dir_path\"\"\"\n",
        "    \n",
        "    annot_df = pd.DataFrame()\n",
        "    \n",
        "    path_names = get_dir_list(dir_path)\n",
        "    \n",
        "    for path in path_names:\n",
        "        animal_number, session = get_file_info(path, order)\n",
        "        animal_df = create_animal_df(path, animal_number, session, ts_mult)\n",
        "        annot_df = annot_df.append(animal_df)\n",
        "        annot_df['exp'] = exp\n",
        "    \n",
        "    #save as csv using name of dir_path\n",
        "    annot_df.to_csv(str(save_path + '/annot_df_' + str(session) + '_' + str(exp) + '.csv'))\n",
        "    \n",
        "    return annot_df"
      ],
      "execution_count": 0,
      "outputs": []
    },
    {
      "cell_type": "code",
      "metadata": {
        "id": "hcCNC-EX7DFi",
        "colab_type": "code",
        "colab": {}
      },
      "source": [
        "path_cFos_CPA = '/content/gdrive/Shared drives/USV_eScience_Incubator/Data/ravenlite_selection_tables/cFos/3x/CPApost'\n",
        "path_cFos_neutral = '/content/gdrive/Shared drives/USV_eScience_Incubator/Data/ravenlite_selection_tables/cFos/3x/neutral'\n",
        "\n",
        "path_PETr1_CPA = '/content/gdrive/Shared drives/USV_eScience_Incubator/Data/ravenlite_selection_tables/PET_r1/CPAPost'\n",
        "\n",
        "path_round2_CPA = '/content/gdrive/Shared drives/USV_eScience_Incubator/Data/ravenlite_selection_tables/round2/CPApost'\n",
        "path_round2_neutral = '/content/gdrive/Shared drives/USV_eScience_Incubator/Data/ravenlite_selection_tables/round2/neutral'\n",
        "\n",
        "dir_dic = {'cFos_CPA': path_cFos_CPA, 'cFos_neutral': path_cFos_neutral, 'PETr1_CPA': path_PETr1_CPA, 'round2_CPA': path_round2_CPA, 'round2_neutral': path_round2_neutral}"
      ],
      "execution_count": 0,
      "outputs": []
    },
    {
      "cell_type": "code",
      "metadata": {
        "scrolled": true,
        "id": "jHVySBI-2IBk",
        "colab_type": "code",
        "outputId": "725c0dbc-1048-485d-eb8d-f3b46d965b84",
        "colab": {
          "base_uri": "https://localhost:8080/",
          "height": 183
        }
      },
      "source": [
        "order = 'animal'\n",
        "ts_mult=22.5\n",
        "save_path = '/content/gdrive/Shared drives/USV_eScience_Incubator/Data/annotation_data_frames'\n",
        "\n",
        "for exp, dic in dir_dic.items():\n",
        "  print(dic)\n",
        "  \n",
        "  annot_df = create_annot_df(dic, order, exp, ts_mult, save_path)\n",
        "  print(annot_df.shape)"
      ],
      "execution_count": 8,
      "outputs": [
        {
          "output_type": "stream",
          "text": [
            "/content/gdrive/Shared drives/USV_eScience_Incubator/Data/ravenlite_selection_tables/cFos/3x/CPApost\n",
            "(459, 6)\n",
            "/content/gdrive/Shared drives/USV_eScience_Incubator/Data/ravenlite_selection_tables/cFos/3x/neutral\n",
            "(69, 6)\n",
            "/content/gdrive/Shared drives/USV_eScience_Incubator/Data/ravenlite_selection_tables/PET_r1/CPAPost\n",
            "(154, 6)\n",
            "/content/gdrive/Shared drives/USV_eScience_Incubator/Data/ravenlite_selection_tables/round2/CPApost\n",
            "(81, 6)\n",
            "/content/gdrive/Shared drives/USV_eScience_Incubator/Data/ravenlite_selection_tables/round2/neutral\n",
            "(34, 6)\n"
          ],
          "name": "stdout"
        }
      ]
    }
  ]
}