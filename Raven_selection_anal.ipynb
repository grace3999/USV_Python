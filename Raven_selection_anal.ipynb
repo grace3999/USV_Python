{
 "cells": [
  {
   "cell_type": "markdown",
   "metadata": {},
   "source": [
    "Goal of analysis script is to pull in txt files of annotated USVs and generate summary statistics"
   ]
  },
  {
   "cell_type": "markdown",
   "metadata": {},
   "source": [
    "Import modules"
   ]
  },
  {
   "cell_type": "code",
   "execution_count": 1,
   "metadata": {
    "collapsed": true
   },
   "outputs": [],
   "source": [
    "import pandas as pd\n",
    "import numpy as np\n",
    "from tkinter import filedialog\n",
    "from tkinter import *\n",
    "import re\n",
    "import os\n",
    "from scipy import stats\n",
    "\n",
    "# visualization\n",
    "%matplotlib inline\n",
    "import matplotlib.pyplot as plt\n",
    "import seaborn as sns"
   ]
  },
  {
   "cell_type": "code",
   "execution_count": 2,
   "metadata": {
    "collapsed": true
   },
   "outputs": [],
   "source": [
    "pd.set_option('display.max_rows', 500)\n",
    "pd.set_option('display.max_columns', 500)\n",
    "pd.set_option('display.width', 1000)"
   ]
  },
  {
   "cell_type": "markdown",
   "metadata": {},
   "source": [
    "Open dialog box and prompt user to select directory containing the data files "
   ]
  },
  {
   "cell_type": "code",
   "execution_count": 3,
   "metadata": {},
   "outputs": [
    {
     "name": "stdout",
     "output_type": "stream",
     "text": [
      "C:/Users/Schindler/Documents/Schindler_Lab/Data/USVs/CPA_pair_exp/3x\n"
     ]
    }
   ],
   "source": [
    "root = Tk()\n",
    "root.directory = filedialog.askdirectory()\n",
    "print (root.directory)"
   ]
  },
  {
   "cell_type": "markdown",
   "metadata": {},
   "source": [
    "Create a path name for each data file"
   ]
  },
  {
   "cell_type": "code",
   "execution_count": 4,
   "metadata": {
    "scrolled": true
   },
   "outputs": [
    {
     "data": {
      "text/plain": [
       "'C:/Users/Schindler/Documents/Schindler_Lab/Data/USVs/CPA_pair_exp/3x/527.Table.1.selections.base.txt'"
      ]
     },
     "execution_count": 4,
     "metadata": {},
     "output_type": "execute_result"
    }
   ],
   "source": [
    "path_names = []\n",
    "files = os.listdir(root.directory)\n",
    "for file in files: \n",
    "        path_names.append(root.directory + \"/\" + file)\n",
    "\n",
    "path_names[0]"
   ]
  },
  {
   "cell_type": "markdown",
   "metadata": {},
   "source": [
    "Read in and create dataframe of animal parameters (pair: 1 = neutral, 2 = CPA pair; Group: 4 = sham, 5 = blast)"
   ]
  },
  {
   "cell_type": "code",
   "execution_count": 5,
   "metadata": {},
   "outputs": [
    {
     "data": {
      "text/html": [
       "<div>\n",
       "<style>\n",
       "    .dataframe thead tr:only-child th {\n",
       "        text-align: right;\n",
       "    }\n",
       "\n",
       "    .dataframe thead th {\n",
       "        text-align: left;\n",
       "    }\n",
       "\n",
       "    .dataframe tbody tr th {\n",
       "        vertical-align: top;\n",
       "    }\n",
       "</style>\n",
       "<table border=\"1\" class=\"dataframe\">\n",
       "  <thead>\n",
       "    <tr style=\"text-align: right;\">\n",
       "      <th></th>\n",
       "      <th>Animal</th>\n",
       "      <th>Pair</th>\n",
       "      <th>Group</th>\n",
       "      <th>Notes</th>\n",
       "    </tr>\n",
       "  </thead>\n",
       "  <tbody>\n",
       "    <tr>\n",
       "      <th>0</th>\n",
       "      <td>527</td>\n",
       "      <td>1</td>\n",
       "      <td>5</td>\n",
       "      <td>weak blast; scruffy</td>\n",
       "    </tr>\n",
       "    <tr>\n",
       "      <th>1</th>\n",
       "      <td>529</td>\n",
       "      <td>1</td>\n",
       "      <td>5</td>\n",
       "      <td>NaN</td>\n",
       "    </tr>\n",
       "    <tr>\n",
       "      <th>2</th>\n",
       "      <td>533</td>\n",
       "      <td>2</td>\n",
       "      <td>5</td>\n",
       "      <td>cage flood am of pair</td>\n",
       "    </tr>\n",
       "    <tr>\n",
       "      <th>3</th>\n",
       "      <td>534</td>\n",
       "      <td>2</td>\n",
       "      <td>5</td>\n",
       "      <td>cage flood am of pair</td>\n",
       "    </tr>\n",
       "    <tr>\n",
       "      <th>4</th>\n",
       "      <td>535</td>\n",
       "      <td>2</td>\n",
       "      <td>5</td>\n",
       "      <td>cage flood am of pair</td>\n",
       "    </tr>\n",
       "  </tbody>\n",
       "</table>\n",
       "</div>"
      ],
      "text/plain": [
       "   Animal  Pair  Group                  Notes\n",
       "0     527     1      5    weak blast; scruffy\n",
       "1     529     1      5                    NaN\n",
       "2     533     2      5  cage flood am of pair\n",
       "3     534     2      5  cage flood am of pair\n",
       "4     535     2      5  cage flood am of pair"
      ]
     },
     "execution_count": 5,
     "metadata": {},
     "output_type": "execute_result"
    }
   ],
   "source": [
    "group_file = \"C:/Users/Schindler/Documents/Schindler_Lab/Data/Analysis/Excel files/USV/3x_groups.xlsx\"\n",
    "data = pd.read_excel(group_file)\n",
    "df_mice = pd.DataFrame(data = data)\n",
    "df_mice = df_mice.drop([15], axis = 0)\n",
    "df_mice.head()"
   ]
  },
  {
   "cell_type": "markdown",
   "metadata": {},
   "source": [
    "Loop through path names to create pandas data table from excel file. Get animal number from path name (animal number is part of file name), use animal number to get group and pair codes from the df_mice table, create array of animal number, group and pair codes the length of the data_table and add each as a column."
   ]
  },
  {
   "cell_type": "code",
   "execution_count": 6,
   "metadata": {},
   "outputs": [
    {
     "data": {
      "text/html": [
       "<div>\n",
       "<style>\n",
       "    .dataframe thead tr:only-child th {\n",
       "        text-align: right;\n",
       "    }\n",
       "\n",
       "    .dataframe thead th {\n",
       "        text-align: left;\n",
       "    }\n",
       "\n",
       "    .dataframe tbody tr th {\n",
       "        vertical-align: top;\n",
       "    }\n",
       "</style>\n",
       "<table border=\"1\" class=\"dataframe\">\n",
       "  <thead>\n",
       "    <tr style=\"text-align: right;\">\n",
       "      <th></th>\n",
       "      <th>Selection</th>\n",
       "      <th>View</th>\n",
       "      <th>Channel</th>\n",
       "      <th>Begin Time (s)</th>\n",
       "      <th>End Time (s)</th>\n",
       "      <th>Low Freq (Hz)</th>\n",
       "      <th>High Freq (Hz)</th>\n",
       "      <th>Delta Time (s)</th>\n",
       "      <th>Delta Freq (Hz)</th>\n",
       "      <th>Avg Power Density (dB FS)</th>\n",
       "      <th>Annotation</th>\n",
       "      <th>Animal</th>\n",
       "      <th>Group</th>\n",
       "      <th>Pair</th>\n",
       "      <th>Session</th>\n",
       "    </tr>\n",
       "  </thead>\n",
       "  <tbody>\n",
       "    <tr>\n",
       "      <th>0</th>\n",
       "      <td>1</td>\n",
       "      <td>Spectrogram 1</td>\n",
       "      <td>1</td>\n",
       "      <td>20.849546</td>\n",
       "      <td>20.868395</td>\n",
       "      <td>83264.8</td>\n",
       "      <td>90666.1</td>\n",
       "      <td>0.019</td>\n",
       "      <td>7401.3</td>\n",
       "      <td>-51.2</td>\n",
       "      <td>high slug</td>\n",
       "      <td>527</td>\n",
       "      <td>5.0</td>\n",
       "      <td>1.0</td>\n",
       "      <td>base</td>\n",
       "    </tr>\n",
       "    <tr>\n",
       "      <th>1</th>\n",
       "      <td>2</td>\n",
       "      <td>Spectrogram 1</td>\n",
       "      <td>1</td>\n",
       "      <td>57.937353</td>\n",
       "      <td>57.950925</td>\n",
       "      <td>79975.3</td>\n",
       "      <td>87993.4</td>\n",
       "      <td>0.014</td>\n",
       "      <td>8018.1</td>\n",
       "      <td>-47.0</td>\n",
       "      <td>high slug</td>\n",
       "      <td>527</td>\n",
       "      <td>5.0</td>\n",
       "      <td>1.0</td>\n",
       "      <td>base</td>\n",
       "    </tr>\n",
       "    <tr>\n",
       "      <th>2</th>\n",
       "      <td>8</td>\n",
       "      <td>Spectrogram 1</td>\n",
       "      <td>1</td>\n",
       "      <td>144.891259</td>\n",
       "      <td>144.904831</td>\n",
       "      <td>9868.4</td>\n",
       "      <td>13774.7</td>\n",
       "      <td>0.014</td>\n",
       "      <td>3906.3</td>\n",
       "      <td>-42.9</td>\n",
       "      <td>low slug</td>\n",
       "      <td>527</td>\n",
       "      <td>5.0</td>\n",
       "      <td>1.0</td>\n",
       "      <td>base</td>\n",
       "    </tr>\n",
       "    <tr>\n",
       "      <th>3</th>\n",
       "      <td>9</td>\n",
       "      <td>Spectrogram 1</td>\n",
       "      <td>1</td>\n",
       "      <td>199.373165</td>\n",
       "      <td>199.373165</td>\n",
       "      <td>38034.5</td>\n",
       "      <td>38034.5</td>\n",
       "      <td>0.000</td>\n",
       "      <td>0.0</td>\n",
       "      <td>-31.0</td>\n",
       "      <td>bbc wide</td>\n",
       "      <td>527</td>\n",
       "      <td>5.0</td>\n",
       "      <td>1.0</td>\n",
       "      <td>base</td>\n",
       "    </tr>\n",
       "    <tr>\n",
       "      <th>4</th>\n",
       "      <td>10</td>\n",
       "      <td>Spectrogram 1</td>\n",
       "      <td>1</td>\n",
       "      <td>199.655904</td>\n",
       "      <td>199.655904</td>\n",
       "      <td>33922.7</td>\n",
       "      <td>33922.7</td>\n",
       "      <td>0.000</td>\n",
       "      <td>0.0</td>\n",
       "      <td>-39.4</td>\n",
       "      <td>bbc wide</td>\n",
       "      <td>527</td>\n",
       "      <td>5.0</td>\n",
       "      <td>1.0</td>\n",
       "      <td>base</td>\n",
       "    </tr>\n",
       "  </tbody>\n",
       "</table>\n",
       "</div>"
      ],
      "text/plain": [
       "  Selection           View Channel  Begin Time (s)  End Time (s)  Low Freq (Hz)  High Freq (Hz)  Delta Time (s)  Delta Freq (Hz)  Avg Power Density (dB FS) Annotation Animal  Group  Pair Session\n",
       "0         1  Spectrogram 1       1       20.849546     20.868395        83264.8         90666.1           0.019           7401.3                      -51.2  high slug    527    5.0   1.0    base\n",
       "1         2  Spectrogram 1       1       57.937353     57.950925        79975.3         87993.4           0.014           8018.1                      -47.0  high slug    527    5.0   1.0    base\n",
       "2         8  Spectrogram 1       1      144.891259    144.904831         9868.4         13774.7           0.014           3906.3                      -42.9   low slug    527    5.0   1.0    base\n",
       "3         9  Spectrogram 1       1      199.373165    199.373165        38034.5         38034.5           0.000              0.0                      -31.0   bbc wide    527    5.0   1.0    base\n",
       "4        10  Spectrogram 1       1      199.655904    199.655904        33922.7         33922.7           0.000              0.0                      -39.4   bbc wide    527    5.0   1.0    base"
      ]
     },
     "execution_count": 6,
     "metadata": {},
     "output_type": "execute_result"
    }
   ],
   "source": [
    "data_table = pd.DataFrame()\n",
    "\n",
    "i = 0\n",
    "\n",
    "for path in path_names:\n",
    "    data = pd.read_table(path)\n",
    "    data_table_int = pd.DataFrame(data = data)\n",
    "    \n",
    "    name = re.search(\"\\d\\d\\d\", path).group(0)\n",
    "    name_mult = [name] * len(data_table_int)\n",
    "    session = re.search(\"base|cagepair|CPApair\", path).group(0)\n",
    "    session = [session] * len(data_table_int)\n",
    "    \n",
    "    group = df_mice[df_mice['Animal'] == int(name)]['Group'].values[0]\n",
    "    group = [group] * len(data_table_int)\n",
    "    pair = df_mice[df_mice['Animal'] == int(name)]['Pair'].values[0]\n",
    "    pair = [pair] * len(data_table_int)\n",
    "    i = i + 1\n",
    "    \n",
    "    data_table_int = data_table_int.assign(Animal = name_mult)\n",
    "    data_table_int = data_table_int.assign(Group = group)  \n",
    "    data_table_int = data_table_int.assign(Pair = pair)\n",
    "    data_table_int = data_table_int.assign(Session = session)\n",
    "    \n",
    "    data_table = data_table.append(data_table_int, ignore_index=True)\n",
    "\n",
    "data_table.head()"
   ]
  },
  {
   "cell_type": "code",
   "execution_count": 7,
   "metadata": {
    "collapsed": true
   },
   "outputs": [],
   "source": [
    "data_table.drop(['Selection', 'View', 'Channel'], axis=1, inplace = True)"
   ]
  },
  {
   "cell_type": "code",
   "execution_count": 8,
   "metadata": {},
   "outputs": [
    {
     "data": {
      "text/html": [
       "<div>\n",
       "<style>\n",
       "    .dataframe thead tr:only-child th {\n",
       "        text-align: right;\n",
       "    }\n",
       "\n",
       "    .dataframe thead th {\n",
       "        text-align: left;\n",
       "    }\n",
       "\n",
       "    .dataframe tbody tr th {\n",
       "        vertical-align: top;\n",
       "    }\n",
       "</style>\n",
       "<table border=\"1\" class=\"dataframe\">\n",
       "  <thead>\n",
       "    <tr style=\"text-align: right;\">\n",
       "      <th></th>\n",
       "      <th>Begin Time (s)</th>\n",
       "      <th>End Time (s)</th>\n",
       "      <th>Low Freq (Hz)</th>\n",
       "      <th>High Freq (Hz)</th>\n",
       "      <th>Delta Time (s)</th>\n",
       "      <th>Delta Freq (Hz)</th>\n",
       "      <th>Avg Power Density (dB FS)</th>\n",
       "      <th>Annotation</th>\n",
       "      <th>Animal</th>\n",
       "      <th>Group</th>\n",
       "      <th>Pair</th>\n",
       "      <th>Session</th>\n",
       "    </tr>\n",
       "  </thead>\n",
       "  <tbody>\n",
       "    <tr>\n",
       "      <th>0</th>\n",
       "      <td>20.849546</td>\n",
       "      <td>20.868395</td>\n",
       "      <td>83264.8</td>\n",
       "      <td>90666.1</td>\n",
       "      <td>0.019</td>\n",
       "      <td>7401.3</td>\n",
       "      <td>-51.2</td>\n",
       "      <td>high slug</td>\n",
       "      <td>527</td>\n",
       "      <td>5.0</td>\n",
       "      <td>1.0</td>\n",
       "      <td>base</td>\n",
       "    </tr>\n",
       "    <tr>\n",
       "      <th>1</th>\n",
       "      <td>57.937353</td>\n",
       "      <td>57.950925</td>\n",
       "      <td>79975.3</td>\n",
       "      <td>87993.4</td>\n",
       "      <td>0.014</td>\n",
       "      <td>8018.1</td>\n",
       "      <td>-47.0</td>\n",
       "      <td>high slug</td>\n",
       "      <td>527</td>\n",
       "      <td>5.0</td>\n",
       "      <td>1.0</td>\n",
       "      <td>base</td>\n",
       "    </tr>\n",
       "    <tr>\n",
       "      <th>2</th>\n",
       "      <td>144.891259</td>\n",
       "      <td>144.904831</td>\n",
       "      <td>9868.4</td>\n",
       "      <td>13774.7</td>\n",
       "      <td>0.014</td>\n",
       "      <td>3906.3</td>\n",
       "      <td>-42.9</td>\n",
       "      <td>low slug</td>\n",
       "      <td>527</td>\n",
       "      <td>5.0</td>\n",
       "      <td>1.0</td>\n",
       "      <td>base</td>\n",
       "    </tr>\n",
       "    <tr>\n",
       "      <th>3</th>\n",
       "      <td>199.373165</td>\n",
       "      <td>199.373165</td>\n",
       "      <td>38034.5</td>\n",
       "      <td>38034.5</td>\n",
       "      <td>0.000</td>\n",
       "      <td>0.0</td>\n",
       "      <td>-31.0</td>\n",
       "      <td>bbc wide</td>\n",
       "      <td>527</td>\n",
       "      <td>5.0</td>\n",
       "      <td>1.0</td>\n",
       "      <td>base</td>\n",
       "    </tr>\n",
       "    <tr>\n",
       "      <th>4</th>\n",
       "      <td>199.655904</td>\n",
       "      <td>199.655904</td>\n",
       "      <td>33922.7</td>\n",
       "      <td>33922.7</td>\n",
       "      <td>0.000</td>\n",
       "      <td>0.0</td>\n",
       "      <td>-39.4</td>\n",
       "      <td>bbc wide</td>\n",
       "      <td>527</td>\n",
       "      <td>5.0</td>\n",
       "      <td>1.0</td>\n",
       "      <td>base</td>\n",
       "    </tr>\n",
       "  </tbody>\n",
       "</table>\n",
       "</div>"
      ],
      "text/plain": [
       "   Begin Time (s)  End Time (s)  Low Freq (Hz)  High Freq (Hz)  Delta Time (s)  Delta Freq (Hz)  Avg Power Density (dB FS) Annotation Animal  Group  Pair Session\n",
       "0       20.849546     20.868395        83264.8         90666.1           0.019           7401.3                      -51.2  high slug    527    5.0   1.0    base\n",
       "1       57.937353     57.950925        79975.3         87993.4           0.014           8018.1                      -47.0  high slug    527    5.0   1.0    base\n",
       "2      144.891259    144.904831         9868.4         13774.7           0.014           3906.3                      -42.9   low slug    527    5.0   1.0    base\n",
       "3      199.373165    199.373165        38034.5         38034.5           0.000              0.0                      -31.0   bbc wide    527    5.0   1.0    base\n",
       "4      199.655904    199.655904        33922.7         33922.7           0.000              0.0                      -39.4   bbc wide    527    5.0   1.0    base"
      ]
     },
     "execution_count": 8,
     "metadata": {},
     "output_type": "execute_result"
    }
   ],
   "source": [
    "data_table.head()"
   ]
  },
  {
   "cell_type": "code",
   "execution_count": 9,
   "metadata": {},
   "outputs": [
    {
     "data": {
      "text/plain": [
       "array(['high slug', 'low slug', 'bbc', 'high multi', 'low multi', 'radar'], dtype=object)"
      ]
     },
     "execution_count": 9,
     "metadata": {},
     "output_type": "execute_result"
    }
   ],
   "source": [
    "USV_groups = data_table.replace('mid slug', 'low slug', inplace = True)\n",
    "USV_groups = data_table.replace(['bbc wide', 'bbc long', 'bbc high', 'bbc low'], 'bbc')\n",
    "USV_groups['Annotation'].unique()"
   ]
  },
  {
   "cell_type": "code",
   "execution_count": 10,
   "metadata": {},
   "outputs": [
    {
     "data": {
      "text/plain": [
       "Group  Session \n",
       "4.0    CPApair     110\n",
       "       base         40\n",
       "       cagepair     29\n",
       "5.0    CPApair     368\n",
       "       base         44\n",
       "       cagepair     45\n",
       "Name: Annotation, dtype: int64"
      ]
     },
     "execution_count": 10,
     "metadata": {},
     "output_type": "execute_result"
    }
   ],
   "source": [
    "USV_groups.groupby([\"Group\", 'Session'])['Annotation'].count()"
   ]
  },
  {
   "cell_type": "markdown",
   "metadata": {},
   "source": [
    "Create table with only animal and 'Annotation' data for subsequent analysis"
   ]
  },
  {
   "cell_type": "code",
   "execution_count": 11,
   "metadata": {},
   "outputs": [
    {
     "name": "stdout",
     "output_type": "stream",
     "text": [
      "(636, 5)\n"
     ]
    },
    {
     "data": {
      "text/html": [
       "<div>\n",
       "<style>\n",
       "    .dataframe thead tr:only-child th {\n",
       "        text-align: right;\n",
       "    }\n",
       "\n",
       "    .dataframe thead th {\n",
       "        text-align: left;\n",
       "    }\n",
       "\n",
       "    .dataframe tbody tr th {\n",
       "        vertical-align: top;\n",
       "    }\n",
       "</style>\n",
       "<table border=\"1\" class=\"dataframe\">\n",
       "  <thead>\n",
       "    <tr style=\"text-align: right;\">\n",
       "      <th></th>\n",
       "      <th>Animal</th>\n",
       "      <th>Pair</th>\n",
       "      <th>Session</th>\n",
       "      <th>Group</th>\n",
       "      <th>Annotation</th>\n",
       "    </tr>\n",
       "  </thead>\n",
       "  <tbody>\n",
       "    <tr>\n",
       "      <th>7</th>\n",
       "      <td>527</td>\n",
       "      <td>1.0</td>\n",
       "      <td>cagepair</td>\n",
       "      <td>5.0</td>\n",
       "      <td>high slug</td>\n",
       "    </tr>\n",
       "    <tr>\n",
       "      <th>8</th>\n",
       "      <td>527</td>\n",
       "      <td>1.0</td>\n",
       "      <td>cagepair</td>\n",
       "      <td>5.0</td>\n",
       "      <td>low slug</td>\n",
       "    </tr>\n",
       "    <tr>\n",
       "      <th>9</th>\n",
       "      <td>527</td>\n",
       "      <td>1.0</td>\n",
       "      <td>cagepair</td>\n",
       "      <td>5.0</td>\n",
       "      <td>bbc</td>\n",
       "    </tr>\n",
       "    <tr>\n",
       "      <th>10</th>\n",
       "      <td>527</td>\n",
       "      <td>1.0</td>\n",
       "      <td>cagepair</td>\n",
       "      <td>5.0</td>\n",
       "      <td>bbc</td>\n",
       "    </tr>\n",
       "    <tr>\n",
       "      <th>11</th>\n",
       "      <td>527</td>\n",
       "      <td>1.0</td>\n",
       "      <td>cagepair</td>\n",
       "      <td>5.0</td>\n",
       "      <td>bbc</td>\n",
       "    </tr>\n",
       "  </tbody>\n",
       "</table>\n",
       "</div>"
      ],
      "text/plain": [
       "   Animal  Pair   Session  Group Annotation\n",
       "7     527   1.0  cagepair    5.0  high slug\n",
       "8     527   1.0  cagepair    5.0   low slug\n",
       "9     527   1.0  cagepair    5.0        bbc\n",
       "10    527   1.0  cagepair    5.0        bbc\n",
       "11    527   1.0  cagepair    5.0        bbc"
      ]
     },
     "execution_count": 11,
     "metadata": {},
     "output_type": "execute_result"
    }
   ],
   "source": [
    "annot = USV_groups[['Animal', 'Pair', 'Session', 'Group', 'Annotation']]\n",
    "print(annot.shape)\n",
    "annot = annot[(annot['Session'] == 'cagepair') | (annot['Session'] == 'CPApair')]\n",
    "annot.head()"
   ]
  },
  {
   "cell_type": "markdown",
   "metadata": {},
   "source": [
    "Use groupby and value_counts to compute each annotation parameters number of occurances for each animal/session, save to new dataframe"
   ]
  },
  {
   "cell_type": "code",
   "execution_count": 12,
   "metadata": {},
   "outputs": [
    {
     "data": {
      "text/html": [
       "<div>\n",
       "<style>\n",
       "    .dataframe thead tr:only-child th {\n",
       "        text-align: right;\n",
       "    }\n",
       "\n",
       "    .dataframe thead th {\n",
       "        text-align: left;\n",
       "    }\n",
       "\n",
       "    .dataframe tbody tr th {\n",
       "        vertical-align: top;\n",
       "    }\n",
       "</style>\n",
       "<table border=\"1\" class=\"dataframe\">\n",
       "  <thead>\n",
       "    <tr style=\"text-align: right;\">\n",
       "      <th></th>\n",
       "      <th></th>\n",
       "      <th></th>\n",
       "      <th></th>\n",
       "      <th></th>\n",
       "      <th>Annotation</th>\n",
       "    </tr>\n",
       "    <tr>\n",
       "      <th>Animal</th>\n",
       "      <th>Pair</th>\n",
       "      <th>Session</th>\n",
       "      <th>Group</th>\n",
       "      <th>Annotation</th>\n",
       "      <th></th>\n",
       "    </tr>\n",
       "  </thead>\n",
       "  <tbody>\n",
       "    <tr>\n",
       "      <th rowspan=\"3\" valign=\"top\">527</th>\n",
       "      <th rowspan=\"3\" valign=\"top\">1.0</th>\n",
       "      <th rowspan=\"3\" valign=\"top\">cagepair</th>\n",
       "      <th rowspan=\"3\" valign=\"top\">5.0</th>\n",
       "      <th>bbc</th>\n",
       "      <td>5</td>\n",
       "    </tr>\n",
       "    <tr>\n",
       "      <th>high slug</th>\n",
       "      <td>1</td>\n",
       "    </tr>\n",
       "    <tr>\n",
       "      <th>low slug</th>\n",
       "      <td>1</td>\n",
       "    </tr>\n",
       "    <tr>\n",
       "      <th rowspan=\"2\" valign=\"top\">529</th>\n",
       "      <th rowspan=\"2\" valign=\"top\">1.0</th>\n",
       "      <th rowspan=\"2\" valign=\"top\">cagepair</th>\n",
       "      <th rowspan=\"2\" valign=\"top\">5.0</th>\n",
       "      <th>bbc</th>\n",
       "      <td>5</td>\n",
       "    </tr>\n",
       "    <tr>\n",
       "      <th>high slug</th>\n",
       "      <td>3</td>\n",
       "    </tr>\n",
       "  </tbody>\n",
       "</table>\n",
       "</div>"
      ],
      "text/plain": [
       "                                       Annotation\n",
       "Animal Pair Session  Group Annotation            \n",
       "527    1.0  cagepair 5.0   bbc                  5\n",
       "                           high slug            1\n",
       "                           low slug             1\n",
       "529    1.0  cagepair 5.0   bbc                  5\n",
       "                           high slug            3"
      ]
     },
     "execution_count": 12,
     "metadata": {},
     "output_type": "execute_result"
    }
   ],
   "source": [
    "session_count = pd.DataFrame(data = annot.groupby(['Animal', 'Pair', 'Session', 'Group'])['Annotation'].value_counts())\n",
    "session_count.head()"
   ]
  },
  {
   "cell_type": "code",
   "execution_count": 13,
   "metadata": {},
   "outputs": [
    {
     "name": "stdout",
     "output_type": "stream",
     "text": [
      "(60, 5)\n"
     ]
    },
    {
     "data": {
      "text/html": [
       "<div>\n",
       "<style>\n",
       "    .dataframe thead tr:only-child th {\n",
       "        text-align: right;\n",
       "    }\n",
       "\n",
       "    .dataframe thead th {\n",
       "        text-align: left;\n",
       "    }\n",
       "\n",
       "    .dataframe tbody tr th {\n",
       "        vertical-align: top;\n",
       "    }\n",
       "</style>\n",
       "<table border=\"1\" class=\"dataframe\">\n",
       "  <thead>\n",
       "    <tr style=\"text-align: right;\">\n",
       "      <th></th>\n",
       "      <th>Animal</th>\n",
       "      <th>Session</th>\n",
       "      <th>Group</th>\n",
       "      <th>Annotation</th>\n",
       "      <th>Annot_count</th>\n",
       "    </tr>\n",
       "  </thead>\n",
       "  <tbody>\n",
       "    <tr>\n",
       "      <th>0</th>\n",
       "      <td>527</td>\n",
       "      <td>cagepair</td>\n",
       "      <td>5.0</td>\n",
       "      <td>bbc</td>\n",
       "      <td>5.0</td>\n",
       "    </tr>\n",
       "    <tr>\n",
       "      <th>1</th>\n",
       "      <td>527</td>\n",
       "      <td>cagepair</td>\n",
       "      <td>5.0</td>\n",
       "      <td>high slug</td>\n",
       "      <td>1.0</td>\n",
       "    </tr>\n",
       "    <tr>\n",
       "      <th>2</th>\n",
       "      <td>527</td>\n",
       "      <td>cagepair</td>\n",
       "      <td>5.0</td>\n",
       "      <td>low slug</td>\n",
       "      <td>1.0</td>\n",
       "    </tr>\n",
       "    <tr>\n",
       "      <th>3</th>\n",
       "      <td>529</td>\n",
       "      <td>cagepair</td>\n",
       "      <td>5.0</td>\n",
       "      <td>bbc</td>\n",
       "      <td>5.0</td>\n",
       "    </tr>\n",
       "    <tr>\n",
       "      <th>4</th>\n",
       "      <td>529</td>\n",
       "      <td>cagepair</td>\n",
       "      <td>5.0</td>\n",
       "      <td>high slug</td>\n",
       "      <td>3.0</td>\n",
       "    </tr>\n",
       "  </tbody>\n",
       "</table>\n",
       "</div>"
      ],
      "text/plain": [
       "  Animal   Session  Group Annotation  Annot_count\n",
       "0    527  cagepair    5.0        bbc          5.0\n",
       "1    527  cagepair    5.0  high slug          1.0\n",
       "2    527  cagepair    5.0   low slug          1.0\n",
       "3    529  cagepair    5.0        bbc          5.0\n",
       "4    529  cagepair    5.0  high slug          3.0"
      ]
     },
     "execution_count": 13,
     "metadata": {},
     "output_type": "execute_result"
    }
   ],
   "source": [
    "session_count.rename(columns={'Annotation': 'Annot_count'}, inplace=True)\n",
    "session_count.reset_index(inplace = True)\n",
    "session_count.drop(['Pair'], axis = 1, inplace = True)\n",
    "session_count['Annot_count'] = session_count['Annot_count'].astype('float64')\n",
    "print(session_count.shape)\n",
    "session_count.head()"
   ]
  },
  {
   "cell_type": "code",
   "execution_count": 14,
   "metadata": {},
   "outputs": [
    {
     "name": "stdout",
     "output_type": "stream",
     "text": [
      "<class 'pandas.core.frame.DataFrame'>\n",
      "RangeIndex: 60 entries, 0 to 59\n",
      "Data columns (total 5 columns):\n",
      "Animal         60 non-null object\n",
      "Session        60 non-null object\n",
      "Group          60 non-null float64\n",
      "Annotation     60 non-null object\n",
      "Annot_count    60 non-null float64\n",
      "dtypes: float64(2), object(3)\n",
      "memory usage: 2.4+ KB\n"
     ]
    }
   ],
   "source": [
    "session_count.info()"
   ]
  },
  {
   "cell_type": "markdown",
   "metadata": {},
   "source": [
    "For subsequent categorical data analysis we need a 'complete' dataset for each animal across all 14 annot_names. For each animal we need to add a row with 'Annot_count' = 0 for each annot_name not already contained in the dataset. "
   ]
  },
  {
   "cell_type": "code",
   "execution_count": 15,
   "metadata": {},
   "outputs": [
    {
     "name": "stdout",
     "output_type": "stream",
     "text": [
      "6\n",
      "16\n"
     ]
    }
   ],
   "source": [
    "annot_names = session_count['Annotation'].unique().tolist()\n",
    "print(len(annot_names))\n",
    "animal_numbers = session_count['Animal'].unique().tolist()\n",
    "print(len(animal_numbers))"
   ]
  },
  {
   "cell_type": "code",
   "execution_count": 25,
   "metadata": {
    "collapsed": true
   },
   "outputs": [],
   "source": [
    "def add_annot_rows(data, animal, annot_names):\n",
    "    \n",
    "    sessions = data[data['Animal'] == animal]\n",
    "    \n",
    "    #base = sessions[sessions['Session'] == 'base']\n",
    "    #base['Annot_count'] = base['Annot_count']*2\n",
    "    \n",
    "    CPA = sessions[sessions['Session'] == 'CPApair']\n",
    "    neutral = sessions[sessions['Session'] == 'cagepair']\n",
    "    col_names = sessions.columns.values\n",
    "    new_row = pd.DataFrame(columns = data.columns.values)\n",
    "    #fill in base df\n",
    "    #for name in annot_names:\n",
    "     #   if base[base['Annotation'] == name]['Annot_count'].values >= 0:\n",
    "      #      continue\n",
    "       # else:\n",
    "        #    new_row = pd.DataFrame(data = [animal, 'base', sessions['Group'].values[0], name, 0]).T\n",
    "         #   new_row.columns = col_names\n",
    "          #  base = pd.concat([base, new_row], axis = 0, ignore_index=True)\n",
    "    \n",
    "    #determine if animal is assigned CPA or neutral and fill in df\n",
    "    for name in annot_names:\n",
    "        if len(CPA) == 0:\n",
    "            #fill in neutral df\n",
    "            if neutral[neutral['Annotation'] == name]['Annot_count'].values >= 0:\n",
    "                continue\n",
    "            else:\n",
    "                new_row = pd.DataFrame(data = [animal, neutral['Session'].values[0], neutral['Group'].values[0], name, 0]).T\n",
    "                new_row.columns = col_names\n",
    "                neutral = pd.concat([neutral, new_row], axis = 0, ignore_index=True)\n",
    "        else:\n",
    "            #fill in CPA df\n",
    "            if CPA[CPA['Annotation'] == name]['Annot_count'].values >= 0:\n",
    "                continue\n",
    "            else:\n",
    "                new_row = pd.DataFrame(data = [animal, CPA['Session'].values[0], CPA['Group'].values[0], name, 0]).T\n",
    "                new_row.columns = col_names\n",
    "                CPA = pd.concat([CPA, new_row], axis = 0, ignore_index=True)\n",
    "                \n",
    "    return neutral, CPA"
   ]
  },
  {
   "cell_type": "code",
   "execution_count": 29,
   "metadata": {},
   "outputs": [
    {
     "name": "stdout",
     "output_type": "stream",
     "text": [
      "(96, 5)\n"
     ]
    },
    {
     "data": {
      "text/html": [
       "<div>\n",
       "<style>\n",
       "    .dataframe thead tr:only-child th {\n",
       "        text-align: right;\n",
       "    }\n",
       "\n",
       "    .dataframe thead th {\n",
       "        text-align: left;\n",
       "    }\n",
       "\n",
       "    .dataframe tbody tr th {\n",
       "        vertical-align: top;\n",
       "    }\n",
       "</style>\n",
       "<table border=\"1\" class=\"dataframe\">\n",
       "  <thead>\n",
       "    <tr style=\"text-align: right;\">\n",
       "      <th></th>\n",
       "      <th>Animal</th>\n",
       "      <th>Session</th>\n",
       "      <th>Group</th>\n",
       "      <th>Annotation</th>\n",
       "      <th>Annot_count</th>\n",
       "    </tr>\n",
       "  </thead>\n",
       "  <tbody>\n",
       "    <tr>\n",
       "      <th>0</th>\n",
       "      <td>527</td>\n",
       "      <td>cagepair</td>\n",
       "      <td>5</td>\n",
       "      <td>bbc</td>\n",
       "      <td>5</td>\n",
       "    </tr>\n",
       "    <tr>\n",
       "      <th>1</th>\n",
       "      <td>527</td>\n",
       "      <td>cagepair</td>\n",
       "      <td>5</td>\n",
       "      <td>high slug</td>\n",
       "      <td>1</td>\n",
       "    </tr>\n",
       "    <tr>\n",
       "      <th>2</th>\n",
       "      <td>527</td>\n",
       "      <td>cagepair</td>\n",
       "      <td>5</td>\n",
       "      <td>low slug</td>\n",
       "      <td>1</td>\n",
       "    </tr>\n",
       "    <tr>\n",
       "      <th>3</th>\n",
       "      <td>527</td>\n",
       "      <td>cagepair</td>\n",
       "      <td>5</td>\n",
       "      <td>radar</td>\n",
       "      <td>0</td>\n",
       "    </tr>\n",
       "    <tr>\n",
       "      <th>4</th>\n",
       "      <td>527</td>\n",
       "      <td>cagepair</td>\n",
       "      <td>5</td>\n",
       "      <td>low multi</td>\n",
       "      <td>0</td>\n",
       "    </tr>\n",
       "  </tbody>\n",
       "</table>\n",
       "</div>"
      ],
      "text/plain": [
       "  Animal   Session Group Annotation Annot_count\n",
       "0    527  cagepair     5        bbc           5\n",
       "1    527  cagepair     5  high slug           1\n",
       "2    527  cagepair     5   low slug           1\n",
       "3    527  cagepair     5      radar           0\n",
       "4    527  cagepair     5  low multi           0"
      ]
     },
     "execution_count": 29,
     "metadata": {},
     "output_type": "execute_result"
    }
   ],
   "source": [
    "USV_complete = pd.DataFrame(data = None, columns = session_count.columns.values)\n",
    "for animal in animal_numbers:\n",
    "    neutral, CPA = add_annot_rows(session_count, animal, annot_names)\n",
    "    USV_int = pd.concat([neutral, CPA])\n",
    "    USV_complete = pd.concat([USV_complete, USV_int], join='outer')\n",
    "    \n",
    "print(USV_complete.shape)\n",
    "USV_complete.head()"
   ]
  },
  {
   "cell_type": "code",
   "execution_count": 30,
   "metadata": {},
   "outputs": [
    {
     "data": {
      "text/plain": [
       "<matplotlib.axes._subplots.AxesSubplot at 0x279f7900898>"
      ]
     },
     "execution_count": 30,
     "metadata": {},
     "output_type": "execute_result"
    },
    {
     "data": {
      "image/png": "[encoded data removed]",
      "text/plain": [
       "<matplotlib.figure.Figure at 0x279f7d960b8>"
      ]
     },
     "metadata": {},
     "output_type": "display_data"
    }
   ],
   "source": [
    "plt.figure(figsize=(10,5))\n",
    "sns.barplot(x = 'Session', y = 'Annot_count', hue = 'Group', data = USV_complete, alpha=0.9)"
   ]
  },
  {
   "cell_type": "code",
   "execution_count": 32,
   "metadata": {},
   "outputs": [
    {
     "data": {
      "text/plain": [
       "<seaborn.axisgrid.FacetGrid at 0x279f7d28dd8>"
      ]
     },
     "execution_count": 32,
     "metadata": {},
     "output_type": "execute_result"
    },
    {
     "data": {
      "image/png": "[encoded data removed]",
      "text/plain": [
       "<matplotlib.figure.Figure at 0x279fc800128>"
      ]
     },
     "metadata": {},
     "output_type": "display_data"
    }
   ],
   "source": [
    "sns.factorplot(x = 'Session', y = 'Annot_count', hue = 'Group', col = 'Annotation', kind = 'bar', sharey = False, data = USV_complete, alpha=0.9)"
   ]
  },
  {
   "cell_type": "markdown",
   "metadata": {},
   "source": [
    "Compute a response index ((resp_pair - resp_base) / (resp_pair + resp_base)) for each animal/USV param"
   ]
  },
  {
   "cell_type": "code",
   "execution_count": null,
   "metadata": {
    "collapsed": true
   },
   "outputs": [],
   "source": [
    "def ratio_calc(base, neutral, CPA, animal, annot_names):\n",
    "    ratio_dic = {}\n",
    "    for name in annot_names:\n",
    "        ratio = []\n",
    "        if len(CPA) == 0:\n",
    "            try:\n",
    "                ratio = float((neutral[neutral['Annotation'] == name]['Annot_count'].values - base[base['Annotation'] == name]['Annot_count'].values) / (neutral[neutral['Annotation'] == name]['Annot_count'].values + base[base['Annotation'] == name]['Annot_count'].values))\n",
    "                ratio_dic[name] = ratio\n",
    "            except ZeroDivisionError: \n",
    "                ratio = 0\n",
    "                ratio_dic[name] = ratio\n",
    "        else:\n",
    "            try:\n",
    "                ratio = float((CPA[CPA['Annotation'] == name]['Annot_count'].values - base[base['Annotation'] == name]['Annot_count'].values) / (CPA[CPA['Annotation'] == name]['Annot_count'].values + base[base['Annotation'] == name]['Annot_count'].values))\n",
    "                ratio_dic[name] = ratio\n",
    "            except ZeroDivisionError:\n",
    "                ratio = 0\n",
    "                ratio_dic[name] = ratio\n",
    "    ratio_dic['Animal'] = int(animal)\n",
    "    \n",
    "    return ratio_dic"
   ]
  },
  {
   "cell_type": "code",
   "execution_count": null,
   "metadata": {
    "collapsed": true
   },
   "outputs": [],
   "source": [
    "ratio_df = pd.DataFrame(data = None, columns = annot_names)\n",
    "for animal in animal_numbers:\n",
    "    base, neutral, CPA = add_annot_rows(session_count, animal, annot_names)\n",
    "    ratio_dic = ratio_calc(base, neutral, CPA, animal, annot_names)\n",
    "    ratio_df = ratio_df.append(ratio_dic, ignore_index=True)\n",
    "    \n",
    "ratio_df.head()"
   ]
  },
  {
   "cell_type": "code",
   "execution_count": null,
   "metadata": {
    "collapsed": true
   },
   "outputs": [],
   "source": [
    "ratio_df = pd.merge(df_mice, ratio_df, on='Animal')\n",
    "ratio_df"
   ]
  },
  {
   "cell_type": "code",
   "execution_count": null,
   "metadata": {
    "collapsed": true
   },
   "outputs": [],
   "source": [
    "ratio_df.groupby([\"Group\", 'Pair']).mean()"
   ]
  },
  {
   "cell_type": "code",
   "execution_count": null,
   "metadata": {
    "collapsed": true
   },
   "outputs": [],
   "source": [
    "plt.figure(figsize=(25,20))\n",
    "sns.barplot(x = 'Pair', y = 'radar', hue = 'Group', data = ratio_df, alpha=0.9)"
   ]
  },
  {
   "cell_type": "code",
   "execution_count": 33,
   "metadata": {
    "collapsed": true
   },
   "outputs": [],
   "source": [
    "writer = pd.ExcelWriter('USV_counts.xlsx', engine='xlsxwriter')\n",
    "USV_complete.to_excel(writer, sheet_name='Sheet1')\n",
    "writer.save()"
   ]
  }
 ],
 "metadata": {
  "kernelspec": {
   "display_name": "Python 3",
   "language": "python",
   "name": "python3"
  },
  "language_info": {
   "codemirror_mode": {
    "name": "ipython",
    "version": 3
   },
   "file_extension": ".py",
   "mimetype": "text/x-python",
   "name": "python",
   "nbconvert_exporter": "python",
   "pygments_lexer": "ipython3",
   "version": "3.6.3"
  }
 },
 "nbformat": 4,
 "nbformat_minor": 2
}
