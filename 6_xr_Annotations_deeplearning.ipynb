{
  "nbformat": 4,
  "nbformat_minor": 0,
  "metadata": {
    "colab": {
      "name": "6_xr_Annotations_deeplearning.ipynb",
      "version": "0.3.2",
      "provenance": [],
      "collapsed_sections": [],
      "include_colab_link": true
    },
    "kernelspec": {
      "name": "python3",
      "display_name": "Python 3"
    },
    "accelerator": "GPU"
  },
  "cells": [
    {
      "cell_type": "markdown",
      "metadata": {
        "id": "view-in-github",
        "colab_type": "text"
      },
      "source": [
        "<a href=\"https://colab.research.google.com/github/valentina-s/USV_Python/blob/colab/6_xr_Annotations_deeplearning.ipynb\" target=\"_parent\"><img src=\"https://colab.research.google.com/assets/colab-badge.svg\" alt=\"Open In Colab\"/></a>"
      ]
    },
    {
      "metadata": {
        "id": "NpQ6zVKKHHNO",
        "colab_type": "text"
      },
      "cell_type": "markdown",
      "source": [
        "This notebook explores using deep learning to detect whether spectrograms contain USV vocalizations or not. The advantage of this approach is that we do not need to come up with features which may or may not be useful for classifying USVs. The disadvantage is that by not restricting to a few features we have to fit the many parameters of the deep neural networks, which may result in overfitting when training data is not enough. So our approach is to use a pretrained network which has been already trained on large diverse dataset, and modify it predict USV calls. This is a classical example of transfer learning."
      ]
    },
    {
      "metadata": {
        "id": "-faHNA2CSA8d",
        "colab_type": "text"
      },
      "cell_type": "markdown",
      "source": [
        "\n",
        "\n",
        "** Installing and importing the necessary libraries**"
      ]
    },
    {
      "metadata": {
        "id": "_68WL66QsTHI",
        "colab_type": "code",
        "outputId": "a81f142e-6019-4813-eecd-91212f0c670e",
        "colab": {
          "base_uri": "https://localhost:8080/",
          "height": 190
        }
      },
      "cell_type": "code",
      "source": [
        "!pip install netcdf4"
      ],
      "execution_count": 0,
      "outputs": [
        {
          "output_type": "stream",
          "text": [
            "Collecting netcdf4\n",
            "\u001b[?25l  Downloading https://files.pythonhosted.org/packages/35/1b/2fcb6c6b34cf4b16ba59acefad5329df7979600b7c6ab24acbe43dbf1f27/netCDF4-1.5.0.1-cp36-cp36m-manylinux1_x86_64.whl (4.0MB)\n",
            "\u001b[K    100% |████████████████████████████████| 4.0MB 9.7MB/s \n",
            "\u001b[?25hRequirement already satisfied: numpy>=1.7 in /usr/local/lib/python3.6/dist-packages (from netcdf4) (1.14.6)\n",
            "Collecting cftime (from netcdf4)\n",
            "\u001b[?25l  Downloading https://files.pythonhosted.org/packages/70/64/8ceadda42af3c1b27ee77005807e38c6d77baef28a8f9216b60577fddd71/cftime-1.0.3.4-cp36-cp36m-manylinux1_x86_64.whl (305kB)\n",
            "\u001b[K    100% |████████████████████████████████| 307kB 29.3MB/s \n",
            "\u001b[?25hInstalling collected packages: cftime, netcdf4\n",
            "Successfully installed cftime-1.0.3.4 netcdf4-1.5.0.1\n"
          ],
          "name": "stdout"
        }
      ]
    },
    {
      "metadata": {
        "id": "M5JdMCJQxPmU",
        "colab_type": "code",
        "outputId": "ab6d6c98-1da9-4ed0-953d-3ec95d749c11",
        "colab": {
          "base_uri": "https://localhost:8080/",
          "height": 34
        }
      },
      "cell_type": "code",
      "source": [
        "!pip install tensorboardcolab"
      ],
      "execution_count": 0,
      "outputs": [
        {
          "output_type": "stream",
          "text": [
            "Requirement already satisfied: tensorboardcolab in /usr/local/lib/python3.6/dist-packages (0.0.22)\n"
          ],
          "name": "stdout"
        }
      ]
    },
    {
      "metadata": {
        "id": "g9rXpQWtrflD",
        "colab_type": "code",
        "colab": {}
      },
      "cell_type": "code",
      "source": [
        "import numpy as np\n",
        "import pandas as pd\n",
        "from os.path import join\n",
        "from scipy import interpolate\n",
        "import xarray as xr\n",
        "\n",
        "from sklearn.utils import resample\n",
        "from sklearn.model_selection import train_test_split\n",
        "from sklearn.metrics import precision_recall_curve\n",
        "\n",
        "from sklearn.metrics import f1_score\n",
        "\n",
        "\n",
        "\n",
        "#visualizing results\n",
        "%matplotlib inline\n",
        "import matplotlib.pyplot as plt\n",
        "\n",
        "import warnings\n",
        "warnings.filterwarnings(\"ignore\")"
      ],
      "execution_count": 0,
      "outputs": []
    },
    {
      "metadata": {
        "id": "PMnBsd7erfmR",
        "colab_type": "code",
        "colab": {}
      },
      "cell_type": "code",
      "source": [
        "pd.set_option('display.max_rows', 500)\n",
        "pd.set_option('display.max_columns', 500)\n",
        "pd.set_option('display.width', 1000)"
      ],
      "execution_count": 0,
      "outputs": []
    },
    {
      "metadata": {
        "id": "Knzt_zb5tH4v",
        "colab_type": "code",
        "outputId": "39ce87d9-6311-449b-bc79-aeb45205f7d2",
        "colab": {
          "base_uri": "https://localhost:8080/",
          "height": 122
        }
      },
      "cell_type": "code",
      "source": [
        "#mount google drive containings required files: 1) csv of annotation features, 2) netcdf files\n",
        "from google.colab import drive\n",
        "drive.mount('/content/gdrive')"
      ],
      "execution_count": 0,
      "outputs": [
        {
          "output_type": "stream",
          "text": [
            "Go to this URL in a browser: https://accounts.google.com/o/oauth2/auth?client_id=947318989803-6bn6qk8qdgf4n4g3pfee6491hc0brc4i.apps.googleusercontent.com&redirect_uri=urn%3Aietf%3Awg%3Aoauth%3A2.0%3Aoob&scope=email%20https%3A%2F%2Fwww.googleapis.com%2Fauth%2Fdocs.test%20https%3A%2F%2Fwww.googleapis.com%2Fauth%2Fdrive%20https%3A%2F%2Fwww.googleapis.com%2Fauth%2Fdrive.photos.readonly%20https%3A%2F%2Fwww.googleapis.com%2Fauth%2Fpeopleapi.readonly&response_type=code\n",
            "\n",
            "Enter your authorization code:\n",
            "··········\n",
            "Mounted at /content/gdrive\n"
          ],
          "name": "stdout"
        }
      ]
    },
    {
      "metadata": {
        "id": "ikYd2WfuW6gP",
        "colab_type": "text"
      },
      "cell_type": "markdown",
      "source": [
        "**Reading the annotations**"
      ]
    },
    {
      "metadata": {
        "id": "a6OClLhFrfm1",
        "colab_type": "code",
        "outputId": "ec80e9bb-6034-42f2-b030-33b61124b223",
        "colab": {
          "base_uri": "https://localhost:8080/",
          "height": 275
        }
      },
      "cell_type": "code",
      "source": [
        "#use shell commands to find file path for csv of annotation features\n",
        "features_path = '/content/gdrive/Team Drives/USV_eScience_Incubator/Data/feature_data_frames/annot_features_full.csv'\n",
        "annot_features_data = pd.read_csv(features_path)\n",
        "annot_features_full = pd.DataFrame(data = annot_features_data)\n",
        "print(annot_features_full.shape)\n",
        "#ensure no nans\n",
        "print(annot_features_full.loc[pd.isna(annot_features_full['spec_pur'])].index)\n",
        "annot_features_full.head()"
      ],
      "execution_count": 0,
      "outputs": [
        {
          "output_type": "stream",
          "text": [
            "(959, 13)\n",
            "Int64Index([], dtype='int64')\n"
          ],
          "name": "stdout"
        },
        {
          "output_type": "execute_result",
          "data": {
            "text/html": [
              "<div>\n",
              "<style scoped>\n",
              "    .dataframe tbody tr th:only-of-type {\n",
              "        vertical-align: middle;\n",
              "    }\n",
              "\n",
              "    .dataframe tbody tr th {\n",
              "        vertical-align: top;\n",
              "    }\n",
              "\n",
              "    .dataframe thead th {\n",
              "        text-align: right;\n",
              "    }\n",
              "</style>\n",
              "<table border=\"1\" class=\"dataframe\">\n",
              "  <thead>\n",
              "    <tr style=\"text-align: right;\">\n",
              "      <th></th>\n",
              "      <th>Unnamed: 0</th>\n",
              "      <th>animal_number</th>\n",
              "      <th>session</th>\n",
              "      <th>time_stamp</th>\n",
              "      <th>Annotation</th>\n",
              "      <th>power_sum</th>\n",
              "      <th>spec_pur</th>\n",
              "      <th>spec_cent</th>\n",
              "      <th>spec_spread</th>\n",
              "      <th>spec_skew</th>\n",
              "      <th>spec_kurt</th>\n",
              "      <th>spec_slope</th>\n",
              "      <th>spec_roll</th>\n",
              "    </tr>\n",
              "  </thead>\n",
              "  <tbody>\n",
              "    <tr>\n",
              "      <th>0</th>\n",
              "      <td>0</td>\n",
              "      <td>527</td>\n",
              "      <td>cagepair</td>\n",
              "      <td>18922.5</td>\n",
              "      <td>high slug</td>\n",
              "      <td>44921.600</td>\n",
              "      <td>0.335974</td>\n",
              "      <td>40617.050954</td>\n",
              "      <td>117729.192000</td>\n",
              "      <td>6.831866</td>\n",
              "      <td>48.160918</td>\n",
              "      <td>0.000787</td>\n",
              "      <td>38586.198407</td>\n",
              "    </tr>\n",
              "    <tr>\n",
              "      <th>1</th>\n",
              "      <td>1</td>\n",
              "      <td>527</td>\n",
              "      <td>cagepair</td>\n",
              "      <td>24750.0</td>\n",
              "      <td>low slug</td>\n",
              "      <td>53212.637</td>\n",
              "      <td>0.295599</td>\n",
              "      <td>27042.548508</td>\n",
              "      <td>3827.200195</td>\n",
              "      <td>3.556462</td>\n",
              "      <td>20.402396</td>\n",
              "      <td>-0.000227</td>\n",
              "      <td>25690.421083</td>\n",
              "    </tr>\n",
              "    <tr>\n",
              "      <th>2</th>\n",
              "      <td>2</td>\n",
              "      <td>527</td>\n",
              "      <td>cagepair</td>\n",
              "      <td>56002.5</td>\n",
              "      <td>bbc</td>\n",
              "      <td>94253.766</td>\n",
              "      <td>0.189555</td>\n",
              "      <td>30090.095178</td>\n",
              "      <td>68103.292456</td>\n",
              "      <td>3.982554</td>\n",
              "      <td>18.393372</td>\n",
              "      <td>-0.002314</td>\n",
              "      <td>28585.590419</td>\n",
              "    </tr>\n",
              "    <tr>\n",
              "      <th>3</th>\n",
              "      <td>3</td>\n",
              "      <td>527</td>\n",
              "      <td>cagepair</td>\n",
              "      <td>174352.5</td>\n",
              "      <td>bbc</td>\n",
              "      <td>51008.836</td>\n",
              "      <td>0.306177</td>\n",
              "      <td>34324.170621</td>\n",
              "      <td>52563.703613</td>\n",
              "      <td>3.336529</td>\n",
              "      <td>10.448164</td>\n",
              "      <td>-0.001250</td>\n",
              "      <td>32607.962090</td>\n",
              "    </tr>\n",
              "    <tr>\n",
              "      <th>4</th>\n",
              "      <td>4</td>\n",
              "      <td>527</td>\n",
              "      <td>cagepair</td>\n",
              "      <td>342877.5</td>\n",
              "      <td>bbc</td>\n",
              "      <td>164846.110</td>\n",
              "      <td>0.144833</td>\n",
              "      <td>33090.921412</td>\n",
              "      <td>22861.514782</td>\n",
              "      <td>1.852232</td>\n",
              "      <td>3.185318</td>\n",
              "      <td>-0.001784</td>\n",
              "      <td>31436.375341</td>\n",
              "    </tr>\n",
              "  </tbody>\n",
              "</table>\n",
              "</div>"
            ],
            "text/plain": [
              "   Unnamed: 0  animal_number   session  time_stamp Annotation   power_sum  spec_pur     spec_cent    spec_spread  spec_skew  spec_kurt  spec_slope     spec_roll\n",
              "0           0            527  cagepair     18922.5  high slug   44921.600  0.335974  40617.050954  117729.192000   6.831866  48.160918    0.000787  38586.198407\n",
              "1           1            527  cagepair     24750.0   low slug   53212.637  0.295599  27042.548508    3827.200195   3.556462  20.402396   -0.000227  25690.421083\n",
              "2           2            527  cagepair     56002.5        bbc   94253.766  0.189555  30090.095178   68103.292456   3.982554  18.393372   -0.002314  28585.590419\n",
              "3           3            527  cagepair    174352.5        bbc   51008.836  0.306177  34324.170621   52563.703613   3.336529  10.448164   -0.001250  32607.962090\n",
              "4           4            527  cagepair    342877.5        bbc  164846.110  0.144833  33090.921412   22861.514782   1.852232   3.185318   -0.001784  31436.375341"
            ]
          },
          "metadata": {
            "tags": []
          },
          "execution_count": 6
        }
      ]
    },
    {
      "metadata": {
        "id": "75agLbierfoG",
        "colab_type": "code",
        "outputId": "f0490cef-e24e-4e9b-881c-8e256b62e06c",
        "colab": {
          "base_uri": "https://localhost:8080/",
          "height": 241
        }
      },
      "cell_type": "code",
      "source": [
        "#create array of class labels, add to df\n",
        "annot_labels = annot_features_full['Annotation']\n",
        "annot_labels = annot_labels.replace(regex={r'low slug': 1, 'high slug': 1, 'low multi': 1, 'high multi': 1, 'bbc': 1, 'rand_noise': 0})\n",
        "annot_features_full['class'] = annot_labels\n",
        "annot_features_full.head()"
      ],
      "execution_count": 0,
      "outputs": [
        {
          "output_type": "execute_result",
          "data": {
            "text/html": [
              "<div>\n",
              "<style scoped>\n",
              "    .dataframe tbody tr th:only-of-type {\n",
              "        vertical-align: middle;\n",
              "    }\n",
              "\n",
              "    .dataframe tbody tr th {\n",
              "        vertical-align: top;\n",
              "    }\n",
              "\n",
              "    .dataframe thead th {\n",
              "        text-align: right;\n",
              "    }\n",
              "</style>\n",
              "<table border=\"1\" class=\"dataframe\">\n",
              "  <thead>\n",
              "    <tr style=\"text-align: right;\">\n",
              "      <th></th>\n",
              "      <th>Unnamed: 0</th>\n",
              "      <th>animal_number</th>\n",
              "      <th>session</th>\n",
              "      <th>time_stamp</th>\n",
              "      <th>Annotation</th>\n",
              "      <th>power_sum</th>\n",
              "      <th>spec_pur</th>\n",
              "      <th>spec_cent</th>\n",
              "      <th>spec_spread</th>\n",
              "      <th>spec_skew</th>\n",
              "      <th>spec_kurt</th>\n",
              "      <th>spec_slope</th>\n",
              "      <th>spec_roll</th>\n",
              "      <th>class</th>\n",
              "    </tr>\n",
              "  </thead>\n",
              "  <tbody>\n",
              "    <tr>\n",
              "      <th>0</th>\n",
              "      <td>0</td>\n",
              "      <td>527</td>\n",
              "      <td>cagepair</td>\n",
              "      <td>18922.5</td>\n",
              "      <td>high slug</td>\n",
              "      <td>44921.600</td>\n",
              "      <td>0.335974</td>\n",
              "      <td>40617.050954</td>\n",
              "      <td>117729.192000</td>\n",
              "      <td>6.831866</td>\n",
              "      <td>48.160918</td>\n",
              "      <td>0.000787</td>\n",
              "      <td>38586.198407</td>\n",
              "      <td>1</td>\n",
              "    </tr>\n",
              "    <tr>\n",
              "      <th>1</th>\n",
              "      <td>1</td>\n",
              "      <td>527</td>\n",
              "      <td>cagepair</td>\n",
              "      <td>24750.0</td>\n",
              "      <td>low slug</td>\n",
              "      <td>53212.637</td>\n",
              "      <td>0.295599</td>\n",
              "      <td>27042.548508</td>\n",
              "      <td>3827.200195</td>\n",
              "      <td>3.556462</td>\n",
              "      <td>20.402396</td>\n",
              "      <td>-0.000227</td>\n",
              "      <td>25690.421083</td>\n",
              "      <td>1</td>\n",
              "    </tr>\n",
              "    <tr>\n",
              "      <th>2</th>\n",
              "      <td>2</td>\n",
              "      <td>527</td>\n",
              "      <td>cagepair</td>\n",
              "      <td>56002.5</td>\n",
              "      <td>bbc</td>\n",
              "      <td>94253.766</td>\n",
              "      <td>0.189555</td>\n",
              "      <td>30090.095178</td>\n",
              "      <td>68103.292456</td>\n",
              "      <td>3.982554</td>\n",
              "      <td>18.393372</td>\n",
              "      <td>-0.002314</td>\n",
              "      <td>28585.590419</td>\n",
              "      <td>1</td>\n",
              "    </tr>\n",
              "    <tr>\n",
              "      <th>3</th>\n",
              "      <td>3</td>\n",
              "      <td>527</td>\n",
              "      <td>cagepair</td>\n",
              "      <td>174352.5</td>\n",
              "      <td>bbc</td>\n",
              "      <td>51008.836</td>\n",
              "      <td>0.306177</td>\n",
              "      <td>34324.170621</td>\n",
              "      <td>52563.703613</td>\n",
              "      <td>3.336529</td>\n",
              "      <td>10.448164</td>\n",
              "      <td>-0.001250</td>\n",
              "      <td>32607.962090</td>\n",
              "      <td>1</td>\n",
              "    </tr>\n",
              "    <tr>\n",
              "      <th>4</th>\n",
              "      <td>4</td>\n",
              "      <td>527</td>\n",
              "      <td>cagepair</td>\n",
              "      <td>342877.5</td>\n",
              "      <td>bbc</td>\n",
              "      <td>164846.110</td>\n",
              "      <td>0.144833</td>\n",
              "      <td>33090.921412</td>\n",
              "      <td>22861.514782</td>\n",
              "      <td>1.852232</td>\n",
              "      <td>3.185318</td>\n",
              "      <td>-0.001784</td>\n",
              "      <td>31436.375341</td>\n",
              "      <td>1</td>\n",
              "    </tr>\n",
              "  </tbody>\n",
              "</table>\n",
              "</div>"
            ],
            "text/plain": [
              "   Unnamed: 0  animal_number   session  time_stamp Annotation   power_sum  spec_pur     spec_cent    spec_spread  spec_skew  spec_kurt  spec_slope     spec_roll  class\n",
              "0           0            527  cagepair     18922.5  high slug   44921.600  0.335974  40617.050954  117729.192000   6.831866  48.160918    0.000787  38586.198407      1\n",
              "1           1            527  cagepair     24750.0   low slug   53212.637  0.295599  27042.548508    3827.200195   3.556462  20.402396   -0.000227  25690.421083      1\n",
              "2           2            527  cagepair     56002.5        bbc   94253.766  0.189555  30090.095178   68103.292456   3.982554  18.393372   -0.002314  28585.590419      1\n",
              "3           3            527  cagepair    174352.5        bbc   51008.836  0.306177  34324.170621   52563.703613   3.336529  10.448164   -0.001250  32607.962090      1\n",
              "4           4            527  cagepair    342877.5        bbc  164846.110  0.144833  33090.921412   22861.514782   1.852232   3.185318   -0.001784  31436.375341      1"
            ]
          },
          "metadata": {
            "tags": []
          },
          "execution_count": 7
        }
      ]
    },
    {
      "metadata": {
        "id": "FYTTeBymrfos",
        "colab_type": "code",
        "outputId": "4950896b-a559-40bd-cf92-d666a6c313e8",
        "colab": {
          "base_uri": "https://localhost:8080/",
          "height": 170
        }
      },
      "cell_type": "code",
      "source": [
        "#separate and save for later testing dataset\n",
        "#stratify splitting by annotation types\n",
        "train_orig, test_orig = train_test_split(annot_features_full, test_size=0.3, random_state=1, stratify = annot_features_full.Annotation)\n",
        "print(train_orig.shape)\n",
        "print(test_orig.shape)\n",
        "print(train_orig['Annotation'].value_counts())"
      ],
      "execution_count": 0,
      "outputs": [
        {
          "output_type": "stream",
          "text": [
            "(671, 14)\n",
            "(288, 14)\n",
            "rand_noise    560\n",
            "low slug       42\n",
            "bbc            31\n",
            "high slug      19\n",
            "low multi      16\n",
            "high multi      3\n",
            "Name: Annotation, dtype: int64\n"
          ],
          "name": "stdout"
        }
      ]
    },
    {
      "metadata": {
        "id": "L6ISlKANrfpX",
        "colab_type": "code",
        "outputId": "f8e4a186-5615-4286-d0ed-be6a76846bdd",
        "colab": {
          "base_uri": "https://localhost:8080/",
          "height": 289
        }
      },
      "cell_type": "code",
      "source": [
        "#separate and save for later testing dataset\n",
        "train_validate, test_validate = train_test_split(train_orig, test_size=0.15, random_state=1, stratify = train_orig.Annotation)\n",
        "print(train_validate.shape)\n",
        "print(test_validate.shape)\n",
        "print(train_validate['Annotation'].value_counts())\n",
        "print(test_validate['Annotation'].value_counts())"
      ],
      "execution_count": 0,
      "outputs": [
        {
          "output_type": "stream",
          "text": [
            "(570, 14)\n",
            "(101, 14)\n",
            "rand_noise    476\n",
            "low slug       36\n",
            "bbc            26\n",
            "high slug      16\n",
            "low multi      14\n",
            "high multi      2\n",
            "Name: Annotation, dtype: int64\n",
            "rand_noise    84\n",
            "low slug       6\n",
            "bbc            5\n",
            "high slug      3\n",
            "low multi      2\n",
            "high multi     1\n",
            "Name: Annotation, dtype: int64\n"
          ],
          "name": "stdout"
        }
      ]
    },
    {
      "metadata": {
        "id": "_yB3aNYcrfqC",
        "colab_type": "code",
        "outputId": "534a3ea9-10f1-46f3-cd90-5b147825c585",
        "colab": {
          "base_uri": "https://localhost:8080/",
          "height": 377
        }
      },
      "cell_type": "code",
      "source": [
        "#upsample minority class (upsample to an equal number of noise samples)\n",
        "train_validate_maj = train_validate[train_validate['Annotation'] == 'rand_noise']\n",
        "train_validate_min = train_validate[train_validate['Annotation'] != 'rand_noise']\n",
        "\n",
        "train_validate_min_upsamples = resample(train_validate_min, replace=True, n_samples = len(train_validate_maj), random_state = 123)\n",
        "\n",
        "train_validate_upsamples = pd.concat([train_validate_min_upsamples, train_validate_maj])\n",
        "\n",
        "print(train_validate_upsamples.shape)\n",
        "print(train_validate_upsamples['Annotation'].value_counts())\n",
        "\n",
        "train_validate_upsamples.head()"
      ],
      "execution_count": 0,
      "outputs": [
        {
          "output_type": "stream",
          "text": [
            "(952, 14)\n",
            "rand_noise    476\n",
            "low slug      170\n",
            "bbc           125\n",
            "high slug      88\n",
            "low multi      80\n",
            "high multi     13\n",
            "Name: Annotation, dtype: int64\n"
          ],
          "name": "stdout"
        },
        {
          "output_type": "execute_result",
          "data": {
            "text/html": [
              "<div>\n",
              "<style scoped>\n",
              "    .dataframe tbody tr th:only-of-type {\n",
              "        vertical-align: middle;\n",
              "    }\n",
              "\n",
              "    .dataframe tbody tr th {\n",
              "        vertical-align: top;\n",
              "    }\n",
              "\n",
              "    .dataframe thead th {\n",
              "        text-align: right;\n",
              "    }\n",
              "</style>\n",
              "<table border=\"1\" class=\"dataframe\">\n",
              "  <thead>\n",
              "    <tr style=\"text-align: right;\">\n",
              "      <th></th>\n",
              "      <th>Unnamed: 0</th>\n",
              "      <th>animal_number</th>\n",
              "      <th>session</th>\n",
              "      <th>time_stamp</th>\n",
              "      <th>Annotation</th>\n",
              "      <th>power_sum</th>\n",
              "      <th>spec_pur</th>\n",
              "      <th>spec_cent</th>\n",
              "      <th>spec_spread</th>\n",
              "      <th>spec_skew</th>\n",
              "      <th>spec_kurt</th>\n",
              "      <th>spec_slope</th>\n",
              "      <th>spec_roll</th>\n",
              "      <th>class</th>\n",
              "    </tr>\n",
              "  </thead>\n",
              "  <tbody>\n",
              "    <tr>\n",
              "      <th>124</th>\n",
              "      <td>124</td>\n",
              "      <td>556</td>\n",
              "      <td>cagepair</td>\n",
              "      <td>41512.5</td>\n",
              "      <td>bbc</td>\n",
              "      <td>283922.600</td>\n",
              "      <td>0.105281</td>\n",
              "      <td>35128.433948</td>\n",
              "      <td>27613.082970</td>\n",
              "      <td>1.746885</td>\n",
              "      <td>2.369667</td>\n",
              "      <td>-0.001916</td>\n",
              "      <td>33372.012250</td>\n",
              "      <td>1</td>\n",
              "    </tr>\n",
              "    <tr>\n",
              "      <th>49</th>\n",
              "      <td>49</td>\n",
              "      <td>535</td>\n",
              "      <td>CPApair</td>\n",
              "      <td>201847.5</td>\n",
              "      <td>low slug</td>\n",
              "      <td>114278.914</td>\n",
              "      <td>0.151498</td>\n",
              "      <td>16245.921214</td>\n",
              "      <td>18541.400530</td>\n",
              "      <td>5.060017</td>\n",
              "      <td>27.840860</td>\n",
              "      <td>-0.001240</td>\n",
              "      <td>15433.625153</td>\n",
              "      <td>1</td>\n",
              "    </tr>\n",
              "    <tr>\n",
              "      <th>131</th>\n",
              "      <td>131</td>\n",
              "      <td>556</td>\n",
              "      <td>cagepair</td>\n",
              "      <td>169807.5</td>\n",
              "      <td>high slug</td>\n",
              "      <td>47409.770</td>\n",
              "      <td>0.329336</td>\n",
              "      <td>30112.858088</td>\n",
              "      <td>13748.241415</td>\n",
              "      <td>6.074303</td>\n",
              "      <td>42.912236</td>\n",
              "      <td>-0.000247</td>\n",
              "      <td>28607.215183</td>\n",
              "      <td>1</td>\n",
              "    </tr>\n",
              "    <tr>\n",
              "      <th>137</th>\n",
              "      <td>137</td>\n",
              "      <td>556</td>\n",
              "      <td>cagepair</td>\n",
              "      <td>459967.5</td>\n",
              "      <td>high slug</td>\n",
              "      <td>88313.625</td>\n",
              "      <td>0.185218</td>\n",
              "      <td>34136.696251</td>\n",
              "      <td>175651.225991</td>\n",
              "      <td>6.314609</td>\n",
              "      <td>40.124449</td>\n",
              "      <td>-0.001435</td>\n",
              "      <td>32429.861439</td>\n",
              "      <td>1</td>\n",
              "    </tr>\n",
              "    <tr>\n",
              "      <th>147</th>\n",
              "      <td>147</td>\n",
              "      <td>557</td>\n",
              "      <td>cagepair</td>\n",
              "      <td>79177.5</td>\n",
              "      <td>bbc</td>\n",
              "      <td>121944.500</td>\n",
              "      <td>0.143545</td>\n",
              "      <td>31621.628971</td>\n",
              "      <td>96620.582439</td>\n",
              "      <td>3.463390</td>\n",
              "      <td>12.100880</td>\n",
              "      <td>-0.002297</td>\n",
              "      <td>30040.547522</td>\n",
              "      <td>1</td>\n",
              "    </tr>\n",
              "  </tbody>\n",
              "</table>\n",
              "</div>"
            ],
            "text/plain": [
              "     Unnamed: 0  animal_number   session  time_stamp Annotation   power_sum  spec_pur     spec_cent    spec_spread  spec_skew  spec_kurt  spec_slope     spec_roll  class\n",
              "124         124            556  cagepair     41512.5        bbc  283922.600  0.105281  35128.433948   27613.082970   1.746885   2.369667   -0.001916  33372.012250      1\n",
              "49           49            535   CPApair    201847.5   low slug  114278.914  0.151498  16245.921214   18541.400530   5.060017  27.840860   -0.001240  15433.625153      1\n",
              "131         131            556  cagepair    169807.5  high slug   47409.770  0.329336  30112.858088   13748.241415   6.074303  42.912236   -0.000247  28607.215183      1\n",
              "137         137            556  cagepair    459967.5  high slug   88313.625  0.185218  34136.696251  175651.225991   6.314609  40.124449   -0.001435  32429.861439      1\n",
              "147         147            557  cagepair     79177.5        bbc  121944.500  0.143545  31621.628971   96620.582439   3.463390  12.100880   -0.002297  30040.547522      1"
            ]
          },
          "metadata": {
            "tags": []
          },
          "execution_count": 10
        }
      ]
    },
    {
      "metadata": {
        "id": "ytgMS_xMXFsQ",
        "colab_type": "text"
      },
      "cell_type": "markdown",
      "source": [
        "**Preparing the spectrograms for training**"
      ]
    },
    {
      "metadata": {
        "id": "eDFeCMDwCDYi",
        "colab_type": "text"
      },
      "cell_type": "markdown",
      "source": [
        "Spectrograms can be treated as two-dimensional grayscale images, however, most popular convolutional neural networks have been trained on RGB images, so we will convert the spectrogram to an RGB image by choosing an appropritate colormap suitable for highlighting the acoustic events. "
      ]
    },
    {
      "metadata": {
        "id": "ojHT-d0drfqk",
        "colab_type": "code",
        "colab": {}
      },
      "cell_type": "code",
      "source": [
        "def square_rgb(xr_slice):\n",
        "    #takes in slice from netcdf file and reshapes to be compatible with keras pretrained model\n",
        "    times = data['times'].values\n",
        "    freqs = data['freq'].values\n",
        "    \n",
        "    #make square for Keras - need to interpolate data, first create function and then apply\n",
        "    x = np.arange(0, len(times))\n",
        "    y = np.arange(0, len(freqs))\n",
        "    f = interpolate.interp2d(x, y, xr_slice.values)\n",
        "    xnew = np.linspace(0, len(times), num=128)\n",
        "    ynew = np.linspace(0, len(freqs), num=128)\n",
        "    znew = f(xnew, ynew)\n",
        "\n",
        "    X = np.log(znew)\n",
        "    \n",
        "    #normalize and change to rgba (remove a)\n",
        "    X_colored = plt.cm.viridis((X - X.mean())/(X.max() - X.min()))\n",
        "    X_colored = X_colored[:,:,:3]\n",
        "    \n",
        "    return X_colored"
      ],
      "execution_count": 0,
      "outputs": []
    },
    {
      "metadata": {
        "id": "G1nDBud8rfrJ",
        "colab_type": "code",
        "outputId": "53713700-43ca-4467-ec52-ae4c54e24ff6",
        "colab": {
          "base_uri": "https://localhost:8080/",
          "height": 34
        }
      },
      "cell_type": "code",
      "source": [
        "#create keras compatible image for each annotation in train data set, save as np array\n",
        "rgbs = []\n",
        "i = 1\n",
        "for index, row in train_validate_upsamples.iterrows():\n",
        "    data = xr.open_dataset('/content/gdrive/Team Drives/USV_eScience_Incubator/Data/netcdf_files/Fear/' + str(row['animal_number']) + '_' +  str(row['session']) + '_xr_Dataset.nc')\n",
        "    \n",
        "    xr_slice = data['__xarray_dataarray_variable__'].sel(slices=row['time_stamp'])\n",
        "    \n",
        "    rgb = square_rgb(xr_slice)\n",
        "    \n",
        "    rgbs.append(rgb)\n",
        "    \n",
        "X = np.stack(rgbs)*255\n",
        "print(X.shape)"
      ],
      "execution_count": 0,
      "outputs": [
        {
          "output_type": "stream",
          "text": [
            "(952, 128, 128, 3)\n"
          ],
          "name": "stdout"
        }
      ]
    },
    {
      "metadata": {
        "id": "TOoqbMPHrfr2",
        "colab_type": "code",
        "outputId": "db79477e-e0c0-452e-f3b1-3c87a4472c9d",
        "colab": {
          "base_uri": "https://localhost:8080/",
          "height": 34
        }
      },
      "cell_type": "code",
      "source": [
        "y = train_validate_upsamples['class']\n",
        "y.shape"
      ],
      "execution_count": 0,
      "outputs": [
        {
          "output_type": "execute_result",
          "data": {
            "text/plain": [
              "(952,)"
            ]
          },
          "metadata": {
            "tags": []
          },
          "execution_count": 13
        }
      ]
    },
    {
      "metadata": {
        "id": "Trqv72W2XYR_",
        "colab_type": "text"
      },
      "cell_type": "markdown",
      "source": [
        "**Preparing data for training and testing**"
      ]
    },
    {
      "metadata": {
        "id": "8CBXV6dwrfsV",
        "colab_type": "code",
        "outputId": "9bf5e5aa-5e05-4010-dfcb-dd003c22a249",
        "colab": {
          "base_uri": "https://localhost:8080/",
          "height": 34
        }
      },
      "cell_type": "code",
      "source": [
        "#create keras compatible image for each annotation in test data set, save as np array\n",
        "rgbs_test = []\n",
        "i = 1\n",
        "for index, row in test_validate.iterrows():\n",
        "    data = xr.open_dataset('/content/gdrive/Team Drives/USV_eScience_Incubator/Data/netcdf_files/Fear/' + str(row['animal_number'])  + '_' +  str(row['session']) + '_xr_Dataset.nc')\n",
        "    \n",
        "    xr_slice = data['__xarray_dataarray_variable__'].sel(slices=row['time_stamp'])\n",
        "    \n",
        "    rgb = square_rgb(xr_slice)\n",
        "\n",
        "    rgbs_test.append(rgb)\n",
        "    \n",
        "X_test = np.stack(rgbs_test)*255\n",
        "print(X_test.shape)"
      ],
      "execution_count": 0,
      "outputs": [
        {
          "output_type": "stream",
          "text": [
            "(101, 128, 128, 3)\n"
          ],
          "name": "stdout"
        }
      ]
    },
    {
      "metadata": {
        "id": "kSd2_tg0rftC",
        "colab_type": "code",
        "outputId": "3fcf6a44-6cb4-4f36-d85c-4ef8208b7d8a",
        "colab": {
          "base_uri": "https://localhost:8080/",
          "height": 34
        }
      },
      "cell_type": "code",
      "source": [
        "y_test = test_validate['class']\n",
        "y_test.shape"
      ],
      "execution_count": 0,
      "outputs": [
        {
          "output_type": "execute_result",
          "data": {
            "text/plain": [
              "(101,)"
            ]
          },
          "metadata": {
            "tags": []
          },
          "execution_count": 15
        }
      ]
    },
    {
      "metadata": {
        "id": "hE-mB2j_rftx",
        "colab_type": "code",
        "outputId": "053c3d79-e26a-4ea8-8f5b-207bb0f0defb",
        "colab": {
          "base_uri": "https://localhost:8080/",
          "height": 34
        }
      },
      "cell_type": "code",
      "source": [
        "import keras\n",
        "from keras.layers import Dense,GlobalAveragePooling2D\n",
        "from keras.applications import MobileNet\n",
        "from keras.preprocessing import image\n",
        "from keras.applications.mobilenet import preprocess_input\n",
        "from keras.preprocessing.image import ImageDataGenerator\n",
        "from keras.models import Model\n",
        "from keras.optimizers import Adam\n",
        "\n",
        "from keras.layers import Dropout, Activation\n",
        "from keras.layers.normalization import BatchNormalization\n",
        "from sklearn.model_selection import train_test_split\n",
        "from keras.callbacks import ModelCheckpoint, EarlyStopping, ReduceLROnPlateau, CSVLogger, Callback\n",
        "from sklearn.metrics import confusion_matrix, f1_score, precision_score, recall_score\n",
        "from tensorboardcolab import TensorBoardColab, TensorBoardColabCallback"
      ],
      "execution_count": 0,
      "outputs": [
        {
          "output_type": "stream",
          "text": [
            "Using TensorFlow backend.\n"
          ],
          "name": "stderr"
        }
      ]
    },
    {
      "metadata": {
        "id": "NDr3lv-8XnwO",
        "colab_type": "text"
      },
      "cell_type": "markdown",
      "source": [
        "We will use the [MobileNet](https://github.com/tensorflow/models/blob/master/research/slim/nets/mobilenet_v1.md) pretrained network. It is a network fast to train and it allows small input sizes: 128x128 which is more aligned with our data. It is good starting point. It has been trained on [ImageNet], which contains thousands of categories: from cats, dogs to tape worms and tomatoes. Those categories have nothing directly related to spectrograms and sound but they have been proven useful for extracting features from the images in applications outside the scope of ImageNet. We will not include the top layer since we have a different set of output classes."
      ]
    },
    {
      "metadata": {
        "id": "tuMCeLUfrfuJ",
        "colab_type": "code",
        "outputId": "71625baf-9e43-417f-baca-a4b93e9ac564",
        "colab": {
          "base_uri": "https://localhost:8080/",
          "height": 122
        }
      },
      "cell_type": "code",
      "source": [
        "base_model=MobileNet(input_shape = (128,128,3), include_top=False) #imports the mobilenet model and discards the last 1000 neuron layer."
      ],
      "execution_count": 0,
      "outputs": [
        {
          "output_type": "stream",
          "text": [
            "WARNING:tensorflow:From /usr/local/lib/python3.6/dist-packages/tensorflow/python/framework/op_def_library.py:263: colocate_with (from tensorflow.python.framework.ops) is deprecated and will be removed in a future version.\n",
            "Instructions for updating:\n",
            "Colocations handled automatically by placer.\n",
            "Downloading data from https://github.com/fchollet/deep-learning-models/releases/download/v0.6/mobilenet_1_0_128_tf_no_top.h5\n",
            "17227776/17225924 [==============================] - 0s 0us/step\n"
          ],
          "name": "stdout"
        }
      ]
    },
    {
      "metadata": {
        "id": "mU-ZVJVSdsF3",
        "colab_type": "text"
      },
      "cell_type": "markdown",
      "source": [
        "In general, one adds several Dense layers on top of the model whose parameters can be fitted to our training data. To reduce the number of free parameters we will not add many Dense layers ."
      ]
    },
    {
      "metadata": {
        "id": "4rXRN3C-rful",
        "colab_type": "code",
        "colab": {}
      },
      "cell_type": "code",
      "source": [
        "x=base_model.output\n",
        "x=GlobalAveragePooling2D()(x)\n",
        "#x=Dense(1024,activation='relu')(x) #we add dense layers so that the model can learn more complex functions and classify for better results.\n",
        "#x=Dense(1024,activation='relu')(x) #dense layer 2\n",
        "#x=Dense(512,activation='relu')(x) #dense layer 3\n",
        "preds=Dense(1,activation='sigmoid', name='features')(x) #final layer with softmax activation"
      ],
      "execution_count": 0,
      "outputs": []
    },
    {
      "metadata": {
        "id": "HCiKAO62rfu9",
        "colab_type": "code",
        "colab": {}
      },
      "cell_type": "code",
      "source": [
        "model=Model(inputs=base_model.input,outputs=preds)"
      ],
      "execution_count": 0,
      "outputs": []
    },
    {
      "metadata": {
        "id": "WJOoEe_wf4-M",
        "colab_type": "text"
      },
      "cell_type": "markdown",
      "source": [
        "Again to reduce overfitting we will freeze most of the layers, in  a sense we will use the pretrained network as a feature extractor. But this is something to  experiment with. "
      ]
    },
    {
      "metadata": {
        "id": "L6Mt_7morfvS",
        "colab_type": "code",
        "colab": {}
      },
      "cell_type": "code",
      "source": [
        "for layer in model.layers[:-1]:\n",
        "    layer.trainable=False\n",
        "for layer in model.layers[-1:]:\n",
        "    layer.trainable=True"
      ],
      "execution_count": 0,
      "outputs": []
    },
    {
      "metadata": {
        "id": "r3j2xZRUmCU5",
        "colab_type": "text"
      },
      "cell_type": "markdown",
      "source": [
        "**Training**"
      ]
    },
    {
      "metadata": {
        "id": "Z9_t551hiXDK",
        "colab_type": "text"
      },
      "cell_type": "markdown",
      "source": [
        "Keras does not have built-in way to report precision and recall during training (partially because those can be misleading as the algorithm has not seen all data yet). However, we will add them to observe what is going on."
      ]
    },
    {
      "metadata": {
        "id": "aXPBXghUrfv4",
        "colab_type": "code",
        "colab": {}
      },
      "cell_type": "code",
      "source": [
        "from keras import backend as K\n",
        "\n",
        "# recall, precision and f1 functions (note that f1 calls the out of scope recall and precision functions)\n",
        "\n",
        "def recall(y_true, y_pred):\n",
        "    \"\"\"Recall metric.\n",
        "\n",
        "    Only computes a batch-wise average of recall.\n",
        "\n",
        "    Computes the recall, a metric for multi-label classification of\n",
        "    how many relevant items are selected.\n",
        "    \"\"\"\n",
        "    true_positives = K.sum(K.round(K.clip(y_true * y_pred, 0, 1)))\n",
        "    possible_positives = K.sum(K.round(K.clip(y_true, 0, 1)))\n",
        "    r = true_positives / (possible_positives + K.epsilon())\n",
        "    return r\n",
        "\n",
        "    \n",
        "def precision(y_true, y_pred):\n",
        "    \"\"\"Precision metric.\n",
        "\n",
        "    Only computes a batch-wise average of precision.\n",
        "\n",
        "    Computes the precision, a metric for multi-label classification of\n",
        "    how many selected items are relevant.\n",
        "    \"\"\"\n",
        "    true_positives = K.sum(K.round(K.clip(y_true * y_pred, 0, 1)))\n",
        "    predicted_positives = K.sum(K.round(K.clip(y_pred, 0, 1)))\n",
        "    p = true_positives / (predicted_positives + K.epsilon())\n",
        "    return p\n",
        "\n",
        "def f1(y_true, y_pred):\n",
        "    \n",
        "    p = precision(y_true, y_pred)\n",
        "    r = recall(y_true, y_pred)\n",
        "    \n",
        "    return 2*((p*r)/(p+r+K.epsilon()))"
      ],
      "execution_count": 0,
      "outputs": []
    },
    {
      "metadata": {
        "id": "4JSuLsDwrfwd",
        "colab_type": "code",
        "colab": {}
      },
      "cell_type": "code",
      "source": [
        "model.compile(optimizer='Adam',loss='binary_crossentropy',metrics=[f1, precision, recall])"
      ],
      "execution_count": 0,
      "outputs": []
    },
    {
      "metadata": {
        "id": "AF7M8JT1HVx1",
        "colab_type": "code",
        "colab": {}
      },
      "cell_type": "code",
      "source": [
        "batch_size = 64"
      ],
      "execution_count": 0,
      "outputs": []
    },
    {
      "metadata": {
        "id": "ogGgXrE2mMcs",
        "colab_type": "text"
      },
      "cell_type": "markdown",
      "source": [
        "We do not want the algorithm to be biased to the location in time where the USV call occurs so we will shift some of the spectrograms in the time domain. As we want to distinguish between calls at different frequences, we will not shift in the frequency domain."
      ]
    },
    {
      "metadata": {
        "id": "o7lq04zgrfw3",
        "colab_type": "code",
        "colab": {}
      },
      "cell_type": "code",
      "source": [
        "# turning off the featurewise_center and the feature_std_normalization.\n",
        "train_datagen=ImageDataGenerator(featurewise_center=False,\n",
        "    featurewise_std_normalization=False, width_shift_range=0.2, fill_mode='reflect', preprocessing_function=preprocess_input) #included in our dependencies\n",
        "\n",
        "train_generator=train_datagen.flow(X, y, batch_size=batch_size, shuffle=True)"
      ],
      "execution_count": 0,
      "outputs": []
    },
    {
      "metadata": {
        "id": "Ia93rXg7rfxQ",
        "colab_type": "code",
        "colab": {}
      },
      "cell_type": "code",
      "source": [
        "# defining the validation generator: we need to apply the same preprocessing as the ones on the training set\n",
        "test_datagen = ImageDataGenerator(preprocessing_function=preprocess_input)\n",
        "\n",
        "validation_generator = test_datagen.flow(X_test, y_test, batch_size=batch_size, shuffle=True)"
      ],
      "execution_count": 0,
      "outputs": []
    },
    {
      "metadata": {
        "id": "GYhFwJQfrfxp",
        "colab_type": "code",
        "outputId": "5f12b0f5-0f4a-4855-df6d-535a73328079",
        "colab": {
          "base_uri": "https://localhost:8080/",
          "height": 68
        }
      },
      "cell_type": "code",
      "source": [
        "# it stopped working for Valentina\n",
        "\n",
        "log_dir='/content/gdrive/Team Drives/USV_eScience_Incubator/Data/TF_logs/run_a'\n",
        "\n",
        "with open(join(log_dir, 'metadata.tsv'), 'w') as f:\n",
        "   f.write('Index\\tLabel\\n')\n",
        "   for index,label in enumerate(y_test):\n",
        "       f.write('%d\\t%d\\n' % (index,label))\n",
        "\n",
        "#tensorboard = TensorBoard(log_dir=log_dir, histogram_freq=1, batch_size=32, write_graph=True, write_grads=False, write_images=True, embeddings_freq=1, embeddings_layer_names=['features'], embeddings_metadata=join(log_dir, 'metadata.tsv'), embeddings_data=X_test, update_freq='epoch')\n",
        "\n",
        "tbc = TensorBoardColab()\n",
        "\n",
        "callbacks_list = [\n",
        "    EarlyStopping(monitor = 'val_acc', patience = 6, verbose = 1),\n",
        "    ReduceLROnPlateau(monitor = 'val_acc', factor = 0.1, patience = 3, verbose = 1), [TensorBoardColabCallback(tbc)]]"
      ],
      "execution_count": 0,
      "outputs": [
        {
          "output_type": "stream",
          "text": [
            "Wait for 8 seconds...\n",
            "TensorBoard link:\n",
            "https://70d02137.ngrok.io\n"
          ],
          "name": "stdout"
        }
      ]
    },
    {
      "metadata": {
        "id": "0Rd9PJzkrfyK",
        "colab_type": "code",
        "colab": {}
      },
      "cell_type": "code",
      "source": [
        "# we will use the validation generator, not the test datasets directly\n",
        "\n",
        "#step_size_train=train_generator.n//train_generator.batch_size\n",
        "\n",
        "#model.fit_generator(generator=train_generator, steps_per_epoch=step_size_train,\n",
        "#                   epochs=9,\n",
        "#                   validation_data = [X_test, y_test],\n",
        "#                callbacks=[TensorBoardColabCallback(tbc)])\n",
        "#\n",
        "#model.fit_generator(train_generator, steps_per_epoch=num_of_train_samples // batch_size, epochs=epochs, validation_data=validation_generator, validation_steps=num_of_test_samples // batch_size)"
      ],
      "execution_count": 0,
      "outputs": []
    },
    {
      "metadata": {
        "id": "Xr_FPYcUrfyu",
        "colab_type": "code",
        "colab": {}
      },
      "cell_type": "code",
      "source": [
        "# stopped working for Valentina\n",
        "\n",
        "# command for starting tensorboard from terminal\n",
        "\n",
        "# !python -m tensorboard.main --logdir='/content/gdrive/Team Drives/USV_eScience_Incubator/Data/TF_logs/run_a/'"
      ],
      "execution_count": 0,
      "outputs": []
    },
    {
      "metadata": {
        "id": "LFu2nBneNgH-",
        "colab_type": "code",
        "colab": {}
      },
      "cell_type": "code",
      "source": [
        "#ls /content/gdrive/Team\\ Drives/USV_eScience_Incubator/Data/TF_logs/run_a"
      ],
      "execution_count": 0,
      "outputs": []
    },
    {
      "metadata": {
        "id": "hlCmt5KWI0qB",
        "colab_type": "code",
        "outputId": "83355f5a-f5c7-47d5-ce49-d3c4f21bbb4f",
        "colab": {
          "base_uri": "https://localhost:8080/",
          "height": 34
        }
      },
      "cell_type": "code",
      "source": [
        "num_of_train_samples = X.shape[0]\n",
        "num_of_test_samples = X_test.shape[0]\n",
        "print(num_of_train_samples)"
      ],
      "execution_count": 0,
      "outputs": [
        {
          "output_type": "stream",
          "text": [
            "952\n"
          ],
          "name": "stdout"
        }
      ]
    },
    {
      "metadata": {
        "id": "z-EzbmMDrfzi",
        "colab_type": "code",
        "outputId": "72327c4f-0bde-47a6-de41-efafa69eaf30",
        "colab": {
          "base_uri": "https://localhost:8080/",
          "height": 1788
        }
      },
      "cell_type": "code",
      "source": [
        "num_of_train_samples = X.shape[0]\n",
        "num_of_test_samples = X_test.shape[0]\n",
        "history = model.fit_generator(train_generator, steps_per_epoch=num_of_train_samples // batch_size, epochs=50, \n",
        "                    validation_data=validation_generator, validation_steps= num_of_test_samples // batch_size,\n",
        "                    callbacks=[TensorBoardColabCallback(tbc)])"
      ],
      "execution_count": 0,
      "outputs": [
        {
          "output_type": "stream",
          "text": [
            "WARNING:tensorflow:From /usr/local/lib/python3.6/dist-packages/tensorflow/python/ops/math_ops.py:3066: to_int32 (from tensorflow.python.ops.math_ops) is deprecated and will be removed in a future version.\n",
            "Instructions for updating:\n",
            "Use tf.cast instead.\n",
            "Epoch 1/50\n",
            "14/14 [==============================] - 6s 420ms/step - loss: 0.6739 - f1: 0.6183 - precision: 0.6358 - recall: 0.6294 - val_loss: 0.5154 - val_f1: 0.3200 - val_precision: 0.2667 - val_recall: 0.4000\n",
            "Epoch 2/50\n",
            "14/14 [==============================] - 4s 270ms/step - loss: 0.5584 - f1: 0.7236 - precision: 0.7736 - recall: 0.6924 - val_loss: 0.4823 - val_f1: 0.1538 - val_precision: 0.1667 - val_recall: 0.1429\n",
            "Epoch 3/50\n",
            "14/14 [==============================] - 4s 251ms/step - loss: 0.5191 - f1: 0.7689 - precision: 0.7561 - recall: 0.7901 - val_loss: 0.4575 - val_f1: 0.1667 - val_precision: 0.5000 - val_recall: 0.1000\n",
            "Epoch 4/50\n",
            "14/14 [==============================] - 4s 262ms/step - loss: 0.4916 - f1: 0.7718 - precision: 0.8008 - recall: 0.7508 - val_loss: 0.3992 - val_f1: 0.4444 - val_precision: 1.0000 - val_recall: 0.2857\n",
            "Epoch 5/50\n",
            "14/14 [==============================] - 4s 263ms/step - loss: 0.4709 - f1: 0.7738 - precision: 0.8043 - recall: 0.7563 - val_loss: 0.4696 - val_f1: 0.1176 - val_precision: 0.5000 - val_recall: 0.0667\n",
            "Epoch 6/50\n",
            "14/14 [==============================] - 4s 260ms/step - loss: 0.4565 - f1: 0.7985 - precision: 0.7969 - recall: 0.8091 - val_loss: 0.2687 - val_f1: 0.0000e+00 - val_precision: 0.0000e+00 - val_recall: 0.0000e+00\n",
            "Epoch 7/50\n",
            "14/14 [==============================] - 4s 264ms/step - loss: 0.4834 - f1: 0.7633 - precision: 0.8163 - recall: 0.7362 - val_loss: 0.4369 - val_f1: 0.2500 - val_precision: 0.6667 - val_recall: 0.1538\n",
            "Epoch 8/50\n",
            "14/14 [==============================] - 4s 259ms/step - loss: 0.4342 - f1: 0.7969 - precision: 0.8281 - recall: 0.7785 - val_loss: 0.3390 - val_f1: 0.0000e+00 - val_precision: 0.0000e+00 - val_recall: 0.0000e+00\n",
            "Epoch 9/50\n",
            "14/14 [==============================] - 4s 259ms/step - loss: 0.3992 - f1: 0.8361 - precision: 0.8344 - recall: 0.8421 - val_loss: 0.3962 - val_f1: 0.1667 - val_precision: 1.0000 - val_recall: 0.0909\n",
            "Epoch 10/50\n",
            "14/14 [==============================] - 4s 261ms/step - loss: 0.3988 - f1: 0.8014 - precision: 0.8388 - recall: 0.7767 - val_loss: 0.4012 - val_f1: 0.0000e+00 - val_precision: 0.0000e+00 - val_recall: 0.0000e+00\n",
            "Epoch 11/50\n",
            "14/14 [==============================] - 4s 259ms/step - loss: 0.3938 - f1: 0.8212 - precision: 0.8258 - recall: 0.8265 - val_loss: 0.4316 - val_f1: 0.1667 - val_precision: 1.0000 - val_recall: 0.0909\n",
            "Epoch 12/50\n",
            "14/14 [==============================] - 4s 255ms/step - loss: 0.3774 - f1: 0.8205 - precision: 0.8522 - recall: 0.8018 - val_loss: 0.3164 - val_f1: 0.2857 - val_precision: 1.0000 - val_recall: 0.1667\n",
            "Epoch 13/50\n",
            "14/14 [==============================] - 4s 260ms/step - loss: 0.3678 - f1: 0.8354 - precision: 0.8260 - recall: 0.8505 - val_loss: 0.4024 - val_f1: 0.1538 - val_precision: 1.0000 - val_recall: 0.0833\n",
            "Epoch 14/50\n",
            "14/14 [==============================] - 4s 257ms/step - loss: 0.3727 - f1: 0.8313 - precision: 0.8737 - recall: 0.8040 - val_loss: 0.3526 - val_f1: 0.3333 - val_precision: 1.0000 - val_recall: 0.2000\n",
            "Epoch 15/50\n",
            "14/14 [==============================] - 4s 263ms/step - loss: 0.3636 - f1: 0.8402 - precision: 0.8653 - recall: 0.8250 - val_loss: 0.3074 - val_f1: 0.2500 - val_precision: 1.0000 - val_recall: 0.1429\n",
            "Epoch 16/50\n",
            "14/14 [==============================] - 4s 268ms/step - loss: 0.3475 - f1: 0.8558 - precision: 0.8679 - recall: 0.8517 - val_loss: 0.5104 - val_f1: 0.0000e+00 - val_precision: 0.0000e+00 - val_recall: 0.0000e+00\n",
            "Epoch 17/50\n",
            "14/14 [==============================] - 4s 264ms/step - loss: 0.3452 - f1: 0.8489 - precision: 0.8659 - recall: 0.8529 - val_loss: 0.4055 - val_f1: 0.0000e+00 - val_precision: 0.0000e+00 - val_recall: 0.0000e+00\n",
            "Epoch 18/50\n",
            "14/14 [==============================] - 4s 261ms/step - loss: 0.3207 - f1: 0.8537 - precision: 0.8829 - recall: 0.8325 - val_loss: 0.3825 - val_f1: 0.5714 - val_precision: 1.0000 - val_recall: 0.4000\n",
            "Epoch 19/50\n",
            "14/14 [==============================] - 4s 263ms/step - loss: 0.3548 - f1: 0.8281 - precision: 0.8414 - recall: 0.8264 - val_loss: 0.3663 - val_f1: 0.0000e+00 - val_precision: 0.0000e+00 - val_recall: 0.0000e+00\n",
            "Epoch 20/50\n",
            "14/14 [==============================] - 4s 259ms/step - loss: 0.3315 - f1: 0.8738 - precision: 0.8590 - recall: 0.8928 - val_loss: 0.4114 - val_f1: 0.5455 - val_precision: 1.0000 - val_recall: 0.3750\n",
            "Epoch 21/50\n",
            "14/14 [==============================] - 4s 264ms/step - loss: 0.3077 - f1: 0.8594 - precision: 0.8828 - recall: 0.8400 - val_loss: 0.3759 - val_f1: 0.0000e+00 - val_precision: 0.0000e+00 - val_recall: 0.0000e+00\n",
            "Epoch 22/50\n",
            "14/14 [==============================] - 4s 259ms/step - loss: 0.3192 - f1: 0.8711 - precision: 0.8718 - recall: 0.8776 - val_loss: 0.3983 - val_f1: 0.5455 - val_precision: 1.0000 - val_recall: 0.3750\n",
            "Epoch 23/50\n",
            "14/14 [==============================] - 4s 261ms/step - loss: 0.3179 - f1: 0.8514 - precision: 0.8885 - recall: 0.8223 - val_loss: 0.3254 - val_f1: 0.5000 - val_precision: 1.0000 - val_recall: 0.3333\n",
            "Epoch 24/50\n",
            "14/14 [==============================] - 4s 259ms/step - loss: 0.2940 - f1: 0.8826 - precision: 0.8796 - recall: 0.8920 - val_loss: 0.4736 - val_f1: 0.5333 - val_precision: 1.0000 - val_recall: 0.3636\n",
            "Epoch 25/50\n",
            "14/14 [==============================] - 4s 259ms/step - loss: 0.3015 - f1: 0.8673 - precision: 0.8880 - recall: 0.8527 - val_loss: 0.3579 - val_f1: 0.4286 - val_precision: 0.7500 - val_recall: 0.3000\n",
            "Epoch 26/50\n",
            "14/14 [==============================] - 4s 257ms/step - loss: 0.3308 - f1: 0.8511 - precision: 0.8410 - recall: 0.8716 - val_loss: 0.4325 - val_f1: 0.2500 - val_precision: 1.0000 - val_recall: 0.1429\n",
            "Epoch 27/50\n",
            "14/14 [==============================] - 4s 259ms/step - loss: 0.3072 - f1: 0.8602 - precision: 0.8865 - recall: 0.8435 - val_loss: 0.3782 - val_f1: 0.0000e+00 - val_precision: 0.0000e+00 - val_recall: 0.0000e+00\n",
            "Epoch 28/50\n",
            "14/14 [==============================] - 4s 259ms/step - loss: 0.2890 - f1: 0.8848 - precision: 0.9041 - recall: 0.8723 - val_loss: 0.3932 - val_f1: 0.6154 - val_precision: 1.0000 - val_recall: 0.4444\n",
            "Epoch 29/50\n",
            "14/14 [==============================] - 4s 267ms/step - loss: 0.3025 - f1: 0.8800 - precision: 0.8746 - recall: 0.8944 - val_loss: 0.3388 - val_f1: 0.5000 - val_precision: 1.0000 - val_recall: 0.3333\n",
            "Epoch 30/50\n",
            "14/14 [==============================] - 4s 258ms/step - loss: 0.3016 - f1: 0.8689 - precision: 0.8976 - recall: 0.8518 - val_loss: 0.4665 - val_f1: 0.5000 - val_precision: 0.7500 - val_recall: 0.3750\n",
            "Epoch 31/50\n",
            "14/14 [==============================] - 4s 264ms/step - loss: 0.2953 - f1: 0.8685 - precision: 0.8965 - recall: 0.8510 - val_loss: 0.4072 - val_f1: 0.5882 - val_precision: 1.0000 - val_recall: 0.4167\n",
            "Epoch 32/50\n",
            "14/14 [==============================] - 4s 259ms/step - loss: 0.3007 - f1: 0.8784 - precision: 0.8610 - recall: 0.9051 - val_loss: 0.3817 - val_f1: 0.2857 - val_precision: 0.5000 - val_recall: 0.2000\n",
            "Epoch 33/50\n",
            "14/14 [==============================] - 4s 261ms/step - loss: 0.2922 - f1: 0.8623 - precision: 0.9013 - recall: 0.8331 - val_loss: 0.4562 - val_f1: 0.5882 - val_precision: 0.8333 - val_recall: 0.4545\n",
            "Epoch 34/50\n",
            "14/14 [==============================] - 4s 258ms/step - loss: 0.2595 - f1: 0.8977 - precision: 0.9001 - recall: 0.9009 - val_loss: 0.4123 - val_f1: 0.6000 - val_precision: 0.7500 - val_recall: 0.5000\n",
            "Epoch 35/50\n",
            "14/14 [==============================] - 4s 260ms/step - loss: 0.2778 - f1: 0.8877 - precision: 0.8946 - recall: 0.8851 - val_loss: 0.4775 - val_f1: 0.4211 - val_precision: 0.5714 - val_recall: 0.3333\n",
            "Epoch 36/50\n",
            "14/14 [==============================] - 4s 258ms/step - loss: 0.2786 - f1: 0.8790 - precision: 0.8817 - recall: 0.8838 - val_loss: 0.3581 - val_f1: 0.7500 - val_precision: 1.0000 - val_recall: 0.6000\n",
            "Epoch 37/50\n",
            "14/14 [==============================] - 4s 259ms/step - loss: 0.2721 - f1: 0.9024 - precision: 0.9047 - recall: 0.9023 - val_loss: 0.4560 - val_f1: 0.5714 - val_precision: 0.8571 - val_recall: 0.4286\n",
            "Epoch 38/50\n",
            "14/14 [==============================] - 4s 258ms/step - loss: 0.2871 - f1: 0.8702 - precision: 0.8829 - recall: 0.8658 - val_loss: 0.4134 - val_f1: 0.6000 - val_precision: 0.4286 - val_recall: 1.0000\n",
            "Epoch 39/50\n",
            "14/14 [==============================] - 4s 261ms/step - loss: 0.2379 - f1: 0.9106 - precision: 0.9182 - recall: 0.9056 - val_loss: 0.4430 - val_f1: 0.4444 - val_precision: 0.5714 - val_recall: 0.3636\n",
            "Epoch 40/50\n",
            "14/14 [==============================] - 4s 258ms/step - loss: 0.2904 - f1: 0.8804 - precision: 0.8871 - recall: 0.8799 - val_loss: 0.4382 - val_f1: 0.6667 - val_precision: 0.6667 - val_recall: 0.6667\n",
            "Epoch 41/50\n",
            "14/14 [==============================] - 4s 264ms/step - loss: 0.2681 - f1: 0.8872 - precision: 0.8792 - recall: 0.8989 - val_loss: 0.4238 - val_f1: 0.5556 - val_precision: 0.8333 - val_recall: 0.4167\n",
            "Epoch 42/50\n",
            "14/14 [==============================] - 4s 264ms/step - loss: 0.2701 - f1: 0.8963 - precision: 0.9165 - recall: 0.8814 - val_loss: 0.6025 - val_f1: 0.5000 - val_precision: 0.3333 - val_recall: 1.0000\n",
            "Epoch 43/50\n",
            "14/14 [==============================] - 4s 269ms/step - loss: 0.2701 - f1: 0.8835 - precision: 0.8835 - recall: 0.8953 - val_loss: 0.4682 - val_f1: 0.4545 - val_precision: 0.6250 - val_recall: 0.3571\n",
            "Epoch 44/50\n",
            "14/14 [==============================] - 4s 260ms/step - loss: 0.2780 - f1: 0.8882 - precision: 0.8777 - recall: 0.9091 - val_loss: 0.3615 - val_f1: 0.8000 - val_precision: 1.0000 - val_recall: 0.6667\n",
            "Epoch 45/50\n",
            "14/14 [==============================] - 4s 264ms/step - loss: 0.2508 - f1: 0.9024 - precision: 0.9250 - recall: 0.8840 - val_loss: 0.5210 - val_f1: 0.4762 - val_precision: 0.3571 - val_recall: 0.7143\n",
            "Epoch 46/50\n",
            "14/14 [==============================] - 4s 262ms/step - loss: 0.2400 - f1: 0.9016 - precision: 0.9063 - recall: 0.9009 - val_loss: 0.5244 - val_f1: 0.5714 - val_precision: 0.5455 - val_recall: 0.6000\n",
            "Epoch 47/50\n",
            "14/14 [==============================] - 4s 261ms/step - loss: 0.2579 - f1: 0.8859 - precision: 0.9104 - recall: 0.8714 - val_loss: 0.5088 - val_f1: 0.4545 - val_precision: 0.3846 - val_recall: 0.5556\n",
            "Epoch 48/50\n",
            "14/14 [==============================] - 4s 261ms/step - loss: 0.2495 - f1: 0.9109 - precision: 0.9065 - recall: 0.9202 - val_loss: 0.4257 - val_f1: 0.5714 - val_precision: 0.6667 - val_recall: 0.5000\n",
            "Epoch 49/50\n",
            "14/14 [==============================] - 4s 262ms/step - loss: 0.2537 - f1: 0.8894 - precision: 0.9212 - recall: 0.8647 - val_loss: 0.5237 - val_f1: 0.5714 - val_precision: 0.4706 - val_recall: 0.7273\n",
            "Epoch 50/50\n",
            "14/14 [==============================] - 4s 260ms/step - loss: 0.2601 - f1: 0.8962 - precision: 0.9060 - recall: 0.8914 - val_loss: 0.5286 - val_f1: 0.4615 - val_precision: 0.4286 - val_recall: 0.5000\n"
          ],
          "name": "stdout"
        }
      ]
    },
    {
      "metadata": {
        "id": "J6fLf8zKaX5r",
        "colab_type": "code",
        "colab": {}
      },
      "cell_type": "code",
      "source": [
        ""
      ],
      "execution_count": 0,
      "outputs": []
    },
    {
      "metadata": {
        "id": "DtX2G5Zxrf0Z",
        "colab_type": "code",
        "colab": {}
      },
      "cell_type": "code",
      "source": [
        ""
      ],
      "execution_count": 0,
      "outputs": []
    },
    {
      "metadata": {
        "id": "cCXeehqpZVfT",
        "colab_type": "text"
      },
      "cell_type": "markdown",
      "source": [
        "Saving the model and its weights."
      ]
    },
    {
      "metadata": {
        "id": "Gl_tKiKGQlOx",
        "colab_type": "code",
        "colab": {}
      },
      "cell_type": "code",
      "source": [
        "#from keras.models import model_from_json\n",
        "## serialize model to JSON\n",
        "#model_json = model.to_json()\n",
        "#with open(\"model.json\", \"w\") as json_file:\n",
        "#    json_file.write(model_json)\n",
        "# serialize weights to HDF5\n",
        "#model.save_weights(\"model.h5\")\n",
        "#print(\"Saved model to disk\")\n",
        " \n",
        "# later...\n",
        " \n",
        "# load json and create model\n",
        "#json_file = open('model.json', 'r')\n",
        "#loaded_model_json = json_file.read()\n",
        "#json_file.close()\n",
        "#loaded_model = model_from_json(loaded_model_json)\n",
        "# load weights into new model\n",
        "#loaded_model.load_weights(\"model.h5\")\n",
        "#print(\"Loaded model from disk\")\n",
        " \n",
        "# evaluate loaded model on test data\n",
        "#loaded_model.compile(loss='binary_crossentropy', optimizer='Adam', metrics=[f1,precision,recall])\n",
        "#score = loaded_model.evaluate(X, y, verbose=0)\n",
        "#print(\"%s: %.2f%%\" % (loaded_model.metrics_names[1], score[1]*100))\n"
      ],
      "execution_count": 0,
      "outputs": []
    },
    {
      "metadata": {
        "id": "YaILOnPobkWC",
        "colab_type": "code",
        "colab": {}
      },
      "cell_type": "code",
      "source": [
        ""
      ],
      "execution_count": 0,
      "outputs": []
    },
    {
      "metadata": {
        "id": "09t31dssQn4X",
        "colab_type": "text"
      },
      "cell_type": "markdown",
      "source": [
        "**Performance on the Validation Set**"
      ]
    },
    {
      "metadata": {
        "id": "P62gk5cdrf09",
        "colab_type": "code",
        "colab": {}
      },
      "cell_type": "code",
      "source": [
        "\n",
        "X_test_temp = X_test.copy()\n",
        "Y_pred = model.predict(preprocess_input(X_test_temp))\n",
        "y_pred = (Y_pred>0.5)"
      ],
      "execution_count": 0,
      "outputs": []
    },
    {
      "metadata": {
        "id": "d9Z4MfnrtnIu",
        "colab_type": "code",
        "outputId": "c03a6600-2876-4d06-dc26-b1b540523108",
        "colab": {
          "base_uri": "https://localhost:8080/",
          "height": 51
        }
      },
      "cell_type": "code",
      "source": [
        "score = model.evaluate(X_test_temp,y_test)\n",
        "print(\"%s: %.2f%%\" % (model.metrics_names[1], score[1]*100))"
      ],
      "execution_count": 0,
      "outputs": [
        {
          "output_type": "stream",
          "text": [
            "101/101 [==============================] - 0s 1ms/step\n",
            "f1: 52.27%\n"
          ],
          "name": "stdout"
        }
      ]
    },
    {
      "metadata": {
        "id": "-2ldVkjonivq",
        "colab_type": "code",
        "colab": {}
      },
      "cell_type": "code",
      "source": [
        ""
      ],
      "execution_count": 0,
      "outputs": []
    },
    {
      "metadata": {
        "id": "-2W7oVvmrf1a",
        "colab_type": "code",
        "colab": {}
      },
      "cell_type": "code",
      "source": [
        ""
      ],
      "execution_count": 0,
      "outputs": []
    },
    {
      "metadata": {
        "id": "1EdI0cNnrf1v",
        "colab_type": "code",
        "outputId": "d698dd50-16d4-486b-fad4-2d4359648a60",
        "colab": {
          "base_uri": "https://localhost:8080/",
          "height": 332
        }
      },
      "cell_type": "code",
      "source": [
        "p, r, thresholds = precision_recall_curve(y_test, Y_pred)\n",
        "plt.plot(r, p)\n",
        "\n",
        "plt.xlim([0, 1])\n",
        "plt.ylim([0, 1.05])\n",
        "plt.legend(loc=\"lower right\")\n",
        "plt.xlabel('Recall (Sensitivity)', fontsize = 15)\n",
        "plt.ylabel('Precision', fontsize = 15)\n",
        "plt.title('Precision-Recall Curve')"
      ],
      "execution_count": 0,
      "outputs": [
        {
          "output_type": "stream",
          "text": [
            "No handles with labels found to put in legend.\n"
          ],
          "name": "stderr"
        },
        {
          "output_type": "execute_result",
          "data": {
            "text/plain": [
              "Text(0.5, 1.0, 'Precision-Recall Curve')"
            ]
          },
          "metadata": {
            "tags": []
          },
          "execution_count": 35
        },
        {
          "output_type": "display_data",
          "data": {
            "image/png": "[encoded data removed]",
            "text/plain": [
              "<Figure size 432x288 with 1 Axes>"
            ]
          },
          "metadata": {
            "tags": []
          }
        }
      ]
    },
    {
      "metadata": {
        "id": "benOFsIjrf2M",
        "colab_type": "code",
        "outputId": "17111a3a-2bcb-46be-e735-9b21aaf944bb",
        "colab": {
          "base_uri": "https://localhost:8080/",
          "height": 332
        }
      },
      "cell_type": "code",
      "source": [
        "from sklearn.metrics import roc_curve\n",
        "fpr, tpr, thresholds = roc_curve(y_test, Y_pred)\n",
        "plt.plot(fpr, tpr)\n",
        "\n",
        "plt.xlim([0, 1])\n",
        "plt.ylim([0, 1.05])\n",
        "plt.legend(loc=\"lower right\")\n",
        "plt.xlabel('False Positive Rate', fontsize = 15)\n",
        "plt.ylabel('True Positive Rate', fontsize = 15)\n",
        "plt.title('ROC Curve')"
      ],
      "execution_count": 0,
      "outputs": [
        {
          "output_type": "stream",
          "text": [
            "No handles with labels found to put in legend.\n"
          ],
          "name": "stderr"
        },
        {
          "output_type": "execute_result",
          "data": {
            "text/plain": [
              "Text(0.5, 1.0, 'ROC Curve')"
            ]
          },
          "metadata": {
            "tags": []
          },
          "execution_count": 36
        },
        {
          "output_type": "display_data",
          "data": {
            "image/png": "[encoded data removed]",
            "text/plain": [
              "<Figure size 432x288 with 1 Axes>"
            ]
          },
          "metadata": {
            "tags": []
          }
        }
      ]
    },
    {
      "metadata": {
        "id": "AG_eDI6ZQfTe",
        "colab_type": "code",
        "colab": {}
      },
      "cell_type": "code",
      "source": [
        "# define the plot_confusion_matrix function\n",
        "from sklearn.utils.multiclass import unique_labels\n",
        "def plot_confusion_matrix(y_true, y_pred, classes,\n",
        "                          normalize=False,\n",
        "                          title=None,\n",
        "                          cmap=plt.cm.Blues):\n",
        "    \"\"\"\n",
        "    This function prints and plots the confusion matrix.\n",
        "    Normalization can be applied by setting `normalize=True`.\n",
        "    \"\"\"\n",
        "    if not title:\n",
        "        if normalize:\n",
        "            title = 'Normalized confusion matrix'\n",
        "        else:\n",
        "            title = 'Confusion matrix, without normalization'\n",
        "\n",
        "    # Compute confusion matrix\n",
        "    cm = confusion_matrix(y_true, y_pred)\n",
        "    # Only use the labels that appear in the data\n",
        "    classes = classes[unique_labels(y_true, y_pred)]\n",
        "    if normalize:\n",
        "        cm = cm.astype('float') / cm.sum(axis=1)[:, np.newaxis]\n",
        "        print(\"Normalized confusion matrix\")\n",
        "    else:\n",
        "        print('Confusion matrix, without normalization')\n",
        "\n",
        "    print(cm)\n",
        "\n",
        "    fig, ax = plt.subplots()\n",
        "    im = ax.imshow(cm, interpolation='nearest', cmap=cmap)\n",
        "    ax.figure.colorbar(im, ax=ax)\n",
        "    # We want to show all ticks...\n",
        "    ax.set(xticks=np.arange(cm.shape[1]),\n",
        "           yticks=np.arange(cm.shape[0]),\n",
        "           # ... and label them with the respective list entries\n",
        "           xticklabels=classes, yticklabels=classes,\n",
        "           title=title,\n",
        "           ylabel='True label',\n",
        "           xlabel='Predicted label')\n",
        "\n",
        "    # Rotate the tick labels and set their alignment.\n",
        "    plt.setp(ax.get_xticklabels(), rotation=45, ha=\"right\",\n",
        "             rotation_mode=\"anchor\")\n",
        "\n",
        "    # Loop over data dimensions and create text annotations.\n",
        "    fmt = '.2f' if normalize else 'd'\n",
        "    thresh = cm.max() / 2.\n",
        "    for i in range(cm.shape[0]):\n",
        "        for j in range(cm.shape[1]):\n",
        "            ax.text(j, i, format(cm[i, j], fmt),\n",
        "                    ha=\"center\", va=\"center\",\n",
        "                    color=\"white\" if cm[i, j] > thresh else \"black\")\n",
        "    fig.tight_layout()\n",
        "    return ax\n",
        "\n"
      ],
      "execution_count": 0,
      "outputs": []
    },
    {
      "metadata": {
        "id": "VdPzDSjgQ3M0",
        "colab_type": "code",
        "outputId": "32bee604-f259-45d9-96cb-240106cb27ed",
        "colab": {
          "base_uri": "https://localhost:8080/",
          "height": 555
        }
      },
      "cell_type": "code",
      "source": [
        "plt.style.use('default')\n",
        "plot_confusion_matrix(list(y_test), y_pred.flatten(),unique_labels(y_pred.flatten(),list(y_test)))\n",
        "plt.title('Validation F1 Score: ' + str(round(f1_score(y_test,y_pred),2)))"
      ],
      "execution_count": 0,
      "outputs": [
        {
          "output_type": "stream",
          "text": [
            "Confusion matrix, without normalization\n",
            "[[71 13]\n",
            " [ 6 11]]\n"
          ],
          "name": "stdout"
        },
        {
          "output_type": "execute_result",
          "data": {
            "text/plain": [
              "Text(0.5, 1.0, 'Validation F1 Score: 0.54')"
            ]
          },
          "metadata": {
            "tags": []
          },
          "execution_count": 38
        },
        {
          "output_type": "display_data",
          "data": {
            "image/png": "[encoded data removed]",
            "text/plain": [
              "<Figure size 640x480 with 2 Axes>"
            ]
          },
          "metadata": {
            "tags": []
          }
        }
      ]
    },
    {
      "metadata": {
        "id": "P_eF0jkMm4ut",
        "colab_type": "code",
        "colab": {}
      },
      "cell_type": "code",
      "source": [
        ""
      ],
      "execution_count": 0,
      "outputs": []
    },
    {
      "metadata": {
        "id": "-Dqe6qC-n8G7",
        "colab_type": "text"
      },
      "cell_type": "markdown",
      "source": [
        "Let's compare with the training set performance."
      ]
    },
    {
      "metadata": {
        "id": "83UWGVDITj88",
        "colab_type": "code",
        "colab": {}
      },
      "cell_type": "code",
      "source": [
        "\n",
        "X_temp = X.copy()\n",
        "Y_pred = model.predict(preprocess_input(X_temp))\n",
        "y_pred = (Y_pred>0.5)"
      ],
      "execution_count": 0,
      "outputs": []
    },
    {
      "metadata": {
        "id": "MhENqO6u5BxY",
        "colab_type": "code",
        "colab": {}
      },
      "cell_type": "code",
      "source": [
        ""
      ],
      "execution_count": 0,
      "outputs": []
    },
    {
      "metadata": {
        "id": "D4xbenNkmkBD",
        "colab_type": "code",
        "outputId": "5aaddac0-f96f-4768-f958-23344b20c89b",
        "colab": {
          "base_uri": "https://localhost:8080/",
          "height": 555
        }
      },
      "cell_type": "code",
      "source": [
        "plot_confusion_matrix(list(y), y_pred.flatten(),unique_labels(y_pred.flatten(),list(y_test)))\n",
        "plt.title('Train F1 Score: ' + str(round(f1_score(y,y_pred)*100)/100))"
      ],
      "execution_count": 0,
      "outputs": [
        {
          "output_type": "stream",
          "text": [
            "Confusion matrix, without normalization\n",
            "[[413  63]\n",
            " [145 331]]\n"
          ],
          "name": "stdout"
        },
        {
          "output_type": "execute_result",
          "data": {
            "text/plain": [
              "Text(0.5, 1.0, 'Train F1 Score: 0.76')"
            ]
          },
          "metadata": {
            "tags": []
          },
          "execution_count": 40
        },
        {
          "output_type": "display_data",
          "data": {
            "image/png": "[encoded data removed]",
            "text/plain": [
              "<Figure size 640x480 with 2 Axes>"
            ]
          },
          "metadata": {
            "tags": []
          }
        }
      ]
    },
    {
      "metadata": {
        "id": "RcnB1HvBRDNy",
        "colab_type": "code",
        "outputId": "cbb693c7-cefe-4d78-9b9b-382cad675d05",
        "colab": {
          "base_uri": "https://localhost:8080/",
          "height": 489
        }
      },
      "cell_type": "code",
      "source": [
        "line2 = plt.plot(history.history['f1'],label = 'train_F1')\n",
        "line1 = plt.plot(history.history['val_f1'],label = 'val_F1')\n",
        "\n",
        "plt.title('F1 scores: training vs validation')\n",
        "#plt.legend((line1, line2), ('train_F1','val_F1'))\n",
        "plt.legend()\n",
        "plt.xlabel('Iteration')"
      ],
      "execution_count": 0,
      "outputs": [
        {
          "output_type": "execute_result",
          "data": {
            "text/plain": [
              "Text(0.5, 0, 'Iteration')"
            ]
          },
          "metadata": {
            "tags": []
          },
          "execution_count": 41
        },
        {
          "output_type": "display_data",
          "data": {
            "image/png": "[encoded data removed]",
            "text/plain": [
              "<Figure size 640x480 with 1 Axes>"
            ]
          },
          "metadata": {
            "tags": []
          }
        }
      ]
    },
    {
      "metadata": {
        "id": "aaOiYcAzToOs",
        "colab_type": "code",
        "colab": {}
      },
      "cell_type": "code",
      "source": [
        ""
      ],
      "execution_count": 0,
      "outputs": []
    },
    {
      "metadata": {
        "id": "vPjmIA4sUnxd",
        "colab_type": "code",
        "colab": {}
      },
      "cell_type": "code",
      "source": [
        ""
      ],
      "execution_count": 0,
      "outputs": []
    }
  ]
}