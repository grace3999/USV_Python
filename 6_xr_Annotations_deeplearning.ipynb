{
  "nbformat": 4,
  "nbformat_minor": 0,
  "metadata": {
    "colab": {
      "name": "6_xr_Annotations_deeplearning.ipynb",
      "version": "0.3.2",
      "provenance": [],
      "collapsed_sections": [],
      "include_colab_link": true
    },
    "kernelspec": {
      "name": "python3",
      "display_name": "Python 3"
    }
  },
  "cells": [
    {
      "cell_type": "markdown",
      "metadata": {
        "id": "view-in-github",
        "colab_type": "text"
      },
      "source": [
        "<a href=\"https://colab.research.google.com/github/grace3999/USV_Python/blob/colab/6_xr_Annotations_deeplearning.ipynb\" target=\"_parent\"><img src=\"https://colab.research.google.com/assets/colab-badge.svg\" alt=\"Open In Colab\"/></a>"
      ]
    },
    {
      "metadata": {
        "id": "_68WL66QsTHI",
        "colab_type": "code",
        "outputId": "f4fcd290-5c11-4552-8ce5-ce4036f246ac",
        "colab": {
          "base_uri": "https://localhost:8080/",
          "height": 170
        }
      },
      "cell_type": "code",
      "source": [
        "!pip install netcdf4"
      ],
      "execution_count": 1,
      "outputs": [
        {
          "output_type": "stream",
          "text": [
            "Collecting netcdf4\n",
            "\u001b[?25l  Downloading https://files.pythonhosted.org/packages/3a/71/a9d3ae9b2bb261b4446631fdb4b4409d33767a7e3216735231e0844317fd/netCDF4-1.4.3.2-cp36-cp36m-manylinux1_x86_64.whl (3.9MB)\n",
            "\u001b[K    100% |████████████████████████████████| 3.9MB 8.2MB/s \n",
            "\u001b[?25hCollecting cftime (from netcdf4)\n",
            "\u001b[?25l  Downloading https://files.pythonhosted.org/packages/70/64/8ceadda42af3c1b27ee77005807e38c6d77baef28a8f9216b60577fddd71/cftime-1.0.3.4-cp36-cp36m-manylinux1_x86_64.whl (305kB)\n",
            "\u001b[K    100% |████████████████████████████████| 307kB 32.2MB/s \n",
            "\u001b[?25hRequirement already satisfied: numpy>=1.7 in /usr/local/lib/python3.6/dist-packages (from netcdf4) (1.14.6)\n",
            "Installing collected packages: cftime, netcdf4\n",
            "Successfully installed cftime-1.0.3.4 netcdf4-1.4.3.2\n"
          ],
          "name": "stdout"
        }
      ]
    },
    {
      "metadata": {
        "id": "g9rXpQWtrflD",
        "colab_type": "code",
        "colab": {}
      },
      "cell_type": "code",
      "source": [
        "import numpy as np\n",
        "import pandas as pd\n",
        "from os.path import join\n",
        "#import datetime\n",
        "#from scipy import signal\n",
        "#from scipy import stats\n",
        "from scipy import interpolate\n",
        "import xarray as xr\n",
        "\n",
        "from sklearn.utils import resample\n",
        "from sklearn.model_selection import train_test_split\n",
        "from sklearn.metrics import precision_recall_curve\n",
        "\n",
        "\n",
        "#visualizing results\n",
        "%matplotlib inline\n",
        "import matplotlib.pyplot as plt\n",
        "#import seaborn as sns\n",
        "\n",
        "import warnings\n",
        "warnings.filterwarnings(\"ignore\")"
      ],
      "execution_count": 0,
      "outputs": []
    },
    {
      "metadata": {
        "id": "PMnBsd7erfmR",
        "colab_type": "code",
        "colab": {}
      },
      "cell_type": "code",
      "source": [
        "pd.set_option('display.max_rows', 500)\n",
        "pd.set_option('display.max_columns', 500)\n",
        "pd.set_option('display.width', 1000)"
      ],
      "execution_count": 0,
      "outputs": []
    },
    {
      "metadata": {
        "id": "Knzt_zb5tH4v",
        "colab_type": "code",
        "outputId": "5ee11191-1651-4c69-d765-6b23399f70b3",
        "colab": {
          "base_uri": "https://localhost:8080/",
          "height": 122
        }
      },
      "cell_type": "code",
      "source": [
        "#mount google drive containings required files: 1) csv of annotation features, 2) netcdf files\n",
        "from google.colab import drive\n",
        "drive.mount('/content/gdrive')"
      ],
      "execution_count": 4,
      "outputs": [
        {
          "output_type": "stream",
          "text": [
            "Go to this URL in a browser: https://accounts.google.com/o/oauth2/auth?client_id=947318989803-6bn6qk8qdgf4n4g3pfee6491hc0brc4i.apps.googleusercontent.com&redirect_uri=urn%3Aietf%3Awg%3Aoauth%3A2.0%3Aoob&scope=email%20https%3A%2F%2Fwww.googleapis.com%2Fauth%2Fdocs.test%20https%3A%2F%2Fwww.googleapis.com%2Fauth%2Fdrive%20https%3A%2F%2Fwww.googleapis.com%2Fauth%2Fdrive.photos.readonly%20https%3A%2F%2Fwww.googleapis.com%2Fauth%2Fpeopleapi.readonly&response_type=code\n",
            "\n",
            "Enter your authorization code:\n",
            "··········\n",
            "Mounted at /content/gdrive\n"
          ],
          "name": "stdout"
        }
      ]
    },
    {
      "metadata": {
        "id": "a6OClLhFrfm1",
        "colab_type": "code",
        "outputId": "fa4fb39e-974e-4f88-be90-b9ce9e4453d6",
        "colab": {
          "base_uri": "https://localhost:8080/",
          "height": 238
        }
      },
      "cell_type": "code",
      "source": [
        "#use shell commands to find file path for csv of annotation features\n",
        "features_path = '/content/gdrive/Team Drives/USV_eScience_Incubator/Data/data_frames/annot_features_full.csv'\n",
        "annot_features_data = pd.read_csv(features_path)\n",
        "annot_features_full = pd.DataFrame(data = annot_features_data)\n",
        "print(annot_features_full.shape)\n",
        "#ensure no nans\n",
        "print(annot_features_full.loc[pd.isna(annot_features_full['spec_pur'])].index)\n",
        "annot_features_full.head()"
      ],
      "execution_count": 6,
      "outputs": [
        {
          "output_type": "stream",
          "text": [
            "(959, 13)\n",
            "Int64Index([], dtype='int64')\n"
          ],
          "name": "stdout"
        },
        {
          "output_type": "execute_result",
          "data": {
            "text/html": [
              "<div>\n",
              "<style scoped>\n",
              "    .dataframe tbody tr th:only-of-type {\n",
              "        vertical-align: middle;\n",
              "    }\n",
              "\n",
              "    .dataframe tbody tr th {\n",
              "        vertical-align: top;\n",
              "    }\n",
              "\n",
              "    .dataframe thead th {\n",
              "        text-align: right;\n",
              "    }\n",
              "</style>\n",
              "<table border=\"1\" class=\"dataframe\">\n",
              "  <thead>\n",
              "    <tr style=\"text-align: right;\">\n",
              "      <th></th>\n",
              "      <th>Unnamed: 0</th>\n",
              "      <th>animal_number</th>\n",
              "      <th>session</th>\n",
              "      <th>time_stamp</th>\n",
              "      <th>Annotation</th>\n",
              "      <th>power_sum</th>\n",
              "      <th>spec_pur</th>\n",
              "      <th>spec_cent</th>\n",
              "      <th>spec_spread</th>\n",
              "      <th>spec_skew</th>\n",
              "      <th>spec_kurt</th>\n",
              "      <th>spec_slope</th>\n",
              "      <th>spec_roll</th>\n",
              "    </tr>\n",
              "  </thead>\n",
              "  <tbody>\n",
              "    <tr>\n",
              "      <th>0</th>\n",
              "      <td>0</td>\n",
              "      <td>527</td>\n",
              "      <td>cagepair</td>\n",
              "      <td>18922.5</td>\n",
              "      <td>high slug</td>\n",
              "      <td>44921.600</td>\n",
              "      <td>0.335974</td>\n",
              "      <td>40617.050954</td>\n",
              "      <td>117729.192000</td>\n",
              "      <td>6.831866</td>\n",
              "      <td>48.160918</td>\n",
              "      <td>0.000787</td>\n",
              "      <td>38586.198407</td>\n",
              "    </tr>\n",
              "    <tr>\n",
              "      <th>1</th>\n",
              "      <td>1</td>\n",
              "      <td>527</td>\n",
              "      <td>cagepair</td>\n",
              "      <td>24750.0</td>\n",
              "      <td>low slug</td>\n",
              "      <td>53212.637</td>\n",
              "      <td>0.295599</td>\n",
              "      <td>27042.548508</td>\n",
              "      <td>3827.200195</td>\n",
              "      <td>3.556462</td>\n",
              "      <td>20.402396</td>\n",
              "      <td>-0.000227</td>\n",
              "      <td>25690.421083</td>\n",
              "    </tr>\n",
              "    <tr>\n",
              "      <th>2</th>\n",
              "      <td>2</td>\n",
              "      <td>527</td>\n",
              "      <td>cagepair</td>\n",
              "      <td>56002.5</td>\n",
              "      <td>bbc</td>\n",
              "      <td>94253.766</td>\n",
              "      <td>0.189555</td>\n",
              "      <td>30090.095178</td>\n",
              "      <td>68103.292456</td>\n",
              "      <td>3.982554</td>\n",
              "      <td>18.393372</td>\n",
              "      <td>-0.002314</td>\n",
              "      <td>28585.590419</td>\n",
              "    </tr>\n",
              "    <tr>\n",
              "      <th>3</th>\n",
              "      <td>3</td>\n",
              "      <td>527</td>\n",
              "      <td>cagepair</td>\n",
              "      <td>174352.5</td>\n",
              "      <td>bbc</td>\n",
              "      <td>51008.836</td>\n",
              "      <td>0.306177</td>\n",
              "      <td>34324.170621</td>\n",
              "      <td>52563.703613</td>\n",
              "      <td>3.336529</td>\n",
              "      <td>10.448164</td>\n",
              "      <td>-0.001250</td>\n",
              "      <td>32607.962090</td>\n",
              "    </tr>\n",
              "    <tr>\n",
              "      <th>4</th>\n",
              "      <td>4</td>\n",
              "      <td>527</td>\n",
              "      <td>cagepair</td>\n",
              "      <td>342877.5</td>\n",
              "      <td>bbc</td>\n",
              "      <td>164846.110</td>\n",
              "      <td>0.144833</td>\n",
              "      <td>33090.921412</td>\n",
              "      <td>22861.514782</td>\n",
              "      <td>1.852232</td>\n",
              "      <td>3.185318</td>\n",
              "      <td>-0.001784</td>\n",
              "      <td>31436.375341</td>\n",
              "    </tr>\n",
              "  </tbody>\n",
              "</table>\n",
              "</div>"
            ],
            "text/plain": [
              "   Unnamed: 0  animal_number   session  time_stamp Annotation   power_sum  spec_pur     spec_cent    spec_spread  spec_skew  spec_kurt  spec_slope     spec_roll\n",
              "0           0            527  cagepair     18922.5  high slug   44921.600  0.335974  40617.050954  117729.192000   6.831866  48.160918    0.000787  38586.198407\n",
              "1           1            527  cagepair     24750.0   low slug   53212.637  0.295599  27042.548508    3827.200195   3.556462  20.402396   -0.000227  25690.421083\n",
              "2           2            527  cagepair     56002.5        bbc   94253.766  0.189555  30090.095178   68103.292456   3.982554  18.393372   -0.002314  28585.590419\n",
              "3           3            527  cagepair    174352.5        bbc   51008.836  0.306177  34324.170621   52563.703613   3.336529  10.448164   -0.001250  32607.962090\n",
              "4           4            527  cagepair    342877.5        bbc  164846.110  0.144833  33090.921412   22861.514782   1.852232   3.185318   -0.001784  31436.375341"
            ]
          },
          "metadata": {
            "tags": []
          },
          "execution_count": 6
        }
      ]
    },
    {
      "metadata": {
        "id": "75agLbierfoG",
        "colab_type": "code",
        "outputId": "a560429d-39dd-46a4-a97f-24f6d8f735cb",
        "colab": {
          "base_uri": "https://localhost:8080/",
          "height": 204
        }
      },
      "cell_type": "code",
      "source": [
        "#create array of class labels, add to df\n",
        "annot_labels = annot_features_full['Annotation']\n",
        "annot_labels = annot_labels.replace(regex={r'low slug': 1, 'high slug': 1, 'low multi': 1, 'high multi': 1, 'bbc': 1, 'rand_noise': 0})\n",
        "annot_features_full['class'] = annot_labels\n",
        "annot_features_full.head()"
      ],
      "execution_count": 7,
      "outputs": [
        {
          "output_type": "execute_result",
          "data": {
            "text/html": [
              "<div>\n",
              "<style scoped>\n",
              "    .dataframe tbody tr th:only-of-type {\n",
              "        vertical-align: middle;\n",
              "    }\n",
              "\n",
              "    .dataframe tbody tr th {\n",
              "        vertical-align: top;\n",
              "    }\n",
              "\n",
              "    .dataframe thead th {\n",
              "        text-align: right;\n",
              "    }\n",
              "</style>\n",
              "<table border=\"1\" class=\"dataframe\">\n",
              "  <thead>\n",
              "    <tr style=\"text-align: right;\">\n",
              "      <th></th>\n",
              "      <th>Unnamed: 0</th>\n",
              "      <th>animal_number</th>\n",
              "      <th>session</th>\n",
              "      <th>time_stamp</th>\n",
              "      <th>Annotation</th>\n",
              "      <th>power_sum</th>\n",
              "      <th>spec_pur</th>\n",
              "      <th>spec_cent</th>\n",
              "      <th>spec_spread</th>\n",
              "      <th>spec_skew</th>\n",
              "      <th>spec_kurt</th>\n",
              "      <th>spec_slope</th>\n",
              "      <th>spec_roll</th>\n",
              "      <th>class</th>\n",
              "    </tr>\n",
              "  </thead>\n",
              "  <tbody>\n",
              "    <tr>\n",
              "      <th>0</th>\n",
              "      <td>0</td>\n",
              "      <td>527</td>\n",
              "      <td>cagepair</td>\n",
              "      <td>18922.5</td>\n",
              "      <td>high slug</td>\n",
              "      <td>44921.600</td>\n",
              "      <td>0.335974</td>\n",
              "      <td>40617.050954</td>\n",
              "      <td>117729.192000</td>\n",
              "      <td>6.831866</td>\n",
              "      <td>48.160918</td>\n",
              "      <td>0.000787</td>\n",
              "      <td>38586.198407</td>\n",
              "      <td>1</td>\n",
              "    </tr>\n",
              "    <tr>\n",
              "      <th>1</th>\n",
              "      <td>1</td>\n",
              "      <td>527</td>\n",
              "      <td>cagepair</td>\n",
              "      <td>24750.0</td>\n",
              "      <td>low slug</td>\n",
              "      <td>53212.637</td>\n",
              "      <td>0.295599</td>\n",
              "      <td>27042.548508</td>\n",
              "      <td>3827.200195</td>\n",
              "      <td>3.556462</td>\n",
              "      <td>20.402396</td>\n",
              "      <td>-0.000227</td>\n",
              "      <td>25690.421083</td>\n",
              "      <td>1</td>\n",
              "    </tr>\n",
              "    <tr>\n",
              "      <th>2</th>\n",
              "      <td>2</td>\n",
              "      <td>527</td>\n",
              "      <td>cagepair</td>\n",
              "      <td>56002.5</td>\n",
              "      <td>bbc</td>\n",
              "      <td>94253.766</td>\n",
              "      <td>0.189555</td>\n",
              "      <td>30090.095178</td>\n",
              "      <td>68103.292456</td>\n",
              "      <td>3.982554</td>\n",
              "      <td>18.393372</td>\n",
              "      <td>-0.002314</td>\n",
              "      <td>28585.590419</td>\n",
              "      <td>1</td>\n",
              "    </tr>\n",
              "    <tr>\n",
              "      <th>3</th>\n",
              "      <td>3</td>\n",
              "      <td>527</td>\n",
              "      <td>cagepair</td>\n",
              "      <td>174352.5</td>\n",
              "      <td>bbc</td>\n",
              "      <td>51008.836</td>\n",
              "      <td>0.306177</td>\n",
              "      <td>34324.170621</td>\n",
              "      <td>52563.703613</td>\n",
              "      <td>3.336529</td>\n",
              "      <td>10.448164</td>\n",
              "      <td>-0.001250</td>\n",
              "      <td>32607.962090</td>\n",
              "      <td>1</td>\n",
              "    </tr>\n",
              "    <tr>\n",
              "      <th>4</th>\n",
              "      <td>4</td>\n",
              "      <td>527</td>\n",
              "      <td>cagepair</td>\n",
              "      <td>342877.5</td>\n",
              "      <td>bbc</td>\n",
              "      <td>164846.110</td>\n",
              "      <td>0.144833</td>\n",
              "      <td>33090.921412</td>\n",
              "      <td>22861.514782</td>\n",
              "      <td>1.852232</td>\n",
              "      <td>3.185318</td>\n",
              "      <td>-0.001784</td>\n",
              "      <td>31436.375341</td>\n",
              "      <td>1</td>\n",
              "    </tr>\n",
              "  </tbody>\n",
              "</table>\n",
              "</div>"
            ],
            "text/plain": [
              "   Unnamed: 0  animal_number   session  time_stamp Annotation   power_sum  spec_pur     spec_cent    spec_spread  spec_skew  spec_kurt  spec_slope     spec_roll  class\n",
              "0           0            527  cagepair     18922.5  high slug   44921.600  0.335974  40617.050954  117729.192000   6.831866  48.160918    0.000787  38586.198407      1\n",
              "1           1            527  cagepair     24750.0   low slug   53212.637  0.295599  27042.548508    3827.200195   3.556462  20.402396   -0.000227  25690.421083      1\n",
              "2           2            527  cagepair     56002.5        bbc   94253.766  0.189555  30090.095178   68103.292456   3.982554  18.393372   -0.002314  28585.590419      1\n",
              "3           3            527  cagepair    174352.5        bbc   51008.836  0.306177  34324.170621   52563.703613   3.336529  10.448164   -0.001250  32607.962090      1\n",
              "4           4            527  cagepair    342877.5        bbc  164846.110  0.144833  33090.921412   22861.514782   1.852232   3.185318   -0.001784  31436.375341      1"
            ]
          },
          "metadata": {
            "tags": []
          },
          "execution_count": 7
        }
      ]
    },
    {
      "metadata": {
        "id": "FYTTeBymrfos",
        "colab_type": "code",
        "outputId": "27559469-f580-41f3-a8f9-44f2f1309325",
        "colab": {
          "base_uri": "https://localhost:8080/",
          "height": 170
        }
      },
      "cell_type": "code",
      "source": [
        "#separate and save for later testing dataset\n",
        "#stratify splitting by annotation types\n",
        "train_orig, test_orig = train_test_split(annot_features_full, test_size=0.3, random_state=1, stratify = annot_features_full.Annotation)\n",
        "print(train_orig.shape)\n",
        "print(test_orig.shape)\n",
        "print(train_orig['Annotation'].value_counts())"
      ],
      "execution_count": 8,
      "outputs": [
        {
          "output_type": "stream",
          "text": [
            "(671, 14)\n",
            "(288, 14)\n",
            "rand_noise    560\n",
            "low slug       42\n",
            "bbc            31\n",
            "high slug      19\n",
            "low multi      16\n",
            "high multi      3\n",
            "Name: Annotation, dtype: int64\n"
          ],
          "name": "stdout"
        }
      ]
    },
    {
      "metadata": {
        "id": "L6ISlKANrfpX",
        "colab_type": "code",
        "outputId": "7624c06e-e6c8-43b5-f0e5-fa2fed1cc60d",
        "colab": {
          "base_uri": "https://localhost:8080/",
          "height": 289
        }
      },
      "cell_type": "code",
      "source": [
        "#separate and save for later testing dataset\n",
        "train_validate, test_validate = train_test_split(train_orig, test_size=0.15, random_state=1, stratify = train_orig.Annotation)\n",
        "print(train_validate.shape)\n",
        "print(test_validate.shape)\n",
        "print(train_validate['Annotation'].value_counts())\n",
        "print(test_validate['Annotation'].value_counts())"
      ],
      "execution_count": 16,
      "outputs": [
        {
          "output_type": "stream",
          "text": [
            "(570, 14)\n",
            "(101, 14)\n",
            "rand_noise    476\n",
            "low slug       36\n",
            "bbc            26\n",
            "high slug      16\n",
            "low multi      14\n",
            "high multi      2\n",
            "Name: Annotation, dtype: int64\n",
            "rand_noise    84\n",
            "low slug       6\n",
            "bbc            5\n",
            "high slug      3\n",
            "low multi      2\n",
            "high multi     1\n",
            "Name: Annotation, dtype: int64\n"
          ],
          "name": "stdout"
        }
      ]
    },
    {
      "metadata": {
        "id": "_yB3aNYcrfqC",
        "colab_type": "code",
        "outputId": "6ed554c2-1ade-4c56-b89a-1dcf95ed0204",
        "colab": {
          "base_uri": "https://localhost:8080/",
          "height": 340
        }
      },
      "cell_type": "code",
      "source": [
        "#upsample minority class (upsample to an equal number of noise samples)\n",
        "train_validate_maj = train_validate[train_validate['Annotation'] == 'rand_noise']\n",
        "train_validate_min = train_validate[train_validate['Annotation'] != 'rand_noise']\n",
        "\n",
        "train_validate_min_upsamples = resample(train_validate_min, replace=True, n_samples = len(train_validate_maj), random_state = 123)\n",
        "\n",
        "train_validate_upsamples = pd.concat([train_validate_min_upsamples, train_validate_maj])\n",
        "\n",
        "print(train_validate_upsamples.shape)\n",
        "print(train_validate_upsamples['Annotation'].value_counts())\n",
        "\n",
        "train_validate_upsamples.head()"
      ],
      "execution_count": 10,
      "outputs": [
        {
          "output_type": "stream",
          "text": [
            "(952, 14)\n",
            "rand_noise    476\n",
            "low slug      170\n",
            "bbc           125\n",
            "high slug      88\n",
            "low multi      80\n",
            "high multi     13\n",
            "Name: Annotation, dtype: int64\n"
          ],
          "name": "stdout"
        },
        {
          "output_type": "execute_result",
          "data": {
            "text/html": [
              "<div>\n",
              "<style scoped>\n",
              "    .dataframe tbody tr th:only-of-type {\n",
              "        vertical-align: middle;\n",
              "    }\n",
              "\n",
              "    .dataframe tbody tr th {\n",
              "        vertical-align: top;\n",
              "    }\n",
              "\n",
              "    .dataframe thead th {\n",
              "        text-align: right;\n",
              "    }\n",
              "</style>\n",
              "<table border=\"1\" class=\"dataframe\">\n",
              "  <thead>\n",
              "    <tr style=\"text-align: right;\">\n",
              "      <th></th>\n",
              "      <th>Unnamed: 0</th>\n",
              "      <th>animal_number</th>\n",
              "      <th>session</th>\n",
              "      <th>time_stamp</th>\n",
              "      <th>Annotation</th>\n",
              "      <th>power_sum</th>\n",
              "      <th>spec_pur</th>\n",
              "      <th>spec_cent</th>\n",
              "      <th>spec_spread</th>\n",
              "      <th>spec_skew</th>\n",
              "      <th>spec_kurt</th>\n",
              "      <th>spec_slope</th>\n",
              "      <th>spec_roll</th>\n",
              "      <th>class</th>\n",
              "    </tr>\n",
              "  </thead>\n",
              "  <tbody>\n",
              "    <tr>\n",
              "      <th>124</th>\n",
              "      <td>124</td>\n",
              "      <td>556</td>\n",
              "      <td>cagepair</td>\n",
              "      <td>41512.5</td>\n",
              "      <td>bbc</td>\n",
              "      <td>283922.600</td>\n",
              "      <td>0.105281</td>\n",
              "      <td>35128.433948</td>\n",
              "      <td>27613.082970</td>\n",
              "      <td>1.746885</td>\n",
              "      <td>2.369667</td>\n",
              "      <td>-0.001916</td>\n",
              "      <td>33372.012250</td>\n",
              "      <td>1</td>\n",
              "    </tr>\n",
              "    <tr>\n",
              "      <th>49</th>\n",
              "      <td>49</td>\n",
              "      <td>535</td>\n",
              "      <td>CPApair</td>\n",
              "      <td>201847.5</td>\n",
              "      <td>low slug</td>\n",
              "      <td>114278.914</td>\n",
              "      <td>0.151498</td>\n",
              "      <td>16245.921214</td>\n",
              "      <td>18541.400530</td>\n",
              "      <td>5.060017</td>\n",
              "      <td>27.840860</td>\n",
              "      <td>-0.001240</td>\n",
              "      <td>15433.625153</td>\n",
              "      <td>1</td>\n",
              "    </tr>\n",
              "    <tr>\n",
              "      <th>131</th>\n",
              "      <td>131</td>\n",
              "      <td>556</td>\n",
              "      <td>cagepair</td>\n",
              "      <td>169807.5</td>\n",
              "      <td>high slug</td>\n",
              "      <td>47409.770</td>\n",
              "      <td>0.329336</td>\n",
              "      <td>30112.858088</td>\n",
              "      <td>13748.241415</td>\n",
              "      <td>6.074303</td>\n",
              "      <td>42.912236</td>\n",
              "      <td>-0.000247</td>\n",
              "      <td>28607.215183</td>\n",
              "      <td>1</td>\n",
              "    </tr>\n",
              "    <tr>\n",
              "      <th>137</th>\n",
              "      <td>137</td>\n",
              "      <td>556</td>\n",
              "      <td>cagepair</td>\n",
              "      <td>459967.5</td>\n",
              "      <td>high slug</td>\n",
              "      <td>88313.625</td>\n",
              "      <td>0.185218</td>\n",
              "      <td>34136.696251</td>\n",
              "      <td>175651.225991</td>\n",
              "      <td>6.314609</td>\n",
              "      <td>40.124449</td>\n",
              "      <td>-0.001435</td>\n",
              "      <td>32429.861439</td>\n",
              "      <td>1</td>\n",
              "    </tr>\n",
              "    <tr>\n",
              "      <th>147</th>\n",
              "      <td>147</td>\n",
              "      <td>557</td>\n",
              "      <td>cagepair</td>\n",
              "      <td>79177.5</td>\n",
              "      <td>bbc</td>\n",
              "      <td>121944.500</td>\n",
              "      <td>0.143545</td>\n",
              "      <td>31621.628971</td>\n",
              "      <td>96620.582439</td>\n",
              "      <td>3.463390</td>\n",
              "      <td>12.100880</td>\n",
              "      <td>-0.002297</td>\n",
              "      <td>30040.547522</td>\n",
              "      <td>1</td>\n",
              "    </tr>\n",
              "  </tbody>\n",
              "</table>\n",
              "</div>"
            ],
            "text/plain": [
              "     Unnamed: 0  animal_number   session  time_stamp Annotation   power_sum  spec_pur     spec_cent    spec_spread  spec_skew  spec_kurt  spec_slope     spec_roll  class\n",
              "124         124            556  cagepair     41512.5        bbc  283922.600  0.105281  35128.433948   27613.082970   1.746885   2.369667   -0.001916  33372.012250      1\n",
              "49           49            535   CPApair    201847.5   low slug  114278.914  0.151498  16245.921214   18541.400530   5.060017  27.840860   -0.001240  15433.625153      1\n",
              "131         131            556  cagepair    169807.5  high slug   47409.770  0.329336  30112.858088   13748.241415   6.074303  42.912236   -0.000247  28607.215183      1\n",
              "137         137            556  cagepair    459967.5  high slug   88313.625  0.185218  34136.696251  175651.225991   6.314609  40.124449   -0.001435  32429.861439      1\n",
              "147         147            557  cagepair     79177.5        bbc  121944.500  0.143545  31621.628971   96620.582439   3.463390  12.100880   -0.002297  30040.547522      1"
            ]
          },
          "metadata": {
            "tags": []
          },
          "execution_count": 10
        }
      ]
    },
    {
      "metadata": {
        "id": "ojHT-d0drfqk",
        "colab_type": "code",
        "colab": {}
      },
      "cell_type": "code",
      "source": [
        "def square_rgb(xr_slice):\n",
        "    #takes in slice from netcdf file and reshapes to be compatible with keras pretrained model\n",
        "    times = data['times'].values\n",
        "    freqs = data['freq'].values\n",
        "    \n",
        "    #make square for Keras - need to interpolate data, first create function and then apply\n",
        "    x = np.arange(0, len(times))\n",
        "    y = np.arange(0, len(freqs))\n",
        "    f = interpolate.interp2d(x, y, xr_slice.values)\n",
        "    xnew = np.linspace(0, len(times), num=128)\n",
        "    ynew = np.linspace(0, len(freqs), num=128)\n",
        "    znew = f(xnew, ynew)\n",
        "\n",
        "    X = np.log(znew)\n",
        "    \n",
        "    #normalize and change to rgba (remove a)\n",
        "    X_colored = plt.cm.viridis((X - X.mean())/(X.max() - X.min()))\n",
        "    X_colored = X_colored[:,:,:3]\n",
        "    \n",
        "    return X_colored"
      ],
      "execution_count": 0,
      "outputs": []
    },
    {
      "metadata": {
        "id": "L-pmEWc3yRJG",
        "colab_type": "code",
        "colab": {}
      },
      "cell_type": "code",
      "source": [
        "data = xr.open_dataset('/content/gdrive/Team Drives/USV_eScience_Incubator/Data/netcdf_files/' + str(535) + '_xr_Dataset.nc')"
      ],
      "execution_count": 0,
      "outputs": []
    },
    {
      "metadata": {
        "id": "G1nDBud8rfrJ",
        "colab_type": "code",
        "outputId": "29230d1d-d5e1-4e01-86d4-c23dbc58daa7",
        "colab": {
          "base_uri": "https://localhost:8080/",
          "height": 34
        }
      },
      "cell_type": "code",
      "source": [
        "#create keras compatible image for each annotation in train data set, save as np array\n",
        "rgbs = []\n",
        "i = 1\n",
        "for index, row in train_validate_upsamples.iterrows():\n",
        "    data = xr.open_dataset('/content/gdrive/Team Drives/USV_eScience_Incubator/Data/netcdf_files/' + str(row['animal_number']) + '_xr_Dataset.nc')\n",
        "    \n",
        "    xr_slice = data['__xarray_dataarray_variable__'].sel(slices=row['time_stamp'])\n",
        "    \n",
        "    rgb = square_rgb(xr_slice)\n",
        "    \n",
        "    rgbs.append(rgb)\n",
        "    \n",
        "X = np.stack(rgbs)\n",
        "print(X.shape)"
      ],
      "execution_count": 15,
      "outputs": [
        {
          "output_type": "stream",
          "text": [
            "(952, 128, 128, 3)\n"
          ],
          "name": "stdout"
        }
      ]
    },
    {
      "metadata": {
        "id": "TOoqbMPHrfr2",
        "colab_type": "code",
        "outputId": "d1f5a43c-04d2-4bec-b1d1-fbc24669c3db",
        "colab": {
          "base_uri": "https://localhost:8080/",
          "height": 34
        }
      },
      "cell_type": "code",
      "source": [
        "y = train_validate_upsamples['class']\n",
        "y.shape"
      ],
      "execution_count": 17,
      "outputs": [
        {
          "output_type": "execute_result",
          "data": {
            "text/plain": [
              "(952,)"
            ]
          },
          "metadata": {
            "tags": []
          },
          "execution_count": 17
        }
      ]
    },
    {
      "metadata": {
        "id": "8CBXV6dwrfsV",
        "colab_type": "code",
        "outputId": "6885b2ac-3475-455d-d9ce-57ab694a8c16",
        "colab": {
          "base_uri": "https://localhost:8080/",
          "height": 34
        }
      },
      "cell_type": "code",
      "source": [
        "#create keras compatible image for each annotation in test data set, save as np array\n",
        "rgbs_test = []\n",
        "i = 1\n",
        "for index, row in test_validate.iterrows():\n",
        "    data = xr.open_dataset('/content/gdrive/Team Drives/USV_eScience_Incubator/Data/netcdf_files/' + str(row['animal_number']) + '_xr_Dataset.nc')\n",
        "    \n",
        "    xr_slice = data['__xarray_dataarray_variable__'].sel(slices=row['time_stamp'])\n",
        "    \n",
        "    rgb = square_rgb(xr_slice)\n",
        "\n",
        "    rgbs_test.append(rgb)\n",
        "    \n",
        "X_test = np.stack(rgbs_test)\n",
        "print(X_test.shape)"
      ],
      "execution_count": 18,
      "outputs": [
        {
          "output_type": "stream",
          "text": [
            "(101, 128, 128, 3)\n"
          ],
          "name": "stdout"
        }
      ]
    },
    {
      "metadata": {
        "id": "kSd2_tg0rftC",
        "colab_type": "code",
        "outputId": "a534fd1c-e7df-4c0a-b215-d77e18e16101",
        "colab": {
          "base_uri": "https://localhost:8080/",
          "height": 34
        }
      },
      "cell_type": "code",
      "source": [
        "y_test = test_validate['class']\n",
        "y_test.shape"
      ],
      "execution_count": 19,
      "outputs": [
        {
          "output_type": "execute_result",
          "data": {
            "text/plain": [
              "(101,)"
            ]
          },
          "metadata": {
            "tags": []
          },
          "execution_count": 19
        }
      ]
    },
    {
      "metadata": {
        "id": "hE-mB2j_rftx",
        "colab_type": "code",
        "colab": {
          "base_uri": "https://localhost:8080/",
          "height": 34
        },
        "outputId": "83a32d84-9f38-4f48-d575-b4ba2f5887b0"
      },
      "cell_type": "code",
      "source": [
        "import keras\n",
        "from keras.layers import Dense,GlobalAveragePooling2D\n",
        "from keras.applications import MobileNet\n",
        "from keras.preprocessing import image\n",
        "from keras.applications.mobilenet import preprocess_input\n",
        "from keras.preprocessing.image import ImageDataGenerator\n",
        "from keras.models import Model\n",
        "from keras.optimizers import Adam\n",
        "\n",
        "from keras.layers import Dropout, Activation\n",
        "from keras.layers.normalization import BatchNormalization\n",
        "from sklearn.model_selection import train_test_split\n",
        "from keras.callbacks import ModelCheckpoint, EarlyStopping, ReduceLROnPlateau, CSVLogger, TensorBoard, Callback\n",
        "from sklearn.metrics import confusion_matrix, f1_score, precision_score, recall_score"
      ],
      "execution_count": 20,
      "outputs": [
        {
          "output_type": "stream",
          "text": [
            "Using TensorFlow backend.\n"
          ],
          "name": "stderr"
        }
      ]
    },
    {
      "metadata": {
        "id": "tuMCeLUfrfuJ",
        "colab_type": "code",
        "colab": {
          "base_uri": "https://localhost:8080/",
          "height": 102
        },
        "outputId": "d90993d5-8cd1-4ec0-ee5e-e7932e0c8f78"
      },
      "cell_type": "code",
      "source": [
        "base_model=MobileNet(input_shape = (128,128,3), include_top=False) #imports the mobilenet model and discards the last 1000 neuron layer."
      ],
      "execution_count": 21,
      "outputs": [
        {
          "output_type": "stream",
          "text": [
            "WARNING:tensorflow:From /usr/local/lib/python3.6/dist-packages/tensorflow/python/framework/op_def_library.py:263: colocate_with (from tensorflow.python.framework.ops) is deprecated and will be removed in a future version.\n",
            "Instructions for updating:\n",
            "Colocations handled automatically by placer.\n",
            "Downloading data from https://github.com/fchollet/deep-learning-models/releases/download/v0.6/mobilenet_1_0_128_tf_no_top.h5\n",
            "17227776/17225924 [==============================] - 0s 0us/step\n"
          ],
          "name": "stdout"
        }
      ]
    },
    {
      "metadata": {
        "id": "4rXRN3C-rful",
        "colab_type": "code",
        "colab": {}
      },
      "cell_type": "code",
      "source": [
        "x=base_model.output\n",
        "x=GlobalAveragePooling2D()(x)\n",
        "#x=Dense(1024,activation='relu')(x) #we add dense layers so that the model can learn more complex functions and classify for better results.\n",
        "#x=Dense(1024,activation='relu')(x) #dense layer 2\n",
        "#x=Dense(512,activation='relu')(x) #dense layer 3\n",
        "preds=Dense(1,activation='sigmoid', name='features')(x) #final layer with softmax activation"
      ],
      "execution_count": 0,
      "outputs": []
    },
    {
      "metadata": {
        "id": "HCiKAO62rfu9",
        "colab_type": "code",
        "colab": {}
      },
      "cell_type": "code",
      "source": [
        "model=Model(inputs=base_model.input,outputs=preds)"
      ],
      "execution_count": 0,
      "outputs": []
    },
    {
      "metadata": {
        "id": "L6Mt_7morfvS",
        "colab_type": "code",
        "colab": {}
      },
      "cell_type": "code",
      "source": [
        "for layer in model.layers[:-5]:\n",
        "    layer.trainable=False\n",
        "for layer in model.layers[-5:]:\n",
        "    layer.trainable=True"
      ],
      "execution_count": 0,
      "outputs": []
    },
    {
      "metadata": {
        "id": "aXPBXghUrfv4",
        "colab_type": "code",
        "colab": {}
      },
      "cell_type": "code",
      "source": [
        "from keras import backend as K\n",
        "\n",
        "def f1(y_true, y_pred):\n",
        "    def recall(y_true, y_pred):\n",
        "        \"\"\"Recall metric.\n",
        "\n",
        "        Only computes a batch-wise average of recall.\n",
        "\n",
        "        Computes the recall, a metric for multi-label classification of\n",
        "        how many relevant items are selected.\n",
        "        \"\"\"\n",
        "        true_positives = K.sum(K.round(K.clip(y_true * y_pred, 0, 1)))\n",
        "        possible_positives = K.sum(K.round(K.clip(y_true, 0, 1)))\n",
        "        recall = true_positives / (possible_positives + K.epsilon())\n",
        "        return recall\n",
        "\n",
        "    def precision(y_true, y_pred):\n",
        "        \"\"\"Precision metric.\n",
        "\n",
        "        Only computes a batch-wise average of precision.\n",
        "\n",
        "        Computes the precision, a metric for multi-label classification of\n",
        "        how many selected items are relevant.\n",
        "        \"\"\"\n",
        "        true_positives = K.sum(K.round(K.clip(y_true * y_pred, 0, 1)))\n",
        "        predicted_positives = K.sum(K.round(K.clip(y_pred, 0, 1)))\n",
        "        precision = true_positives / (predicted_positives + K.epsilon())\n",
        "        return precision\n",
        "    precision = precision(y_true, y_pred)\n",
        "    recall = recall(y_true, y_pred)\n",
        "    \n",
        "    return 2*((precision*recall)/(precision+recall+K.epsilon()))"
      ],
      "execution_count": 0,
      "outputs": []
    },
    {
      "metadata": {
        "id": "4JSuLsDwrfwd",
        "colab_type": "code",
        "colab": {}
      },
      "cell_type": "code",
      "source": [
        "model.compile(optimizer='Adam',loss='binary_crossentropy',metrics=[f1])"
      ],
      "execution_count": 0,
      "outputs": []
    },
    {
      "metadata": {
        "id": "o7lq04zgrfw3",
        "colab_type": "code",
        "colab": {}
      },
      "cell_type": "code",
      "source": [
        "train_datagen=ImageDataGenerator(featurewise_center=True,\n",
        "    featurewise_std_normalization=True, width_shift_range=0.2, preprocessing_function=preprocess_input) #included in our dependencies\n",
        "\n",
        "train_generator=train_datagen.flow(X, y, batch_size=32,shuffle=True)"
      ],
      "execution_count": 0,
      "outputs": []
    },
    {
      "metadata": {
        "id": "Ia93rXg7rfxQ",
        "colab_type": "code",
        "colab": {}
      },
      "cell_type": "code",
      "source": [
        "test_datagen = ImageDataGenerator()\n",
        "\n",
        "validation_generator = test_datagen.flow(X_test, y_test, batch_size=32,shuffle=True)"
      ],
      "execution_count": 0,
      "outputs": []
    },
    {
      "metadata": {
        "id": "xlQZk7mKEViC",
        "colab_type": "code",
        "colab": {}
      },
      "cell_type": "code",
      "source": [
        "log_path = '/content/gdrive/Team Drives/USV_eScience_Incubator/Data/TF_logs'"
      ],
      "execution_count": 0,
      "outputs": []
    },
    {
      "metadata": {
        "id": "e1grwOl7DRSF",
        "colab_type": "code",
        "colab": {}
      },
      "cell_type": "code",
      "source": [
        "train_validate_upsamples.to_csv('train_validate_upsamples.csv')"
      ],
      "execution_count": 0,
      "outputs": []
    },
    {
      "metadata": {
        "id": "b8DOthbkED3Z",
        "colab_type": "code",
        "colab": {
          "base_uri": "https://localhost:8080/",
          "height": 34
        },
        "outputId": "8c132430-bec3-46c0-ca58-d5c1a1290193"
      },
      "cell_type": "code",
      "source": [
        "ls"
      ],
      "execution_count": 32,
      "outputs": [
        {
          "output_type": "stream",
          "text": [
            "\u001b[0m\u001b[01;34mgdrive\u001b[0m/  \u001b[01;34msample_data\u001b[0m/  train_validate_upsamples.csv\n"
          ],
          "name": "stdout"
        }
      ]
    },
    {
      "metadata": {
        "id": "VsjdHElcCvCJ",
        "colab_type": "code",
        "colab": {
          "base_uri": "https://localhost:8080/",
          "height": 470
        },
        "outputId": "d5af0bc1-046c-46c6-c66f-3ebb700eef7a"
      },
      "cell_type": "code",
      "source": [
        "# Upload the file to Drive. See:\n",
        "#\n",
        "# https://developers.google.com/drive/v3/reference/files/create\n",
        "# https://developers.google.com/drive/v3/web/manage-uploads\n",
        "from googleapiclient.http import MediaFileUpload\n",
        "\n",
        "file_metadata = {\n",
        "  'name': 'TF_log_run_a',\n",
        "  'mimeType': 'text/plain'\n",
        "}\n",
        "media = MediaFileUpload('/tmp/to_upload.txt', \n",
        "                        mimetype='text/plain',\n",
        "                        resumable=True)\n",
        "created = drive_service.files().create(body=file_metadata,\n",
        "                                       media_body=media,\n",
        "                                       fields='id').execute()\n",
        "print('File ID: {}'.format(created.get('id')))"
      ],
      "execution_count": 29,
      "outputs": [
        {
          "output_type": "error",
          "ename": "FileNotFoundError",
          "evalue": "ignored",
          "traceback": [
            "\u001b[0;31m---------------------------------------------------------------------------\u001b[0m",
            "\u001b[0;31mFileNotFoundError\u001b[0m                         Traceback (most recent call last)",
            "\u001b[0;32m<ipython-input-29-666504baee95>\u001b[0m in \u001b[0;36m<module>\u001b[0;34m()\u001b[0m\n\u001b[1;32m      7\u001b[0m media = MediaFileUpload('/tmp/to_upload.txt', \n\u001b[1;32m      8\u001b[0m                         \u001b[0mmimetype\u001b[0m\u001b[0;34m=\u001b[0m\u001b[0;34m'text/plain'\u001b[0m\u001b[0;34m,\u001b[0m\u001b[0;34m\u001b[0m\u001b[0;34m\u001b[0m\u001b[0m\n\u001b[0;32m----> 9\u001b[0;31m                         resumable=True)\n\u001b[0m\u001b[1;32m     10\u001b[0m created = drive_service.files().create(body=file_metadata,\n\u001b[1;32m     11\u001b[0m                                        \u001b[0mmedia_body\u001b[0m\u001b[0;34m=\u001b[0m\u001b[0mmedia\u001b[0m\u001b[0;34m,\u001b[0m\u001b[0;34m\u001b[0m\u001b[0;34m\u001b[0m\u001b[0m\n",
            "\u001b[0;32m/usr/local/lib/python3.6/dist-packages/googleapiclient/_helpers.py\u001b[0m in \u001b[0;36mpositional_wrapper\u001b[0;34m(*args, **kwargs)\u001b[0m\n\u001b[1;32m    128\u001b[0m                 \u001b[0;32melif\u001b[0m \u001b[0mpositional_parameters_enforcement\u001b[0m \u001b[0;34m==\u001b[0m \u001b[0mPOSITIONAL_WARNING\u001b[0m\u001b[0;34m:\u001b[0m\u001b[0;34m\u001b[0m\u001b[0;34m\u001b[0m\u001b[0m\n\u001b[1;32m    129\u001b[0m                     \u001b[0mlogger\u001b[0m\u001b[0;34m.\u001b[0m\u001b[0mwarning\u001b[0m\u001b[0;34m(\u001b[0m\u001b[0mmessage\u001b[0m\u001b[0;34m)\u001b[0m\u001b[0;34m\u001b[0m\u001b[0;34m\u001b[0m\u001b[0m\n\u001b[0;32m--> 130\u001b[0;31m             \u001b[0;32mreturn\u001b[0m \u001b[0mwrapped\u001b[0m\u001b[0;34m(\u001b[0m\u001b[0;34m*\u001b[0m\u001b[0margs\u001b[0m\u001b[0;34m,\u001b[0m \u001b[0;34m**\u001b[0m\u001b[0mkwargs\u001b[0m\u001b[0;34m)\u001b[0m\u001b[0;34m\u001b[0m\u001b[0;34m\u001b[0m\u001b[0m\n\u001b[0m\u001b[1;32m    131\u001b[0m         \u001b[0;32mreturn\u001b[0m \u001b[0mpositional_wrapper\u001b[0m\u001b[0;34m\u001b[0m\u001b[0;34m\u001b[0m\u001b[0m\n\u001b[1;32m    132\u001b[0m \u001b[0;34m\u001b[0m\u001b[0m\n",
            "\u001b[0;32m/usr/local/lib/python3.6/dist-packages/googleapiclient/http.py\u001b[0m in \u001b[0;36m__init__\u001b[0;34m(self, filename, mimetype, chunksize, resumable)\u001b[0m\n\u001b[1;32m    548\u001b[0m     \"\"\"\n\u001b[1;32m    549\u001b[0m     \u001b[0mself\u001b[0m\u001b[0;34m.\u001b[0m\u001b[0m_filename\u001b[0m \u001b[0;34m=\u001b[0m \u001b[0mfilename\u001b[0m\u001b[0;34m\u001b[0m\u001b[0;34m\u001b[0m\u001b[0m\n\u001b[0;32m--> 550\u001b[0;31m     \u001b[0mfd\u001b[0m \u001b[0;34m=\u001b[0m \u001b[0mopen\u001b[0m\u001b[0;34m(\u001b[0m\u001b[0mself\u001b[0m\u001b[0;34m.\u001b[0m\u001b[0m_filename\u001b[0m\u001b[0;34m,\u001b[0m \u001b[0;34m'rb'\u001b[0m\u001b[0;34m)\u001b[0m\u001b[0;34m\u001b[0m\u001b[0;34m\u001b[0m\u001b[0m\n\u001b[0m\u001b[1;32m    551\u001b[0m     \u001b[0;32mif\u001b[0m \u001b[0mmimetype\u001b[0m \u001b[0;32mis\u001b[0m \u001b[0;32mNone\u001b[0m\u001b[0;34m:\u001b[0m\u001b[0;34m\u001b[0m\u001b[0;34m\u001b[0m\u001b[0m\n\u001b[1;32m    552\u001b[0m       \u001b[0;31m# No mimetype provided, make a guess.\u001b[0m\u001b[0;34m\u001b[0m\u001b[0;34m\u001b[0m\u001b[0;34m\u001b[0m\u001b[0m\n",
            "\u001b[0;31mFileNotFoundError\u001b[0m: [Errno 2] No such file or directory: '/tmp/to_upload.txt'"
          ]
        }
      ]
    },
    {
      "metadata": {
        "id": "GYhFwJQfrfxp",
        "colab_type": "code",
        "colab": {}
      },
      "cell_type": "code",
      "source": [
        "log_dir='/content/gdrive/Team Drives/USV_eScience_Incubator/Data/TF_logs/run_a'\n",
        "\n",
        "with open(join(log_dir, 'metadata.tsv'), 'w') as f:\n",
        "    f.write('Index\\tLabel\\n')\n",
        "    for index,label in enumerate(y_test):\n",
        "        f.write('%d\\t%d\\n' % (index,label))\n",
        "\n",
        "tensorboard = TensorBoard(log_dir=log_dir, histogram_freq=1, batch_size=32, write_graph=True, write_grads=False, write_images=True, embeddings_freq=1, embeddings_layer_names=['features'], embeddings_metadata=join(log_dir, 'metadata.tsv'), embeddings_data=X_test, update_freq='epoch')\n",
        "\n",
        "\n",
        "callbacks_list = [\n",
        "    EarlyStopping(monitor = 'val_acc', patience = 6, verbose = 1),\n",
        "    ReduceLROnPlateau(monitor = 'val_acc', factor = 0.1, patience = 3, verbose = 1), tensorboard]"
      ],
      "execution_count": 0,
      "outputs": []
    },
    {
      "metadata": {
        "id": "0Rd9PJzkrfyK",
        "colab_type": "code",
        "outputId": "c91d21f0-9bed-441c-9ee0-4cdb8aa35ce1",
        "colab": {
          "base_uri": "https://localhost:8080/",
          "height": 170
        }
      },
      "cell_type": "code",
      "source": [
        "step_size_train=train_generator.n//train_generator.batch_size\n",
        "\n",
        "model.fit_generator(generator=train_generator, steps_per_epoch=step_size_train,\n",
        "                   epochs=9,\n",
        "                   validation_data = [X_test, y_test],\n",
        "                callbacks = callbacks_list)\n",
        "\n",
        "#model.fit_generator(train_generator, steps_per_epoch=num_of_train_samples // batch_size, epochs=epochs, validation_data=validation_generator, validation_steps=num_of_test_samples // batch_size)"
      ],
      "execution_count": 0,
      "outputs": [
        {
          "output_type": "stream",
          "text": [
            "WARNING:tensorflow:From /usr/local/lib/python3.6/dist-packages/tensorflow/python/ops/math_ops.py:3066: to_int32 (from tensorflow.python.ops.math_ops) is deprecated and will be removed in a future version.\n",
            "Instructions for updating:\n",
            "Use tf.cast instead.\n",
            "Epoch 1/9\n",
            "29/29 [==============================] - 36s 1s/step - loss: 0.4628 - f1: 0.8182 - val_loss: 0.6539 - val_f1: 0.0000e+00\n",
            "Epoch 2/9\n",
            "29/29 [==============================] - 34s 1s/step - loss: 0.2647 - f1: 0.8999 - val_loss: 1.4092 - val_f1: 0.0000e+00\n",
            "Epoch 3/9\n",
            "29/29 [==============================] - 34s 1s/step - loss: 0.1519 - f1: 0.9369 - val_loss: 0.6482 - val_f1: 0.0000e+00\n"
          ],
          "name": "stdout"
        }
      ]
    },
    {
      "metadata": {
        "id": "Xr_FPYcUrfyu",
        "colab_type": "code",
        "colab": {}
      },
      "cell_type": "code",
      "source": [
        "#command for starting tensorboard from terminal\n",
        "\n",
        "#python -m tensorboard.main --logdir=\"C:/Users/Schindler/Documents/ProgrammingFun/USV_python/TF_logs/run_a\""
      ],
      "execution_count": 0,
      "outputs": []
    },
    {
      "metadata": {
        "id": "z-EzbmMDrfzi",
        "colab_type": "code",
        "colab": {}
      },
      "cell_type": "code",
      "source": [
        ""
      ],
      "execution_count": 0,
      "outputs": []
    },
    {
      "metadata": {
        "id": "DtX2G5Zxrf0Z",
        "colab_type": "code",
        "colab": {}
      },
      "cell_type": "code",
      "source": [
        ""
      ],
      "execution_count": 0,
      "outputs": []
    },
    {
      "metadata": {
        "id": "P62gk5cdrf09",
        "colab_type": "code",
        "colab": {}
      },
      "cell_type": "code",
      "source": [
        "#Confution Matrix and Classification Report\n",
        "Y_pred = model.predict_generator(validation_generator)\n",
        "y_pred = np.argmax(Y_pred, axis=1)"
      ],
      "execution_count": 0,
      "outputs": []
    },
    {
      "metadata": {
        "id": "-2W7oVvmrf1a",
        "colab_type": "code",
        "colab": {}
      },
      "cell_type": "code",
      "source": [
        "print(Y_pred.shape)\n",
        "print(y_test.shape)"
      ],
      "execution_count": 0,
      "outputs": []
    },
    {
      "metadata": {
        "id": "1EdI0cNnrf1v",
        "colab_type": "code",
        "colab": {}
      },
      "cell_type": "code",
      "source": [
        "precision, recall, thresholds = precision_recall_curve(y_test, Y_pred)\n",
        "plt.plot(recall, precision)\n",
        "\n",
        "plt.xlim([0, 1])\n",
        "plt.ylim([0, 1.05])\n",
        "plt.legend(loc=\"lower right\")\n",
        "plt.xlabel('Recall (Sensitivity)', fontsize = 15)\n",
        "plt.ylabel('Precision', fontsize = 15)"
      ],
      "execution_count": 0,
      "outputs": []
    },
    {
      "metadata": {
        "id": "benOFsIjrf2M",
        "colab_type": "code",
        "colab": {}
      },
      "cell_type": "code",
      "source": [
        "print('Confusion Matrix')\n",
        "print(confusion_matrix(validation_generator.classes, y_pred))\n",
        "print('Classification Report')\n",
        "target_names = ['Cats', 'Dogs', 'Horse']\n",
        "print(classification_report(validation_generator.classes, y_pred, target_names=target_names))"
      ],
      "execution_count": 0,
      "outputs": []
    }
  ]
}