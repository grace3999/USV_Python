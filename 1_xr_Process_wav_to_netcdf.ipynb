{
  "nbformat": 4,
  "nbformat_minor": 0,
  "metadata": {
    "colab": {
      "name": "1_xr_Process_wav_to_netcdf.ipynb",
      "version": "0.3.2",
      "provenance": [],
      "collapsed_sections": [],
      "include_colab_link": true
    },
    "kernelspec": {
      "display_name": "Python 3",
      "language": "python",
      "name": "python3"
    }
  },
  "cells": [
    {
      "cell_type": "markdown",
      "metadata": {
        "id": "view-in-github",
        "colab_type": "text"
      },
      "source": [
        "<a href=\"https://colab.research.google.com/github/grace3999/USV_Python/blob/colab/1_xr_Process_wav_to_netcdf.ipynb\" target=\"_parent\"><img src=\"https://colab.research.google.com/assets/colab-badge.svg\" alt=\"Open In Colab\"/></a>"
      ]
    },
    {
      "metadata": {
        "id": "3FqPbe-553Et",
        "colab_type": "code",
        "outputId": "bc62ee38-517b-47cf-fc82-207f9dfac9ad",
        "colab": {
          "base_uri": "https://localhost:8080/",
          "height": 34
        }
      },
      "cell_type": "code",
      "source": [
        "#mount google drive containings required files: 1) wav files\n",
        "from google.colab import drive\n",
        "drive.mount('/content/gdrive')"
      ],
      "execution_count": 0,
      "outputs": [
        {
          "output_type": "stream",
          "text": [
            "Drive already mounted at /content/gdrive; to attempt to forcibly remount, call drive.mount(\"/content/gdrive\", force_remount=True).\n"
          ],
          "name": "stdout"
        }
      ]
    },
    {
      "metadata": {
        "id": "Ys4Wfawq6BUW",
        "colab_type": "code",
        "outputId": "83155579-7e73-46bf-f0a1-f96ad5d526cd",
        "colab": {
          "base_uri": "https://localhost:8080/",
          "height": 68
        }
      },
      "cell_type": "code",
      "source": [
        "!pip install netcdf4"
      ],
      "execution_count": 0,
      "outputs": [
        {
          "output_type": "stream",
          "text": [
            "Requirement already satisfied: netcdf4 in /usr/local/lib/python3.6/dist-packages (1.4.3.2)\n",
            "Requirement already satisfied: numpy>=1.7 in /usr/local/lib/python3.6/dist-packages (from netcdf4) (1.14.6)\n",
            "Requirement already satisfied: cftime in /usr/local/lib/python3.6/dist-packages (from netcdf4) (1.0.3.4)\n"
          ],
          "name": "stdout"
        }
      ]
    },
    {
      "metadata": {
        "id": "y-CzSM8c52Yt",
        "colab_type": "code",
        "colab": {}
      },
      "cell_type": "code",
      "source": [
        "import numpy as np\n",
        "import pandas as pd\n",
        "import math\n",
        "import time\n",
        "import re\n",
        "import os\n",
        "\n",
        "from skimage import util\n",
        "from scipy.io import wavfile\n",
        "from scipy import signal\n",
        "from scipy import stats\n",
        "\n",
        "import xarray as xr\n",
        "\n",
        "%matplotlib inline\n",
        "import matplotlib.pyplot as plt\n",
        "\n",
        "pd.set_option('display.max_rows', 500)\n",
        "pd.set_option('display.max_columns', 500)\n",
        "pd.set_option('display.width', 1000)\n",
        "\n",
        "import warnings; warnings.simplefilter('ignore')\n",
        "np.set_printoptions(suppress=True)"
      ],
      "execution_count": 0,
      "outputs": []
    },
    {
      "metadata": {
        "id": "ObpVD2dq52Yy",
        "colab_type": "code",
        "colab": {}
      },
      "cell_type": "code",
      "source": [
        "def create_slice_from_wav(file_path, file_len, slice_len, step_size):\n",
        "    \"\"\"Creates small slices from wav file. file_length is desired length of file in minutes.\n",
        "    slice_len is desired legth of each slice in ms. \n",
        "    step_size is how big of step to take between steps (larger size is less overlap).\"\"\"\n",
        "    \n",
        "    #read in wav file\n",
        "    samp_freq, sig_data = wavfile.read(file_path)\n",
        "    print('Sampling frequency: ' + str(samp_freq))\n",
        "    \n",
        "    #convert file_length from min to sample numbers\n",
        "    file_length_num = file_len*samp_freq*60\n",
        "    \n",
        "    #convert slice_len from ms to sample numbers\n",
        "    slice_sample_num = slice_len*samp_freq/1000\n",
        "    \n",
        "    #use only slices within file_length\n",
        "    sig_data = sig_data[0:file_length_num]\n",
        "    \n",
        "    #determine number of samples and length\n",
        "    n_samples = sig_data.shape[0]\n",
        "    print('Number of samples: ' + str(n_samples))\n",
        "    sig_len = n_samples/samp_freq\n",
        "    print('Length: ' + str(sig_len) + ' sec')\n",
        "    \n",
        "    #create slices \n",
        "    steps = int(slice_sample_num*step_size)\n",
        "    slices = util.view_as_windows(sig_data, window_shape=(slice_sample_num,), step=steps)\n",
        "    print(f'Audio shape: {sig_data.shape}, Sliced audio shape: {slices.shape}')\n",
        "    \n",
        "    return samp_freq, sig_data, slices, steps, sig_len"
      ],
      "execution_count": 0,
      "outputs": []
    },
    {
      "metadata": {
        "id": "o-TyxhLm52Y2",
        "colab_type": "code",
        "colab": {}
      },
      "cell_type": "code",
      "source": [
        "def create_spec_from_slice_array(slices, steps, spec_window, NFFT, samp_freq):\n",
        "    \"\"\"Creates fft spectrogram from slice. spec_window is length of each segment (nperseg).\n",
        "    NFFT is length of the FFT used (nfft). samp_freq is sampling frequency (in Hz) of slice (fs).\n",
        "    steps is step size between slices\"\"\"\n",
        "    \n",
        "    spec_slices = {}\n",
        "    samp_freq_kHz = samp_freq/1000\n",
        "\n",
        "    for i in range(slices.shape[0]): \n",
        "        if i % 5000 == 0:\n",
        "            print(i)\n",
        "            \n",
        "        #spectrogram\n",
        "        freqs_spec, times, Sx = signal.spectrogram(slices[i,:], fs=samp_freq, nperseg = spec_window, nfft = NFFT)\n",
        "    \n",
        "        time_stamp = ((i*steps) / samp_freq_kHz)\n",
        "    \n",
        "        #store as dic\n",
        "        spec_slices[time_stamp] = Sx\n",
        "\n",
        "    return spec_slices, freqs_spec, times\n"
      ],
      "execution_count": 0,
      "outputs": []
    },
    {
      "metadata": {
        "id": "Gpqq4WHH52Y6",
        "colab_type": "code",
        "colab": {}
      },
      "cell_type": "code",
      "source": [
        "def create_xarray_dataset_from_dic(dic, freqs_spec, times):\n",
        "    \"\"\"Creates an xarray.Dataset object from a dictionary input.\"\"\"\n",
        "    \n",
        "    slices_combined = {}\n",
        "    \n",
        "    for key, fft_slice in dic.items():\n",
        "        slices_combined[key] = xr.DataArray(fft_slice, dims = ('freq', 'times'), coords = {'freq': freqs_spec, 'times': times})\n",
        "    slices_Dataset = xr.Dataset(slices_combined).to_array(dim = 'slices')\n",
        "    \n",
        "    return slices_Dataset"
      ],
      "execution_count": 0,
      "outputs": []
    },
    {
      "metadata": {
        "id": "ma9A1G6J52Y9",
        "colab_type": "code",
        "colab": {}
      },
      "cell_type": "code",
      "source": [
        "#testing function\n",
        "def get_remainders(slices_Dataset, slices, step_size, samp_freq, sig_len):\n",
        "    slice_remainder = np.round((sig_len - (slices.shape[0] * slices.shape[1] * step_size / samp_freq))*1000, 1)\n",
        "    netcdf_remainder = (sig_len * 1000) - slices_Dataset.slices.values[-1] - 22.5\n",
        "    \n",
        "    return slice_remainder, netcdf_remainder"
      ],
      "execution_count": 0,
      "outputs": []
    },
    {
      "metadata": {
        "id": "v4DrxNNb52ZD",
        "colab_type": "text"
      },
      "cell_type": "markdown",
      "source": [
        "Find path names for each wav file corresponding to annotated data"
      ]
    },
    {
      "metadata": {
        "id": "beHSEpMG52ZE",
        "colab_type": "code",
        "colab": {}
      },
      "cell_type": "code",
      "source": [
        "wav_dir_path = '/content/gdrive/Team Drives/USV_eScience_Incubator/Data/wav_files/Pain/'"
      ],
      "execution_count": 0,
      "outputs": []
    },
    {
      "metadata": {
        "id": "-ueTlDtb52ZH",
        "colab_type": "code",
        "outputId": "4c3981fe-b15e-49e6-c45f-7f50f51a5295",
        "colab": {
          "base_uri": "https://localhost:8080/",
          "height": 34
        }
      },
      "cell_type": "code",
      "source": [
        "path_names = []\n",
        "files = os.listdir(wav_dir_path)\n",
        "for file in files: \n",
        "        path_names.append(wav_dir_path + \"/\" + file)\n",
        "\n",
        "len(path_names)"
      ],
      "execution_count": 0,
      "outputs": [
        {
          "output_type": "execute_result",
          "data": {
            "text/plain": [
              "18"
            ]
          },
          "metadata": {
            "tags": []
          },
          "execution_count": 17
        }
      ]
    },
    {
      "metadata": {
        "scrolled": true,
        "id": "OPrNyNRx52ZM",
        "colab_type": "code",
        "outputId": "7e36bfed-4a67-4dc3-9550-7085c3d47f35",
        "colab": {
          "base_uri": "https://localhost:8080/",
          "height": 3689
        }
      },
      "cell_type": "code",
      "source": [
        "file_len=5\n",
        "slice_len=25\n",
        "step_size=0.9\n",
        "\n",
        "spec_window=128\n",
        "NFFT=512\n",
        "\n",
        "for path in path_names:\n",
        "    \n",
        "    #get animal name from file (select based on naming scheme)\n",
        "    #name = re.search(\"\\d\\d\\d\", path).group(0)\n",
        "    \n",
        "    name = path.split('/')[-1].split('.')[0]\n",
        "\n",
        "    #process wav file of animal corresponding to annotations\n",
        "    print(str('Begin processing animal # ' + name))\n",
        "\n",
        "    #create slices\n",
        "    start = time.time()\n",
        "    samp_freq, sig_data, slices, steps, sig_len = create_slice_from_wav(path, file_len, slice_len, step_size)\n",
        "    end = time.time()\n",
        "    print(str('Slices created in ' + str(end - start) + '  seconds'))\n",
        "\n",
        "    #create spectrograms\n",
        "    start = time.time()\n",
        "    spec_slices, freqs_spec, times = create_spec_from_slice_array(slices, steps, spec_window, NFFT, samp_freq)\n",
        "    end = time.time()\n",
        "    print(str('Spectrograms created in ' + str(end - start) + '  seconds'))\n",
        "\n",
        "    #create xarray Dataset\n",
        "    start = time.time()\n",
        "    slices_Dataset = create_xarray_dataset_from_dic(spec_slices, freqs_spec, times)\n",
        "    end = time.time()\n",
        "    print(str('xarray created in ' + str(end - start) + '  seconds'))\n",
        "\n",
        "    #confirm timestamps are correct\n",
        "    slice_remainder, netcdf_remainder = get_remainders(slices_Dataset, slices, step_size, samp_freq, sig_len)\n",
        "    if slice_remainder != netcdf_remainder:\n",
        "        raise Exception('Mismatch between slice and timestamp remainders')\n",
        "    else:\n",
        "        #save    \n",
        "        start = time.time()\n",
        "        slices_Dataset.to_netcdf(name + '_xr_Dataset.nc')\n",
        "        end = time.time()\n",
        "        print(str('xarray saved in ' + str(end - start) + '  seconds'))"
      ],
      "execution_count": 0,
      "outputs": [
        {
          "output_type": "stream",
          "text": [
            "Begin processing animal # D2-A2-Pre\n",
            "Sampling frequency: 250000\n",
            "Number of samples: 75000000\n",
            "Length: 300.0 sec\n",
            "Audio shape: (75000000,), Sliced audio shape: (13333, 6250)\n",
            "Slices created in 0.24625468254089355  seconds\n",
            "0\n",
            "5000\n",
            "10000\n",
            "Spectrograms created in 12.37623643875122  seconds\n",
            "xarray created in 8.004857063293457  seconds\n",
            "xarray saved in 6.261070251464844  seconds\n",
            "Begin processing animal # D2-A4-Pre\n",
            "Sampling frequency: 250000\n",
            "Number of samples: 75000000\n",
            "Length: 300.0 sec\n",
            "Audio shape: (75000000,), Sliced audio shape: (13333, 6250)\n",
            "Slices created in 1.2639307975769043  seconds\n",
            "0\n",
            "5000\n",
            "10000\n",
            "Spectrograms created in 14.395719289779663  seconds\n",
            "xarray created in 8.76050329208374  seconds\n",
            "xarray saved in 5.7674267292022705  seconds\n",
            "Begin processing animal # D2-A6-Pre\n",
            "Sampling frequency: 250000\n",
            "Number of samples: 75000000\n",
            "Length: 300.0 sec\n",
            "Audio shape: (75000000,), Sliced audio shape: (13333, 6250)\n",
            "Slices created in 0.2680816650390625  seconds\n",
            "0\n",
            "5000\n",
            "10000\n",
            "Spectrograms created in 13.102537870407104  seconds\n",
            "xarray created in 9.68282437324524  seconds\n",
            "xarray saved in 6.020855903625488  seconds\n",
            "Begin processing animal # D2-A8-Pre\n",
            "Sampling frequency: 250000\n",
            "Number of samples: 75000000\n",
            "Length: 300.0 sec\n",
            "Audio shape: (75000000,), Sliced audio shape: (13333, 6250)\n",
            "Slices created in 2.305361270904541  seconds\n",
            "0\n",
            "5000\n",
            "10000\n",
            "Spectrograms created in 12.827410221099854  seconds\n",
            "xarray created in 9.115090131759644  seconds\n",
            "xarray saved in 5.886088848114014  seconds\n",
            "Begin processing animal # D2-A10-Pre\n",
            "Sampling frequency: 250000\n",
            "Number of samples: 75000000\n",
            "Length: 300.0 sec\n",
            "Audio shape: (75000000,), Sliced audio shape: (13333, 6250)\n",
            "Slices created in 2.0969862937927246  seconds\n",
            "0\n",
            "5000\n",
            "10000\n",
            "Spectrograms created in 13.237673997879028  seconds\n",
            "xarray created in 9.091594934463501  seconds\n",
            "xarray saved in 4.939991235733032  seconds\n",
            "Begin processing animal # D2-A12-Pre\n",
            "Sampling frequency: 250000\n",
            "Number of samples: 75000000\n",
            "Length: 300.0 sec\n",
            "Audio shape: (75000000,), Sliced audio shape: (13333, 6250)\n",
            "Slices created in 3.988262414932251  seconds\n",
            "0\n",
            "5000\n",
            "10000\n",
            "Spectrograms created in 14.012431621551514  seconds\n",
            "xarray created in 8.428130626678467  seconds\n",
            "xarray saved in 5.925469636917114  seconds\n",
            "Begin processing animal # D3-A2-Pre\n",
            "Sampling frequency: 250000\n",
            "Number of samples: 75000000\n",
            "Length: 300.0 sec\n",
            "Audio shape: (75000000,), Sliced audio shape: (13333, 6250)\n",
            "Slices created in 2.6816229820251465  seconds\n",
            "0\n",
            "5000\n",
            "10000\n",
            "Spectrograms created in 13.677184820175171  seconds\n",
            "xarray created in 8.969594717025757  seconds\n",
            "xarray saved in 5.402763843536377  seconds\n",
            "Begin processing animal # D3-A4-Pre\n",
            "Sampling frequency: 250000\n",
            "Number of samples: 75000000\n",
            "Length: 300.0 sec\n",
            "Audio shape: (75000000,), Sliced audio shape: (13333, 6250)\n",
            "Slices created in 5.66601824760437  seconds\n",
            "0\n",
            "5000\n",
            "10000\n",
            "Spectrograms created in 13.344843626022339  seconds\n",
            "xarray created in 8.416107654571533  seconds\n",
            "xarray saved in 4.888774633407593  seconds\n",
            "Begin processing animal # D3-A6-Pre\n",
            "Sampling frequency: 250000\n",
            "Number of samples: 75000000\n",
            "Length: 300.0 sec\n",
            "Audio shape: (75000000,), Sliced audio shape: (13333, 6250)\n",
            "Slices created in 4.748617172241211  seconds\n",
            "0\n",
            "5000\n",
            "10000\n",
            "Spectrograms created in 14.12666392326355  seconds\n",
            "xarray created in 8.211724281311035  seconds\n",
            "xarray saved in 4.6771180629730225  seconds\n",
            "Begin processing animal # D3-A8-Pre\n",
            "Sampling frequency: 250000\n",
            "Number of samples: 75000000\n",
            "Length: 300.0 sec\n",
            "Audio shape: (75000000,), Sliced audio shape: (13333, 6250)\n",
            "Slices created in 5.3917505741119385  seconds\n",
            "0\n",
            "5000\n",
            "10000\n",
            "Spectrograms created in 13.726036071777344  seconds\n",
            "xarray created in 7.896196365356445  seconds\n",
            "xarray saved in 5.378873109817505  seconds\n",
            "Begin processing animal # D3-A10-Pre\n",
            "Sampling frequency: 250000\n",
            "Number of samples: 75000000\n",
            "Length: 300.0 sec\n",
            "Audio shape: (75000000,), Sliced audio shape: (13333, 6250)\n",
            "Slices created in 5.142495393753052  seconds\n",
            "0\n",
            "5000\n",
            "10000\n",
            "Spectrograms created in 13.227585554122925  seconds\n",
            "xarray created in 8.544437170028687  seconds\n",
            "xarray saved in 5.30571436882019  seconds\n",
            "Begin processing animal # D3-A12-Pre\n",
            "Sampling frequency: 250000\n",
            "Number of samples: 75000000\n",
            "Length: 300.0 sec\n",
            "Audio shape: (75000000,), Sliced audio shape: (13333, 6250)\n",
            "Slices created in 2.5019729137420654  seconds\n",
            "0\n",
            "5000\n",
            "10000\n",
            "Spectrograms created in 13.009088277816772  seconds\n",
            "xarray created in 8.855570077896118  seconds\n",
            "xarray saved in 5.230548858642578  seconds\n",
            "Begin processing animal # D4-A2-Pre\n",
            "Sampling frequency: 250000\n",
            "Number of samples: 75000000\n",
            "Length: 300.0 sec\n",
            "Audio shape: (75000000,), Sliced audio shape: (13333, 6250)\n",
            "Slices created in 3.403794288635254  seconds\n",
            "0\n",
            "5000\n",
            "10000\n",
            "Spectrograms created in 12.924426317214966  seconds\n",
            "xarray created in 8.960149049758911  seconds\n",
            "xarray saved in 4.907242774963379  seconds\n",
            "Begin processing animal # D4-A4-Pre\n",
            "Sampling frequency: 250000\n",
            "Number of samples: 75000000\n",
            "Length: 300.0 sec\n",
            "Audio shape: (75000000,), Sliced audio shape: (13333, 6250)\n",
            "Slices created in 2.6630477905273438  seconds\n",
            "0\n",
            "5000\n",
            "10000\n",
            "Spectrograms created in 13.525024175643921  seconds\n",
            "xarray created in 8.152901649475098  seconds\n",
            "xarray saved in 5.860005140304565  seconds\n",
            "Begin processing animal # D4-A6-Pre\n",
            "Sampling frequency: 250000\n",
            "Number of samples: 75000000\n",
            "Length: 300.0 sec\n",
            "Audio shape: (75000000,), Sliced audio shape: (13333, 6250)\n",
            "Slices created in 2.120594024658203  seconds\n",
            "0\n",
            "5000\n",
            "10000\n",
            "Spectrograms created in 12.805611610412598  seconds\n",
            "xarray created in 9.195441722869873  seconds\n",
            "xarray saved in 6.015936851501465  seconds\n",
            "Begin processing animal # D4-A8-Pre\n",
            "Sampling frequency: 250000\n",
            "Number of samples: 75000000\n",
            "Length: 300.0 sec\n",
            "Audio shape: (75000000,), Sliced audio shape: (13333, 6250)\n",
            "Slices created in 2.0980851650238037  seconds\n",
            "0\n",
            "5000\n",
            "10000\n",
            "Spectrograms created in 12.969948053359985  seconds\n",
            "xarray created in 9.23336672782898  seconds\n",
            "xarray saved in 6.073928594589233  seconds\n",
            "Begin processing animal # D4-A10-Pre\n",
            "Sampling frequency: 250000\n",
            "Number of samples: 75000000\n",
            "Length: 300.0 sec\n",
            "Audio shape: (75000000,), Sliced audio shape: (13333, 6250)\n",
            "Slices created in 3.246734380722046  seconds\n",
            "0\n",
            "5000\n",
            "10000\n",
            "Spectrograms created in 13.071380138397217  seconds\n",
            "xarray created in 8.738844394683838  seconds\n",
            "xarray saved in 4.7040181159973145  seconds\n",
            "Begin processing animal # D4-A12-Pre\n",
            "Sampling frequency: 250000\n",
            "Number of samples: 75000000\n",
            "Length: 300.0 sec\n",
            "Audio shape: (75000000,), Sliced audio shape: (13333, 6250)\n",
            "Slices created in 2.715590000152588  seconds\n",
            "0\n",
            "5000\n",
            "10000\n",
            "Spectrograms created in 13.545878887176514  seconds\n",
            "xarray created in 8.270838975906372  seconds\n",
            "xarray saved in 5.13957405090332  seconds\n"
          ],
          "name": "stdout"
        }
      ]
    }
  ]
}