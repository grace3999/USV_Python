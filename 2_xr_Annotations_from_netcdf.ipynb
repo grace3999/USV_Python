{
  "nbformat": 4,
  "nbformat_minor": 0,
  "metadata": {
    "colab": {
      "name": "2_xr_Annotations_from_netcdf.ipynb",
      "version": "0.3.2",
      "provenance": [],
      "collapsed_sections": [],
      "include_colab_link": true
    },
    "kernelspec": {
      "display_name": "Python 3",
      "language": "python",
      "name": "python3"
    }
  },
  "cells": [
    {
      "cell_type": "markdown",
      "metadata": {
        "id": "view-in-github",
        "colab_type": "text"
      },
      "source": [
        "<a href=\"https://colab.research.google.com/github/grace3999/USV_Python/blob/colab/2_xr_Annotations_from_netcdf.ipynb\" target=\"_parent\"><img src=\"https://colab.research.google.com/assets/colab-badge.svg\" alt=\"Open In Colab\"/></a>"
      ]
    },
    {
      "metadata": {
        "id": "deqrCXk9rI0V",
        "colab_type": "code",
        "colab": {
          "base_uri": "https://localhost:8080/",
          "height": 34
        },
        "outputId": "1609d23f-177f-44ab-df99-ad745079ee1b"
      },
      "cell_type": "code",
      "source": [
        "#mount google drive containings required files: 1) csv of annotation features, 2) netcdf files\n",
        "from google.colab import drive\n",
        "drive.mount('/content/gdrive')"
      ],
      "execution_count": 70,
      "outputs": [
        {
          "output_type": "stream",
          "text": [
            "Drive already mounted at /content/gdrive; to attempt to forcibly remount, call drive.mount(\"/content/gdrive\", force_remount=True).\n"
          ],
          "name": "stdout"
        }
      ]
    },
    {
      "metadata": {
        "id": "FQy4DI2h2Xkx",
        "colab_type": "code",
        "colab": {
          "base_uri": "https://localhost:8080/",
          "height": 170
        },
        "outputId": "3a5fc97a-9498-4729-b26d-aa18c00edd38"
      },
      "cell_type": "code",
      "source": [
        "!pip install netcdf4"
      ],
      "execution_count": 49,
      "outputs": [
        {
          "output_type": "stream",
          "text": [
            "Collecting netcdf4\n",
            "\u001b[?25l  Downloading https://files.pythonhosted.org/packages/3a/71/a9d3ae9b2bb261b4446631fdb4b4409d33767a7e3216735231e0844317fd/netCDF4-1.4.3.2-cp36-cp36m-manylinux1_x86_64.whl (3.9MB)\n",
            "\u001b[K    100% |████████████████████████████████| 3.9MB 8.0MB/s \n",
            "\u001b[?25hRequirement already satisfied: numpy>=1.7 in /usr/local/lib/python3.6/dist-packages (from netcdf4) (1.14.6)\n",
            "Collecting cftime (from netcdf4)\n",
            "\u001b[?25l  Downloading https://files.pythonhosted.org/packages/70/64/8ceadda42af3c1b27ee77005807e38c6d77baef28a8f9216b60577fddd71/cftime-1.0.3.4-cp36-cp36m-manylinux1_x86_64.whl (305kB)\n",
            "\u001b[K    100% |████████████████████████████████| 307kB 32.3MB/s \n",
            "\u001b[?25hInstalling collected packages: cftime, netcdf4\n",
            "Successfully installed cftime-1.0.3.4 netcdf4-1.4.3.2\n"
          ],
          "name": "stdout"
        }
      ]
    },
    {
      "metadata": {
        "id": "yt2j-aLYrGyp",
        "colab_type": "code",
        "colab": {}
      },
      "cell_type": "code",
      "source": [
        "import numpy as np\n",
        "import pandas as pd\n",
        "import os\n",
        "import re\n",
        "from scipy import stats\n",
        "import xarray as xr\n",
        "\n",
        "pd.set_option('display.max_rows', 500)\n",
        "pd.set_option('display.max_columns', 500)\n",
        "pd.set_option('display.width', 1000)\n",
        "\n",
        "import warnings; warnings.simplefilter('ignore')\n",
        "np.set_printoptions(suppress=True)"
      ],
      "execution_count": 0,
      "outputs": []
    },
    {
      "metadata": {
        "id": "ci9n5RHOrGzO",
        "colab_type": "code",
        "colab": {}
      },
      "cell_type": "code",
      "source": [
        "def create_annot_dataset(path, annot_data, size_random):\n",
        "    \"\"\"takes in path of netcdf file (created using notebook 1) and corresponding annotations (created using notebook 0)\n",
        "    and creates a new data set of only slices correspondingn to annotations (and random noise if set to True)\"\"\"\n",
        "    \n",
        "    #get animal name from file (select based on naming scheme)\n",
        "    #name = re.search(\"\\d\\d\\d\", path).group(0)\n",
        "    #print(name)\n",
        "    \n",
        "    name, session = path.split('/')[-1].split('-')[1], path.split('/')[-1].split('-')[0]\n",
        "    print(name, session)\n",
        "    \n",
        "    #open xarray Dataset\n",
        "    data = xr.open_dataset(path)\n",
        "    print(data['slices'].shape)\n",
        "    \n",
        "    #get time_stamps of animal's annotations, select slices and save\n",
        "    yes = annot_data[(annot_data['animal_number'] ==  name) & (annot_data['session'] ==  session)]['time_stamp'].sort_values().values\n",
        "    data_yes = data.sel(slices = yes)\n",
        "    \n",
        "    #get slice indexs (e.g. time_stamps) that are not annotations, select slices and save\n",
        "    slice_indexes = data['slices'].values\n",
        "    no = np.setdiff1d(slice_indexes,yes)\n",
        "    print(yes.shape[0] + no.shape[0])\n",
        "    no_short = np.random.choice(no, size_random, replace=False)\n",
        "    data_no = data.sel(slices = no_short)\n",
        "    \n",
        "    return data_yes, data_no"
      ],
      "execution_count": 0,
      "outputs": []
    },
    {
      "metadata": {
        "id": "ph1QOF4-rGzZ",
        "colab_type": "code",
        "colab": {}
      },
      "cell_type": "code",
      "source": [
        "def compute_spectral_features(Dataset):\n",
        "    \"\"\"takes in netcdf dataset and computes 8 features\"\"\"\n",
        "    \n",
        "    spec_power = []\n",
        "    spec_purs = []\n",
        "    spec_centroid = []\n",
        "    spec_spread = []\n",
        "    spec_skewness = []\n",
        "    spec_kurtosis = []\n",
        "    spec_slope = []\n",
        "    spec_roll_off = []\n",
        "    \n",
        "    freq_array = Dataset['freq'].values\n",
        "    \n",
        "    #compute power sum using groupby\n",
        "    spec_power = Dataset.groupby('slices').sum(xr.ALL_DIMS)['__xarray_dataarray_variable__'].values\n",
        "    \n",
        "    #compute other features for each slice individually\n",
        "    for value in Dataset['slices'].values:\n",
        "        \n",
        "        spec_pur = stats.gmean(Dataset.sel(slices = value)['__xarray_dataarray_variable__'].values, axis = None) / Dataset.sel(slices = value)['__xarray_dataarray_variable__'].values.mean()\n",
        "        \n",
        "        mag_array = Dataset['__xarray_dataarray_variable__'].sel(slices=value).max(dim = 'times').values\n",
        "        mag_probs = mag_array/sum(mag_array)\n",
        "        freq_mag = freq_array*mag_probs\n",
        "        \n",
        "        spec_cent = sum(freq_mag)\n",
        "        spec_spr = np.var(freq_mag)\n",
        "        spec_skew = stats.skew(freq_mag)\n",
        "        spec_kurt = stats.kurtosis(freq_mag)\n",
        "        slope, intercept, r_value, p_value, std_err = stats.linregress(freq_array, freq_mag)\n",
        "        spec_ro = .95*sum(freq_mag)\n",
        "        \n",
        "        spec_purs.append(spec_pur)\n",
        "        spec_centroid.append(spec_cent)\n",
        "        spec_spread.append(spec_spr)\n",
        "        spec_skewness.append(spec_skew)\n",
        "        spec_kurtosis.append(spec_kurt)\n",
        "        spec_slope.append(slope)\n",
        "        spec_roll_off.append(spec_ro)\n",
        "        \n",
        "    return spec_power, spec_purs, spec_centroid, spec_spread, spec_skewness, spec_kurtosis, spec_slope, spec_roll_off"
      ],
      "execution_count": 0,
      "outputs": []
    },
    {
      "metadata": {
        "id": "ivtFcsJdrGzk",
        "colab_type": "code",
        "colab": {}
      },
      "cell_type": "code",
      "source": [
        "def create_annotation_slice_features(path, annot_data, size_random = 50):\n",
        "    \"\"\"takes in path of netcdf file (created using notebook 1), corresponding annotations (created using notebook 0),\n",
        "    and size desired for random slicecs from each file.\n",
        "    uses create_annot_dataset and compute_spectral_features functions to create a new data set of computed features\n",
        "    for only slices correspondingn to annotations and random noise\"\"\"\n",
        "    \n",
        "    \n",
        "    #get animal name from path (select based on naming scheme)\n",
        "    #name = re.search(\"\\d\\d\\d\", path).group(0)\n",
        "    \n",
        "    name, session = path.split('/')[-1].split('-')[1], path.split('/')[-1].split('-')[0]\n",
        "    print(name, session)\n",
        "    \n",
        "    #create datasets of slices of known annotations and a random selection of noise\n",
        "    data_yes, data_no = create_annot_dataset(path, annot_data, size_random)\n",
        "    \n",
        "    #compute spectral features\n",
        "    yes_spec_power, yes_spec_purs, yes_spec_centroid, yes_spec_spread, yes_spec_skewness, yes_spec_kurtosis, yes_spec_slope, yes_spec_roll_off = compute_spectral_features(data_yes)\n",
        "    no_spec_power, no_spec_purs, no_spec_centroid, no_spec_spread, no_spec_skewness, no_spec_kurtosis, no_spec_slope, no_spec_roll_off = compute_spectral_features(data_no)\n",
        "\n",
        "    #add computed features to exisiting dataframe of known annotations\n",
        "    annot_yes = annot_data[(annot_data['animal_number'] ==  name) & (annot_data['session'] ==  session)].sort_values(by=['time_stamp'])\n",
        "    annot_yes['power_sum'] = yes_spec_power\n",
        "    annot_yes['spec_pur'] = yes_spec_purs\n",
        "    annot_yes['spec_cent'] = yes_spec_centroid\n",
        "    annot_yes['spec_spread'] = yes_spec_spread\n",
        "    annot_yes['spec_skew'] = yes_spec_skewness\n",
        "    annot_yes['spec_kurt'] = yes_spec_kurtosis\n",
        "    annot_yes['spec_slope'] = yes_spec_slope\n",
        "    annot_yes['spec_roll'] = yes_spec_roll_off\n",
        "    \n",
        "    #create and fill dataframe for randomly selected noise slices\n",
        "    annot_no = pd.DataFrame(columns = ['animal_number', 'session', 'time_stamp', 'Annotation'], index = np.arange(0,size_random))\n",
        "    annot_no['animal_number'] = name\n",
        "    annot_no['session'] = session\n",
        "    annot_no['Annotation'] = 'rand_noise'\n",
        "    annot_no['time_stamp'] = data_no['slices'].values\n",
        "    annot_no['power_sum'] = no_spec_power\n",
        "    annot_no['spec_pur'] = no_spec_purs\n",
        "    annot_no['spec_cent'] = no_spec_centroid\n",
        "    annot_no['spec_spread'] = no_spec_spread\n",
        "    annot_no['spec_skew'] = no_spec_skewness\n",
        "    annot_no['spec_kurt'] = no_spec_kurtosis\n",
        "    annot_no['spec_slope'] = no_spec_slope\n",
        "    annot_no['spec_roll'] = no_spec_roll_off\n",
        "    \n",
        "    return annot_yes, annot_no "
      ],
      "execution_count": 0,
      "outputs": []
    },
    {
      "metadata": {
        "id": "dlRo_PFFrGzp",
        "colab_type": "text"
      },
      "cell_type": "markdown",
      "source": [
        "Create data frame of annotation info"
      ]
    },
    {
      "metadata": {
        "id": "BWxUEmy_rGzr",
        "colab_type": "code",
        "colab": {}
      },
      "cell_type": "code",
      "source": [
        "#annot_path_cage = '/content/gdrive/Team Drives/USV_eScience_Incubator/Data/annotation_data_frames/annot_df_cagepair.csv'\n",
        "#annot_path_CPApost = '/content/gdrive/Team Drives/USV_eScience_Incubator/Data/annotation_data_frames/annot_df_CPApair.csv'\n",
        "#annot_paths = [annot_path_CPApost, annot_path_cage]\n",
        "\n",
        "annot_path_pain = '/content/gdrive/Team Drives/USV_eScience_Incubator/Data/annotation_data_frames/annot_df_pain.csv'"
      ],
      "execution_count": 0,
      "outputs": []
    },
    {
      "metadata": {
        "id": "Rxqlw47_1GE4",
        "colab_type": "code",
        "colab": {
          "base_uri": "https://localhost:8080/",
          "height": 221
        },
        "outputId": "d12b38ad-368f-42d9-81fb-78256e12e51d"
      },
      "cell_type": "code",
      "source": [
        "annot = pd.read_csv(annot_path_pain)\n",
        "annot_data = pd.DataFrame(data = annot)\n",
        "annot_data['Annotation'] = ['BBC'] * annot_data['Annotation'].shape[0]\n",
        "print(annot_data.shape)\n",
        "annot_data.head()"
      ],
      "execution_count": 72,
      "outputs": [
        {
          "output_type": "stream",
          "text": [
            "(178, 6)\n"
          ],
          "name": "stdout"
        },
        {
          "output_type": "execute_result",
          "data": {
            "text/html": [
              "<div>\n",
              "<style scoped>\n",
              "    .dataframe tbody tr th:only-of-type {\n",
              "        vertical-align: middle;\n",
              "    }\n",
              "\n",
              "    .dataframe tbody tr th {\n",
              "        vertical-align: top;\n",
              "    }\n",
              "\n",
              "    .dataframe thead th {\n",
              "        text-align: right;\n",
              "    }\n",
              "</style>\n",
              "<table border=\"1\" class=\"dataframe\">\n",
              "  <thead>\n",
              "    <tr style=\"text-align: right;\">\n",
              "      <th></th>\n",
              "      <th>Unnamed: 0</th>\n",
              "      <th>animal_number</th>\n",
              "      <th>session</th>\n",
              "      <th>time_stamp</th>\n",
              "      <th>Annotation</th>\n",
              "      <th>High Freq (Hz)</th>\n",
              "    </tr>\n",
              "  </thead>\n",
              "  <tbody>\n",
              "    <tr>\n",
              "      <th>0</th>\n",
              "      <td>0</td>\n",
              "      <td>A2</td>\n",
              "      <td>D2</td>\n",
              "      <td>32692.5</td>\n",
              "      <td>BBC</td>\n",
              "      <td>48403.2</td>\n",
              "    </tr>\n",
              "    <tr>\n",
              "      <th>1</th>\n",
              "      <td>1</td>\n",
              "      <td>A2</td>\n",
              "      <td>D2</td>\n",
              "      <td>97515.0</td>\n",
              "      <td>BBC</td>\n",
              "      <td>50048.4</td>\n",
              "    </tr>\n",
              "    <tr>\n",
              "      <th>2</th>\n",
              "      <td>2</td>\n",
              "      <td>A2</td>\n",
              "      <td>D2</td>\n",
              "      <td>124942.5</td>\n",
              "      <td>BBC</td>\n",
              "      <td>41465.2</td>\n",
              "    </tr>\n",
              "    <tr>\n",
              "      <th>3</th>\n",
              "      <td>3</td>\n",
              "      <td>A2</td>\n",
              "      <td>D2</td>\n",
              "      <td>292027.5</td>\n",
              "      <td>BBC</td>\n",
              "      <td>48718.6</td>\n",
              "    </tr>\n",
              "    <tr>\n",
              "      <th>4</th>\n",
              "      <td>4</td>\n",
              "      <td>A2</td>\n",
              "      <td>D2</td>\n",
              "      <td>296505.0</td>\n",
              "      <td>BBC</td>\n",
              "      <td>52345.3</td>\n",
              "    </tr>\n",
              "  </tbody>\n",
              "</table>\n",
              "</div>"
            ],
            "text/plain": [
              "   Unnamed: 0 animal_number session  time_stamp Annotation  High Freq (Hz)\n",
              "0           0            A2      D2     32692.5        BBC         48403.2\n",
              "1           1            A2      D2     97515.0        BBC         50048.4\n",
              "2           2            A2      D2    124942.5        BBC         41465.2\n",
              "3           3            A2      D2    292027.5        BBC         48718.6\n",
              "4           4            A2      D2    296505.0        BBC         52345.3"
            ]
          },
          "metadata": {
            "tags": []
          },
          "execution_count": 72
        }
      ]
    },
    {
      "metadata": {
        "id": "Ks2ASEkirGzx",
        "colab_type": "code",
        "outputId": "38cae768-2ddc-442b-ea10-5bbc29cc16b2",
        "colab": {
          "base_uri": "https://localhost:8080/",
          "height": 983
        }
      },
      "cell_type": "code",
      "source": [
        "annot_data = pd.DataFrame()\n",
        "\n",
        "for path in annot_path_pain:\n",
        "    annot = pd.read_csv(path)\n",
        "    annot = pd.DataFrame(data = annot)\n",
        "    annot = annot[annot['Annotation'] != 'radar']\n",
        "    print(annot.shape)\n",
        "    print(annot.Annotation.value_counts())\n",
        "    \n",
        "    annot_data = annot_data.append(annot)\n",
        "\n",
        "print(annot_data.shape)\n",
        "annot_data.head()"
      ],
      "execution_count": 52,
      "outputs": [
        {
          "output_type": "error",
          "ename": "ParserError",
          "evalue": "ignored",
          "traceback": [
            "\u001b[0;31m---------------------------------------------------------------------------\u001b[0m",
            "\u001b[0;31mParserError\u001b[0m                               Traceback (most recent call last)",
            "\u001b[0;32m<ipython-input-52-18b6859ee382>\u001b[0m in \u001b[0;36m<module>\u001b[0;34m()\u001b[0m\n\u001b[1;32m      2\u001b[0m \u001b[0;34m\u001b[0m\u001b[0m\n\u001b[1;32m      3\u001b[0m \u001b[0;32mfor\u001b[0m \u001b[0mpath\u001b[0m \u001b[0;32min\u001b[0m \u001b[0mannot_path_pain\u001b[0m\u001b[0;34m:\u001b[0m\u001b[0;34m\u001b[0m\u001b[0;34m\u001b[0m\u001b[0m\n\u001b[0;32m----> 4\u001b[0;31m     \u001b[0mannot\u001b[0m \u001b[0;34m=\u001b[0m \u001b[0mpd\u001b[0m\u001b[0;34m.\u001b[0m\u001b[0mread_csv\u001b[0m\u001b[0;34m(\u001b[0m\u001b[0mpath\u001b[0m\u001b[0;34m)\u001b[0m\u001b[0;34m\u001b[0m\u001b[0;34m\u001b[0m\u001b[0m\n\u001b[0m\u001b[1;32m      5\u001b[0m     \u001b[0mannot\u001b[0m \u001b[0;34m=\u001b[0m \u001b[0mpd\u001b[0m\u001b[0;34m.\u001b[0m\u001b[0mDataFrame\u001b[0m\u001b[0;34m(\u001b[0m\u001b[0mdata\u001b[0m \u001b[0;34m=\u001b[0m \u001b[0mannot\u001b[0m\u001b[0;34m)\u001b[0m\u001b[0;34m\u001b[0m\u001b[0;34m\u001b[0m\u001b[0m\n\u001b[1;32m      6\u001b[0m     \u001b[0mannot\u001b[0m \u001b[0;34m=\u001b[0m \u001b[0mannot\u001b[0m\u001b[0;34m[\u001b[0m\u001b[0mannot\u001b[0m\u001b[0;34m[\u001b[0m\u001b[0;34m'Annotation'\u001b[0m\u001b[0;34m]\u001b[0m \u001b[0;34m!=\u001b[0m \u001b[0;34m'radar'\u001b[0m\u001b[0;34m]\u001b[0m\u001b[0;34m\u001b[0m\u001b[0;34m\u001b[0m\u001b[0m\n",
            "\u001b[0;32m/usr/local/lib/python3.6/dist-packages/pandas/io/parsers.py\u001b[0m in \u001b[0;36mparser_f\u001b[0;34m(filepath_or_buffer, sep, delimiter, header, names, index_col, usecols, squeeze, prefix, mangle_dupe_cols, dtype, engine, converters, true_values, false_values, skipinitialspace, skiprows, nrows, na_values, keep_default_na, na_filter, verbose, skip_blank_lines, parse_dates, infer_datetime_format, keep_date_col, date_parser, dayfirst, iterator, chunksize, compression, thousands, decimal, lineterminator, quotechar, quoting, escapechar, comment, encoding, dialect, tupleize_cols, error_bad_lines, warn_bad_lines, skipfooter, skip_footer, doublequote, delim_whitespace, as_recarray, compact_ints, use_unsigned, low_memory, buffer_lines, memory_map, float_precision)\u001b[0m\n\u001b[1;32m    707\u001b[0m                     skip_blank_lines=skip_blank_lines)\n\u001b[1;32m    708\u001b[0m \u001b[0;34m\u001b[0m\u001b[0m\n\u001b[0;32m--> 709\u001b[0;31m         \u001b[0;32mreturn\u001b[0m \u001b[0m_read\u001b[0m\u001b[0;34m(\u001b[0m\u001b[0mfilepath_or_buffer\u001b[0m\u001b[0;34m,\u001b[0m \u001b[0mkwds\u001b[0m\u001b[0;34m)\u001b[0m\u001b[0;34m\u001b[0m\u001b[0;34m\u001b[0m\u001b[0m\n\u001b[0m\u001b[1;32m    710\u001b[0m \u001b[0;34m\u001b[0m\u001b[0m\n\u001b[1;32m    711\u001b[0m     \u001b[0mparser_f\u001b[0m\u001b[0;34m.\u001b[0m\u001b[0m__name__\u001b[0m \u001b[0;34m=\u001b[0m \u001b[0mname\u001b[0m\u001b[0;34m\u001b[0m\u001b[0;34m\u001b[0m\u001b[0m\n",
            "\u001b[0;32m/usr/local/lib/python3.6/dist-packages/pandas/io/parsers.py\u001b[0m in \u001b[0;36m_read\u001b[0;34m(filepath_or_buffer, kwds)\u001b[0m\n\u001b[1;32m    447\u001b[0m \u001b[0;34m\u001b[0m\u001b[0m\n\u001b[1;32m    448\u001b[0m     \u001b[0;31m# Create the parser.\u001b[0m\u001b[0;34m\u001b[0m\u001b[0;34m\u001b[0m\u001b[0;34m\u001b[0m\u001b[0m\n\u001b[0;32m--> 449\u001b[0;31m     \u001b[0mparser\u001b[0m \u001b[0;34m=\u001b[0m \u001b[0mTextFileReader\u001b[0m\u001b[0;34m(\u001b[0m\u001b[0mfilepath_or_buffer\u001b[0m\u001b[0;34m,\u001b[0m \u001b[0;34m**\u001b[0m\u001b[0mkwds\u001b[0m\u001b[0;34m)\u001b[0m\u001b[0;34m\u001b[0m\u001b[0;34m\u001b[0m\u001b[0m\n\u001b[0m\u001b[1;32m    450\u001b[0m \u001b[0;34m\u001b[0m\u001b[0m\n\u001b[1;32m    451\u001b[0m     \u001b[0;32mif\u001b[0m \u001b[0mchunksize\u001b[0m \u001b[0;32mor\u001b[0m \u001b[0miterator\u001b[0m\u001b[0;34m:\u001b[0m\u001b[0;34m\u001b[0m\u001b[0;34m\u001b[0m\u001b[0m\n",
            "\u001b[0;32m/usr/local/lib/python3.6/dist-packages/pandas/io/parsers.py\u001b[0m in \u001b[0;36m__init__\u001b[0;34m(self, f, engine, **kwds)\u001b[0m\n\u001b[1;32m    816\u001b[0m             \u001b[0mself\u001b[0m\u001b[0;34m.\u001b[0m\u001b[0moptions\u001b[0m\u001b[0;34m[\u001b[0m\u001b[0;34m'has_index_names'\u001b[0m\u001b[0;34m]\u001b[0m \u001b[0;34m=\u001b[0m \u001b[0mkwds\u001b[0m\u001b[0;34m[\u001b[0m\u001b[0;34m'has_index_names'\u001b[0m\u001b[0;34m]\u001b[0m\u001b[0;34m\u001b[0m\u001b[0;34m\u001b[0m\u001b[0m\n\u001b[1;32m    817\u001b[0m \u001b[0;34m\u001b[0m\u001b[0m\n\u001b[0;32m--> 818\u001b[0;31m         \u001b[0mself\u001b[0m\u001b[0;34m.\u001b[0m\u001b[0m_make_engine\u001b[0m\u001b[0;34m(\u001b[0m\u001b[0mself\u001b[0m\u001b[0;34m.\u001b[0m\u001b[0mengine\u001b[0m\u001b[0;34m)\u001b[0m\u001b[0;34m\u001b[0m\u001b[0;34m\u001b[0m\u001b[0m\n\u001b[0m\u001b[1;32m    819\u001b[0m \u001b[0;34m\u001b[0m\u001b[0m\n\u001b[1;32m    820\u001b[0m     \u001b[0;32mdef\u001b[0m \u001b[0mclose\u001b[0m\u001b[0;34m(\u001b[0m\u001b[0mself\u001b[0m\u001b[0;34m)\u001b[0m\u001b[0;34m:\u001b[0m\u001b[0;34m\u001b[0m\u001b[0;34m\u001b[0m\u001b[0m\n",
            "\u001b[0;32m/usr/local/lib/python3.6/dist-packages/pandas/io/parsers.py\u001b[0m in \u001b[0;36m_make_engine\u001b[0;34m(self, engine)\u001b[0m\n\u001b[1;32m   1047\u001b[0m     \u001b[0;32mdef\u001b[0m \u001b[0m_make_engine\u001b[0m\u001b[0;34m(\u001b[0m\u001b[0mself\u001b[0m\u001b[0;34m,\u001b[0m \u001b[0mengine\u001b[0m\u001b[0;34m=\u001b[0m\u001b[0;34m'c'\u001b[0m\u001b[0;34m)\u001b[0m\u001b[0;34m:\u001b[0m\u001b[0;34m\u001b[0m\u001b[0;34m\u001b[0m\u001b[0m\n\u001b[1;32m   1048\u001b[0m         \u001b[0;32mif\u001b[0m \u001b[0mengine\u001b[0m \u001b[0;34m==\u001b[0m \u001b[0;34m'c'\u001b[0m\u001b[0;34m:\u001b[0m\u001b[0;34m\u001b[0m\u001b[0;34m\u001b[0m\u001b[0m\n\u001b[0;32m-> 1049\u001b[0;31m             \u001b[0mself\u001b[0m\u001b[0;34m.\u001b[0m\u001b[0m_engine\u001b[0m \u001b[0;34m=\u001b[0m \u001b[0mCParserWrapper\u001b[0m\u001b[0;34m(\u001b[0m\u001b[0mself\u001b[0m\u001b[0;34m.\u001b[0m\u001b[0mf\u001b[0m\u001b[0;34m,\u001b[0m \u001b[0;34m**\u001b[0m\u001b[0mself\u001b[0m\u001b[0;34m.\u001b[0m\u001b[0moptions\u001b[0m\u001b[0;34m)\u001b[0m\u001b[0;34m\u001b[0m\u001b[0;34m\u001b[0m\u001b[0m\n\u001b[0m\u001b[1;32m   1050\u001b[0m         \u001b[0;32melse\u001b[0m\u001b[0;34m:\u001b[0m\u001b[0;34m\u001b[0m\u001b[0;34m\u001b[0m\u001b[0m\n\u001b[1;32m   1051\u001b[0m             \u001b[0;32mif\u001b[0m \u001b[0mengine\u001b[0m \u001b[0;34m==\u001b[0m \u001b[0;34m'python'\u001b[0m\u001b[0;34m:\u001b[0m\u001b[0;34m\u001b[0m\u001b[0;34m\u001b[0m\u001b[0m\n",
            "\u001b[0;32m/usr/local/lib/python3.6/dist-packages/pandas/io/parsers.py\u001b[0m in \u001b[0;36m__init__\u001b[0;34m(self, src, **kwds)\u001b[0m\n\u001b[1;32m   1693\u001b[0m         \u001b[0mkwds\u001b[0m\u001b[0;34m[\u001b[0m\u001b[0;34m'allow_leading_cols'\u001b[0m\u001b[0;34m]\u001b[0m \u001b[0;34m=\u001b[0m \u001b[0mself\u001b[0m\u001b[0;34m.\u001b[0m\u001b[0mindex_col\u001b[0m \u001b[0;32mis\u001b[0m \u001b[0;32mnot\u001b[0m \u001b[0;32mFalse\u001b[0m\u001b[0;34m\u001b[0m\u001b[0;34m\u001b[0m\u001b[0m\n\u001b[1;32m   1694\u001b[0m \u001b[0;34m\u001b[0m\u001b[0m\n\u001b[0;32m-> 1695\u001b[0;31m         \u001b[0mself\u001b[0m\u001b[0;34m.\u001b[0m\u001b[0m_reader\u001b[0m \u001b[0;34m=\u001b[0m \u001b[0mparsers\u001b[0m\u001b[0;34m.\u001b[0m\u001b[0mTextReader\u001b[0m\u001b[0;34m(\u001b[0m\u001b[0msrc\u001b[0m\u001b[0;34m,\u001b[0m \u001b[0;34m**\u001b[0m\u001b[0mkwds\u001b[0m\u001b[0;34m)\u001b[0m\u001b[0;34m\u001b[0m\u001b[0;34m\u001b[0m\u001b[0m\n\u001b[0m\u001b[1;32m   1696\u001b[0m \u001b[0;34m\u001b[0m\u001b[0m\n\u001b[1;32m   1697\u001b[0m         \u001b[0;31m# XXX\u001b[0m\u001b[0;34m\u001b[0m\u001b[0;34m\u001b[0m\u001b[0;34m\u001b[0m\u001b[0m\n",
            "\u001b[0;32mpandas/_libs/parsers.pyx\u001b[0m in \u001b[0;36mpandas._libs.parsers.TextReader.__cinit__\u001b[0;34m()\u001b[0m\n",
            "\u001b[0;32mpandas/_libs/parsers.pyx\u001b[0m in \u001b[0;36mpandas._libs.parsers.TextReader._get_header\u001b[0;34m()\u001b[0m\n",
            "\u001b[0;32mpandas/_libs/parsers.pyx\u001b[0m in \u001b[0;36mpandas._libs.parsers.TextReader._tokenize_rows\u001b[0;34m()\u001b[0m\n",
            "\u001b[0;32mpandas/_libs/parsers.pyx\u001b[0m in \u001b[0;36mpandas._libs.parsers.raise_parser_error\u001b[0;34m()\u001b[0m\n",
            "\u001b[0;31mParserError\u001b[0m: Error tokenizing data. C error: Calling read(nbytes) on source failed. Try engine='python'."
          ]
        }
      ]
    },
    {
      "metadata": {
        "id": "6DAhrRKCrGz2",
        "colab_type": "text"
      },
      "cell_type": "markdown",
      "source": [
        "Find path names for each netcdf file corresponding to wav file that has annotated data"
      ]
    },
    {
      "metadata": {
        "id": "RqrhyDzlrGz4",
        "colab_type": "code",
        "colab": {}
      },
      "cell_type": "code",
      "source": [
        "netcdf_path_CPApost = '/content/gdrive/Team Drives/USV_eScience_Incubator/Data/netcdf_files/CPA_post'\n",
        "\n",
        "netcdf_path_pain = annot_path_pain = '/content/gdrive/Team Drives/USV_eScience_Incubator/Data/netcdf_files/Pain'"
      ],
      "execution_count": 0,
      "outputs": []
    },
    {
      "metadata": {
        "id": "jgYEAG9BrGz7",
        "colab_type": "code",
        "outputId": "221884c5-167f-49c5-8b5e-73b265710777",
        "colab": {
          "base_uri": "https://localhost:8080/",
          "height": 34
        }
      },
      "cell_type": "code",
      "source": [
        "path_names = []\n",
        "files = os.listdir(netcdf_path_pain)\n",
        "for file in files: \n",
        "        path_names.append(netcdf_path_pain + \"/\" + file)\n",
        "\n",
        "len(path_names)"
      ],
      "execution_count": 89,
      "outputs": [
        {
          "output_type": "execute_result",
          "data": {
            "text/plain": [
              "18"
            ]
          },
          "metadata": {
            "tags": []
          },
          "execution_count": 89
        }
      ]
    },
    {
      "metadata": {
        "id": "UYzefqCWrG0A",
        "colab_type": "code",
        "outputId": "9bbd4383-b9da-43db-ef3c-d5313013cb1d",
        "colab": {
          "base_uri": "https://localhost:8080/",
          "height": 1309
        }
      },
      "cell_type": "code",
      "source": [
        "annot_features_yes = pd.DataFrame()\n",
        "annot_features_no = pd.DataFrame()\n",
        "\n",
        "for path in path_names:\n",
        "    \n",
        "    annot_yes, annot_no = create_annotation_slice_features(path, annot_data, size_random = 50)\n",
        "    \n",
        "    annot_features_yes = annot_features_yes.append(annot_yes, ignore_index=True)\n",
        "    annot_features_no = annot_features_no.append(annot_no, ignore_index=True)\n",
        "\n",
        "#create and save combined dataframe of yes and no\n",
        "annot_features_yes.drop(['Unnamed: 0'], axis=1, inplace=True)\n",
        "annot_features_full = pd.concat([annot_features_yes, annot_features_no])\n",
        "print(annot_features_full.shape)\n",
        "print(annot_features_full.Annotation.value_counts())\n",
        "\n",
        "annot_features_full.to_csv('annot_features_full_pain.csv')"
      ],
      "execution_count": 118,
      "outputs": [
        {
          "output_type": "stream",
          "text": [
            "A2 D2\n",
            "A2 D2\n",
            "(13333,)\n",
            "13333\n",
            "A4 D2\n",
            "A4 D2\n",
            "(13333,)\n",
            "13333\n",
            "A6 D2\n",
            "A6 D2\n",
            "(13333,)\n",
            "13333\n",
            "A8 D2\n",
            "A8 D2\n",
            "(13333,)\n",
            "13333\n",
            "A10 D2\n",
            "A10 D2\n",
            "(13333,)\n",
            "13333\n",
            "A12 D2\n",
            "A12 D2\n",
            "(13333,)\n",
            "13333\n",
            "A2 D3\n",
            "A2 D3\n",
            "(13333,)\n",
            "13333\n",
            "A4 D3\n",
            "A4 D3\n",
            "(13333,)\n",
            "13333\n",
            "A6 D3\n",
            "A6 D3\n",
            "(13333,)\n",
            "13333\n",
            "A8 D3\n",
            "A8 D3\n",
            "(13333,)\n",
            "13333\n",
            "A10 D3\n",
            "A10 D3\n",
            "(13333,)\n",
            "13333\n",
            "A12 D3\n",
            "A12 D3\n",
            "(13333,)\n",
            "13333\n",
            "A2 D4\n",
            "A2 D4\n",
            "(13333,)\n",
            "13333\n",
            "A4 D4\n",
            "A4 D4\n",
            "(13333,)\n",
            "13333\n",
            "A6 D4\n",
            "A6 D4\n",
            "(13333,)\n",
            "13333\n",
            "A8 D4\n",
            "A8 D4\n",
            "(13333,)\n",
            "13333\n",
            "A10 D4\n",
            "A10 D4\n",
            "(13333,)\n",
            "13333\n",
            "A12 D4\n",
            "A12 D4\n",
            "(13333,)\n",
            "13333\n",
            "(1078, 13)\n",
            "rand_noise    900\n",
            "BBC           178\n",
            "Name: Annotation, dtype: int64\n"
          ],
          "name": "stdout"
        }
      ]
    },
    {
      "metadata": {
        "id": "glqGWacgrG0G",
        "colab_type": "code",
        "colab": {}
      },
      "cell_type": "code",
      "source": [
        ""
      ],
      "execution_count": 0,
      "outputs": []
    }
  ]
}