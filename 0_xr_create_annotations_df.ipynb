{
  "nbformat": 4,
  "nbformat_minor": 0,
  "metadata": {
    "colab": {
      "name": "0_xr_create_annotations_df.ipynb",
      "version": "0.3.2",
      "provenance": [],
      "collapsed_sections": [],
      "include_colab_link": true
    },
    "kernelspec": {
      "display_name": "Python 3",
      "language": "python",
      "name": "python3"
    }
  },
  "cells": [
    {
      "cell_type": "markdown",
      "metadata": {
        "id": "view-in-github",
        "colab_type": "text"
      },
      "source": [
        "<a href=\"https://colab.research.google.com/github/grace3999/USV_Python/blob/colab/0_xr_create_annotations_df.ipynb\" target=\"_parent\"><img src=\"https://colab.research.google.com/assets/colab-badge.svg\" alt=\"Open In Colab\"/></a>"
      ]
    },
    {
      "metadata": {
        "id": "zBtYn5fU2Roq",
        "colab_type": "code",
        "outputId": "0d320e5f-0f88-4f98-f2ac-d37440cde554",
        "colab": {
          "base_uri": "https://localhost:8080/",
          "height": 34
        }
      },
      "cell_type": "code",
      "source": [
        "#mount google drive containings required files: 1) csv of annotation features, 2) netcdf files\n",
        "from google.colab import drive\n",
        "drive.mount('/content/gdrive')"
      ],
      "execution_count": 1,
      "outputs": [
        {
          "output_type": "stream",
          "text": [
            "Drive already mounted at /content/gdrive; to attempt to forcibly remount, call drive.mount(\"/content/gdrive\", force_remount=True).\n"
          ],
          "name": "stdout"
        }
      ]
    },
    {
      "metadata": {
        "id": "X-HadvV02IBC",
        "colab_type": "code",
        "colab": {}
      },
      "cell_type": "code",
      "source": [
        "import numpy as np\n",
        "import pandas as pd\n",
        "import os\n",
        "import re\n",
        "\n",
        "pd.set_option('display.max_rows', 500)\n",
        "pd.set_option('display.max_columns', 500)\n",
        "pd.set_option('display.width', 1000)\n",
        "\n",
        "import warnings; warnings.simplefilter('ignore')\n",
        "np.set_printoptions(suppress=True)"
      ],
      "execution_count": 0,
      "outputs": []
    },
    {
      "metadata": {
        "id": "jGG8EnUR2IBJ",
        "colab_type": "code",
        "colab": {}
      },
      "cell_type": "code",
      "source": [
        "def get_dir_list(dir_path):\n",
        "    \"\"\"takes in a directory path which contains the selection tables of annotations created from Raven Soft Lite, \n",
        "    creates list of path names\"\"\"\n",
        "    \n",
        "    path_names = []\n",
        "    dirs = os.listdir(dir_path)\n",
        "    for file in dirs: \n",
        "        path_names.append(dir_path + \"/\" + file)\n",
        "\n",
        "    return path_names   "
      ],
      "execution_count": 0,
      "outputs": []
    },
    {
      "metadata": {
        "id": "TpsFbDrR2IBO",
        "colab_type": "code",
        "colab": {}
      },
      "cell_type": "code",
      "source": [
        "#may need to be updated based on file naming scheme\n",
        "def get_file_info(file_path_name):\n",
        "    \"\"\"takes in a file path and finds the animal_number and session and saves each accordingly. \n",
        "    each file should be named with animal number and exp (e.g. 100_CPA.Table.1.selections)\"\"\"\n",
        "    \n",
        "    animal_number, session = file_path_name.split('/')[-1].split('-')[1], file_path_name.split('/')[-1].split('-')[0]\n",
        "    print(animal_number, session)\n",
        "\n",
        "    return animal_number, session"
      ],
      "execution_count": 0,
      "outputs": []
    },
    {
      "metadata": {
        "id": "ckDyJ3Fr2IBU",
        "colab_type": "code",
        "colab": {}
      },
      "cell_type": "code",
      "source": [
        "def create_animal_df(file_path_name, animal_number, session):\n",
        "    \"\"\"takes in a file path, animal number and session and creates data frame.\n",
        "    adds animal number, session, and time stamp columns\"\"\"\n",
        "    \n",
        "    data = pd.read_table(file_path_name)\n",
        "    data = pd.DataFrame(data = data)\n",
        "    \n",
        "    data['animal_number'] = [animal_number]*data.shape[0]\n",
        "    data['session'] = [session]*data.shape[0]\n",
        "    \n",
        "    #Determine closest time stamp of each annotation and add as column to df\n",
        "    data['Begin Time (s)_1000'] = data['Begin Time (s)']*1000\n",
        "    time_lambda = lambda a: (a // 22.5)*22.5\n",
        "    data['time_stamp'] = time_lambda(data['Begin Time (s)_1000'])\n",
        "    \n",
        "    data = data[['animal_number', 'session', 'time_stamp', 'Annotation', 'High Freq (Hz)']]\n",
        "\n",
        "    return data"
      ],
      "execution_count": 0,
      "outputs": []
    },
    {
      "metadata": {
        "id": "1QlaGO2p2IBZ",
        "colab_type": "code",
        "colab": {}
      },
      "cell_type": "code",
      "source": [
        "def create_annot_df(dir_path, session_name):\n",
        "    \"\"\"takes in a directory path which contains the selection tables of annotations created from Raven Soft Lite,\n",
        "    uses get_dir_list, get_file_info, and create_animal_df functions \n",
        "    to create a single data frame containing annotations for each file in dir_path\"\"\"\n",
        "    \n",
        "    annot_df = pd.DataFrame()\n",
        "    \n",
        "    path_names = get_dir_list(dir_path)\n",
        "    \n",
        "    for path in path_names:\n",
        "        animal_number, session = get_file_info(path)\n",
        "        animal_df = create_animal_df(path, animal_number, session)\n",
        "        annot_df = annot_df.append(animal_df)\n",
        "    \n",
        "    #save as csv using name of dir_path\n",
        "    annot_df.to_csv(str('annot_df_' + str(session_name) + '.csv'))\n",
        "    \n",
        "    return annot_df"
      ],
      "execution_count": 0,
      "outputs": []
    },
    {
      "metadata": {
        "scrolled": true,
        "id": "jHVySBI-2IBk",
        "colab_type": "code",
        "outputId": "58d5de76-6ca6-44f0-ae4f-3490a8745b78",
        "colab": {
          "base_uri": "https://localhost:8080/",
          "height": 527
        }
      },
      "cell_type": "code",
      "source": [
        "annot_df = create_annot_df(dir_path, 'pain')\n",
        "print(annot_df.shape)\n",
        "annot_df.head()"
      ],
      "execution_count": 33,
      "outputs": [
        {
          "output_type": "stream",
          "text": [
            "A2 D2\n",
            "A6 D2\n",
            "A8 D3\n",
            "A4 D3\n",
            "A10 D2\n",
            "A6 D3\n",
            "A12 D2\n",
            "A4 D2\n",
            "A2 D3\n",
            "A8 D2\n",
            "A10 D3\n",
            "A12 D4\n",
            "A2 D4\n",
            "A8 D4\n",
            "A10 D4\n",
            "A4 D4\n",
            "A12 D3\n",
            "A6 D4\n",
            "(178, 5)\n"
          ],
          "name": "stdout"
        },
        {
          "output_type": "execute_result",
          "data": {
            "text/html": [
              "<div>\n",
              "<style scoped>\n",
              "    .dataframe tbody tr th:only-of-type {\n",
              "        vertical-align: middle;\n",
              "    }\n",
              "\n",
              "    .dataframe tbody tr th {\n",
              "        vertical-align: top;\n",
              "    }\n",
              "\n",
              "    .dataframe thead th {\n",
              "        text-align: right;\n",
              "    }\n",
              "</style>\n",
              "<table border=\"1\" class=\"dataframe\">\n",
              "  <thead>\n",
              "    <tr style=\"text-align: right;\">\n",
              "      <th></th>\n",
              "      <th>animal_number</th>\n",
              "      <th>session</th>\n",
              "      <th>time_stamp</th>\n",
              "      <th>Annotation</th>\n",
              "      <th>High Freq (Hz)</th>\n",
              "    </tr>\n",
              "  </thead>\n",
              "  <tbody>\n",
              "    <tr>\n",
              "      <th>0</th>\n",
              "      <td>A2</td>\n",
              "      <td>D2</td>\n",
              "      <td>32692.5</td>\n",
              "      <td>NaN</td>\n",
              "      <td>48403.2</td>\n",
              "    </tr>\n",
              "    <tr>\n",
              "      <th>1</th>\n",
              "      <td>A2</td>\n",
              "      <td>D2</td>\n",
              "      <td>97515.0</td>\n",
              "      <td>NaN</td>\n",
              "      <td>50048.4</td>\n",
              "    </tr>\n",
              "    <tr>\n",
              "      <th>2</th>\n",
              "      <td>A2</td>\n",
              "      <td>D2</td>\n",
              "      <td>124942.5</td>\n",
              "      <td>NaN</td>\n",
              "      <td>41465.2</td>\n",
              "    </tr>\n",
              "    <tr>\n",
              "      <th>3</th>\n",
              "      <td>A2</td>\n",
              "      <td>D2</td>\n",
              "      <td>292027.5</td>\n",
              "      <td>NaN</td>\n",
              "      <td>48718.6</td>\n",
              "    </tr>\n",
              "    <tr>\n",
              "      <th>4</th>\n",
              "      <td>A2</td>\n",
              "      <td>D2</td>\n",
              "      <td>296505.0</td>\n",
              "      <td>NaN</td>\n",
              "      <td>52345.3</td>\n",
              "    </tr>\n",
              "  </tbody>\n",
              "</table>\n",
              "</div>"
            ],
            "text/plain": [
              "  animal_number session  time_stamp  Annotation  High Freq (Hz)\n",
              "0            A2      D2     32692.5         NaN         48403.2\n",
              "1            A2      D2     97515.0         NaN         50048.4\n",
              "2            A2      D2    124942.5         NaN         41465.2\n",
              "3            A2      D2    292027.5         NaN         48718.6\n",
              "4            A2      D2    296505.0         NaN         52345.3"
            ]
          },
          "metadata": {
            "tags": []
          },
          "execution_count": 33
        }
      ]
    }
  ]
}