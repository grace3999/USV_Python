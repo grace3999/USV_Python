{
  "nbformat": 4,
  "nbformat_minor": 0,
  "metadata": {
    "colab": {
      "name": "0_xr_create_annotations_df.ipynb",
      "version": "0.3.2",
      "provenance": [],
      "include_colab_link": true
    },
    "kernelspec": {
      "display_name": "Python 3",
      "language": "python",
      "name": "python3"
    }
  },
  "cells": [
    {
      "cell_type": "markdown",
      "metadata": {
        "id": "view-in-github",
        "colab_type": "text"
      },
      "source": [
        "<a href=\"https://colab.research.google.com/github/grace3999/USV_Python/blob/master/0_xr_create_annotations_df.ipynb\" target=\"_parent\"><img src=\"https://colab.research.google.com/assets/colab-badge.svg\" alt=\"Open In Colab\"/></a>"
      ]
    },
    {
      "metadata": {
        "id": "0N-UZBkIeF-3",
        "colab_type": "code",
        "colab": {}
      },
      "cell_type": "code",
      "source": [
        "import numpy as np\n",
        "import pandas as pd\n",
        "import os\n",
        "import re\n",
        "\n",
        "pd.set_option('display.max_rows', 500)\n",
        "pd.set_option('display.max_columns', 500)\n",
        "pd.set_option('display.width', 1000)\n",
        "\n",
        "import warnings; warnings.simplefilter('ignore')"
      ],
      "execution_count": 0,
      "outputs": []
    },
    {
      "metadata": {
        "id": "YpBZTMjhe8TF",
        "colab_type": "code",
        "outputId": "bce87201-2480-4303-c72a-1db67db8a713",
        "colab": {
          "base_uri": "https://localhost:8080/",
          "height": 35
        }
      },
      "cell_type": "code",
      "source": [
        "2+2"
      ],
      "execution_count": 0,
      "outputs": [
        {
          "output_type": "execute_result",
          "data": {
            "text/plain": [
              "4"
            ]
          },
          "metadata": {
            "tags": []
          },
          "execution_count": 3
        }
      ]
    },
    {
      "metadata": {
        "id": "-t7g-eDJeF_F",
        "colab_type": "code",
        "colab": {}
      },
      "cell_type": "code",
      "source": [
        "def get_dir_list(dir_path):\n",
        "    path_names = []\n",
        "    dirs = os.listdir(dir_path)\n",
        "    for file in dirs: \n",
        "        path_names.append(dir_path + \"/\" + file)\n",
        "\n",
        "    return path_names   "
      ],
      "execution_count": 0,
      "outputs": []
    },
    {
      "metadata": {
        "id": "4PgOFpT1eF_L",
        "colab_type": "code",
        "colab": {}
      },
      "cell_type": "code",
      "source": [
        "def get_file_info(file_path_name, session_name):\n",
        "    # takes in a file path, finds the animal_number and session and saves each accordingly\n",
        "    \n",
        "    path_split = file_path_name.split('/')\n",
        "    file_split = path_split[-1].split('.')\n",
        "    animal_number, session = file_split[0].split('_')\n",
        "\n",
        "    return animal_number, session"
      ],
      "execution_count": 0,
      "outputs": []
    },
    {
      "metadata": {
        "id": "heYU_Fl0eF_W",
        "colab_type": "code",
        "colab": {}
      },
      "cell_type": "code",
      "source": [
        "def create_animal_df(file_path_name, animal_number, session):\n",
        "    # takes in a file path, creates data frame, adds animal number and session columns\n",
        "    \n",
        "    data = pd.read_table(file_path_name)\n",
        "    data = pd.DataFrame(data = data)\n",
        "    \n",
        "    data['animal_number'] = [animal_number]*data.shape[0]\n",
        "    data['session'] = [session]*data.shape[0]\n",
        "    \n",
        "    #Determine closest time stamp of each annotation and add as column to df\n",
        "    data['Begin Time (s)_1000'] = data['Begin Time (s)']*1000\n",
        "    time_lambda = lambda a: (a // 22.5)*22.5\n",
        "    data['time_stamp'] = time_lambda(data['Begin Time (s)_1000'])\n",
        "    \n",
        "    data = data[['animal_number', 'session', 'time_stamp', 'Annotation']]\n",
        "\n",
        "    return data"
      ],
      "execution_count": 0,
      "outputs": []
    },
    {
      "metadata": {
        "id": "56Ei-TQ3eF_c",
        "colab_type": "code",
        "colab": {}
      },
      "cell_type": "code",
      "source": [
        "def create_annot_df(dir_path, session_name):\n",
        "    annot_df = pd.DataFrame()\n",
        "    \n",
        "    path_names = get_dir_list(dir_path)\n",
        "    for path in path_names:\n",
        "        animal_number, session = get_file_info(path, session_name)\n",
        "        animal_df = create_animal_df(path, animal_number, session)\n",
        "        annot_df = annot_df.append(animal_df)\n",
        "    \n",
        "    #save as csv\n",
        "    annot_df.to_csv(str('annot_df_' + str(dir_path.split('/')[-1]) + '.csv'))\n",
        "    \n",
        "    return annot_df"
      ],
      "execution_count": 0,
      "outputs": []
    },
    {
      "metadata": {
        "id": "XPfMafa9eF_k",
        "colab_type": "code",
        "colab": {}
      },
      "cell_type": "code",
      "source": [
        "dir_path = \"C:/Users/Schindler/Documents/Schindler_Lab/Data/USVs/Annotation_tables/3x_CPA_pair_tables\""
      ],
      "execution_count": 0,
      "outputs": []
    },
    {
      "metadata": {
        "scrolled": true,
        "id": "4YtqCrK9eF_n",
        "colab_type": "code",
        "outputId": "29f8a19c-b9f2-44cb-902c-7882a2cf3d45",
        "colab": {}
      },
      "cell_type": "code",
      "source": [
        "annot_df = create_annot_df(dir_path, 'CPApair')\n",
        "print(annot_df.shape)"
      ],
      "execution_count": 0,
      "outputs": [
        {
          "output_type": "stream",
          "text": [
            "(459, 4)\n"
          ],
          "name": "stdout"
        }
      ]
    },
    {
      "metadata": {
        "id": "i-04fObgeF_v",
        "colab_type": "code",
        "colab": {}
      },
      "cell_type": "code",
      "source": [
        ""
      ],
      "execution_count": 0,
      "outputs": []
    }
  ]
}