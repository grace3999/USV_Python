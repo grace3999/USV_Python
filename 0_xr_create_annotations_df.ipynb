{
  "nbformat": 4,
  "nbformat_minor": 0,
  "metadata": {
    "colab": {
      "name": "0_xr_create_annotations_df.ipynb",
      "version": "0.3.2",
      "provenance": [],
      "collapsed_sections": [],
      "include_colab_link": true
    },
    "kernelspec": {
      "display_name": "Python 3",
      "language": "python",
      "name": "python3"
    }
  },
  "cells": [
    {
      "cell_type": "markdown",
      "metadata": {
        "id": "view-in-github",
        "colab_type": "text"
      },
      "source": [
        "<a href=\"https://colab.research.google.com/github/grace3999/USV_Python/blob/colab/0_xr_create_annotations_df.ipynb\" target=\"_parent\"><img src=\"https://colab.research.google.com/assets/colab-badge.svg\" alt=\"Open In Colab\"/></a>"
      ]
    },
    {
      "cell_type": "code",
      "metadata": {
        "id": "zBtYn5fU2Roq",
        "colab_type": "code",
        "outputId": "a21903b6-89e7-49dd-b529-5f8ffdf731ec",
        "colab": {
          "base_uri": "https://localhost:8080/",
          "height": 120
        }
      },
      "source": [
        "#mount google drive containings required files: 1) csv of annotation features, 2) netcdf files\n",
        "from google.colab import drive\n",
        "drive.mount('/content/gdrive')"
      ],
      "execution_count": 1,
      "outputs": [
        {
          "output_type": "stream",
          "text": [
            "Go to this URL in a browser: https://accounts.google.com/o/oauth2/auth?client_id=947318989803-6bn6qk8qdgf4n4g3pfee6491hc0brc4i.apps.googleusercontent.com&redirect_uri=urn%3Aietf%3Awg%3Aoauth%3A2.0%3Aoob&scope=email%20https%3A%2F%2Fwww.googleapis.com%2Fauth%2Fdocs.test%20https%3A%2F%2Fwww.googleapis.com%2Fauth%2Fdrive%20https%3A%2F%2Fwww.googleapis.com%2Fauth%2Fdrive.photos.readonly%20https%3A%2F%2Fwww.googleapis.com%2Fauth%2Fpeopleapi.readonly&response_type=code\n",
            "\n",
            "Enter your authorization code:\n",
            "··········\n",
            "Mounted at /content/gdrive\n"
          ],
          "name": "stdout"
        }
      ]
    },
    {
      "cell_type": "code",
      "metadata": {
        "id": "X-HadvV02IBC",
        "colab_type": "code",
        "colab": {}
      },
      "source": [
        "import numpy as np\n",
        "import pandas as pd\n",
        "import os\n",
        "import re\n",
        "\n",
        "pd.set_option('display.max_rows', 500)\n",
        "pd.set_option('display.max_columns', 500)\n",
        "pd.set_option('display.width', 1000)\n",
        "\n",
        "import warnings; warnings.simplefilter('ignore')\n",
        "np.set_printoptions(suppress=True)"
      ],
      "execution_count": 0,
      "outputs": []
    },
    {
      "cell_type": "code",
      "metadata": {
        "id": "jGG8EnUR2IBJ",
        "colab_type": "code",
        "colab": {}
      },
      "source": [
        "def get_dir_list(dir_path):\n",
        "    \"\"\"takes in a directory path which contains the selection tables of annotations created from Raven Soft Lite, \n",
        "    creates list of path names\"\"\"\n",
        "    \n",
        "    path_names = []\n",
        "    dirs = os.listdir(dir_path)\n",
        "    for file in dirs: \n",
        "        path_names.append(dir_path + \"/\" + file)\n",
        "\n",
        "    return path_names   "
      ],
      "execution_count": 0,
      "outputs": []
    },
    {
      "cell_type": "code",
      "metadata": {
        "id": "TpsFbDrR2IBO",
        "colab_type": "code",
        "colab": {}
      },
      "source": [
        "#may need to be updated based on file naming scheme\n",
        "def get_file_info(path_name, order):\n",
        "    \"\"\"takes in a file path for annotation selections table and finds the animal_number and session and saves each accordingly. \n",
        "    'order' refers to whether the animal or session is listed first in the path name\n",
        "    each file should be named with animal number and exp (e.g. 100_CPA.Table.1.selections)\"\"\"\n",
        "    \n",
        "    if order == 'animal':\n",
        "      animal_number, session = re.split('_|-', path_name.split('/')[-1].split('.')[0])[0:2]\n",
        "    else:\n",
        "      session, animal_number = re.split('_|-', path_name.split('/')[-1].split('.')[0])[0:2] \n",
        "\n",
        "    return animal_number, session"
      ],
      "execution_count": 0,
      "outputs": []
    },
    {
      "cell_type": "code",
      "metadata": {
        "id": "ckDyJ3Fr2IBU",
        "colab_type": "code",
        "colab": {}
      },
      "source": [
        "def create_animal_df(path_name, animal_number, session, ts_mult):\n",
        "    \"\"\"takes in a file path for annotation selections table, animal number, session, and timestamp multiple and creates data frame.\n",
        "    computes closest timestamp (based on multiple) and adds animal number, session, and time stamp columns\"\"\"\n",
        "    \n",
        "    data = pd.read_table(path_name)\n",
        "    data = pd.DataFrame(data = data)\n",
        "    \n",
        "    data['animal_number'] = [animal_number]*data.shape[0]\n",
        "    data['session'] = [session]*data.shape[0]\n",
        "    \n",
        "    #Determine closest time stamp of each annotation and add as column to df\n",
        "    data['Begin Time (s)_1000'] = data['Begin Time (s)']*1000\n",
        "    time_lambda = lambda a: (a // ts_mult)*ts_mult\n",
        "    data['time_stamp'] = time_lambda(data['Begin Time (s)_1000'])\n",
        "    \n",
        "    data = data[['animal_number', 'session', 'time_stamp', 'Annotation', 'High Freq (Hz)']]\n",
        "\n",
        "    return data"
      ],
      "execution_count": 0,
      "outputs": []
    },
    {
      "cell_type": "code",
      "metadata": {
        "id": "1QlaGO2p2IBZ",
        "colab_type": "code",
        "colab": {}
      },
      "source": [
        "def create_annot_df(dir_path, order, ts_mult, session_name, save_path):\n",
        "    \"\"\"takes in a directory path which contains the selection tables of annotations created from Raven Soft Lite,\n",
        "    uses get_dir_list, get_file_info, and create_animal_df functions \n",
        "    to create a single data frame containing annotations for each file in dir_path\"\"\"\n",
        "    \n",
        "    annot_df = pd.DataFrame()\n",
        "    \n",
        "    path_names = get_dir_list(dir_path)\n",
        "    \n",
        "    for path in path_names:\n",
        "        animal_number, session = get_file_info(path, order)\n",
        "        animal_df = create_animal_df(path, animal_number, session, ts_mult)\n",
        "        annot_df = annot_df.append(animal_df)\n",
        "    \n",
        "    #save as csv using name of dir_path\n",
        "    annot_df.to_csv(str(save_path + '/annot_df_' + str(session_name) + '.csv'))\n",
        "    \n",
        "    return annot_df"
      ],
      "execution_count": 0,
      "outputs": []
    },
    {
      "cell_type": "code",
      "metadata": {
        "id": "hcCNC-EX7DFi",
        "colab_type": "code",
        "colab": {}
      },
      "source": [
        "path_cFos_CPA = '/content/gdrive/Shared drives/USV_eScience_Incubator/Data/ravenlite_selection_tables/cFos/3x_CPA_pair_tables'\n",
        "path_cFos_neutral = '/content/gdrive/Shared drives/USV_eScience_Incubator/Data/ravenlite_selection_tables/cFos/3x_neutral_pair_tables'\n",
        "\n",
        "path_PETr1_CPA = '/content/gdrive/Shared drives/USV_eScience_Incubator/Data/ravenlite_selection_tables/PET_r1/CPAPair'\n",
        "\n",
        "path_round2_CPA = '/content/gdrive/Shared drives/USV_eScience_Incubator/Data/ravenlite_selection_tables/round2/CPApost'\n",
        "path_round2_neutral = '/content/gdrive/Shared drives/USV_eScience_Incubator/Data/ravenlite_selection_tables/round2/neutralpost'\n"
      ],
      "execution_count": 0,
      "outputs": []
    },
    {
      "cell_type": "code",
      "metadata": {
        "scrolled": true,
        "id": "jHVySBI-2IBk",
        "colab_type": "code",
        "outputId": "7b822407-db31-472e-c8bf-cb557e574aaa",
        "colab": {
          "base_uri": "https://localhost:8080/",
          "height": 214
        }
      },
      "source": [
        "order = 'animal'\n",
        "ts_mult=22.5\n",
        "session_name = 'r2_CPA'\n",
        "save_path = '/content/gdrive/Shared drives/USV_eScience_Incubator/Data/annotation_data_frames'\n",
        "\n",
        "annot_df = create_annot_df(path_round2_CPA, order, ts_mult, session_name, save_path)\n",
        "print(annot_df.shape)\n",
        "annot_df.head()"
      ],
      "execution_count": 30,
      "outputs": [
        {
          "output_type": "stream",
          "text": [
            "(76, 5)\n"
          ],
          "name": "stdout"
        },
        {
          "output_type": "execute_result",
          "data": {
            "text/html": [
              "<div>\n",
              "<style scoped>\n",
              "    .dataframe tbody tr th:only-of-type {\n",
              "        vertical-align: middle;\n",
              "    }\n",
              "\n",
              "    .dataframe tbody tr th {\n",
              "        vertical-align: top;\n",
              "    }\n",
              "\n",
              "    .dataframe thead th {\n",
              "        text-align: right;\n",
              "    }\n",
              "</style>\n",
              "<table border=\"1\" class=\"dataframe\">\n",
              "  <thead>\n",
              "    <tr style=\"text-align: right;\">\n",
              "      <th></th>\n",
              "      <th>animal_number</th>\n",
              "      <th>session</th>\n",
              "      <th>time_stamp</th>\n",
              "      <th>Annotation</th>\n",
              "      <th>High Freq (Hz)</th>\n",
              "    </tr>\n",
              "  </thead>\n",
              "  <tbody>\n",
              "    <tr>\n",
              "      <th>0</th>\n",
              "      <td>625</td>\n",
              "      <td>CPApost</td>\n",
              "      <td>370080.0</td>\n",
              "      <td>bbc</td>\n",
              "      <td>61181.4</td>\n",
              "    </tr>\n",
              "    <tr>\n",
              "      <th>1</th>\n",
              "      <td>625</td>\n",
              "      <td>CPApost</td>\n",
              "      <td>548797.5</td>\n",
              "      <td>bbc</td>\n",
              "      <td>51532.8</td>\n",
              "    </tr>\n",
              "    <tr>\n",
              "      <th>0</th>\n",
              "      <td>624</td>\n",
              "      <td>CPApost</td>\n",
              "      <td>178245.0</td>\n",
              "      <td>low</td>\n",
              "      <td>27406.4</td>\n",
              "    </tr>\n",
              "    <tr>\n",
              "      <th>1</th>\n",
              "      <td>624</td>\n",
              "      <td>CPApost</td>\n",
              "      <td>262192.5</td>\n",
              "      <td>low multi</td>\n",
              "      <td>61831.6</td>\n",
              "    </tr>\n",
              "    <tr>\n",
              "      <th>2</th>\n",
              "      <td>624</td>\n",
              "      <td>CPApost</td>\n",
              "      <td>262305.0</td>\n",
              "      <td>low multi</td>\n",
              "      <td>62500.0</td>\n",
              "    </tr>\n",
              "  </tbody>\n",
              "</table>\n",
              "</div>"
            ],
            "text/plain": [
              "  animal_number  session  time_stamp Annotation  High Freq (Hz)\n",
              "0           625  CPApost    370080.0        bbc         61181.4\n",
              "1           625  CPApost    548797.5        bbc         51532.8\n",
              "0           624  CPApost    178245.0        low         27406.4\n",
              "1           624  CPApost    262192.5  low multi         61831.6\n",
              "2           624  CPApost    262305.0  low multi         62500.0"
            ]
          },
          "metadata": {
            "tags": []
          },
          "execution_count": 30
        }
      ]
    }
  ]
}